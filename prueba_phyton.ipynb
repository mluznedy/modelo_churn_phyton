{
 "cells": [
  {
   "cell_type": "markdown",
   "id": "639a5c8c",
   "metadata": {},
   "source": [
    "# MODELO CHURN\n",
    "\n",
    "\n",
    "\n",
    "\n",
    "\n",
    "## INTRODUCCION\n",
    "\n",
    "El objetivo de la prueba consiste en calcular el **churn** de clientes para Colombina, el cual consiste en saber qué clientes tienen mayor probabilidad de no volver a comprar. El negocio ha establecido que un cliente que no compra durante 2 meses es un cliente fugado.\n",
    "\n",
    "\n",
    "\n",
    "## DESCRIPCIÓN DE VARIABLES:\n",
    "**CLIENTES**\n",
    "- **Doc_vtas**: Id de pedido.\n",
    "- **Fecha:** Fecha del pedido.\n",
    "- **Solic:** Código del cliente.\n",
    "- **Material:** Cantidad pedida en unidad venta.\n",
    "- **sect_mat:** código del sector del producto.\n",
    "- **Cnt_cart:** Cantidad pedidos en unidad cartón.\n",
    "- **ValN_Pos:** Valor neto en dinero.\n",
    "- **Moneda:** Moneda.\n",
    "\n",
    "\n",
    "\n",
    "## TABLA DE CONTENIDO:\n",
    "\n",
    "    1. Cargar las librerias necesarias para la practica\n",
    "    2. Cargue de Datos\n",
    "    3. Prepocesado y limplieza de datos\n",
    "    4. Creacion la variable Target\n",
    "    5. Correr un modelo inicial y evaluar sus resultados\n",
    "    6. Mejorar el modelo:\n",
    "    7. Correr modelos y evaluar resultados \n",
    "    8. Conclusiones\n",
    "    9. Prediccion\n"
   ]
  },
  {
   "cell_type": "markdown",
   "id": "6f1fc263",
   "metadata": {},
   "source": [
    "## 1) Cargue de Paquetes Phyton\n",
    "\n",
    "Se cargan las librerias necesarias para el analisis."
   ]
  },
  {
   "cell_type": "code",
   "execution_count": 2,
   "id": "a3461c08",
   "metadata": {},
   "outputs": [],
   "source": [
    "import pandas as pd\n",
    "import matplotlib.pyplot as plt\n",
    "import seaborn as sns\n",
    "from sklearn.model_selection import train_test_split\n",
    "from sklearn.preprocessing import MinMaxScaler\n",
    "from sklearn import preprocessing\n",
    "import numpy as np\n",
    "from scipy import stats\n",
    "from datetime import datetime\n",
    "from sklearn.metrics import normalized_mutual_info_score as nmi\n",
    "from sklearn.metrics import precision_score\n",
    "from sklearn.metrics import accuracy_score \n",
    "from sklearn.metrics import auc\n",
    "from sklearn.metrics import f1_score\n",
    "from sklearn.metrics import recall_score\n",
    "from sklearn.metrics import roc_curve\n",
    "from sklearn.ensemble import RandomForestClassifier\n",
    "from sklearn.linear_model import LogisticRegression\n",
    "from sklearn.tree import DecisionTreeClassifier\n",
    "from sklearn.metrics import confusion_matrix\n",
    "from sklearn.feature_selection import VarianceThreshold # eliminacion por variaza, las variables mas importantes del modelo o le dices cuales son las m[as importantes, le dices las k variables]"
   ]
  },
  {
   "cell_type": "markdown",
   "id": "ca7ecfa6",
   "metadata": {},
   "source": [
    "## 2) Cargue de Datos\n",
    "\n",
    "\n",
    "Se carga toda la informacion, teniendo en cuenta el separador del archivo CSV, visualizacion del tipo de variables y estructura"
   ]
  },
  {
   "cell_type": "code",
   "execution_count": 3,
   "id": "acba2727",
   "metadata": {},
   "outputs": [],
   "source": [
    "datos_prueba = pd.read_csv('./datos/prueba_DS.txt', sep = ',')"
   ]
  },
  {
   "cell_type": "code",
   "execution_count": 4,
   "id": "4009a76c",
   "metadata": {},
   "outputs": [
    {
     "name": "stdout",
     "output_type": "stream",
     "text": [
      "<class 'pandas.core.frame.DataFrame'>\n",
      "RangeIndex: 12559901 entries, 0 to 12559900\n",
      "Data columns (total 9 columns):\n",
      " #   Column    Dtype  \n",
      "---  ------    -----  \n",
      " 0   Doc_vtas  int64  \n",
      " 1   Fecha     object \n",
      " 2   Solic     int64  \n",
      " 3   Material  int64  \n",
      " 4   Cnt_uni   float64\n",
      " 5   sect_mat  int64  \n",
      " 6   Cnt_cart  float64\n",
      " 7   ValN_Pos  float64\n",
      " 8   Moneda    object \n",
      "dtypes: float64(3), int64(4), object(2)\n",
      "memory usage: 862.4+ MB\n"
     ]
    }
   ],
   "source": [
    "datos_prueba.info()"
   ]
  },
  {
   "cell_type": "code",
   "execution_count": 5,
   "id": "ea7c6bef",
   "metadata": {},
   "outputs": [
    {
     "data": {
      "text/html": [
       "<div>\n",
       "<style scoped>\n",
       "    .dataframe tbody tr th:only-of-type {\n",
       "        vertical-align: middle;\n",
       "    }\n",
       "\n",
       "    .dataframe tbody tr th {\n",
       "        vertical-align: top;\n",
       "    }\n",
       "\n",
       "    .dataframe thead th {\n",
       "        text-align: right;\n",
       "    }\n",
       "</style>\n",
       "<table border=\"1\" class=\"dataframe\">\n",
       "  <thead>\n",
       "    <tr style=\"text-align: right;\">\n",
       "      <th></th>\n",
       "      <th>Doc_vtas</th>\n",
       "      <th>Solic</th>\n",
       "      <th>Material</th>\n",
       "      <th>Cnt_uni</th>\n",
       "      <th>sect_mat</th>\n",
       "      <th>Cnt_cart</th>\n",
       "      <th>ValN_Pos</th>\n",
       "    </tr>\n",
       "  </thead>\n",
       "  <tbody>\n",
       "    <tr>\n",
       "      <th>count</th>\n",
       "      <td>1.255990e+07</td>\n",
       "      <td>1.255990e+07</td>\n",
       "      <td>1.255990e+07</td>\n",
       "      <td>1.255990e+07</td>\n",
       "      <td>1.255990e+07</td>\n",
       "      <td>1.255990e+07</td>\n",
       "      <td>1.255990e+07</td>\n",
       "    </tr>\n",
       "    <tr>\n",
       "      <th>mean</th>\n",
       "      <td>7.504470e+09</td>\n",
       "      <td>6.790095e+06</td>\n",
       "      <td>2.309706e+04</td>\n",
       "      <td>3.444836e+00</td>\n",
       "      <td>4.419418e+01</td>\n",
       "      <td>1.092986e+00</td>\n",
       "      <td>8.999391e+01</td>\n",
       "    </tr>\n",
       "    <tr>\n",
       "      <th>std</th>\n",
       "      <td>6.787329e+05</td>\n",
       "      <td>8.030957e+06</td>\n",
       "      <td>1.808602e+04</td>\n",
       "      <td>3.343890e+02</td>\n",
       "      <td>1.831512e+01</td>\n",
       "      <td>3.342218e+02</td>\n",
       "      <td>5.830246e+02</td>\n",
       "    </tr>\n",
       "    <tr>\n",
       "      <th>min</th>\n",
       "      <td>7.503278e+09</td>\n",
       "      <td>4.912800e+04</td>\n",
       "      <td>2.940000e+02</td>\n",
       "      <td>0.000000e+00</td>\n",
       "      <td>3.000000e+01</td>\n",
       "      <td>0.000000e+00</td>\n",
       "      <td>0.000000e+00</td>\n",
       "    </tr>\n",
       "    <tr>\n",
       "      <th>25%</th>\n",
       "      <td>7.503889e+09</td>\n",
       "      <td>1.130028e+06</td>\n",
       "      <td>6.576000e+03</td>\n",
       "      <td>1.000000e+00</td>\n",
       "      <td>3.000000e+01</td>\n",
       "      <td>5.555600e-02</td>\n",
       "      <td>4.087000e+01</td>\n",
       "    </tr>\n",
       "    <tr>\n",
       "      <th>50%</th>\n",
       "      <td>7.504469e+09</td>\n",
       "      <td>1.398056e+06</td>\n",
       "      <td>2.474600e+04</td>\n",
       "      <td>1.000000e+00</td>\n",
       "      <td>3.600000e+01</td>\n",
       "      <td>8.333300e-02</td>\n",
       "      <td>5.402000e+01</td>\n",
       "    </tr>\n",
       "    <tr>\n",
       "      <th>75%</th>\n",
       "      <td>7.505061e+09</td>\n",
       "      <td>1.805645e+07</td>\n",
       "      <td>2.885400e+04</td>\n",
       "      <td>3.000000e+00</td>\n",
       "      <td>6.000000e+01</td>\n",
       "      <td>1.250000e-01</td>\n",
       "      <td>8.560000e+01</td>\n",
       "    </tr>\n",
       "    <tr>\n",
       "      <th>max</th>\n",
       "      <td>7.505636e+09</td>\n",
       "      <td>1.817967e+07</td>\n",
       "      <td>6.096400e+04</td>\n",
       "      <td>2.000000e+05</td>\n",
       "      <td>2.610000e+02</td>\n",
       "      <td>2.000000e+05</td>\n",
       "      <td>1.242856e+06</td>\n",
       "    </tr>\n",
       "  </tbody>\n",
       "</table>\n",
       "</div>"
      ],
      "text/plain": [
       "           Doc_vtas         Solic      Material       Cnt_uni      sect_mat  \\\n",
       "count  1.255990e+07  1.255990e+07  1.255990e+07  1.255990e+07  1.255990e+07   \n",
       "mean   7.504470e+09  6.790095e+06  2.309706e+04  3.444836e+00  4.419418e+01   \n",
       "std    6.787329e+05  8.030957e+06  1.808602e+04  3.343890e+02  1.831512e+01   \n",
       "min    7.503278e+09  4.912800e+04  2.940000e+02  0.000000e+00  3.000000e+01   \n",
       "25%    7.503889e+09  1.130028e+06  6.576000e+03  1.000000e+00  3.000000e+01   \n",
       "50%    7.504469e+09  1.398056e+06  2.474600e+04  1.000000e+00  3.600000e+01   \n",
       "75%    7.505061e+09  1.805645e+07  2.885400e+04  3.000000e+00  6.000000e+01   \n",
       "max    7.505636e+09  1.817967e+07  6.096400e+04  2.000000e+05  2.610000e+02   \n",
       "\n",
       "           Cnt_cart      ValN_Pos  \n",
       "count  1.255990e+07  1.255990e+07  \n",
       "mean   1.092986e+00  8.999391e+01  \n",
       "std    3.342218e+02  5.830246e+02  \n",
       "min    0.000000e+00  0.000000e+00  \n",
       "25%    5.555600e-02  4.087000e+01  \n",
       "50%    8.333300e-02  5.402000e+01  \n",
       "75%    1.250000e-01  8.560000e+01  \n",
       "max    2.000000e+05  1.242856e+06  "
      ]
     },
     "execution_count": 5,
     "metadata": {},
     "output_type": "execute_result"
    }
   ],
   "source": [
    "datos_prueba.describe()"
   ]
  },
  {
   "cell_type": "markdown",
   "id": "aa0d93b7",
   "metadata": {},
   "source": [
    "## 3) Preprocesado y Limpieza\n",
    "\n",
    "\n",
    "Se validan valores nulos, outliers, NAs, etc"
   ]
  },
  {
   "cell_type": "markdown",
   "id": "b90ca8ba",
   "metadata": {},
   "source": [
    "### Valores Nulos"
   ]
  },
  {
   "cell_type": "markdown",
   "id": "31f3ea83",
   "metadata": {},
   "source": [
    "Se observa que no existen valores nulos"
   ]
  },
  {
   "cell_type": "code",
   "execution_count": 6,
   "id": "edde4a72",
   "metadata": {},
   "outputs": [
    {
     "data": {
      "text/plain": [
       "Doc_vtas    0\n",
       "Fecha       0\n",
       "Solic       0\n",
       "Material    0\n",
       "Cnt_uni     0\n",
       "sect_mat    0\n",
       "Cnt_cart    0\n",
       "ValN_Pos    0\n",
       "Moneda      0\n",
       "dtype: int64"
      ]
     },
     "execution_count": 6,
     "metadata": {},
     "output_type": "execute_result"
    }
   ],
   "source": [
    "datos_prueba.isnull().sum() "
   ]
  },
  {
   "cell_type": "markdown",
   "id": "0aa5c6e2",
   "metadata": {},
   "source": [
    "Tampoco existen Valores faltantes"
   ]
  },
  {
   "cell_type": "code",
   "execution_count": 601,
   "id": "aec0a28f",
   "metadata": {},
   "outputs": [
    {
     "data": {
      "text/plain": [
       "Doc_vtas    0\n",
       "Fecha       0\n",
       "Solic       0\n",
       "Material    0\n",
       "Cnt_uni     0\n",
       "sect_mat    0\n",
       "Cnt_cart    0\n",
       "ValN_Pos    0\n",
       "Moneda      0\n",
       "dtype: int64"
      ]
     },
     "execution_count": 601,
     "metadata": {},
     "output_type": "execute_result"
    }
   ],
   "source": [
    "datos_prueba.isna().sum() "
   ]
  },
  {
   "cell_type": "markdown",
   "id": "74bfcdc2",
   "metadata": {},
   "source": [
    "### Se valida la informacion de la base de datos"
   ]
  },
  {
   "cell_type": "code",
   "execution_count": 602,
   "id": "30071089",
   "metadata": {},
   "outputs": [],
   "source": [
    "validacion = datos_prueba[datos_prueba[\"Cnt_uni\"]<0].count()"
   ]
  },
  {
   "cell_type": "code",
   "execution_count": 603,
   "id": "d74f31a3",
   "metadata": {},
   "outputs": [
    {
     "data": {
      "text/plain": [
       "Doc_vtas    0\n",
       "Fecha       0\n",
       "Solic       0\n",
       "Material    0\n",
       "Cnt_uni     0\n",
       "sect_mat    0\n",
       "Cnt_cart    0\n",
       "ValN_Pos    0\n",
       "Moneda      0\n",
       "dtype: int64"
      ]
     },
     "execution_count": 603,
     "metadata": {},
     "output_type": "execute_result"
    }
   ],
   "source": [
    "validacion"
   ]
  },
  {
   "cell_type": "code",
   "execution_count": 604,
   "id": "f1c9fc96",
   "metadata": {},
   "outputs": [],
   "source": [
    "validacion = datos_prueba[datos_prueba[\"ValN_Pos\"]<0].count()   "
   ]
  },
  {
   "cell_type": "code",
   "execution_count": 605,
   "id": "a67b92cd",
   "metadata": {},
   "outputs": [
    {
     "data": {
      "text/plain": [
       "Doc_vtas    0\n",
       "Fecha       0\n",
       "Solic       0\n",
       "Material    0\n",
       "Cnt_uni     0\n",
       "sect_mat    0\n",
       "Cnt_cart    0\n",
       "ValN_Pos    0\n",
       "Moneda      0\n",
       "dtype: int64"
      ]
     },
     "execution_count": 605,
     "metadata": {},
     "output_type": "execute_result"
    }
   ],
   "source": [
    "validacion"
   ]
  },
  {
   "cell_type": "code",
   "execution_count": 606,
   "id": "1fb522b4",
   "metadata": {},
   "outputs": [
    {
     "data": {
      "text/plain": [
       "Doc_vtas    0\n",
       "Fecha       0\n",
       "Solic       0\n",
       "Material    0\n",
       "Cnt_uni     0\n",
       "sect_mat    0\n",
       "Cnt_cart    0\n",
       "ValN_Pos    0\n",
       "Moneda      0\n",
       "dtype: int64"
      ]
     },
     "execution_count": 606,
     "metadata": {},
     "output_type": "execute_result"
    }
   ],
   "source": [
    "validacion = datos_prueba[datos_prueba[\"Cnt_cart\"]<0].count() \n",
    "validacion"
   ]
  },
  {
   "cell_type": "markdown",
   "id": "a99a61fa",
   "metadata": {},
   "source": [
    "Como se observo en la descripcion de las variables existen pedidos con El valor neto en ceros, se observan 769 registros. "
   ]
  },
  {
   "cell_type": "markdown",
   "id": "e255bbed",
   "metadata": {},
   "source": [
    "#### Voy a validar Ceros"
   ]
  },
  {
   "cell_type": "code",
   "execution_count": 607,
   "id": "5054e2e0",
   "metadata": {},
   "outputs": [
    {
     "data": {
      "text/plain": [
       "Doc_vtas    769\n",
       "Fecha       769\n",
       "Solic       769\n",
       "Material    769\n",
       "Cnt_uni     769\n",
       "sect_mat    769\n",
       "Cnt_cart    769\n",
       "ValN_Pos    769\n",
       "Moneda      769\n",
       "dtype: int64"
      ]
     },
     "execution_count": 607,
     "metadata": {},
     "output_type": "execute_result"
    }
   ],
   "source": [
    "validacion = datos_prueba[datos_prueba[\"ValN_Pos\"]==0].count() \n",
    "validacion"
   ]
  },
  {
   "cell_type": "code",
   "execution_count": 608,
   "id": "1cc38e06",
   "metadata": {},
   "outputs": [
    {
     "data": {
      "text/html": [
       "<div>\n",
       "<style scoped>\n",
       "    .dataframe tbody tr th:only-of-type {\n",
       "        vertical-align: middle;\n",
       "    }\n",
       "\n",
       "    .dataframe tbody tr th {\n",
       "        vertical-align: top;\n",
       "    }\n",
       "\n",
       "    .dataframe thead th {\n",
       "        text-align: right;\n",
       "    }\n",
       "</style>\n",
       "<table border=\"1\" class=\"dataframe\">\n",
       "  <thead>\n",
       "    <tr style=\"text-align: right;\">\n",
       "      <th></th>\n",
       "      <th>Doc_vtas</th>\n",
       "      <th>Fecha</th>\n",
       "      <th>Solic</th>\n",
       "      <th>Material</th>\n",
       "      <th>Cnt_uni</th>\n",
       "      <th>sect_mat</th>\n",
       "      <th>Cnt_cart</th>\n",
       "      <th>ValN_Pos</th>\n",
       "      <th>Moneda</th>\n",
       "    </tr>\n",
       "  </thead>\n",
       "  <tbody>\n",
       "    <tr>\n",
       "      <th>169866</th>\n",
       "      <td>7503350962</td>\n",
       "      <td>2021-11-08</td>\n",
       "      <td>1096012</td>\n",
       "      <td>27014</td>\n",
       "      <td>0.0</td>\n",
       "      <td>84</td>\n",
       "      <td>0.0</td>\n",
       "      <td>0.0</td>\n",
       "      <td>COP</td>\n",
       "    </tr>\n",
       "    <tr>\n",
       "      <th>209834</th>\n",
       "      <td>7503816489</td>\n",
       "      <td>2021-12-28</td>\n",
       "      <td>1001452</td>\n",
       "      <td>26650</td>\n",
       "      <td>1.0</td>\n",
       "      <td>54</td>\n",
       "      <td>1.0</td>\n",
       "      <td>0.0</td>\n",
       "      <td>COP</td>\n",
       "    </tr>\n",
       "    <tr>\n",
       "      <th>209835</th>\n",
       "      <td>7503816489</td>\n",
       "      <td>2021-12-28</td>\n",
       "      <td>1001452</td>\n",
       "      <td>55616</td>\n",
       "      <td>1.0</td>\n",
       "      <td>66</td>\n",
       "      <td>1.0</td>\n",
       "      <td>0.0</td>\n",
       "      <td>COP</td>\n",
       "    </tr>\n",
       "    <tr>\n",
       "      <th>237229</th>\n",
       "      <td>7503757639</td>\n",
       "      <td>2021-12-20</td>\n",
       "      <td>1315570</td>\n",
       "      <td>26814</td>\n",
       "      <td>1.0</td>\n",
       "      <td>51</td>\n",
       "      <td>1.0</td>\n",
       "      <td>0.0</td>\n",
       "      <td>COP</td>\n",
       "    </tr>\n",
       "    <tr>\n",
       "      <th>675380</th>\n",
       "      <td>7504011306</td>\n",
       "      <td>2022-01-24</td>\n",
       "      <td>1387378</td>\n",
       "      <td>26928</td>\n",
       "      <td>1.0</td>\n",
       "      <td>36</td>\n",
       "      <td>1.0</td>\n",
       "      <td>0.0</td>\n",
       "      <td>COP</td>\n",
       "    </tr>\n",
       "    <tr>\n",
       "      <th>...</th>\n",
       "      <td>...</td>\n",
       "      <td>...</td>\n",
       "      <td>...</td>\n",
       "      <td>...</td>\n",
       "      <td>...</td>\n",
       "      <td>...</td>\n",
       "      <td>...</td>\n",
       "      <td>...</td>\n",
       "      <td>...</td>\n",
       "    </tr>\n",
       "    <tr>\n",
       "      <th>12436732</th>\n",
       "      <td>7505097146</td>\n",
       "      <td>2022-05-18</td>\n",
       "      <td>18142044</td>\n",
       "      <td>27300</td>\n",
       "      <td>1.0</td>\n",
       "      <td>30</td>\n",
       "      <td>1.0</td>\n",
       "      <td>0.0</td>\n",
       "      <td>COP</td>\n",
       "    </tr>\n",
       "    <tr>\n",
       "      <th>12437578</th>\n",
       "      <td>7505097319</td>\n",
       "      <td>2022-05-19</td>\n",
       "      <td>18073204</td>\n",
       "      <td>27298</td>\n",
       "      <td>1.0</td>\n",
       "      <td>30</td>\n",
       "      <td>1.0</td>\n",
       "      <td>0.0</td>\n",
       "      <td>COP</td>\n",
       "    </tr>\n",
       "    <tr>\n",
       "      <th>12443374</th>\n",
       "      <td>7505098296</td>\n",
       "      <td>2022-05-19</td>\n",
       "      <td>1458198</td>\n",
       "      <td>40908</td>\n",
       "      <td>1.0</td>\n",
       "      <td>60</td>\n",
       "      <td>1.0</td>\n",
       "      <td>0.0</td>\n",
       "      <td>COP</td>\n",
       "    </tr>\n",
       "    <tr>\n",
       "      <th>12529328</th>\n",
       "      <td>7504713738</td>\n",
       "      <td>2022-04-07</td>\n",
       "      <td>1431640</td>\n",
       "      <td>27284</td>\n",
       "      <td>2.0</td>\n",
       "      <td>30</td>\n",
       "      <td>2.0</td>\n",
       "      <td>0.0</td>\n",
       "      <td>COP</td>\n",
       "    </tr>\n",
       "    <tr>\n",
       "      <th>12532024</th>\n",
       "      <td>7504714296</td>\n",
       "      <td>2022-04-07</td>\n",
       "      <td>1296154</td>\n",
       "      <td>27274</td>\n",
       "      <td>1.0</td>\n",
       "      <td>30</td>\n",
       "      <td>1.0</td>\n",
       "      <td>0.0</td>\n",
       "      <td>COP</td>\n",
       "    </tr>\n",
       "  </tbody>\n",
       "</table>\n",
       "<p>769 rows × 9 columns</p>\n",
       "</div>"
      ],
      "text/plain": [
       "            Doc_vtas       Fecha     Solic  Material  Cnt_uni  sect_mat  \\\n",
       "169866    7503350962  2021-11-08   1096012     27014      0.0        84   \n",
       "209834    7503816489  2021-12-28   1001452     26650      1.0        54   \n",
       "209835    7503816489  2021-12-28   1001452     55616      1.0        66   \n",
       "237229    7503757639  2021-12-20   1315570     26814      1.0        51   \n",
       "675380    7504011306  2022-01-24   1387378     26928      1.0        36   \n",
       "...              ...         ...       ...       ...      ...       ...   \n",
       "12436732  7505097146  2022-05-18  18142044     27300      1.0        30   \n",
       "12437578  7505097319  2022-05-19  18073204     27298      1.0        30   \n",
       "12443374  7505098296  2022-05-19   1458198     40908      1.0        60   \n",
       "12529328  7504713738  2022-04-07   1431640     27284      2.0        30   \n",
       "12532024  7504714296  2022-04-07   1296154     27274      1.0        30   \n",
       "\n",
       "          Cnt_cart  ValN_Pos Moneda  \n",
       "169866         0.0       0.0    COP  \n",
       "209834         1.0       0.0    COP  \n",
       "209835         1.0       0.0    COP  \n",
       "237229         1.0       0.0    COP  \n",
       "675380         1.0       0.0    COP  \n",
       "...            ...       ...    ...  \n",
       "12436732       1.0       0.0    COP  \n",
       "12437578       1.0       0.0    COP  \n",
       "12443374       1.0       0.0    COP  \n",
       "12529328       2.0       0.0    COP  \n",
       "12532024       1.0       0.0    COP  \n",
       "\n",
       "[769 rows x 9 columns]"
      ]
     },
     "execution_count": 608,
     "metadata": {},
     "output_type": "execute_result"
    }
   ],
   "source": [
    "# validacion variable: ValN_Pos\n",
    "ceros = datos_prueba[datos_prueba[\"ValN_Pos\"]==0]\n",
    "ceros"
   ]
  },
  {
   "cell_type": "code",
   "execution_count": 609,
   "id": "0f173ec3",
   "metadata": {},
   "outputs": [
    {
     "data": {
      "text/html": [
       "<div>\n",
       "<style scoped>\n",
       "    .dataframe tbody tr th:only-of-type {\n",
       "        vertical-align: middle;\n",
       "    }\n",
       "\n",
       "    .dataframe tbody tr th {\n",
       "        vertical-align: top;\n",
       "    }\n",
       "\n",
       "    .dataframe thead th {\n",
       "        text-align: right;\n",
       "    }\n",
       "</style>\n",
       "<table border=\"1\" class=\"dataframe\">\n",
       "  <thead>\n",
       "    <tr style=\"text-align: right;\">\n",
       "      <th></th>\n",
       "      <th>Doc_vtas</th>\n",
       "      <th>Solic</th>\n",
       "      <th>Material</th>\n",
       "      <th>Cnt_uni</th>\n",
       "      <th>sect_mat</th>\n",
       "      <th>Cnt_cart</th>\n",
       "      <th>ValN_Pos</th>\n",
       "    </tr>\n",
       "  </thead>\n",
       "  <tbody>\n",
       "    <tr>\n",
       "      <th>count</th>\n",
       "      <td>7.690000e+02</td>\n",
       "      <td>7.690000e+02</td>\n",
       "      <td>769.000000</td>\n",
       "      <td>769.000000</td>\n",
       "      <td>769.000000</td>\n",
       "      <td>769.000000</td>\n",
       "      <td>769.0</td>\n",
       "    </tr>\n",
       "    <tr>\n",
       "      <th>mean</th>\n",
       "      <td>7.504712e+09</td>\n",
       "      <td>7.711768e+06</td>\n",
       "      <td>29068.910273</td>\n",
       "      <td>1.340702</td>\n",
       "      <td>42.296489</td>\n",
       "      <td>1.263580</td>\n",
       "      <td>0.0</td>\n",
       "    </tr>\n",
       "    <tr>\n",
       "      <th>std</th>\n",
       "      <td>6.119693e+05</td>\n",
       "      <td>8.291277e+06</td>\n",
       "      <td>6488.622348</td>\n",
       "      <td>0.893215</td>\n",
       "      <td>22.173804</td>\n",
       "      <td>0.828855</td>\n",
       "      <td>0.0</td>\n",
       "    </tr>\n",
       "    <tr>\n",
       "      <th>min</th>\n",
       "      <td>7.503351e+09</td>\n",
       "      <td>9.381400e+04</td>\n",
       "      <td>436.000000</td>\n",
       "      <td>0.000000</td>\n",
       "      <td>30.000000</td>\n",
       "      <td>0.000000</td>\n",
       "      <td>0.0</td>\n",
       "    </tr>\n",
       "    <tr>\n",
       "      <th>25%</th>\n",
       "      <td>7.504067e+09</td>\n",
       "      <td>1.207028e+06</td>\n",
       "      <td>26958.000000</td>\n",
       "      <td>1.000000</td>\n",
       "      <td>30.000000</td>\n",
       "      <td>1.000000</td>\n",
       "      <td>0.0</td>\n",
       "    </tr>\n",
       "    <tr>\n",
       "      <th>50%</th>\n",
       "      <td>7.504923e+09</td>\n",
       "      <td>1.433590e+06</td>\n",
       "      <td>27298.000000</td>\n",
       "      <td>1.000000</td>\n",
       "      <td>36.000000</td>\n",
       "      <td>1.000000</td>\n",
       "      <td>0.0</td>\n",
       "    </tr>\n",
       "    <tr>\n",
       "      <th>75%</th>\n",
       "      <td>7.505243e+09</td>\n",
       "      <td>1.807089e+07</td>\n",
       "      <td>27534.000000</td>\n",
       "      <td>1.000000</td>\n",
       "      <td>54.000000</td>\n",
       "      <td>1.000000</td>\n",
       "      <td>0.0</td>\n",
       "    </tr>\n",
       "    <tr>\n",
       "      <th>max</th>\n",
       "      <td>7.505635e+09</td>\n",
       "      <td>1.817273e+07</td>\n",
       "      <td>56236.000000</td>\n",
       "      <td>7.000000</td>\n",
       "      <td>258.000000</td>\n",
       "      <td>7.000000</td>\n",
       "      <td>0.0</td>\n",
       "    </tr>\n",
       "  </tbody>\n",
       "</table>\n",
       "</div>"
      ],
      "text/plain": [
       "           Doc_vtas         Solic      Material     Cnt_uni    sect_mat  \\\n",
       "count  7.690000e+02  7.690000e+02    769.000000  769.000000  769.000000   \n",
       "mean   7.504712e+09  7.711768e+06  29068.910273    1.340702   42.296489   \n",
       "std    6.119693e+05  8.291277e+06   6488.622348    0.893215   22.173804   \n",
       "min    7.503351e+09  9.381400e+04    436.000000    0.000000   30.000000   \n",
       "25%    7.504067e+09  1.207028e+06  26958.000000    1.000000   30.000000   \n",
       "50%    7.504923e+09  1.433590e+06  27298.000000    1.000000   36.000000   \n",
       "75%    7.505243e+09  1.807089e+07  27534.000000    1.000000   54.000000   \n",
       "max    7.505635e+09  1.817273e+07  56236.000000    7.000000  258.000000   \n",
       "\n",
       "         Cnt_cart  ValN_Pos  \n",
       "count  769.000000     769.0  \n",
       "mean     1.263580       0.0  \n",
       "std      0.828855       0.0  \n",
       "min      0.000000       0.0  \n",
       "25%      1.000000       0.0  \n",
       "50%      1.000000       0.0  \n",
       "75%      1.000000       0.0  \n",
       "max      7.000000       0.0  "
      ]
     },
     "execution_count": 609,
     "metadata": {},
     "output_type": "execute_result"
    }
   ],
   "source": [
    "ceros.describe()"
   ]
  },
  {
   "cell_type": "markdown",
   "id": "f93dcceb",
   "metadata": {},
   "source": [
    "##### A pesar que no conozco la data, se podrian eliminarlos, sin embargo para este caso y dado que no tengo conocimieneto del negocio los voy a dejar, dejando la salvedad que podrian afectar los resultados de los modelos."
   ]
  },
  {
   "cell_type": "code",
   "execution_count": 610,
   "id": "7a2f775d",
   "metadata": {},
   "outputs": [
    {
     "data": {
      "text/html": [
       "<div>\n",
       "<style scoped>\n",
       "    .dataframe tbody tr th:only-of-type {\n",
       "        vertical-align: middle;\n",
       "    }\n",
       "\n",
       "    .dataframe tbody tr th {\n",
       "        vertical-align: top;\n",
       "    }\n",
       "\n",
       "    .dataframe thead th {\n",
       "        text-align: right;\n",
       "    }\n",
       "</style>\n",
       "<table border=\"1\" class=\"dataframe\">\n",
       "  <thead>\n",
       "    <tr style=\"text-align: right;\">\n",
       "      <th></th>\n",
       "      <th>Doc_vtas</th>\n",
       "      <th>Fecha</th>\n",
       "      <th>Solic</th>\n",
       "      <th>Material</th>\n",
       "      <th>Cnt_uni</th>\n",
       "      <th>sect_mat</th>\n",
       "      <th>Cnt_cart</th>\n",
       "      <th>ValN_Pos</th>\n",
       "      <th>Moneda</th>\n",
       "    </tr>\n",
       "  </thead>\n",
       "  <tbody>\n",
       "    <tr>\n",
       "      <th>169866</th>\n",
       "      <td>7503350962</td>\n",
       "      <td>2021-11-08</td>\n",
       "      <td>1096012</td>\n",
       "      <td>27014</td>\n",
       "      <td>0.0</td>\n",
       "      <td>84</td>\n",
       "      <td>0.0</td>\n",
       "      <td>0.0</td>\n",
       "      <td>COP</td>\n",
       "    </tr>\n",
       "    <tr>\n",
       "      <th>1057037</th>\n",
       "      <td>7504035851</td>\n",
       "      <td>2022-01-27</td>\n",
       "      <td>18115352</td>\n",
       "      <td>6486</td>\n",
       "      <td>0.0</td>\n",
       "      <td>42</td>\n",
       "      <td>0.0</td>\n",
       "      <td>0.0</td>\n",
       "      <td>COP</td>\n",
       "    </tr>\n",
       "  </tbody>\n",
       "</table>\n",
       "</div>"
      ],
      "text/plain": [
       "           Doc_vtas       Fecha     Solic  Material  Cnt_uni  sect_mat  \\\n",
       "169866   7503350962  2021-11-08   1096012     27014      0.0        84   \n",
       "1057037  7504035851  2022-01-27  18115352      6486      0.0        42   \n",
       "\n",
       "         Cnt_cart  ValN_Pos Moneda  \n",
       "169866        0.0       0.0    COP  \n",
       "1057037       0.0       0.0    COP  "
      ]
     },
     "execution_count": 610,
     "metadata": {},
     "output_type": "execute_result"
    }
   ],
   "source": [
    "# validacion variable: Cnt_cart\n",
    "ceros = datos_prueba[datos_prueba[\"Cnt_cart\"]==0]\n",
    "ceros"
   ]
  },
  {
   "cell_type": "markdown",
   "id": "56bea6d3",
   "metadata": {},
   "source": [
    "Esta variable posee dos valores en ceros, las cuales se pueden eliminar y el comentario es similar al anterior."
   ]
  },
  {
   "cell_type": "markdown",
   "id": "91af8276",
   "metadata": {},
   "source": [
    "### Revision de las categorias de la variable moneda"
   ]
  },
  {
   "cell_type": "code",
   "execution_count": 611,
   "id": "1b9528f0",
   "metadata": {},
   "outputs": [
    {
     "data": {
      "text/plain": [
       "COP    12559901\n",
       "Name: Moneda, dtype: int64"
      ]
     },
     "execution_count": 611,
     "metadata": {},
     "output_type": "execute_result"
    }
   ],
   "source": [
    "# Se revisan los diferentes valores para esta variable\n",
    "datos_prueba.Moneda.value_counts()"
   ]
  },
  {
   "cell_type": "markdown",
   "id": "5c066bd2",
   "metadata": {},
   "source": [
    "Se observa que todos los valores son en pesos, por lo que esta variable carece de sentido para este analisis en particular"
   ]
  },
  {
   "cell_type": "code",
   "execution_count": 612,
   "id": "7108f3ee",
   "metadata": {},
   "outputs": [
    {
     "data": {
      "text/plain": [
       "30     4572660\n",
       "60     2206054\n",
       "36     1725494\n",
       "42     1711033\n",
       "54      731125\n",
       "48      514810\n",
       "66      406025\n",
       "90      152389\n",
       "51      133782\n",
       "72       95791\n",
       "84       88687\n",
       "108      55622\n",
       "63       47833\n",
       "99       42965\n",
       "114      42347\n",
       "258      13557\n",
       "246      11143\n",
       "111       5387\n",
       "261       2724\n",
       "39         351\n",
       "87         106\n",
       "255         16\n",
       "Name: sect_mat, dtype: int64"
      ]
     },
     "execution_count": 612,
     "metadata": {},
     "output_type": "execute_result"
    }
   ],
   "source": [
    "# Se revisan los diferentes valores para esta variable\n",
    "datos_prueba.sect_mat.value_counts()"
   ]
  },
  {
   "cell_type": "markdown",
   "id": "99817a70",
   "metadata": {},
   "source": [
    "Existen varias categorias de esta variable, falta conocimiento del negocio para el manejo de esta variable "
   ]
  },
  {
   "cell_type": "markdown",
   "id": "a80cfb67",
   "metadata": {},
   "source": [
    "### Outliers"
   ]
  },
  {
   "cell_type": "markdown",
   "id": "d7cde412",
   "metadata": {},
   "source": [
    "Echemos un vistazo a las variables numéricas donde se analizaran los outliers"
   ]
  },
  {
   "cell_type": "code",
   "execution_count": 613,
   "id": "aacb6b4f",
   "metadata": {},
   "outputs": [
    {
     "data": {
      "text/html": [
       "<div>\n",
       "<style scoped>\n",
       "    .dataframe tbody tr th:only-of-type {\n",
       "        vertical-align: middle;\n",
       "    }\n",
       "\n",
       "    .dataframe tbody tr th {\n",
       "        vertical-align: top;\n",
       "    }\n",
       "\n",
       "    .dataframe thead th {\n",
       "        text-align: right;\n",
       "    }\n",
       "</style>\n",
       "<table border=\"1\" class=\"dataframe\">\n",
       "  <thead>\n",
       "    <tr style=\"text-align: right;\">\n",
       "      <th></th>\n",
       "      <th>Doc_vtas</th>\n",
       "      <th>Solic</th>\n",
       "      <th>Material</th>\n",
       "      <th>Cnt_uni</th>\n",
       "      <th>sect_mat</th>\n",
       "      <th>Cnt_cart</th>\n",
       "      <th>ValN_Pos</th>\n",
       "    </tr>\n",
       "  </thead>\n",
       "  <tbody>\n",
       "    <tr>\n",
       "      <th>count</th>\n",
       "      <td>1.255990e+07</td>\n",
       "      <td>1.255990e+07</td>\n",
       "      <td>1.255990e+07</td>\n",
       "      <td>1.255990e+07</td>\n",
       "      <td>1.255990e+07</td>\n",
       "      <td>1.255990e+07</td>\n",
       "      <td>1.255990e+07</td>\n",
       "    </tr>\n",
       "    <tr>\n",
       "      <th>mean</th>\n",
       "      <td>7.504470e+09</td>\n",
       "      <td>6.790095e+06</td>\n",
       "      <td>2.309706e+04</td>\n",
       "      <td>3.444836e+00</td>\n",
       "      <td>4.419418e+01</td>\n",
       "      <td>1.092986e+00</td>\n",
       "      <td>8.999391e+01</td>\n",
       "    </tr>\n",
       "    <tr>\n",
       "      <th>std</th>\n",
       "      <td>6.787329e+05</td>\n",
       "      <td>8.030957e+06</td>\n",
       "      <td>1.808602e+04</td>\n",
       "      <td>3.343890e+02</td>\n",
       "      <td>1.831512e+01</td>\n",
       "      <td>3.342218e+02</td>\n",
       "      <td>5.830246e+02</td>\n",
       "    </tr>\n",
       "    <tr>\n",
       "      <th>min</th>\n",
       "      <td>7.503278e+09</td>\n",
       "      <td>4.912800e+04</td>\n",
       "      <td>2.940000e+02</td>\n",
       "      <td>0.000000e+00</td>\n",
       "      <td>3.000000e+01</td>\n",
       "      <td>0.000000e+00</td>\n",
       "      <td>0.000000e+00</td>\n",
       "    </tr>\n",
       "    <tr>\n",
       "      <th>25%</th>\n",
       "      <td>7.503889e+09</td>\n",
       "      <td>1.130028e+06</td>\n",
       "      <td>6.576000e+03</td>\n",
       "      <td>1.000000e+00</td>\n",
       "      <td>3.000000e+01</td>\n",
       "      <td>5.555600e-02</td>\n",
       "      <td>4.087000e+01</td>\n",
       "    </tr>\n",
       "    <tr>\n",
       "      <th>50%</th>\n",
       "      <td>7.504469e+09</td>\n",
       "      <td>1.398056e+06</td>\n",
       "      <td>2.474600e+04</td>\n",
       "      <td>1.000000e+00</td>\n",
       "      <td>3.600000e+01</td>\n",
       "      <td>8.333300e-02</td>\n",
       "      <td>5.402000e+01</td>\n",
       "    </tr>\n",
       "    <tr>\n",
       "      <th>75%</th>\n",
       "      <td>7.505061e+09</td>\n",
       "      <td>1.805645e+07</td>\n",
       "      <td>2.885400e+04</td>\n",
       "      <td>3.000000e+00</td>\n",
       "      <td>6.000000e+01</td>\n",
       "      <td>1.250000e-01</td>\n",
       "      <td>8.560000e+01</td>\n",
       "    </tr>\n",
       "    <tr>\n",
       "      <th>max</th>\n",
       "      <td>7.505636e+09</td>\n",
       "      <td>1.817967e+07</td>\n",
       "      <td>6.096400e+04</td>\n",
       "      <td>2.000000e+05</td>\n",
       "      <td>2.610000e+02</td>\n",
       "      <td>2.000000e+05</td>\n",
       "      <td>1.242856e+06</td>\n",
       "    </tr>\n",
       "  </tbody>\n",
       "</table>\n",
       "</div>"
      ],
      "text/plain": [
       "           Doc_vtas         Solic      Material       Cnt_uni      sect_mat  \\\n",
       "count  1.255990e+07  1.255990e+07  1.255990e+07  1.255990e+07  1.255990e+07   \n",
       "mean   7.504470e+09  6.790095e+06  2.309706e+04  3.444836e+00  4.419418e+01   \n",
       "std    6.787329e+05  8.030957e+06  1.808602e+04  3.343890e+02  1.831512e+01   \n",
       "min    7.503278e+09  4.912800e+04  2.940000e+02  0.000000e+00  3.000000e+01   \n",
       "25%    7.503889e+09  1.130028e+06  6.576000e+03  1.000000e+00  3.000000e+01   \n",
       "50%    7.504469e+09  1.398056e+06  2.474600e+04  1.000000e+00  3.600000e+01   \n",
       "75%    7.505061e+09  1.805645e+07  2.885400e+04  3.000000e+00  6.000000e+01   \n",
       "max    7.505636e+09  1.817967e+07  6.096400e+04  2.000000e+05  2.610000e+02   \n",
       "\n",
       "           Cnt_cart      ValN_Pos  \n",
       "count  1.255990e+07  1.255990e+07  \n",
       "mean   1.092986e+00  8.999391e+01  \n",
       "std    3.342218e+02  5.830246e+02  \n",
       "min    0.000000e+00  0.000000e+00  \n",
       "25%    5.555600e-02  4.087000e+01  \n",
       "50%    8.333300e-02  5.402000e+01  \n",
       "75%    1.250000e-01  8.560000e+01  \n",
       "max    2.000000e+05  1.242856e+06  "
      ]
     },
     "execution_count": 613,
     "metadata": {},
     "output_type": "execute_result"
    }
   ],
   "source": [
    "# Se realiza un describe para analizar las variables en su conjunto\n",
    "datos_prueba.describe()"
   ]
  },
  {
   "cell_type": "markdown",
   "id": "d51de94c",
   "metadata": {},
   "source": [
    "No se observan asimple vista valores outliers, son embargo se haran graficos para validar"
   ]
  },
  {
   "cell_type": "code",
   "execution_count": 7,
   "id": "825365da",
   "metadata": {},
   "outputs": [
    {
     "data": {
      "text/plain": [
       "<AxesSubplot:>"
      ]
     },
     "execution_count": 7,
     "metadata": {},
     "output_type": "execute_result"
    },
    {
     "data": {
      "image/png": "[encoded data removed]",
      "text/plain": [
       "<Figure size 864x504 with 1 Axes>"
      ]
     },
     "metadata": {
      "needs_background": "light"
     },
     "output_type": "display_data"
    }
   ],
   "source": [
    "plt.figure(figsize=(12,7))\n",
    "solo_num = datos_prueba.drop('Doc_vtas', axis=1)\n",
    "solo_num = solo_num.drop('Solic', axis=1)\n",
    "solo_num = solo_num.drop('Material', axis=1)\n",
    "sns.boxplot(data= solo_num, palette=\"colorblind\")"
   ]
  },
  {
   "cell_type": "code",
   "execution_count": 8,
   "id": "46ff35d7",
   "metadata": {},
   "outputs": [],
   "source": [
    "def outliers(df):\n",
    "    Q1= df.quantile(0.25)\n",
    "    Q3= df.quantile(0.75)\n",
    "    IQR= Q3-Q1\n",
    "    extreme= Q3+IQR*1.5\n",
    "    outlier= df.query('@df>@extreme')\n",
    "    outers= df.where(~df.isin(outlier), np.nan)\n",
    "    return outers.isna().sum()"
   ]
  },
  {
   "cell_type": "code",
   "execution_count": 9,
   "id": "83a2347d",
   "metadata": {},
   "outputs": [
    {
     "name": "stderr",
     "output_type": "stream",
     "text": [
      "C:\\ProgramData\\Anaconda3\\lib\\site-packages\\pandas\\core\\computation\\ops.py:455: FutureWarning: Automatic reindexing on DataFrame vs Series comparisons is deprecated and will raise ValueError in a future version.  Do `left, right = left.align(right, axis=1, copy=False)` before e.g. `left == right`\n",
      "  res = self.func(left.value, right.value)\n"
     ]
    },
    {
     "data": {
      "text/plain": [
       "Doc_vtas          0\n",
       "Fecha             0\n",
       "Solic             0\n",
       "Material          0\n",
       "Cnt_uni      641796\n",
       "sect_mat     130796\n",
       "Cnt_cart    1421100\n",
       "ValN_Pos    1272486\n",
       "Moneda            0\n",
       "dtype: int64"
      ]
     },
     "execution_count": 9,
     "metadata": {},
     "output_type": "execute_result"
    }
   ],
   "source": [
    "problem_prueba = outliers(datos_prueba)\n",
    "problem_prueba"
   ]
  },
  {
   "cell_type": "markdown",
   "id": "70d6d7ec",
   "metadata": {},
   "source": [
    "Existen valores aoutliers tanto en el valor neto como en la cantidad de cartones y las unidades, pero realmente no se eliminaran dado el escaso conocimiento que se tiene del negocio.\n",
    "\n",
    "con lo anterior, los datos se encuentran limpios, no existen pedidos con registros negativos ni en la cantidad ni en los valores pagados"
   ]
  },
  {
   "cell_type": "markdown",
   "id": "b75032dd",
   "metadata": {},
   "source": [
    "### Una vez validadas las variables, se creara una nueva variable llamada anomes que corresponde a los pedidos o ventas realizados para el año y el mes"
   ]
  },
  {
   "cell_type": "code",
   "execution_count": 10,
   "id": "080aae5f",
   "metadata": {},
   "outputs": [],
   "source": [
    "datos_prueba['anomes']=datos_prueba['Fecha'].str[:7]"
   ]
  },
  {
   "cell_type": "code",
   "execution_count": 11,
   "id": "8e4533d4",
   "metadata": {},
   "outputs": [
    {
     "data": {
      "text/html": [
       "<div>\n",
       "<style scoped>\n",
       "    .dataframe tbody tr th:only-of-type {\n",
       "        vertical-align: middle;\n",
       "    }\n",
       "\n",
       "    .dataframe tbody tr th {\n",
       "        vertical-align: top;\n",
       "    }\n",
       "\n",
       "    .dataframe thead th {\n",
       "        text-align: right;\n",
       "    }\n",
       "</style>\n",
       "<table border=\"1\" class=\"dataframe\">\n",
       "  <thead>\n",
       "    <tr style=\"text-align: right;\">\n",
       "      <th></th>\n",
       "      <th>Doc_vtas</th>\n",
       "      <th>Fecha</th>\n",
       "      <th>Solic</th>\n",
       "      <th>Material</th>\n",
       "      <th>Cnt_uni</th>\n",
       "      <th>sect_mat</th>\n",
       "      <th>Cnt_cart</th>\n",
       "      <th>ValN_Pos</th>\n",
       "      <th>Moneda</th>\n",
       "      <th>anomes</th>\n",
       "    </tr>\n",
       "  </thead>\n",
       "  <tbody>\n",
       "    <tr>\n",
       "      <th>0</th>\n",
       "      <td>7503277849</td>\n",
       "      <td>2021-11-01</td>\n",
       "      <td>18134244</td>\n",
       "      <td>28424</td>\n",
       "      <td>72.0</td>\n",
       "      <td>42</td>\n",
       "      <td>1.000000</td>\n",
       "      <td>347.76</td>\n",
       "      <td>COP</td>\n",
       "      <td>2021-11</td>\n",
       "    </tr>\n",
       "    <tr>\n",
       "      <th>1</th>\n",
       "      <td>7503277849</td>\n",
       "      <td>2021-11-01</td>\n",
       "      <td>18134244</td>\n",
       "      <td>26780</td>\n",
       "      <td>6.0</td>\n",
       "      <td>42</td>\n",
       "      <td>6.000000</td>\n",
       "      <td>781.40</td>\n",
       "      <td>COP</td>\n",
       "      <td>2021-11</td>\n",
       "    </tr>\n",
       "    <tr>\n",
       "      <th>2</th>\n",
       "      <td>7503277849</td>\n",
       "      <td>2021-11-01</td>\n",
       "      <td>18134244</td>\n",
       "      <td>28846</td>\n",
       "      <td>72.0</td>\n",
       "      <td>42</td>\n",
       "      <td>1.000000</td>\n",
       "      <td>309.05</td>\n",
       "      <td>COP</td>\n",
       "      <td>2021-11</td>\n",
       "    </tr>\n",
       "    <tr>\n",
       "      <th>3</th>\n",
       "      <td>7503277849</td>\n",
       "      <td>2021-11-01</td>\n",
       "      <td>18134244</td>\n",
       "      <td>6572</td>\n",
       "      <td>18.0</td>\n",
       "      <td>42</td>\n",
       "      <td>0.375000</td>\n",
       "      <td>124.59</td>\n",
       "      <td>COP</td>\n",
       "      <td>2021-11</td>\n",
       "    </tr>\n",
       "    <tr>\n",
       "      <th>4</th>\n",
       "      <td>7503277849</td>\n",
       "      <td>2021-11-01</td>\n",
       "      <td>18134244</td>\n",
       "      <td>28850</td>\n",
       "      <td>1.0</td>\n",
       "      <td>42</td>\n",
       "      <td>1.000000</td>\n",
       "      <td>478.87</td>\n",
       "      <td>COP</td>\n",
       "      <td>2021-11</td>\n",
       "    </tr>\n",
       "    <tr>\n",
       "      <th>...</th>\n",
       "      <td>...</td>\n",
       "      <td>...</td>\n",
       "      <td>...</td>\n",
       "      <td>...</td>\n",
       "      <td>...</td>\n",
       "      <td>...</td>\n",
       "      <td>...</td>\n",
       "      <td>...</td>\n",
       "      <td>...</td>\n",
       "      <td>...</td>\n",
       "    </tr>\n",
       "    <tr>\n",
       "      <th>12559896</th>\n",
       "      <td>7504718894</td>\n",
       "      <td>2022-04-08</td>\n",
       "      <td>1183780</td>\n",
       "      <td>54278</td>\n",
       "      <td>1.0</td>\n",
       "      <td>60</td>\n",
       "      <td>0.041667</td>\n",
       "      <td>35.74</td>\n",
       "      <td>COP</td>\n",
       "      <td>2022-04</td>\n",
       "    </tr>\n",
       "    <tr>\n",
       "      <th>12559897</th>\n",
       "      <td>7504718894</td>\n",
       "      <td>2022-04-08</td>\n",
       "      <td>1183780</td>\n",
       "      <td>54302</td>\n",
       "      <td>1.0</td>\n",
       "      <td>60</td>\n",
       "      <td>0.041667</td>\n",
       "      <td>44.40</td>\n",
       "      <td>COP</td>\n",
       "      <td>2022-04</td>\n",
       "    </tr>\n",
       "    <tr>\n",
       "      <th>12559898</th>\n",
       "      <td>7504718894</td>\n",
       "      <td>2022-04-08</td>\n",
       "      <td>1183780</td>\n",
       "      <td>54298</td>\n",
       "      <td>1.0</td>\n",
       "      <td>60</td>\n",
       "      <td>0.041667</td>\n",
       "      <td>44.40</td>\n",
       "      <td>COP</td>\n",
       "      <td>2022-04</td>\n",
       "    </tr>\n",
       "    <tr>\n",
       "      <th>12559899</th>\n",
       "      <td>7504718894</td>\n",
       "      <td>2022-04-08</td>\n",
       "      <td>1183780</td>\n",
       "      <td>24976</td>\n",
       "      <td>1.0</td>\n",
       "      <td>36</td>\n",
       "      <td>0.083333</td>\n",
       "      <td>80.67</td>\n",
       "      <td>COP</td>\n",
       "      <td>2022-04</td>\n",
       "    </tr>\n",
       "    <tr>\n",
       "      <th>12559900</th>\n",
       "      <td>7504718894</td>\n",
       "      <td>2022-04-08</td>\n",
       "      <td>1183780</td>\n",
       "      <td>13404</td>\n",
       "      <td>6.0</td>\n",
       "      <td>42</td>\n",
       "      <td>0.083333</td>\n",
       "      <td>102.72</td>\n",
       "      <td>COP</td>\n",
       "      <td>2022-04</td>\n",
       "    </tr>\n",
       "  </tbody>\n",
       "</table>\n",
       "<p>12559901 rows × 10 columns</p>\n",
       "</div>"
      ],
      "text/plain": [
       "            Doc_vtas       Fecha     Solic  Material  Cnt_uni  sect_mat  \\\n",
       "0         7503277849  2021-11-01  18134244     28424     72.0        42   \n",
       "1         7503277849  2021-11-01  18134244     26780      6.0        42   \n",
       "2         7503277849  2021-11-01  18134244     28846     72.0        42   \n",
       "3         7503277849  2021-11-01  18134244      6572     18.0        42   \n",
       "4         7503277849  2021-11-01  18134244     28850      1.0        42   \n",
       "...              ...         ...       ...       ...      ...       ...   \n",
       "12559896  7504718894  2022-04-08   1183780     54278      1.0        60   \n",
       "12559897  7504718894  2022-04-08   1183780     54302      1.0        60   \n",
       "12559898  7504718894  2022-04-08   1183780     54298      1.0        60   \n",
       "12559899  7504718894  2022-04-08   1183780     24976      1.0        36   \n",
       "12559900  7504718894  2022-04-08   1183780     13404      6.0        42   \n",
       "\n",
       "          Cnt_cart  ValN_Pos Moneda   anomes  \n",
       "0         1.000000    347.76    COP  2021-11  \n",
       "1         6.000000    781.40    COP  2021-11  \n",
       "2         1.000000    309.05    COP  2021-11  \n",
       "3         0.375000    124.59    COP  2021-11  \n",
       "4         1.000000    478.87    COP  2021-11  \n",
       "...            ...       ...    ...      ...  \n",
       "12559896  0.041667     35.74    COP  2022-04  \n",
       "12559897  0.041667     44.40    COP  2022-04  \n",
       "12559898  0.041667     44.40    COP  2022-04  \n",
       "12559899  0.083333     80.67    COP  2022-04  \n",
       "12559900  0.083333    102.72    COP  2022-04  \n",
       "\n",
       "[12559901 rows x 10 columns]"
      ]
     },
     "execution_count": 11,
     "metadata": {},
     "output_type": "execute_result"
    }
   ],
   "source": [
    "datos_prueba"
   ]
  },
  {
   "cell_type": "markdown",
   "id": "4cf971d0",
   "metadata": {},
   "source": [
    "Se convierte la fecha a date"
   ]
  },
  {
   "cell_type": "code",
   "execution_count": 12,
   "id": "8fbc85d4",
   "metadata": {},
   "outputs": [],
   "source": [
    "datos_prueba['Fecha']= pd.to_datetime(datos_prueba['Fecha'], format= '%Y-%m-%d')"
   ]
  },
  {
   "cell_type": "code",
   "execution_count": 13,
   "id": "e3038ba3",
   "metadata": {},
   "outputs": [],
   "source": [
    "resumen_conteo= datos_prueba.groupby(['anomes','Solic'], as_index = False).agg({\"Doc_vtas\":\"count\",\n",
    "                                                                                \"Cnt_uni\":\"sum\",\n",
    "                                                                                \"Cnt_cart\":\"sum\",\n",
    "                                                                               \"ValN_Pos\":\"sum\"})"
   ]
  },
  {
   "cell_type": "code",
   "execution_count": 14,
   "id": "b3121d8a",
   "metadata": {
    "scrolled": true
   },
   "outputs": [
    {
     "data": {
      "text/html": [
       "<div>\n",
       "<style scoped>\n",
       "    .dataframe tbody tr th:only-of-type {\n",
       "        vertical-align: middle;\n",
       "    }\n",
       "\n",
       "    .dataframe tbody tr th {\n",
       "        vertical-align: top;\n",
       "    }\n",
       "\n",
       "    .dataframe thead th {\n",
       "        text-align: right;\n",
       "    }\n",
       "</style>\n",
       "<table border=\"1\" class=\"dataframe\">\n",
       "  <thead>\n",
       "    <tr style=\"text-align: right;\">\n",
       "      <th></th>\n",
       "      <th>anomes</th>\n",
       "      <th>Solic</th>\n",
       "      <th>Doc_vtas</th>\n",
       "      <th>Cnt_uni</th>\n",
       "      <th>Cnt_cart</th>\n",
       "      <th>ValN_Pos</th>\n",
       "    </tr>\n",
       "  </thead>\n",
       "  <tbody>\n",
       "    <tr>\n",
       "      <th>0</th>\n",
       "      <td>2021-11</td>\n",
       "      <td>49128</td>\n",
       "      <td>86</td>\n",
       "      <td>443.0</td>\n",
       "      <td>51.416671</td>\n",
       "      <td>23071.16</td>\n",
       "    </tr>\n",
       "    <tr>\n",
       "      <th>1</th>\n",
       "      <td>2021-11</td>\n",
       "      <td>69792</td>\n",
       "      <td>18</td>\n",
       "      <td>67.0</td>\n",
       "      <td>1.804166</td>\n",
       "      <td>1351.91</td>\n",
       "    </tr>\n",
       "    <tr>\n",
       "      <th>2</th>\n",
       "      <td>2021-11</td>\n",
       "      <td>69868</td>\n",
       "      <td>46</td>\n",
       "      <td>193.0</td>\n",
       "      <td>5.816392</td>\n",
       "      <td>3296.16</td>\n",
       "    </tr>\n",
       "    <tr>\n",
       "      <th>3</th>\n",
       "      <td>2021-11</td>\n",
       "      <td>70430</td>\n",
       "      <td>20</td>\n",
       "      <td>34.0</td>\n",
       "      <td>1.445836</td>\n",
       "      <td>1155.01</td>\n",
       "    </tr>\n",
       "    <tr>\n",
       "      <th>4</th>\n",
       "      <td>2021-11</td>\n",
       "      <td>70566</td>\n",
       "      <td>37</td>\n",
       "      <td>152.0</td>\n",
       "      <td>4.480557</td>\n",
       "      <td>2437.33</td>\n",
       "    </tr>\n",
       "    <tr>\n",
       "      <th>...</th>\n",
       "      <td>...</td>\n",
       "      <td>...</td>\n",
       "      <td>...</td>\n",
       "      <td>...</td>\n",
       "      <td>...</td>\n",
       "      <td>...</td>\n",
       "    </tr>\n",
       "    <tr>\n",
       "      <th>565749</th>\n",
       "      <td>2022-07</td>\n",
       "      <td>18179654</td>\n",
       "      <td>15</td>\n",
       "      <td>27.0</td>\n",
       "      <td>1.931946</td>\n",
       "      <td>1403.30</td>\n",
       "    </tr>\n",
       "    <tr>\n",
       "      <th>565750</th>\n",
       "      <td>2022-07</td>\n",
       "      <td>18179660</td>\n",
       "      <td>24</td>\n",
       "      <td>78.0</td>\n",
       "      <td>6.305558</td>\n",
       "      <td>2662.01</td>\n",
       "    </tr>\n",
       "    <tr>\n",
       "      <th>565751</th>\n",
       "      <td>2022-07</td>\n",
       "      <td>18179662</td>\n",
       "      <td>8</td>\n",
       "      <td>10.0</td>\n",
       "      <td>1.616667</td>\n",
       "      <td>498.44</td>\n",
       "    </tr>\n",
       "    <tr>\n",
       "      <th>565752</th>\n",
       "      <td>2022-07</td>\n",
       "      <td>18179664</td>\n",
       "      <td>20</td>\n",
       "      <td>62.0</td>\n",
       "      <td>4.206549</td>\n",
       "      <td>3267.76</td>\n",
       "    </tr>\n",
       "    <tr>\n",
       "      <th>565753</th>\n",
       "      <td>2022-07</td>\n",
       "      <td>18179668</td>\n",
       "      <td>15</td>\n",
       "      <td>15.0</td>\n",
       "      <td>1.843058</td>\n",
       "      <td>1300.55</td>\n",
       "    </tr>\n",
       "  </tbody>\n",
       "</table>\n",
       "<p>565754 rows × 6 columns</p>\n",
       "</div>"
      ],
      "text/plain": [
       "         anomes     Solic  Doc_vtas  Cnt_uni   Cnt_cart  ValN_Pos\n",
       "0       2021-11     49128        86    443.0  51.416671  23071.16\n",
       "1       2021-11     69792        18     67.0   1.804166   1351.91\n",
       "2       2021-11     69868        46    193.0   5.816392   3296.16\n",
       "3       2021-11     70430        20     34.0   1.445836   1155.01\n",
       "4       2021-11     70566        37    152.0   4.480557   2437.33\n",
       "...         ...       ...       ...      ...        ...       ...\n",
       "565749  2022-07  18179654        15     27.0   1.931946   1403.30\n",
       "565750  2022-07  18179660        24     78.0   6.305558   2662.01\n",
       "565751  2022-07  18179662         8     10.0   1.616667    498.44\n",
       "565752  2022-07  18179664        20     62.0   4.206549   3267.76\n",
       "565753  2022-07  18179668        15     15.0   1.843058   1300.55\n",
       "\n",
       "[565754 rows x 6 columns]"
      ]
     },
     "execution_count": 14,
     "metadata": {},
     "output_type": "execute_result"
    }
   ],
   "source": [
    "resumen_conteo"
   ]
  },
  {
   "cell_type": "code",
   "execution_count": 15,
   "id": "9aeeeef2",
   "metadata": {},
   "outputs": [
    {
     "name": "stdout",
     "output_type": "stream",
     "text": [
      "<class 'pandas.core.frame.DataFrame'>\n",
      "RangeIndex: 565754 entries, 0 to 565753\n",
      "Data columns (total 6 columns):\n",
      " #   Column    Non-Null Count   Dtype  \n",
      "---  ------    --------------   -----  \n",
      " 0   anomes    565754 non-null  object \n",
      " 1   Solic     565754 non-null  int64  \n",
      " 2   Doc_vtas  565754 non-null  int64  \n",
      " 3   Cnt_uni   565754 non-null  float64\n",
      " 4   Cnt_cart  565754 non-null  float64\n",
      " 5   ValN_Pos  565754 non-null  float64\n",
      "dtypes: float64(3), int64(2), object(1)\n",
      "memory usage: 25.9+ MB\n"
     ]
    }
   ],
   "source": [
    "# Con lo anterior se realiza la descripcion de las variables\n",
    "resumen_conteo.info()"
   ]
  },
  {
   "cell_type": "code",
   "execution_count": 16,
   "id": "62c59ff3",
   "metadata": {},
   "outputs": [],
   "source": [
    "lista_numericas=['Doc_vtas','Cnt_uni','Cnt_cart','ValN_Pos']"
   ]
  },
  {
   "cell_type": "code",
   "execution_count": 17,
   "id": "451067d2",
   "metadata": {},
   "outputs": [
    {
     "data": {
      "image/png": "[encoded data removed]",
      "text/plain": [
       "<Figure size 432x288 with 1 Axes>"
      ]
     },
     "metadata": {
      "needs_background": "light"
     },
     "output_type": "display_data"
    },
    {
     "data": {
      "image/png": "[encoded data removed]",
      "text/plain": [
       "<Figure size 432x288 with 1 Axes>"
      ]
     },
     "metadata": {
      "needs_background": "light"
     },
     "output_type": "display_data"
    },
    {
     "data": {
      "image/png": "[encoded data removed]",
      "text/plain": [
       "<Figure size 432x288 with 1 Axes>"
      ]
     },
     "metadata": {
      "needs_background": "light"
     },
     "output_type": "display_data"
    },
    {
     "data": {
      "image/png": "[encoded data removed]",
      "text/plain": [
       "<Figure size 432x288 with 1 Axes>"
      ]
     },
     "metadata": {
      "needs_background": "light"
     },
     "output_type": "display_data"
    }
   ],
   "source": [
    "for l in lista_numericas:\n",
    "    plt.plot(resumen_conteo[l])\n",
    "    plt.title(l)\n",
    "    plt.show()"
   ]
  },
  {
   "cell_type": "markdown",
   "id": "2b21478c",
   "metadata": {},
   "source": [
    "En los graficos anteriores se mustra la distribucion de los pedidos acumulados por cliente y por mes, se puede ver mayor variabilidad tanto en la cantidad de pedidos realizados por los clientes (frecuencia), mientras que las unidades totales presentan menor variacion y los valores netos se ven afectados por los outliers."
   ]
  },
  {
   "cell_type": "code",
   "execution_count": 18,
   "id": "8f51632b",
   "metadata": {},
   "outputs": [
    {
     "data": {
      "text/html": [
       "<div>\n",
       "<style scoped>\n",
       "    .dataframe tbody tr th:only-of-type {\n",
       "        vertical-align: middle;\n",
       "    }\n",
       "\n",
       "    .dataframe tbody tr th {\n",
       "        vertical-align: top;\n",
       "    }\n",
       "\n",
       "    .dataframe thead th {\n",
       "        text-align: right;\n",
       "    }\n",
       "</style>\n",
       "<table border=\"1\" class=\"dataframe\">\n",
       "  <thead>\n",
       "    <tr style=\"text-align: right;\">\n",
       "      <th></th>\n",
       "      <th>Solic</th>\n",
       "      <th>Doc_vtas</th>\n",
       "    </tr>\n",
       "  </thead>\n",
       "  <tbody>\n",
       "    <tr>\n",
       "      <th>0</th>\n",
       "      <td>49128</td>\n",
       "      <td>9</td>\n",
       "    </tr>\n",
       "    <tr>\n",
       "      <th>1</th>\n",
       "      <td>69792</td>\n",
       "      <td>9</td>\n",
       "    </tr>\n",
       "    <tr>\n",
       "      <th>2</th>\n",
       "      <td>69838</td>\n",
       "      <td>1</td>\n",
       "    </tr>\n",
       "    <tr>\n",
       "      <th>3</th>\n",
       "      <td>69868</td>\n",
       "      <td>9</td>\n",
       "    </tr>\n",
       "    <tr>\n",
       "      <th>4</th>\n",
       "      <td>70334</td>\n",
       "      <td>3</td>\n",
       "    </tr>\n",
       "  </tbody>\n",
       "</table>\n",
       "</div>"
      ],
      "text/plain": [
       "   Solic  Doc_vtas\n",
       "0  49128         9\n",
       "1  69792         9\n",
       "2  69838         1\n",
       "3  69868         9\n",
       "4  70334         3"
      ]
     },
     "execution_count": 18,
     "metadata": {},
     "output_type": "execute_result"
    }
   ],
   "source": [
    "conteo_por_cliente = resumen_conteo.groupby(['Solic'], as_index = False).agg({\"Doc_vtas\":\"count\"})\n",
    "conteo_por_cliente.head()"
   ]
  },
  {
   "cell_type": "code",
   "execution_count": 19,
   "id": "e73e05a8",
   "metadata": {},
   "outputs": [
    {
     "data": {
      "text/html": [
       "<div>\n",
       "<style scoped>\n",
       "    .dataframe tbody tr th:only-of-type {\n",
       "        vertical-align: middle;\n",
       "    }\n",
       "\n",
       "    .dataframe tbody tr th {\n",
       "        vertical-align: top;\n",
       "    }\n",
       "\n",
       "    .dataframe thead th {\n",
       "        text-align: right;\n",
       "    }\n",
       "</style>\n",
       "<table border=\"1\" class=\"dataframe\">\n",
       "  <thead>\n",
       "    <tr style=\"text-align: right;\">\n",
       "      <th></th>\n",
       "      <th>anomes</th>\n",
       "      <th>Doc_vtas</th>\n",
       "    </tr>\n",
       "  </thead>\n",
       "  <tbody>\n",
       "    <tr>\n",
       "      <th>0</th>\n",
       "      <td>2021-11</td>\n",
       "      <td>64370</td>\n",
       "    </tr>\n",
       "    <tr>\n",
       "      <th>1</th>\n",
       "      <td>2021-12</td>\n",
       "      <td>61998</td>\n",
       "    </tr>\n",
       "    <tr>\n",
       "      <th>2</th>\n",
       "      <td>2022-01</td>\n",
       "      <td>62037</td>\n",
       "    </tr>\n",
       "    <tr>\n",
       "      <th>3</th>\n",
       "      <td>2022-02</td>\n",
       "      <td>63814</td>\n",
       "    </tr>\n",
       "    <tr>\n",
       "      <th>4</th>\n",
       "      <td>2022-03</td>\n",
       "      <td>64868</td>\n",
       "    </tr>\n",
       "    <tr>\n",
       "      <th>5</th>\n",
       "      <td>2022-04</td>\n",
       "      <td>64381</td>\n",
       "    </tr>\n",
       "    <tr>\n",
       "      <th>6</th>\n",
       "      <td>2022-05</td>\n",
       "      <td>65359</td>\n",
       "    </tr>\n",
       "    <tr>\n",
       "      <th>7</th>\n",
       "      <td>2022-06</td>\n",
       "      <td>64799</td>\n",
       "    </tr>\n",
       "    <tr>\n",
       "      <th>8</th>\n",
       "      <td>2022-07</td>\n",
       "      <td>54128</td>\n",
       "    </tr>\n",
       "  </tbody>\n",
       "</table>\n",
       "</div>"
      ],
      "text/plain": [
       "    anomes  Doc_vtas\n",
       "0  2021-11     64370\n",
       "1  2021-12     61998\n",
       "2  2022-01     62037\n",
       "3  2022-02     63814\n",
       "4  2022-03     64868\n",
       "5  2022-04     64381\n",
       "6  2022-05     65359\n",
       "7  2022-06     64799\n",
       "8  2022-07     54128"
      ]
     },
     "execution_count": 19,
     "metadata": {},
     "output_type": "execute_result"
    }
   ],
   "source": [
    "conteo_por_fecha = resumen_conteo.groupby(['anomes'], as_index = False).agg({\"Doc_vtas\":\"count\"})\n",
    "conteo_por_fecha"
   ]
  },
  {
   "cell_type": "code",
   "execution_count": 20,
   "id": "1e52f954",
   "metadata": {},
   "outputs": [
    {
     "data": {
      "text/plain": [
       "0    2021-11\n",
       "1    2021-12\n",
       "2    2022-01\n",
       "3    2022-02\n",
       "4    2022-03\n",
       "5    2022-04\n",
       "6    2022-05\n",
       "7    2022-06\n",
       "8    2022-07\n",
       "Name: anomes, dtype: object"
      ]
     },
     "execution_count": 20,
     "metadata": {},
     "output_type": "execute_result"
    }
   ],
   "source": [
    "# Esta variable permite validar para cada mes que existe en la base de datos, realizar el proceso de validacion de si existen o no comprar en los dos meses posteeriores\n",
    "meses = conteo_por_fecha.anomes\n",
    "meses"
   ]
  },
  {
   "cell_type": "code",
   "execution_count": 21,
   "id": "280245d5",
   "metadata": {},
   "outputs": [
    {
     "name": "stdout",
     "output_type": "stream",
     "text": [
      "<class 'pandas.core.frame.DataFrame'>\n",
      "RangeIndex: 565754 entries, 0 to 565753\n",
      "Data columns (total 6 columns):\n",
      " #   Column    Non-Null Count   Dtype  \n",
      "---  ------    --------------   -----  \n",
      " 0   anomes    565754 non-null  object \n",
      " 1   Solic     565754 non-null  int64  \n",
      " 2   Doc_vtas  565754 non-null  int64  \n",
      " 3   Cnt_uni   565754 non-null  float64\n",
      " 4   Cnt_cart  565754 non-null  float64\n",
      " 5   ValN_Pos  565754 non-null  float64\n",
      "dtypes: float64(3), int64(2), object(1)\n",
      "memory usage: 25.9+ MB\n"
     ]
    }
   ],
   "source": [
    "resumen_conteo.info()"
   ]
  },
  {
   "cell_type": "markdown",
   "id": "fe50eb6c",
   "metadata": {},
   "source": [
    "## 4. Creacion la variable Target "
   ]
  },
  {
   "cell_type": "markdown",
   "id": "c887c7bd",
   "metadata": {},
   "source": [
    "## Una vez realizada la agrupacion, se procede a crear el churn dependiendo de los meses que el cliente haya dejado de comprar, por lo que se crearon dos funciones, una para calcular el  mes y el año siguiente y otra para calcular si el cliente tiene o no pedidos en los meses siguientes. Segun la definicion tecnica del negocio."
   ]
  },
  {
   "cell_type": "code",
   "execution_count": 22,
   "id": "f519f9eb",
   "metadata": {},
   "outputs": [],
   "source": [
    "#Esta funcion se encarga de calcular el mes y el año siguiente\n",
    "def mes_sig(mes,anno):\n",
    "    if mes == 12:\n",
    "        annosig = int(anno) + 1 \n",
    "        mes_s = 1\n",
    "    else:\n",
    "        mes_s = mes + 1\n",
    "        annosig = anno\n",
    "    if mes_s < 10:\n",
    "        mes_sig = \"0\" + str(mes_s)\n",
    "    else:\n",
    "        mes_sig = str(mes_s)\n",
    "    \n",
    "    return  mes_sig, str(annosig)"
   ]
  },
  {
   "cell_type": "code",
   "execution_count": 23,
   "id": "f4af3c01",
   "metadata": {},
   "outputs": [],
   "source": [
    "# Esta funcion reaiza la comparacion de los clientes por mes, si existe en los dos meses siguientes pone cero, de lo contratio pone 1\n",
    "# Este criterio esta definido por el negocio\n",
    "\n",
    "def cliente_fugado(df_mes, def_mesSig, df_mesSigSig):\n",
    "    \n",
    "    df_mes['Churn']  =   df_mes['Solic'].isin(def_mesSig['Solic'])\n",
    "    df_mes['Churn1']  =  df_mes['Solic'].isin(df_mesSigSig['Solic'])\n",
    "    df_mes['Churn'] =    df_mes['Churn'].apply(lambda x: 0 if x == True else 1)\n",
    "    df_mes['Churn1'] =   df_mes['Churn1'].apply(lambda x: 0 if x == True else 1)\n",
    "    df_mes['ChurnTot'] = df_mes['Churn'] + df_mes['Churn1']\n",
    "   \n",
    "    return df_mes"
   ]
  },
  {
   "cell_type": "code",
   "execution_count": 24,
   "id": "a99b2015",
   "metadata": {},
   "outputs": [
    {
     "name": "stderr",
     "output_type": "stream",
     "text": [
      "C:\\Users\\maesh\\AppData\\Local\\Temp/ipykernel_3304/3555564967.py:6: SettingWithCopyWarning: \n",
      "A value is trying to be set on a copy of a slice from a DataFrame.\n",
      "Try using .loc[row_indexer,col_indexer] = value instead\n",
      "\n",
      "See the caveats in the documentation: https://pandas.pydata.org/pandas-docs/stable/user_guide/indexing.html#returning-a-view-versus-a-copy\n",
      "  df_mes['Churn']  =   df_mes['Solic'].isin(def_mesSig['Solic'])\n",
      "C:\\Users\\maesh\\AppData\\Local\\Temp/ipykernel_3304/3555564967.py:7: SettingWithCopyWarning: \n",
      "A value is trying to be set on a copy of a slice from a DataFrame.\n",
      "Try using .loc[row_indexer,col_indexer] = value instead\n",
      "\n",
      "See the caveats in the documentation: https://pandas.pydata.org/pandas-docs/stable/user_guide/indexing.html#returning-a-view-versus-a-copy\n",
      "  df_mes['Churn1']  =  df_mes['Solic'].isin(df_mesSigSig['Solic'])\n",
      "C:\\Users\\maesh\\AppData\\Local\\Temp/ipykernel_3304/3555564967.py:8: SettingWithCopyWarning: \n",
      "A value is trying to be set on a copy of a slice from a DataFrame.\n",
      "Try using .loc[row_indexer,col_indexer] = value instead\n",
      "\n",
      "See the caveats in the documentation: https://pandas.pydata.org/pandas-docs/stable/user_guide/indexing.html#returning-a-view-versus-a-copy\n",
      "  df_mes['Churn'] =    df_mes['Churn'].apply(lambda x: 0 if x == True else 1)\n",
      "C:\\Users\\maesh\\AppData\\Local\\Temp/ipykernel_3304/3555564967.py:9: SettingWithCopyWarning: \n",
      "A value is trying to be set on a copy of a slice from a DataFrame.\n",
      "Try using .loc[row_indexer,col_indexer] = value instead\n",
      "\n",
      "See the caveats in the documentation: https://pandas.pydata.org/pandas-docs/stable/user_guide/indexing.html#returning-a-view-versus-a-copy\n",
      "  df_mes['Churn1'] =   df_mes['Churn1'].apply(lambda x: 0 if x == True else 1)\n",
      "C:\\Users\\maesh\\AppData\\Local\\Temp/ipykernel_3304/3555564967.py:10: SettingWithCopyWarning: \n",
      "A value is trying to be set on a copy of a slice from a DataFrame.\n",
      "Try using .loc[row_indexer,col_indexer] = value instead\n",
      "\n",
      "See the caveats in the documentation: https://pandas.pydata.org/pandas-docs/stable/user_guide/indexing.html#returning-a-view-versus-a-copy\n",
      "  df_mes['ChurnTot'] = df_mes['Churn'] + df_mes['Churn1']\n"
     ]
    }
   ],
   "source": [
    "# Script que revisa mes por mes si los clientes realizan pedidos en los dos  meses siguientes, de acuerdo con la definicion.\n",
    "resumen = pd.DataFrame()\n",
    "\n",
    "for mes in meses:\n",
    "    mesAct = mes[-2:]\n",
    "    AnoAct = mes[:4]\n",
    "    datosMesActual= resumen_conteo[resumen_conteo[\"anomes\"] == mes]\n",
    "    # Se calculan El mes siguiente y los datos del mes siguiente\n",
    "    val = mes_sig (int(mesAct),AnoAct)\n",
    "    mesSig = val[0]\n",
    "    AnoSig = val[1]\n",
    "    AnoMesSig = AnoSig + \"-\" + mesSig\n",
    "    datosMesSig= resumen_conteo[resumen_conteo[\"anomes\"] == AnoMesSig]\n",
    "    \n",
    "    \n",
    "    # Se calculan El mes siguiente y los datos del mes siguiente Siguiente\n",
    "    val = mes_sig (int(mesSig), AnoSig)\n",
    "    AnoMesSigSig = val[1] + \"-\" + val[0]\n",
    "    datosMesSigSig= resumen_conteo[resumen_conteo[\"anomes\"] == AnoMesSigSig]\n",
    "    \n",
    "    salida = cliente_fugado(datosMesActual,datosMesSig,datosMesSigSig )\n",
    "    #esta variable acumula las validaciones realizadas para cada mes\n",
    "    resumen = resumen.append(salida, ignore_index=True)\n",
    "    "
   ]
  },
  {
   "cell_type": "code",
   "execution_count": 25,
   "id": "68351373",
   "metadata": {},
   "outputs": [
    {
     "data": {
      "text/html": [
       "<div>\n",
       "<style scoped>\n",
       "    .dataframe tbody tr th:only-of-type {\n",
       "        vertical-align: middle;\n",
       "    }\n",
       "\n",
       "    .dataframe tbody tr th {\n",
       "        vertical-align: top;\n",
       "    }\n",
       "\n",
       "    .dataframe thead th {\n",
       "        text-align: right;\n",
       "    }\n",
       "</style>\n",
       "<table border=\"1\" class=\"dataframe\">\n",
       "  <thead>\n",
       "    <tr style=\"text-align: right;\">\n",
       "      <th></th>\n",
       "      <th>anomes</th>\n",
       "      <th>Solic</th>\n",
       "      <th>Doc_vtas</th>\n",
       "      <th>Cnt_uni</th>\n",
       "      <th>Cnt_cart</th>\n",
       "      <th>ValN_Pos</th>\n",
       "      <th>Churn</th>\n",
       "      <th>Churn1</th>\n",
       "      <th>ChurnTot</th>\n",
       "    </tr>\n",
       "  </thead>\n",
       "  <tbody>\n",
       "    <tr>\n",
       "      <th>0</th>\n",
       "      <td>2021-11</td>\n",
       "      <td>49128</td>\n",
       "      <td>86</td>\n",
       "      <td>443.0</td>\n",
       "      <td>51.416671</td>\n",
       "      <td>23071.16</td>\n",
       "      <td>0</td>\n",
       "      <td>0</td>\n",
       "      <td>0</td>\n",
       "    </tr>\n",
       "    <tr>\n",
       "      <th>1</th>\n",
       "      <td>2021-11</td>\n",
       "      <td>69792</td>\n",
       "      <td>18</td>\n",
       "      <td>67.0</td>\n",
       "      <td>1.804166</td>\n",
       "      <td>1351.91</td>\n",
       "      <td>0</td>\n",
       "      <td>0</td>\n",
       "      <td>0</td>\n",
       "    </tr>\n",
       "    <tr>\n",
       "      <th>2</th>\n",
       "      <td>2021-11</td>\n",
       "      <td>69868</td>\n",
       "      <td>46</td>\n",
       "      <td>193.0</td>\n",
       "      <td>5.816392</td>\n",
       "      <td>3296.16</td>\n",
       "      <td>0</td>\n",
       "      <td>0</td>\n",
       "      <td>0</td>\n",
       "    </tr>\n",
       "    <tr>\n",
       "      <th>3</th>\n",
       "      <td>2021-11</td>\n",
       "      <td>70430</td>\n",
       "      <td>20</td>\n",
       "      <td>34.0</td>\n",
       "      <td>1.445836</td>\n",
       "      <td>1155.01</td>\n",
       "      <td>0</td>\n",
       "      <td>0</td>\n",
       "      <td>0</td>\n",
       "    </tr>\n",
       "    <tr>\n",
       "      <th>4</th>\n",
       "      <td>2021-11</td>\n",
       "      <td>70566</td>\n",
       "      <td>37</td>\n",
       "      <td>152.0</td>\n",
       "      <td>4.480557</td>\n",
       "      <td>2437.33</td>\n",
       "      <td>0</td>\n",
       "      <td>0</td>\n",
       "      <td>0</td>\n",
       "    </tr>\n",
       "    <tr>\n",
       "      <th>...</th>\n",
       "      <td>...</td>\n",
       "      <td>...</td>\n",
       "      <td>...</td>\n",
       "      <td>...</td>\n",
       "      <td>...</td>\n",
       "      <td>...</td>\n",
       "      <td>...</td>\n",
       "      <td>...</td>\n",
       "      <td>...</td>\n",
       "    </tr>\n",
       "    <tr>\n",
       "      <th>565749</th>\n",
       "      <td>2022-07</td>\n",
       "      <td>18179654</td>\n",
       "      <td>15</td>\n",
       "      <td>27.0</td>\n",
       "      <td>1.931946</td>\n",
       "      <td>1403.30</td>\n",
       "      <td>1</td>\n",
       "      <td>1</td>\n",
       "      <td>2</td>\n",
       "    </tr>\n",
       "    <tr>\n",
       "      <th>565750</th>\n",
       "      <td>2022-07</td>\n",
       "      <td>18179660</td>\n",
       "      <td>24</td>\n",
       "      <td>78.0</td>\n",
       "      <td>6.305558</td>\n",
       "      <td>2662.01</td>\n",
       "      <td>1</td>\n",
       "      <td>1</td>\n",
       "      <td>2</td>\n",
       "    </tr>\n",
       "    <tr>\n",
       "      <th>565751</th>\n",
       "      <td>2022-07</td>\n",
       "      <td>18179662</td>\n",
       "      <td>8</td>\n",
       "      <td>10.0</td>\n",
       "      <td>1.616667</td>\n",
       "      <td>498.44</td>\n",
       "      <td>1</td>\n",
       "      <td>1</td>\n",
       "      <td>2</td>\n",
       "    </tr>\n",
       "    <tr>\n",
       "      <th>565752</th>\n",
       "      <td>2022-07</td>\n",
       "      <td>18179664</td>\n",
       "      <td>20</td>\n",
       "      <td>62.0</td>\n",
       "      <td>4.206549</td>\n",
       "      <td>3267.76</td>\n",
       "      <td>1</td>\n",
       "      <td>1</td>\n",
       "      <td>2</td>\n",
       "    </tr>\n",
       "    <tr>\n",
       "      <th>565753</th>\n",
       "      <td>2022-07</td>\n",
       "      <td>18179668</td>\n",
       "      <td>15</td>\n",
       "      <td>15.0</td>\n",
       "      <td>1.843058</td>\n",
       "      <td>1300.55</td>\n",
       "      <td>1</td>\n",
       "      <td>1</td>\n",
       "      <td>2</td>\n",
       "    </tr>\n",
       "  </tbody>\n",
       "</table>\n",
       "<p>565754 rows × 9 columns</p>\n",
       "</div>"
      ],
      "text/plain": [
       "         anomes     Solic  Doc_vtas  Cnt_uni   Cnt_cart  ValN_Pos  Churn  \\\n",
       "0       2021-11     49128        86    443.0  51.416671  23071.16      0   \n",
       "1       2021-11     69792        18     67.0   1.804166   1351.91      0   \n",
       "2       2021-11     69868        46    193.0   5.816392   3296.16      0   \n",
       "3       2021-11     70430        20     34.0   1.445836   1155.01      0   \n",
       "4       2021-11     70566        37    152.0   4.480557   2437.33      0   \n",
       "...         ...       ...       ...      ...        ...       ...    ...   \n",
       "565749  2022-07  18179654        15     27.0   1.931946   1403.30      1   \n",
       "565750  2022-07  18179660        24     78.0   6.305558   2662.01      1   \n",
       "565751  2022-07  18179662         8     10.0   1.616667    498.44      1   \n",
       "565752  2022-07  18179664        20     62.0   4.206549   3267.76      1   \n",
       "565753  2022-07  18179668        15     15.0   1.843058   1300.55      1   \n",
       "\n",
       "        Churn1  ChurnTot  \n",
       "0            0         0  \n",
       "1            0         0  \n",
       "2            0         0  \n",
       "3            0         0  \n",
       "4            0         0  \n",
       "...        ...       ...  \n",
       "565749       1         2  \n",
       "565750       1         2  \n",
       "565751       1         2  \n",
       "565752       1         2  \n",
       "565753       1         2  \n",
       "\n",
       "[565754 rows x 9 columns]"
      ]
     },
     "execution_count": 25,
     "metadata": {},
     "output_type": "execute_result"
    }
   ],
   "source": [
    "resumen"
   ]
  },
  {
   "cell_type": "code",
   "execution_count": 26,
   "id": "436b708e",
   "metadata": {},
   "outputs": [
    {
     "data": {
      "text/plain": [
       "0    379713\n",
       "1    100739\n",
       "2     85302\n",
       "Name: ChurnTot, dtype: int64"
      ]
     },
     "execution_count": 26,
     "metadata": {},
     "output_type": "execute_result"
    }
   ],
   "source": [
    "resumen.ChurnTot.value_counts()"
   ]
  },
  {
   "cell_type": "markdown",
   "id": "55c278e9",
   "metadata": {},
   "source": [
    "## Para el calculo de los modelos Churn, se va a realizar con los clientes unicos que han realizado compras en el periodo de analisis excepto en los dos ulitmos meses"
   ]
  },
  {
   "cell_type": "markdown",
   "id": "2f1bce2f",
   "metadata": {},
   "source": [
    "Para lo anterior, se procede a crear una variable llamada clientes, en los cuales se quitan los registros de los dos ultimos meses"
   ]
  },
  {
   "cell_type": "code",
   "execution_count": 27,
   "id": "4baf210c",
   "metadata": {},
   "outputs": [
    {
     "data": {
      "text/html": [
       "<div>\n",
       "<style scoped>\n",
       "    .dataframe tbody tr th:only-of-type {\n",
       "        vertical-align: middle;\n",
       "    }\n",
       "\n",
       "    .dataframe tbody tr th {\n",
       "        vertical-align: top;\n",
       "    }\n",
       "\n",
       "    .dataframe thead th {\n",
       "        text-align: right;\n",
       "    }\n",
       "</style>\n",
       "<table border=\"1\" class=\"dataframe\">\n",
       "  <thead>\n",
       "    <tr style=\"text-align: right;\">\n",
       "      <th></th>\n",
       "      <th>anomes</th>\n",
       "      <th>Solic</th>\n",
       "      <th>Doc_vtas</th>\n",
       "      <th>Cnt_uni</th>\n",
       "      <th>Cnt_cart</th>\n",
       "      <th>ValN_Pos</th>\n",
       "      <th>Churn</th>\n",
       "      <th>Churn1</th>\n",
       "      <th>ChurnTot</th>\n",
       "    </tr>\n",
       "  </thead>\n",
       "  <tbody>\n",
       "    <tr>\n",
       "      <th>0</th>\n",
       "      <td>2021-11</td>\n",
       "      <td>49128</td>\n",
       "      <td>86</td>\n",
       "      <td>443.0</td>\n",
       "      <td>51.416671</td>\n",
       "      <td>23071.16</td>\n",
       "      <td>0</td>\n",
       "      <td>0</td>\n",
       "      <td>0</td>\n",
       "    </tr>\n",
       "    <tr>\n",
       "      <th>1</th>\n",
       "      <td>2021-11</td>\n",
       "      <td>69792</td>\n",
       "      <td>18</td>\n",
       "      <td>67.0</td>\n",
       "      <td>1.804166</td>\n",
       "      <td>1351.91</td>\n",
       "      <td>0</td>\n",
       "      <td>0</td>\n",
       "      <td>0</td>\n",
       "    </tr>\n",
       "    <tr>\n",
       "      <th>2</th>\n",
       "      <td>2021-11</td>\n",
       "      <td>69868</td>\n",
       "      <td>46</td>\n",
       "      <td>193.0</td>\n",
       "      <td>5.816392</td>\n",
       "      <td>3296.16</td>\n",
       "      <td>0</td>\n",
       "      <td>0</td>\n",
       "      <td>0</td>\n",
       "    </tr>\n",
       "    <tr>\n",
       "      <th>3</th>\n",
       "      <td>2021-11</td>\n",
       "      <td>70430</td>\n",
       "      <td>20</td>\n",
       "      <td>34.0</td>\n",
       "      <td>1.445836</td>\n",
       "      <td>1155.01</td>\n",
       "      <td>0</td>\n",
       "      <td>0</td>\n",
       "      <td>0</td>\n",
       "    </tr>\n",
       "    <tr>\n",
       "      <th>4</th>\n",
       "      <td>2021-11</td>\n",
       "      <td>70566</td>\n",
       "      <td>37</td>\n",
       "      <td>152.0</td>\n",
       "      <td>4.480557</td>\n",
       "      <td>2437.33</td>\n",
       "      <td>0</td>\n",
       "      <td>0</td>\n",
       "      <td>0</td>\n",
       "    </tr>\n",
       "    <tr>\n",
       "      <th>...</th>\n",
       "      <td>...</td>\n",
       "      <td>...</td>\n",
       "      <td>...</td>\n",
       "      <td>...</td>\n",
       "      <td>...</td>\n",
       "      <td>...</td>\n",
       "      <td>...</td>\n",
       "      <td>...</td>\n",
       "      <td>...</td>\n",
       "    </tr>\n",
       "    <tr>\n",
       "      <th>446822</th>\n",
       "      <td>2022-05</td>\n",
       "      <td>18172492</td>\n",
       "      <td>22</td>\n",
       "      <td>51.0</td>\n",
       "      <td>2.249996</td>\n",
       "      <td>824.76</td>\n",
       "      <td>0</td>\n",
       "      <td>0</td>\n",
       "      <td>0</td>\n",
       "    </tr>\n",
       "    <tr>\n",
       "      <th>446823</th>\n",
       "      <td>2022-05</td>\n",
       "      <td>18172494</td>\n",
       "      <td>7</td>\n",
       "      <td>7.0</td>\n",
       "      <td>0.444447</td>\n",
       "      <td>360.66</td>\n",
       "      <td>0</td>\n",
       "      <td>0</td>\n",
       "      <td>0</td>\n",
       "    </tr>\n",
       "    <tr>\n",
       "      <th>446824</th>\n",
       "      <td>2022-05</td>\n",
       "      <td>18172498</td>\n",
       "      <td>6</td>\n",
       "      <td>6.0</td>\n",
       "      <td>0.366666</td>\n",
       "      <td>312.26</td>\n",
       "      <td>0</td>\n",
       "      <td>0</td>\n",
       "      <td>0</td>\n",
       "    </tr>\n",
       "    <tr>\n",
       "      <th>446825</th>\n",
       "      <td>2022-05</td>\n",
       "      <td>18172544</td>\n",
       "      <td>51</td>\n",
       "      <td>267.0</td>\n",
       "      <td>9.081116</td>\n",
       "      <td>5917.64</td>\n",
       "      <td>1</td>\n",
       "      <td>0</td>\n",
       "      <td>1</td>\n",
       "    </tr>\n",
       "    <tr>\n",
       "      <th>446826</th>\n",
       "      <td>2022-05</td>\n",
       "      <td>18172546</td>\n",
       "      <td>8</td>\n",
       "      <td>14.0</td>\n",
       "      <td>0.912500</td>\n",
       "      <td>798.20</td>\n",
       "      <td>1</td>\n",
       "      <td>1</td>\n",
       "      <td>2</td>\n",
       "    </tr>\n",
       "  </tbody>\n",
       "</table>\n",
       "<p>446827 rows × 9 columns</p>\n",
       "</div>"
      ],
      "text/plain": [
       "         anomes     Solic  Doc_vtas  Cnt_uni   Cnt_cart  ValN_Pos  Churn  \\\n",
       "0       2021-11     49128        86    443.0  51.416671  23071.16      0   \n",
       "1       2021-11     69792        18     67.0   1.804166   1351.91      0   \n",
       "2       2021-11     69868        46    193.0   5.816392   3296.16      0   \n",
       "3       2021-11     70430        20     34.0   1.445836   1155.01      0   \n",
       "4       2021-11     70566        37    152.0   4.480557   2437.33      0   \n",
       "...         ...       ...       ...      ...        ...       ...    ...   \n",
       "446822  2022-05  18172492        22     51.0   2.249996    824.76      0   \n",
       "446823  2022-05  18172494         7      7.0   0.444447    360.66      0   \n",
       "446824  2022-05  18172498         6      6.0   0.366666    312.26      0   \n",
       "446825  2022-05  18172544        51    267.0   9.081116   5917.64      1   \n",
       "446826  2022-05  18172546         8     14.0   0.912500    798.20      1   \n",
       "\n",
       "        Churn1  ChurnTot  \n",
       "0            0         0  \n",
       "1            0         0  \n",
       "2            0         0  \n",
       "3            0         0  \n",
       "4            0         0  \n",
       "...        ...       ...  \n",
       "446822       0         0  \n",
       "446823       0         0  \n",
       "446824       0         0  \n",
       "446825       0         1  \n",
       "446826       1         2  \n",
       "\n",
       "[446827 rows x 9 columns]"
      ]
     },
     "execution_count": 27,
     "metadata": {},
     "output_type": "execute_result"
    }
   ],
   "source": [
    "clientes=resumen[resumen['anomes'] <= meses[meses.count()-3]]\n",
    "clientes"
   ]
  },
  {
   "cell_type": "code",
   "execution_count": 28,
   "id": "f19210f3",
   "metadata": {},
   "outputs": [
    {
     "data": {
      "text/plain": [
       "0    379713\n",
       "1     49572\n",
       "2     17542\n",
       "Name: ChurnTot, dtype: int64"
      ]
     },
     "execution_count": 28,
     "metadata": {},
     "output_type": "execute_result"
    }
   ],
   "source": [
    "clientes.ChurnTot.value_counts()"
   ]
  },
  {
   "cell_type": "markdown",
   "id": "6e01d989",
   "metadata": {},
   "source": [
    "## Una vez se tiene el periodo, se extraen los clientes para con esta informacion realiaar el modelado."
   ]
  },
  {
   "cell_type": "code",
   "execution_count": 29,
   "id": "d8ce8946",
   "metadata": {},
   "outputs": [],
   "source": [
    "base_clientes=clientes.groupby(['Solic'], as_index = False).agg({\n",
    "                                                                \"ChurnTot\":\"max\",\n",
    "                                                               \"Doc_vtas\":\"sum\",\n",
    "                                                               \"Cnt_uni\":\"sum\",\n",
    "                                                               \"Cnt_cart\":\"sum\",\n",
    "                                                                \"ValN_Pos\":\"sum\"})"
   ]
  },
  {
   "cell_type": "code",
   "execution_count": 30,
   "id": "f2375258",
   "metadata": {},
   "outputs": [
    {
     "data": {
      "text/html": [
       "<div>\n",
       "<style scoped>\n",
       "    .dataframe tbody tr th:only-of-type {\n",
       "        vertical-align: middle;\n",
       "    }\n",
       "\n",
       "    .dataframe tbody tr th {\n",
       "        vertical-align: top;\n",
       "    }\n",
       "\n",
       "    .dataframe thead th {\n",
       "        text-align: right;\n",
       "    }\n",
       "</style>\n",
       "<table border=\"1\" class=\"dataframe\">\n",
       "  <thead>\n",
       "    <tr style=\"text-align: right;\">\n",
       "      <th></th>\n",
       "      <th>Solic</th>\n",
       "      <th>ChurnTot</th>\n",
       "      <th>Doc_vtas</th>\n",
       "      <th>Cnt_uni</th>\n",
       "      <th>Cnt_cart</th>\n",
       "      <th>ValN_Pos</th>\n",
       "    </tr>\n",
       "  </thead>\n",
       "  <tbody>\n",
       "    <tr>\n",
       "      <th>0</th>\n",
       "      <td>49128</td>\n",
       "      <td>0</td>\n",
       "      <td>412</td>\n",
       "      <td>2061.0</td>\n",
       "      <td>280.298608</td>\n",
       "      <td>124830.59</td>\n",
       "    </tr>\n",
       "    <tr>\n",
       "      <th>1</th>\n",
       "      <td>69792</td>\n",
       "      <td>0</td>\n",
       "      <td>166</td>\n",
       "      <td>453.0</td>\n",
       "      <td>18.756949</td>\n",
       "      <td>11253.21</td>\n",
       "    </tr>\n",
       "    <tr>\n",
       "      <th>2</th>\n",
       "      <td>69868</td>\n",
       "      <td>0</td>\n",
       "      <td>322</td>\n",
       "      <td>1056.0</td>\n",
       "      <td>36.326960</td>\n",
       "      <td>23169.06</td>\n",
       "    </tr>\n",
       "    <tr>\n",
       "      <th>3</th>\n",
       "      <td>70334</td>\n",
       "      <td>2</td>\n",
       "      <td>47</td>\n",
       "      <td>101.0</td>\n",
       "      <td>9.063893</td>\n",
       "      <td>6416.46</td>\n",
       "    </tr>\n",
       "    <tr>\n",
       "      <th>4</th>\n",
       "      <td>70430</td>\n",
       "      <td>0</td>\n",
       "      <td>148</td>\n",
       "      <td>306.0</td>\n",
       "      <td>16.258070</td>\n",
       "      <td>10853.09</td>\n",
       "    </tr>\n",
       "    <tr>\n",
       "      <th>...</th>\n",
       "      <td>...</td>\n",
       "      <td>...</td>\n",
       "      <td>...</td>\n",
       "      <td>...</td>\n",
       "      <td>...</td>\n",
       "      <td>...</td>\n",
       "    </tr>\n",
       "    <tr>\n",
       "      <th>78128</th>\n",
       "      <td>18172492</td>\n",
       "      <td>0</td>\n",
       "      <td>22</td>\n",
       "      <td>51.0</td>\n",
       "      <td>2.249996</td>\n",
       "      <td>824.76</td>\n",
       "    </tr>\n",
       "    <tr>\n",
       "      <th>78129</th>\n",
       "      <td>18172494</td>\n",
       "      <td>0</td>\n",
       "      <td>7</td>\n",
       "      <td>7.0</td>\n",
       "      <td>0.444447</td>\n",
       "      <td>360.66</td>\n",
       "    </tr>\n",
       "    <tr>\n",
       "      <th>78130</th>\n",
       "      <td>18172498</td>\n",
       "      <td>0</td>\n",
       "      <td>6</td>\n",
       "      <td>6.0</td>\n",
       "      <td>0.366666</td>\n",
       "      <td>312.26</td>\n",
       "    </tr>\n",
       "    <tr>\n",
       "      <th>78131</th>\n",
       "      <td>18172544</td>\n",
       "      <td>1</td>\n",
       "      <td>51</td>\n",
       "      <td>267.0</td>\n",
       "      <td>9.081116</td>\n",
       "      <td>5917.64</td>\n",
       "    </tr>\n",
       "    <tr>\n",
       "      <th>78132</th>\n",
       "      <td>18172546</td>\n",
       "      <td>2</td>\n",
       "      <td>8</td>\n",
       "      <td>14.0</td>\n",
       "      <td>0.912500</td>\n",
       "      <td>798.20</td>\n",
       "    </tr>\n",
       "  </tbody>\n",
       "</table>\n",
       "<p>78133 rows × 6 columns</p>\n",
       "</div>"
      ],
      "text/plain": [
       "          Solic  ChurnTot  Doc_vtas  Cnt_uni    Cnt_cart   ValN_Pos\n",
       "0         49128         0       412   2061.0  280.298608  124830.59\n",
       "1         69792         0       166    453.0   18.756949   11253.21\n",
       "2         69868         0       322   1056.0   36.326960   23169.06\n",
       "3         70334         2        47    101.0    9.063893    6416.46\n",
       "4         70430         0       148    306.0   16.258070   10853.09\n",
       "...         ...       ...       ...      ...         ...        ...\n",
       "78128  18172492         0        22     51.0    2.249996     824.76\n",
       "78129  18172494         0         7      7.0    0.444447     360.66\n",
       "78130  18172498         0         6      6.0    0.366666     312.26\n",
       "78131  18172544         1        51    267.0    9.081116    5917.64\n",
       "78132  18172546         2         8     14.0    0.912500     798.20\n",
       "\n",
       "[78133 rows x 6 columns]"
      ]
     },
     "execution_count": 30,
     "metadata": {},
     "output_type": "execute_result"
    }
   ],
   "source": [
    "base_clientes"
   ]
  },
  {
   "cell_type": "code",
   "execution_count": 31,
   "id": "106e0a07",
   "metadata": {},
   "outputs": [
    {
     "data": {
      "text/plain": [
       "0    43612\n",
       "1    18391\n",
       "2    16130\n",
       "Name: ChurnTot, dtype: int64"
      ]
     },
     "execution_count": 31,
     "metadata": {},
     "output_type": "execute_result"
    }
   ],
   "source": [
    "base_clientes.ChurnTot.value_counts()"
   ]
  },
  {
   "cell_type": "markdown",
   "id": "f1402c49",
   "metadata": {},
   "source": [
    "### Se procede a crear la variable target Churn, en la cual si se tiene 0 o 1 mes, se marca como uno y los que tienen dos meses se le pone 1"
   ]
  },
  {
   "cell_type": "code",
   "execution_count": 32,
   "id": "24c17fd0",
   "metadata": {
    "scrolled": true
   },
   "outputs": [],
   "source": [
    "base_clientes['ChurnTot'] = base_clientes['ChurnTot'].replace({0:0,1:0,2:1})\n",
    "#base_clientes['ChurnTot'] = base_clientes.apply(lambda x: if (x['financiacion']=='SI' and pd.notna(x['imp_financ']) and pd.isna(x['descuentos'])) \n",
    "#                                                    else (x['descuentos']), axis=1)"
   ]
  },
  {
   "cell_type": "code",
   "execution_count": 33,
   "id": "eedd4114",
   "metadata": {},
   "outputs": [
    {
     "data": {
      "text/plain": [
       "0    62003\n",
       "1    16130\n",
       "Name: ChurnTot, dtype: int64"
      ]
     },
     "execution_count": 33,
     "metadata": {},
     "output_type": "execute_result"
    }
   ],
   "source": [
    "base_clientes.ChurnTot.value_counts()"
   ]
  },
  {
   "cell_type": "code",
   "execution_count": null,
   "id": "c04c964a",
   "metadata": {},
   "outputs": [],
   "source": []
  },
  {
   "cell_type": "code",
   "execution_count": 34,
   "id": "4012f60b",
   "metadata": {},
   "outputs": [],
   "source": [
    "X =  base_clientes.drop('ChurnTot', axis=1)\n",
    "y = base_clientes['ChurnTot']"
   ]
  },
  {
   "cell_type": "code",
   "execution_count": 35,
   "id": "90914fd3",
   "metadata": {},
   "outputs": [
    {
     "name": "stdout",
     "output_type": "stream",
     "text": [
      "<class 'pandas.core.frame.DataFrame'>\n",
      "RangeIndex: 78133 entries, 0 to 78132\n",
      "Data columns (total 5 columns):\n",
      " #   Column    Non-Null Count  Dtype  \n",
      "---  ------    --------------  -----  \n",
      " 0   Solic     78133 non-null  int64  \n",
      " 1   Doc_vtas  78133 non-null  int64  \n",
      " 2   Cnt_uni   78133 non-null  float64\n",
      " 3   Cnt_cart  78133 non-null  float64\n",
      " 4   ValN_Pos  78133 non-null  float64\n",
      "dtypes: float64(3), int64(2)\n",
      "memory usage: 3.0 MB\n"
     ]
    }
   ],
   "source": [
    "X.info()"
   ]
  },
  {
   "cell_type": "code",
   "execution_count": 36,
   "id": "9b9909de",
   "metadata": {
    "scrolled": true
   },
   "outputs": [
    {
     "data": {
      "text/html": [
       "<style type=\"text/css\">\n",
       "#T_2c697_row0_col0 {\n",
       "  background-color: #023858;\n",
       "  color: #f1f1f1;\n",
       "}\n",
       "#T_2c697_row1_col0 {\n",
       "  background-color: #b7c5df;\n",
       "  color: #000000;\n",
       "}\n",
       "#T_2c697_row2_col0 {\n",
       "  background-color: #e1dfed;\n",
       "  color: #000000;\n",
       "}\n",
       "#T_2c697_row3_col0 {\n",
       "  background-color: #f1ebf5;\n",
       "  color: #000000;\n",
       "}\n",
       "#T_2c697_row4_col0 {\n",
       "  background-color: #fef6fa;\n",
       "  color: #000000;\n",
       "}\n",
       "#T_2c697_row5_col0 {\n",
       "  background-color: #fff7fb;\n",
       "  color: #000000;\n",
       "}\n",
       "</style>\n",
       "<table id=\"T_2c697_\">\n",
       "  <thead>\n",
       "    <tr>\n",
       "      <th class=\"blank level0\" >&nbsp;</th>\n",
       "      <th class=\"col_heading level0 col0\" >ChurnTot</th>\n",
       "    </tr>\n",
       "  </thead>\n",
       "  <tbody>\n",
       "    <tr>\n",
       "      <th id=\"T_2c697_level0_row0\" class=\"row_heading level0 row0\" >ChurnTot</th>\n",
       "      <td id=\"T_2c697_row0_col0\" class=\"data row0 col0\" >1.000000</td>\n",
       "    </tr>\n",
       "    <tr>\n",
       "      <th id=\"T_2c697_level0_row1\" class=\"row_heading level0 row1\" >Doc_vtas</th>\n",
       "      <td id=\"T_2c697_row1_col0\" class=\"data row1 col0\" >0.329544</td>\n",
       "    </tr>\n",
       "    <tr>\n",
       "      <th id=\"T_2c697_level0_row2\" class=\"row_heading level0 row2\" >ValN_Pos</th>\n",
       "      <td id=\"T_2c697_row2_col0\" class=\"data row2 col0\" >0.179194</td>\n",
       "    </tr>\n",
       "    <tr>\n",
       "      <th id=\"T_2c697_level0_row3\" class=\"row_heading level0 row3\" >Solic</th>\n",
       "      <td id=\"T_2c697_row3_col0\" class=\"data row3 col0\" >0.097700</td>\n",
       "    </tr>\n",
       "    <tr>\n",
       "      <th id=\"T_2c697_level0_row4\" class=\"row_heading level0 row4\" >Cnt_uni</th>\n",
       "      <td id=\"T_2c697_row4_col0\" class=\"data row4 col0\" >0.012733</td>\n",
       "    </tr>\n",
       "    <tr>\n",
       "      <th id=\"T_2c697_level0_row5\" class=\"row_heading level0 row5\" >Cnt_cart</th>\n",
       "      <td id=\"T_2c697_row5_col0\" class=\"data row5 col0\" >0.004756</td>\n",
       "    </tr>\n",
       "  </tbody>\n",
       "</table>\n"
      ],
      "text/plain": [
       "<pandas.io.formats.style.Styler at 0x1b83024d220>"
      ]
     },
     "execution_count": 36,
     "metadata": {},
     "output_type": "execute_result"
    }
   ],
   "source": [
    "corr = abs(base_clientes.corr())\n",
    "corr[['ChurnTot']].sort_values(by = 'ChurnTot',ascending = False).style.background_gradient()"
   ]
  },
  {
   "cell_type": "markdown",
   "id": "42113438",
   "metadata": {},
   "source": [
    "Revisando las correlaciones, se observa que la frecuencia de compras es super importante (tiene una mayor correlacion), seguida por el valor de la factura neta pagada. Las demas variables no no tienen mucha correlacion."
   ]
  },
  {
   "cell_type": "markdown",
   "id": "e0363123",
   "metadata": {},
   "source": [
    "##  5. Correr un modelo inicial y evaluar sus resultados.\n",
    "\n",
    "Tras haber hecho una limpieza rápida de los datos, se saca el primer modelo, utilizando la informacion disponible, vamos a utilizar los siguientes modelos:\n",
    "\n",
    "- La regresión logística se utiliza generalmente para fines de clasificación. A diferencia de la regresión lineal, la variable dependiente solo puede tomar un número limitado de valores, es decir, la variable dependiente es categórica tal y como es nuestra variable y del modelo (0,1)\n",
    "- Los árboles de decisión son modelos predictivos formados por reglas binarias (si/no) con las que se consigue repartir las observaciones en función de sus atributos y predecir así el valor de la variable respuesta. Son fáciles de interpretar aun cuando las relaciones entre predictores son complejas y se aplican casos de calsificación. Los modelos más típicamente conocidos de clasifcicación son RandomForest y DecisionTrees\n"
   ]
  },
  {
   "cell_type": "code",
   "execution_count": 37,
   "id": "699d6253",
   "metadata": {},
   "outputs": [],
   "source": [
    "X_train, X_test, y_train, y_test = train_test_split(X ,\n",
    "                                                    y, \n",
    "                                                    test_size=0.2, \n",
    "                                                    random_state=42, \n",
    "                                                    stratify=y)"
   ]
  },
  {
   "cell_type": "markdown",
   "id": "0fe6a133",
   "metadata": {},
   "source": [
    "### - Logistic Regression"
   ]
  },
  {
   "cell_type": "code",
   "execution_count": 38,
   "id": "8d040830",
   "metadata": {},
   "outputs": [
    {
     "name": "stderr",
     "output_type": "stream",
     "text": [
      "C:\\ProgramData\\Anaconda3\\lib\\site-packages\\scipy\\optimize\\linesearch.py:478: LineSearchWarning: The line search algorithm did not converge\n",
      "  warn('The line search algorithm did not converge', LineSearchWarning)\n",
      "C:\\ProgramData\\Anaconda3\\lib\\site-packages\\scipy\\optimize\\linesearch.py:327: LineSearchWarning: The line search algorithm did not converge\n",
      "  warn('The line search algorithm did not converge', LineSearchWarning)\n",
      "C:\\ProgramData\\Anaconda3\\lib\\site-packages\\scipy\\optimize\\linesearch.py:478: LineSearchWarning: The line search algorithm did not converge\n",
      "  warn('The line search algorithm did not converge', LineSearchWarning)\n",
      "C:\\ProgramData\\Anaconda3\\lib\\site-packages\\scipy\\optimize\\linesearch.py:327: LineSearchWarning: The line search algorithm did not converge\n",
      "  warn('The line search algorithm did not converge', LineSearchWarning)\n",
      "C:\\ProgramData\\Anaconda3\\lib\\site-packages\\scipy\\optimize\\linesearch.py:478: LineSearchWarning: The line search algorithm did not converge\n",
      "  warn('The line search algorithm did not converge', LineSearchWarning)\n",
      "C:\\ProgramData\\Anaconda3\\lib\\site-packages\\scipy\\optimize\\linesearch.py:327: LineSearchWarning: The line search algorithm did not converge\n",
      "  warn('The line search algorithm did not converge', LineSearchWarning)\n",
      "C:\\ProgramData\\Anaconda3\\lib\\site-packages\\scipy\\optimize\\linesearch.py:478: LineSearchWarning: The line search algorithm did not converge\n",
      "  warn('The line search algorithm did not converge', LineSearchWarning)\n",
      "C:\\ProgramData\\Anaconda3\\lib\\site-packages\\scipy\\optimize\\linesearch.py:327: LineSearchWarning: The line search algorithm did not converge\n",
      "  warn('The line search algorithm did not converge', LineSearchWarning)\n",
      "C:\\ProgramData\\Anaconda3\\lib\\site-packages\\scipy\\optimize\\linesearch.py:478: LineSearchWarning: The line search algorithm did not converge\n",
      "  warn('The line search algorithm did not converge', LineSearchWarning)\n",
      "C:\\ProgramData\\Anaconda3\\lib\\site-packages\\scipy\\optimize\\linesearch.py:327: LineSearchWarning: The line search algorithm did not converge\n",
      "  warn('The line search algorithm did not converge', LineSearchWarning)\n",
      "C:\\ProgramData\\Anaconda3\\lib\\site-packages\\scipy\\optimize\\linesearch.py:478: LineSearchWarning: The line search algorithm did not converge\n",
      "  warn('The line search algorithm did not converge', LineSearchWarning)\n",
      "C:\\ProgramData\\Anaconda3\\lib\\site-packages\\scipy\\optimize\\linesearch.py:327: LineSearchWarning: The line search algorithm did not converge\n",
      "  warn('The line search algorithm did not converge', LineSearchWarning)\n",
      "C:\\ProgramData\\Anaconda3\\lib\\site-packages\\scipy\\optimize\\linesearch.py:478: LineSearchWarning: The line search algorithm did not converge\n",
      "  warn('The line search algorithm did not converge', LineSearchWarning)\n",
      "C:\\ProgramData\\Anaconda3\\lib\\site-packages\\scipy\\optimize\\linesearch.py:327: LineSearchWarning: The line search algorithm did not converge\n",
      "  warn('The line search algorithm did not converge', LineSearchWarning)\n",
      "C:\\ProgramData\\Anaconda3\\lib\\site-packages\\scipy\\optimize\\linesearch.py:478: LineSearchWarning: The line search algorithm did not converge\n",
      "  warn('The line search algorithm did not converge', LineSearchWarning)\n",
      "C:\\ProgramData\\Anaconda3\\lib\\site-packages\\scipy\\optimize\\linesearch.py:327: LineSearchWarning: The line search algorithm did not converge\n",
      "  warn('The line search algorithm did not converge', LineSearchWarning)\n",
      "C:\\ProgramData\\Anaconda3\\lib\\site-packages\\scipy\\optimize\\linesearch.py:478: LineSearchWarning: The line search algorithm did not converge\n",
      "  warn('The line search algorithm did not converge', LineSearchWarning)\n",
      "C:\\ProgramData\\Anaconda3\\lib\\site-packages\\scipy\\optimize\\linesearch.py:327: LineSearchWarning: The line search algorithm did not converge\n",
      "  warn('The line search algorithm did not converge', LineSearchWarning)\n",
      "C:\\ProgramData\\Anaconda3\\lib\\site-packages\\scipy\\optimize\\linesearch.py:478: LineSearchWarning: The line search algorithm did not converge\n",
      "  warn('The line search algorithm did not converge', LineSearchWarning)\n",
      "C:\\ProgramData\\Anaconda3\\lib\\site-packages\\scipy\\optimize\\linesearch.py:327: LineSearchWarning: The line search algorithm did not converge\n",
      "  warn('The line search algorithm did not converge', LineSearchWarning)\n",
      "C:\\ProgramData\\Anaconda3\\lib\\site-packages\\scipy\\optimize\\linesearch.py:478: LineSearchWarning: The line search algorithm did not converge\n",
      "  warn('The line search algorithm did not converge', LineSearchWarning)\n",
      "C:\\ProgramData\\Anaconda3\\lib\\site-packages\\scipy\\optimize\\linesearch.py:327: LineSearchWarning: The line search algorithm did not converge\n",
      "  warn('The line search algorithm did not converge', LineSearchWarning)\n",
      "C:\\ProgramData\\Anaconda3\\lib\\site-packages\\scipy\\optimize\\linesearch.py:478: LineSearchWarning: The line search algorithm did not converge\n",
      "  warn('The line search algorithm did not converge', LineSearchWarning)\n",
      "C:\\ProgramData\\Anaconda3\\lib\\site-packages\\scipy\\optimize\\linesearch.py:327: LineSearchWarning: The line search algorithm did not converge\n",
      "  warn('The line search algorithm did not converge', LineSearchWarning)\n",
      "C:\\ProgramData\\Anaconda3\\lib\\site-packages\\scipy\\optimize\\linesearch.py:478: LineSearchWarning: The line search algorithm did not converge\n",
      "  warn('The line search algorithm did not converge', LineSearchWarning)\n",
      "C:\\ProgramData\\Anaconda3\\lib\\site-packages\\scipy\\optimize\\linesearch.py:327: LineSearchWarning: The line search algorithm did not converge\n",
      "  warn('The line search algorithm did not converge', LineSearchWarning)\n",
      "C:\\ProgramData\\Anaconda3\\lib\\site-packages\\scipy\\optimize\\linesearch.py:327: LineSearchWarning: The line search algorithm did not converge\n",
      "  warn('The line search algorithm did not converge', LineSearchWarning)\n",
      "C:\\ProgramData\\Anaconda3\\lib\\site-packages\\sklearn\\utils\\optimize.py:203: UserWarning: Line Search failed\n",
      "  warnings.warn(\"Line Search failed\")\n"
     ]
    }
   ],
   "source": [
    "#from sklearn.linear_model import LogisticRegression\n",
    "model_log = LogisticRegression(random_state=0, max_iter=300, solver='newton-cg').fit(X_train, y_train)"
   ]
  },
  {
   "cell_type": "code",
   "execution_count": 39,
   "id": "04c5da0b",
   "metadata": {},
   "outputs": [
    {
     "name": "stdout",
     "output_type": "stream",
     "text": [
      "LogisticRegression(max_iter=300, random_state=0, solver='newton-cg')\n"
     ]
    }
   ],
   "source": [
    "print(model_log)"
   ]
  },
  {
   "cell_type": "code",
   "execution_count": 40,
   "id": "ad36e79d",
   "metadata": {},
   "outputs": [],
   "source": [
    "y_pred_log = model_log.predict(X_test)"
   ]
  },
  {
   "cell_type": "code",
   "execution_count": 41,
   "id": "7362fb74",
   "metadata": {},
   "outputs": [
    {
     "name": "stdout",
     "output_type": "stream",
     "text": [
      "              precision    recall  f1-score   support\n",
      "\n",
      "           0       0.87      0.96      0.91     12401\n",
      "           1       0.72      0.44      0.55      3226\n",
      "\n",
      "    accuracy                           0.85     15627\n",
      "   macro avg       0.79      0.70      0.73     15627\n",
      "weighted avg       0.84      0.85      0.83     15627\n",
      "\n"
     ]
    }
   ],
   "source": [
    "from sklearn.metrics import classification_report\n",
    "print(classification_report(y_test, y_pred_log))"
   ]
  },
  {
   "cell_type": "markdown",
   "id": "c6a1acaa",
   "metadata": {},
   "source": [
    "### - DecisionTree "
   ]
  },
  {
   "cell_type": "code",
   "execution_count": 42,
   "id": "ae655fbe",
   "metadata": {},
   "outputs": [
    {
     "name": "stdout",
     "output_type": "stream",
     "text": [
      "Accuracy Decision Tree: 0.8084725155180137\n"
     ]
    }
   ],
   "source": [
    "model_dt = DecisionTreeClassifier(random_state=12345)\n",
    "model_dt.fit(X_train, y_train)\n",
    "predictions= model_dt.predict(X_test)\n",
    "print('Accuracy Decision Tree:', accuracy_score(y_test, predictions))"
   ]
  },
  {
   "cell_type": "code",
   "execution_count": 43,
   "id": "bcd92bf5",
   "metadata": {},
   "outputs": [],
   "source": [
    "y_pred_dt = model_dt.predict(X_test)\n"
   ]
  },
  {
   "cell_type": "code",
   "execution_count": 44,
   "id": "eae0cbab",
   "metadata": {},
   "outputs": [
    {
     "name": "stdout",
     "output_type": "stream",
     "text": [
      "              precision    recall  f1-score   support\n",
      "\n",
      "           0       0.88      0.87      0.88     12401\n",
      "           1       0.53      0.56      0.55      3226\n",
      "\n",
      "    accuracy                           0.81     15627\n",
      "   macro avg       0.71      0.72      0.71     15627\n",
      "weighted avg       0.81      0.81      0.81     15627\n",
      "\n"
     ]
    }
   ],
   "source": [
    "from sklearn.metrics import classification_report\n",
    "print(classification_report(y_test, y_pred_dt))"
   ]
  },
  {
   "cell_type": "markdown",
   "id": "b70ab27b",
   "metadata": {},
   "source": [
    "### - RandomForest"
   ]
  },
  {
   "cell_type": "code",
   "execution_count": 45,
   "id": "7701cd1b",
   "metadata": {},
   "outputs": [],
   "source": [
    "\n",
    "from sklearn.ensemble import RandomForestClassifier\n",
    "model_rf = RandomForestClassifier(bootstrap= False,criterion=  'gini',max_depth=  16,n_estimators= 300).fit(X, y)\n",
    "y_pred_rf = model_rf.predict(X_test)"
   ]
  },
  {
   "cell_type": "code",
   "execution_count": 46,
   "id": "6017924b",
   "metadata": {},
   "outputs": [
    {
     "data": {
      "text/plain": [
       "array([0.18386683, 0.28974039, 0.14667304, 0.12765545, 0.2520643 ])"
      ]
     },
     "execution_count": 46,
     "metadata": {},
     "output_type": "execute_result"
    }
   ],
   "source": [
    "model_rf.feature_importances_"
   ]
  },
  {
   "cell_type": "code",
   "execution_count": 47,
   "id": "2e15081d",
   "metadata": {},
   "outputs": [
    {
     "data": {
      "text/plain": [
       "array(['Solic', 'Doc_vtas', 'Cnt_uni', 'Cnt_cart', 'ValN_Pos'],\n",
       "      dtype=object)"
      ]
     },
     "execution_count": 47,
     "metadata": {},
     "output_type": "execute_result"
    }
   ],
   "source": [
    "model_rf.feature_names_in_"
   ]
  },
  {
   "cell_type": "code",
   "execution_count": 48,
   "id": "95fe1ca9",
   "metadata": {},
   "outputs": [
    {
     "name": "stdout",
     "output_type": "stream",
     "text": [
      "              precision    recall  f1-score   support\n",
      "\n",
      "           0       0.94      1.00      0.97     12401\n",
      "           1       0.98      0.76      0.85      3226\n",
      "\n",
      "    accuracy                           0.95     15627\n",
      "   macro avg       0.96      0.88      0.91     15627\n",
      "weighted avg       0.95      0.95      0.94     15627\n",
      "\n"
     ]
    }
   ],
   "source": [
    "from sklearn.metrics import classification_report\n",
    "print(classification_report(y_test, y_pred_rf))"
   ]
  },
  {
   "cell_type": "markdown",
   "id": "7f534681",
   "metadata": {},
   "source": [
    "Los modelos iniciales poseen buen ajuste. Sin embargo, mas adelante se trataran de mejorar con un Feeture Engineering (transformacion de variables) y verifircando overfiting (sobreajuste)"
   ]
  },
  {
   "cell_type": "markdown",
   "id": "d9a10e41",
   "metadata": {},
   "source": [
    "## 4.1 Evaluación del modelo"
   ]
  },
  {
   "cell_type": "markdown",
   "id": "89323232",
   "metadata": {},
   "source": [
    "Al tratarse de clases muy desbalanceadas debemos prestar mayor atención a la curva de precisión que evalua el rendimiento de la clase positiva"
   ]
  },
  {
   "cell_type": "code",
   "execution_count": 49,
   "id": "20034dcf",
   "metadata": {},
   "outputs": [],
   "source": [
    "def saca_metricas(y1, y2):\n",
    "    print('matriz de confusión')\n",
    "    print(confusion_matrix(y1, y2))\n",
    "    print('accuracy')\n",
    "    print(accuracy_score(y1, y2))\n",
    "    print('precision')\n",
    "    print(precision_score(y1, y2))\n",
    "    print('recall')\n",
    "    print(recall_score(y1, y2))\n",
    "    print('f1')\n",
    "    print(f1_score(y1, y2))\n",
    "    false_positive_rate, recall, thresholds = roc_curve(y1, y2)\n",
    "    roc_auc = auc(false_positive_rate, recall)\n",
    "    print('AUC')\n",
    "    print(roc_auc)\n",
    "    plt.plot(false_positive_rate, recall, 'b')\n",
    "    plt.plot([0, 1], [0, 1], 'r--')\n",
    "    plt.title('AUC = %0.2f' % roc_auc)  "
   ]
  },
  {
   "cell_type": "markdown",
   "id": "e7bb7381",
   "metadata": {},
   "source": [
    "### Modelo logístico"
   ]
  },
  {
   "cell_type": "code",
   "execution_count": 50,
   "id": "8fe3e08c",
   "metadata": {},
   "outputs": [
    {
     "name": "stdout",
     "output_type": "stream",
     "text": [
      "matriz de confusión\n",
      "[[11849   552]\n",
      " [ 1802  1424]]\n",
      "accuracy\n",
      "0.849363281499968\n",
      "precision\n",
      "0.7206477732793523\n",
      "recall\n",
      "0.44141351518908867\n",
      "f1\n",
      "0.5474817377931565\n",
      "AUC\n",
      "0.6984504879388713\n"
     ]
    },
    {
     "data": {
      "image/png": "[encoded data removed]",
      "text/plain": [
       "<Figure size 432x288 with 1 Axes>"
      ]
     },
     "metadata": {
      "needs_background": "light"
     },
     "output_type": "display_data"
    }
   ],
   "source": [
    "saca_metricas(y_test, y_pred_log)"
   ]
  },
  {
   "cell_type": "markdown",
   "id": "3003165b",
   "metadata": {},
   "source": [
    "Como se puede observar, el modelo tiene 84% de accuracy, una precision del 72%, recall de 44% y un AUC del 70%. Este modelo tiene muy buena pinta y se puede mejorar con otros modelos como son los arboles o Random Forest"
   ]
  },
  {
   "cell_type": "markdown",
   "id": "840759c0",
   "metadata": {},
   "source": [
    "### Modelo DecisionTree"
   ]
  },
  {
   "cell_type": "code",
   "execution_count": 51,
   "id": "050ec3aa",
   "metadata": {},
   "outputs": [
    {
     "name": "stdout",
     "output_type": "stream",
     "text": [
      "matriz de confusión\n",
      "[[10829  1572]\n",
      " [ 1421  1805]]\n",
      "accuracy\n",
      "0.8084725155180137\n",
      "precision\n",
      "0.5344980752146876\n",
      "recall\n",
      "0.5595164290142591\n",
      "f1\n",
      "0.5467211873390884\n",
      "AUC\n",
      "0.7163762291833654\n"
     ]
    },
    {
     "data": {
      "image/png": "[encoded data removed]",
      "text/plain": [
       "<Figure size 432x288 with 1 Axes>"
      ]
     },
     "metadata": {
      "needs_background": "light"
     },
     "output_type": "display_data"
    }
   ],
   "source": [
    "saca_metricas(y_test, y_pred_dt)"
   ]
  },
  {
   "cell_type": "markdown",
   "id": "144b2ecf",
   "metadata": {},
   "source": [
    "El arbol de decision presenta un mejor AUC (71%), mientras que el accuracy disminuye a un 80%, una precision del 53%, recall de 54%. "
   ]
  },
  {
   "cell_type": "markdown",
   "id": "46351405",
   "metadata": {},
   "source": [
    "### Modelo RandomForest"
   ]
  },
  {
   "cell_type": "code",
   "execution_count": 52,
   "id": "c66e8742",
   "metadata": {},
   "outputs": [
    {
     "name": "stdout",
     "output_type": "stream",
     "text": [
      "matriz de confusión\n",
      "[[12343    58]\n",
      " [  774  2452]]\n",
      "accuracy\n",
      "0.9467588148716964\n",
      "precision\n",
      "0.9768924302788845\n",
      "recall\n",
      "0.7600743955362679\n",
      "f1\n",
      "0.8549511854951185\n",
      "AUC\n",
      "0.8776986766811249\n"
     ]
    },
    {
     "data": {
      "image/png": "[encoded data removed]",
      "text/plain": [
       "<Figure size 432x288 with 1 Axes>"
      ]
     },
     "metadata": {
      "needs_background": "light"
     },
     "output_type": "display_data"
    }
   ],
   "source": [
    "saca_metricas(y_test, y_pred_rf)"
   ]
  },
  {
   "cell_type": "markdown",
   "id": "0f1b7df2",
   "metadata": {},
   "source": [
    "El Random Forest presenta un mejor AUC (88%), el accuracy 94%, una precision del 97%, recall de 76%. Se observa un modelo mucho mejor que los anteriores"
   ]
  },
  {
   "cell_type": "markdown",
   "id": "11bbb8fe",
   "metadata": {},
   "source": [
    "## 6) Realizar una mejora del modelo"
   ]
  },
  {
   "cell_type": "markdown",
   "id": "d5d451e8",
   "metadata": {},
   "source": [
    "\n",
    "\n",
    "Para realizar una mejora al modelo anterior, se van a realizar los siguientes procesos:\n",
    "    \n",
    "    1.  Comprobacion de Overfit\n",
    "    2. 'Feature engineering'. "
   ]
  },
  {
   "cell_type": "markdown",
   "id": "18e6b08d",
   "metadata": {},
   "source": [
    "### 5.1) Comprobación del Overfitting"
   ]
  },
  {
   "cell_type": "markdown",
   "id": "7c06d07e",
   "metadata": {},
   "source": [
    "Por lo visto nuestros modelos vemos que no clasifican del todo bien a partir de las variables seleccionadas y eso se debe al desbalanceo de nuestras muestras\n",
    "\n",
    "Se produce cuando el modelo funciona bastante bien con el set de entrenamiento pero tiene un desempeño pobre con el set de validación. \n",
    "\n",
    "Los siguientes son temas a tener en cuenta en los modelos de maching Learning:\n",
    "\n",
    "- El proceso de diseño de un modelo de Machine Learning implica el uso de dos sets de datos: entrenamiento y validación.\n",
    "Generalmente el set de entrenamiento usa aproximadamente el 80% de los datos disponibles, mientras que el de validación usa el 20% restante.\n",
    "- Un modelo con underfitting es aquel en donde los errores tanto de entrenamiento como de validación son similares y relativamente altos.\n",
    "- Por otra parte, en un modelo con overfitting se obtiene un error de entrenamiento relativamente bajo y uno de validación relativamente alto.\n",
    "- Al desarrollar un modelo de Machine Learning se debe evitar cualquiera de los dos extremos anteriores (underfitting u overfitting).\n",
    "- Lo anterior implica que el modelo ideal será aquel que permita obtener un error bajo en ambos sets (entrenamiento y validación).\n",
    "\n",
    "fuente: https://www.codificandobits.com/blog/underfitting-y-overfitting/"
   ]
  },
  {
   "cell_type": "code",
   "execution_count": 53,
   "id": "77bd5d8a",
   "metadata": {},
   "outputs": [
    {
     "name": "stdout",
     "output_type": "stream",
     "text": [
      "Counts Class 0:  49602\n",
      "Counts Class 1:  12904\n",
      "Proportion of class 0:  0.7935558186414104\n",
      "Proportion of class 1:  0.20644418135858958\n"
     ]
    },
    {
     "data": {
      "text/plain": [
       "<AxesSubplot:>"
      ]
     },
     "execution_count": 53,
     "metadata": {},
     "output_type": "execute_result"
    },
    {
     "data": {
      "image/png": "[encoded data removed]",
      "text/plain": [
       "<Figure size 432x288 with 1 Axes>"
      ]
     },
     "metadata": {
      "needs_background": "light"
     },
     "output_type": "display_data"
    }
   ],
   "source": [
    "target_count= y_train.value_counts()\n",
    "print('Counts Class 0: ',target_count[0])\n",
    "print('Counts Class 1: ',target_count[1])\n",
    "class_frequency = y_train.value_counts(normalize=True)\n",
    "print('Proportion of class 0: ',class_frequency[0])\n",
    "print('Proportion of class 1: ',class_frequency[1])\n",
    "class_frequency.plot(kind='bar')"
   ]
  },
  {
   "cell_type": "markdown",
   "id": "423dc1b1",
   "metadata": {},
   "source": [
    "Las categorias de la variable target son de casi 79% de la categoria 1 y del 20% categoria 0, esto quiere decir que nuestro modelo esta un poco desbalanceado"
   ]
  },
  {
   "cell_type": "markdown",
   "id": "20525024",
   "metadata": {},
   "source": [
    "### 5.2) Feature Engineering"
   ]
  },
  {
   "cell_type": "markdown",
   "id": "b77390db",
   "metadata": {},
   "source": [
    "En esta sección nos vamos a concentrar en validar las variables y crear unas nuevas a partir de las iniciales para tratar de mejorar el modelo propuesto.\n",
    "\n",
    "Primeramente, se va a validar la correlación que tienen las actuales variables con la target. Evidentemente existe una baja correlación con la variable objetivo."
   ]
  },
  {
   "cell_type": "code",
   "execution_count": 54,
   "id": "0791416b",
   "metadata": {},
   "outputs": [
    {
     "data": {
      "text/html": [
       "<div>\n",
       "<style scoped>\n",
       "    .dataframe tbody tr th:only-of-type {\n",
       "        vertical-align: middle;\n",
       "    }\n",
       "\n",
       "    .dataframe tbody tr th {\n",
       "        vertical-align: top;\n",
       "    }\n",
       "\n",
       "    .dataframe thead th {\n",
       "        text-align: right;\n",
       "    }\n",
       "</style>\n",
       "<table border=\"1\" class=\"dataframe\">\n",
       "  <thead>\n",
       "    <tr style=\"text-align: right;\">\n",
       "      <th></th>\n",
       "      <th>Solic</th>\n",
       "      <th>ChurnTot</th>\n",
       "      <th>Doc_vtas</th>\n",
       "      <th>Cnt_uni</th>\n",
       "      <th>Cnt_cart</th>\n",
       "      <th>ValN_Pos</th>\n",
       "    </tr>\n",
       "  </thead>\n",
       "  <tbody>\n",
       "    <tr>\n",
       "      <th>0</th>\n",
       "      <td>49128</td>\n",
       "      <td>0</td>\n",
       "      <td>412</td>\n",
       "      <td>2061.0</td>\n",
       "      <td>280.298608</td>\n",
       "      <td>124830.59</td>\n",
       "    </tr>\n",
       "    <tr>\n",
       "      <th>1</th>\n",
       "      <td>69792</td>\n",
       "      <td>0</td>\n",
       "      <td>166</td>\n",
       "      <td>453.0</td>\n",
       "      <td>18.756949</td>\n",
       "      <td>11253.21</td>\n",
       "    </tr>\n",
       "    <tr>\n",
       "      <th>2</th>\n",
       "      <td>69868</td>\n",
       "      <td>0</td>\n",
       "      <td>322</td>\n",
       "      <td>1056.0</td>\n",
       "      <td>36.326960</td>\n",
       "      <td>23169.06</td>\n",
       "    </tr>\n",
       "    <tr>\n",
       "      <th>3</th>\n",
       "      <td>70334</td>\n",
       "      <td>1</td>\n",
       "      <td>47</td>\n",
       "      <td>101.0</td>\n",
       "      <td>9.063893</td>\n",
       "      <td>6416.46</td>\n",
       "    </tr>\n",
       "    <tr>\n",
       "      <th>4</th>\n",
       "      <td>70430</td>\n",
       "      <td>0</td>\n",
       "      <td>148</td>\n",
       "      <td>306.0</td>\n",
       "      <td>16.258070</td>\n",
       "      <td>10853.09</td>\n",
       "    </tr>\n",
       "    <tr>\n",
       "      <th>...</th>\n",
       "      <td>...</td>\n",
       "      <td>...</td>\n",
       "      <td>...</td>\n",
       "      <td>...</td>\n",
       "      <td>...</td>\n",
       "      <td>...</td>\n",
       "    </tr>\n",
       "    <tr>\n",
       "      <th>78128</th>\n",
       "      <td>18172492</td>\n",
       "      <td>0</td>\n",
       "      <td>22</td>\n",
       "      <td>51.0</td>\n",
       "      <td>2.249996</td>\n",
       "      <td>824.76</td>\n",
       "    </tr>\n",
       "    <tr>\n",
       "      <th>78129</th>\n",
       "      <td>18172494</td>\n",
       "      <td>0</td>\n",
       "      <td>7</td>\n",
       "      <td>7.0</td>\n",
       "      <td>0.444447</td>\n",
       "      <td>360.66</td>\n",
       "    </tr>\n",
       "    <tr>\n",
       "      <th>78130</th>\n",
       "      <td>18172498</td>\n",
       "      <td>0</td>\n",
       "      <td>6</td>\n",
       "      <td>6.0</td>\n",
       "      <td>0.366666</td>\n",
       "      <td>312.26</td>\n",
       "    </tr>\n",
       "    <tr>\n",
       "      <th>78131</th>\n",
       "      <td>18172544</td>\n",
       "      <td>0</td>\n",
       "      <td>51</td>\n",
       "      <td>267.0</td>\n",
       "      <td>9.081116</td>\n",
       "      <td>5917.64</td>\n",
       "    </tr>\n",
       "    <tr>\n",
       "      <th>78132</th>\n",
       "      <td>18172546</td>\n",
       "      <td>1</td>\n",
       "      <td>8</td>\n",
       "      <td>14.0</td>\n",
       "      <td>0.912500</td>\n",
       "      <td>798.20</td>\n",
       "    </tr>\n",
       "  </tbody>\n",
       "</table>\n",
       "<p>78133 rows × 6 columns</p>\n",
       "</div>"
      ],
      "text/plain": [
       "          Solic  ChurnTot  Doc_vtas  Cnt_uni    Cnt_cart   ValN_Pos\n",
       "0         49128         0       412   2061.0  280.298608  124830.59\n",
       "1         69792         0       166    453.0   18.756949   11253.21\n",
       "2         69868         0       322   1056.0   36.326960   23169.06\n",
       "3         70334         1        47    101.0    9.063893    6416.46\n",
       "4         70430         0       148    306.0   16.258070   10853.09\n",
       "...         ...       ...       ...      ...         ...        ...\n",
       "78128  18172492         0        22     51.0    2.249996     824.76\n",
       "78129  18172494         0         7      7.0    0.444447     360.66\n",
       "78130  18172498         0         6      6.0    0.366666     312.26\n",
       "78131  18172544         0        51    267.0    9.081116    5917.64\n",
       "78132  18172546         1         8     14.0    0.912500     798.20\n",
       "\n",
       "[78133 rows x 6 columns]"
      ]
     },
     "execution_count": 54,
     "metadata": {},
     "output_type": "execute_result"
    }
   ],
   "source": [
    "base_clientes"
   ]
  },
  {
   "cell_type": "code",
   "execution_count": 55,
   "id": "6ecc6026",
   "metadata": {},
   "outputs": [
    {
     "data": {
      "text/html": [
       "<div>\n",
       "<style scoped>\n",
       "    .dataframe tbody tr th:only-of-type {\n",
       "        vertical-align: middle;\n",
       "    }\n",
       "\n",
       "    .dataframe tbody tr th {\n",
       "        vertical-align: top;\n",
       "    }\n",
       "\n",
       "    .dataframe thead th {\n",
       "        text-align: right;\n",
       "    }\n",
       "</style>\n",
       "<table border=\"1\" class=\"dataframe\">\n",
       "  <thead>\n",
       "    <tr style=\"text-align: right;\">\n",
       "      <th></th>\n",
       "      <th>ChurnTot</th>\n",
       "      <th>Doc_vtas</th>\n",
       "      <th>Cnt_uni</th>\n",
       "      <th>Cnt_cart</th>\n",
       "      <th>ValN_Pos</th>\n",
       "    </tr>\n",
       "  </thead>\n",
       "  <tbody>\n",
       "    <tr>\n",
       "      <th>0</th>\n",
       "      <td>0</td>\n",
       "      <td>412</td>\n",
       "      <td>2061.0</td>\n",
       "      <td>280.298608</td>\n",
       "      <td>124830.59</td>\n",
       "    </tr>\n",
       "    <tr>\n",
       "      <th>1</th>\n",
       "      <td>0</td>\n",
       "      <td>166</td>\n",
       "      <td>453.0</td>\n",
       "      <td>18.756949</td>\n",
       "      <td>11253.21</td>\n",
       "    </tr>\n",
       "    <tr>\n",
       "      <th>2</th>\n",
       "      <td>0</td>\n",
       "      <td>322</td>\n",
       "      <td>1056.0</td>\n",
       "      <td>36.326960</td>\n",
       "      <td>23169.06</td>\n",
       "    </tr>\n",
       "    <tr>\n",
       "      <th>3</th>\n",
       "      <td>1</td>\n",
       "      <td>47</td>\n",
       "      <td>101.0</td>\n",
       "      <td>9.063893</td>\n",
       "      <td>6416.46</td>\n",
       "    </tr>\n",
       "    <tr>\n",
       "      <th>4</th>\n",
       "      <td>0</td>\n",
       "      <td>148</td>\n",
       "      <td>306.0</td>\n",
       "      <td>16.258070</td>\n",
       "      <td>10853.09</td>\n",
       "    </tr>\n",
       "    <tr>\n",
       "      <th>...</th>\n",
       "      <td>...</td>\n",
       "      <td>...</td>\n",
       "      <td>...</td>\n",
       "      <td>...</td>\n",
       "      <td>...</td>\n",
       "    </tr>\n",
       "    <tr>\n",
       "      <th>78128</th>\n",
       "      <td>0</td>\n",
       "      <td>22</td>\n",
       "      <td>51.0</td>\n",
       "      <td>2.249996</td>\n",
       "      <td>824.76</td>\n",
       "    </tr>\n",
       "    <tr>\n",
       "      <th>78129</th>\n",
       "      <td>0</td>\n",
       "      <td>7</td>\n",
       "      <td>7.0</td>\n",
       "      <td>0.444447</td>\n",
       "      <td>360.66</td>\n",
       "    </tr>\n",
       "    <tr>\n",
       "      <th>78130</th>\n",
       "      <td>0</td>\n",
       "      <td>6</td>\n",
       "      <td>6.0</td>\n",
       "      <td>0.366666</td>\n",
       "      <td>312.26</td>\n",
       "    </tr>\n",
       "    <tr>\n",
       "      <th>78131</th>\n",
       "      <td>0</td>\n",
       "      <td>51</td>\n",
       "      <td>267.0</td>\n",
       "      <td>9.081116</td>\n",
       "      <td>5917.64</td>\n",
       "    </tr>\n",
       "    <tr>\n",
       "      <th>78132</th>\n",
       "      <td>1</td>\n",
       "      <td>8</td>\n",
       "      <td>14.0</td>\n",
       "      <td>0.912500</td>\n",
       "      <td>798.20</td>\n",
       "    </tr>\n",
       "  </tbody>\n",
       "</table>\n",
       "<p>78133 rows × 5 columns</p>\n",
       "</div>"
      ],
      "text/plain": [
       "       ChurnTot  Doc_vtas  Cnt_uni    Cnt_cart   ValN_Pos\n",
       "0             0       412   2061.0  280.298608  124830.59\n",
       "1             0       166    453.0   18.756949   11253.21\n",
       "2             0       322   1056.0   36.326960   23169.06\n",
       "3             1        47    101.0    9.063893    6416.46\n",
       "4             0       148    306.0   16.258070   10853.09\n",
       "...         ...       ...      ...         ...        ...\n",
       "78128         0        22     51.0    2.249996     824.76\n",
       "78129         0         7      7.0    0.444447     360.66\n",
       "78130         0         6      6.0    0.366666     312.26\n",
       "78131         0        51    267.0    9.081116    5917.64\n",
       "78132         1         8     14.0    0.912500     798.20\n",
       "\n",
       "[78133 rows x 5 columns]"
      ]
     },
     "execution_count": 55,
     "metadata": {},
     "output_type": "execute_result"
    }
   ],
   "source": [
    "\n",
    "base_clientes1 = base_clientes\n",
    "base_clientes1 = base_clientes1.drop('Solic', axis=1)\n",
    "base_clientes1"
   ]
  },
  {
   "cell_type": "markdown",
   "id": "55683875",
   "metadata": {},
   "source": [
    "Voy a usar la función 'proporciones_final()' para identificar patrones que los valores de las variables tienen con respecto a la objetivo"
   ]
  },
  {
   "cell_type": "code",
   "execution_count": 56,
   "id": "c2c049fc",
   "metadata": {},
   "outputs": [],
   "source": [
    "def proporciones_final(var,target,df):\n",
    "\n",
    "    proporcion = pd.DataFrame()\n",
    "\n",
    "    proporcion['%Proporcion'] = df[target].groupby(df[var]).mean()*100 \n",
    "    proporcion['Conteo'] = df[target].groupby(df[var]).count() \n",
    "    proporcion= proporcion.round(3)   \n",
    "    proporcion_filtered = proporcion[(proporcion['%Proporcion']>0) & (proporcion['Conteo']>10)]\n",
    "        \n",
    "    if len(proporcion_filtered)<100 and len(proporcion_filtered)>1:\n",
    "        fig = plt.figure()\n",
    "        ax = proporcion_filtered['Conteo'].plot(kind='bar',grid=True)\n",
    "                \n",
    "        ax2 = ax.twinx()\n",
    "        ax2.plot(proporcion_filtered['%Proporcion'].values, linestyle='-', linewidth=2.0,color='r')\n",
    "        plt.tight_layout()        \n",
    "    \n",
    "    else:        \n",
    "        proporcion_filtered.reset_index(inplace=True)\n",
    "        sns.lmplot(x = var,y ='%Proporcion',data=proporcion_filtered, fit_reg=True,ci=None) "
   ]
  },
  {
   "cell_type": "markdown",
   "id": "fdeb0022",
   "metadata": {},
   "source": [
    "Le paso a la función las variables que tiene menos de 12 valores únicos.\n"
   ]
  },
  {
   "cell_type": "code",
   "execution_count": 57,
   "id": "c9d97dc9",
   "metadata": {},
   "outputs": [
    {
     "data": {
      "text/plain": [
       "Index(['ChurnTot', 'Doc_vtas', 'Cnt_uni', 'Cnt_cart', 'ValN_Pos'], dtype='object')"
      ]
     },
     "execution_count": 57,
     "metadata": {},
     "output_type": "execute_result"
    }
   ],
   "source": [
    "base_clientes1.columns"
   ]
  },
  {
   "cell_type": "code",
   "execution_count": 58,
   "id": "7af8b7de",
   "metadata": {},
   "outputs": [],
   "source": [
    "def visualizar_variables_numericas_binarizadas(dataset, q, target='ChurnTot'):\n",
    "    sin_la_target=dataset.loc[:, dataset.columns != target]\n",
    "    new_vars={}\n",
    "    values=[i for i in range(q)]\n",
    "    for i in range(len(sin_la_target.columns)):\n",
    "        new_vars[str(sin_la_target.columns[i])]=pd.qcut(dataset[str(sin_la_target.columns[i])], \n",
    "                                                         q=q, labels=values)\n",
    "    vars_to_plot=pd.DataFrame(new_vars).fillna(0) \n",
    "    target=pd.DataFrame(dataset[target])\n",
    "    new_continuous_vars=pd.concat([target, vars_to_plot.reindex(target.index)], axis=1)  \n",
    "    for i in vars_to_plot.columns:\n",
    "        proporciones_final(i, 'ChurnTot', new_continuous_vars) "
   ]
  },
  {
   "cell_type": "code",
   "execution_count": 59,
   "id": "a6cd5183",
   "metadata": {},
   "outputs": [
    {
     "data": {
      "image/png": "[encoded data removed]",
      "text/plain": [
       "<Figure size 360x360 with 1 Axes>"
      ]
     },
     "metadata": {
      "needs_background": "light"
     },
     "output_type": "display_data"
    },
    {
     "data": {
      "image/png": "[encoded data removed]",
      "text/plain": [
       "<Figure size 360x360 with 1 Axes>"
      ]
     },
     "metadata": {
      "needs_background": "light"
     },
     "output_type": "display_data"
    },
    {
     "data": {
      "image/png": "[encoded data removed]",
      "text/plain": [
       "<Figure size 360x360 with 1 Axes>"
      ]
     },
     "metadata": {
      "needs_background": "light"
     },
     "output_type": "display_data"
    },
    {
     "data": {
      "image/png": "[encoded data removed]",
      "text/plain": [
       "<Figure size 432x288 with 2 Axes>"
      ]
     },
     "metadata": {
      "needs_background": "light"
     },
     "output_type": "display_data"
    },
    {
     "data": {
      "image/png": "[encoded data removed]",
      "text/plain": [
       "<Figure size 432x288 with 2 Axes>"
      ]
     },
     "metadata": {
      "needs_background": "light"
     },
     "output_type": "display_data"
    }
   ],
   "source": [
    "for i in base_clientes1.columns:\n",
    "    proporciones_final (i, 'ChurnTot', base_clientes1)"
   ]
  },
  {
   "cell_type": "markdown",
   "id": "e69861ad",
   "metadata": {},
   "source": [
    "##### **Observaciones:**\n",
    "\n",
    "- La variable **Frecuencia Total de ventas:** Doc_vtas y **Cantidad de unidades vendidos total:**, Cnt_uni  siguen un comportamiento similar.\n",
    "\n",
    "- **Valor neto total:** ValN_Pos, sigue una distribucion no aleatoria, se podria analizar por tramos para verificar si existe una diferencia entra los clientes compran mayores valores frente a los que facturan poco con relacion al churn.\n",
    "\n",
    "- **Cantidad de cartones vendidos total:** Cnt_cart, sigue una distribucion no aleatoria, existe una diferencia entra los clientes compran mayores valores frente a los que facturan poco con relacion al churn.\n",
    "\n",
    "Se crearan variables para tratar mejorar el modelo asi:\n",
    "\n",
    "- cantidad promedio de compra por cliente\n",
    "- valor neto promedio por cliente\n",
    "- Se va a calcular una variable antiguedad tomando como referencia la primera fecha de compra sobre la ultima regisgtrada en la base de datos"
   ]
  },
  {
   "cell_type": "markdown",
   "id": "46e312e7",
   "metadata": {},
   "source": [
    "## Para la creacion de las variables "
   ]
  },
  {
   "cell_type": "code",
   "execution_count": 60,
   "id": "0ae8625f",
   "metadata": {},
   "outputs": [
    {
     "data": {
      "text/html": [
       "<div>\n",
       "<style scoped>\n",
       "    .dataframe tbody tr th:only-of-type {\n",
       "        vertical-align: middle;\n",
       "    }\n",
       "\n",
       "    .dataframe tbody tr th {\n",
       "        vertical-align: top;\n",
       "    }\n",
       "\n",
       "    .dataframe thead th {\n",
       "        text-align: right;\n",
       "    }\n",
       "</style>\n",
       "<table border=\"1\" class=\"dataframe\">\n",
       "  <thead>\n",
       "    <tr style=\"text-align: right;\">\n",
       "      <th></th>\n",
       "      <th>Doc_vtas</th>\n",
       "      <th>Fecha</th>\n",
       "      <th>Solic</th>\n",
       "      <th>Material</th>\n",
       "      <th>Cnt_uni</th>\n",
       "      <th>sect_mat</th>\n",
       "      <th>Cnt_cart</th>\n",
       "      <th>ValN_Pos</th>\n",
       "      <th>Moneda</th>\n",
       "      <th>anomes</th>\n",
       "    </tr>\n",
       "  </thead>\n",
       "  <tbody>\n",
       "    <tr>\n",
       "      <th>0</th>\n",
       "      <td>7503277849</td>\n",
       "      <td>2021-11-01</td>\n",
       "      <td>18134244</td>\n",
       "      <td>28424</td>\n",
       "      <td>72.0</td>\n",
       "      <td>42</td>\n",
       "      <td>1.000000</td>\n",
       "      <td>347.76</td>\n",
       "      <td>COP</td>\n",
       "      <td>2021-11</td>\n",
       "    </tr>\n",
       "    <tr>\n",
       "      <th>1</th>\n",
       "      <td>7503277849</td>\n",
       "      <td>2021-11-01</td>\n",
       "      <td>18134244</td>\n",
       "      <td>26780</td>\n",
       "      <td>6.0</td>\n",
       "      <td>42</td>\n",
       "      <td>6.000000</td>\n",
       "      <td>781.40</td>\n",
       "      <td>COP</td>\n",
       "      <td>2021-11</td>\n",
       "    </tr>\n",
       "    <tr>\n",
       "      <th>2</th>\n",
       "      <td>7503277849</td>\n",
       "      <td>2021-11-01</td>\n",
       "      <td>18134244</td>\n",
       "      <td>28846</td>\n",
       "      <td>72.0</td>\n",
       "      <td>42</td>\n",
       "      <td>1.000000</td>\n",
       "      <td>309.05</td>\n",
       "      <td>COP</td>\n",
       "      <td>2021-11</td>\n",
       "    </tr>\n",
       "    <tr>\n",
       "      <th>3</th>\n",
       "      <td>7503277849</td>\n",
       "      <td>2021-11-01</td>\n",
       "      <td>18134244</td>\n",
       "      <td>6572</td>\n",
       "      <td>18.0</td>\n",
       "      <td>42</td>\n",
       "      <td>0.375000</td>\n",
       "      <td>124.59</td>\n",
       "      <td>COP</td>\n",
       "      <td>2021-11</td>\n",
       "    </tr>\n",
       "    <tr>\n",
       "      <th>4</th>\n",
       "      <td>7503277849</td>\n",
       "      <td>2021-11-01</td>\n",
       "      <td>18134244</td>\n",
       "      <td>28850</td>\n",
       "      <td>1.0</td>\n",
       "      <td>42</td>\n",
       "      <td>1.000000</td>\n",
       "      <td>478.87</td>\n",
       "      <td>COP</td>\n",
       "      <td>2021-11</td>\n",
       "    </tr>\n",
       "    <tr>\n",
       "      <th>...</th>\n",
       "      <td>...</td>\n",
       "      <td>...</td>\n",
       "      <td>...</td>\n",
       "      <td>...</td>\n",
       "      <td>...</td>\n",
       "      <td>...</td>\n",
       "      <td>...</td>\n",
       "      <td>...</td>\n",
       "      <td>...</td>\n",
       "      <td>...</td>\n",
       "    </tr>\n",
       "    <tr>\n",
       "      <th>12559896</th>\n",
       "      <td>7504718894</td>\n",
       "      <td>2022-04-08</td>\n",
       "      <td>1183780</td>\n",
       "      <td>54278</td>\n",
       "      <td>1.0</td>\n",
       "      <td>60</td>\n",
       "      <td>0.041667</td>\n",
       "      <td>35.74</td>\n",
       "      <td>COP</td>\n",
       "      <td>2022-04</td>\n",
       "    </tr>\n",
       "    <tr>\n",
       "      <th>12559897</th>\n",
       "      <td>7504718894</td>\n",
       "      <td>2022-04-08</td>\n",
       "      <td>1183780</td>\n",
       "      <td>54302</td>\n",
       "      <td>1.0</td>\n",
       "      <td>60</td>\n",
       "      <td>0.041667</td>\n",
       "      <td>44.40</td>\n",
       "      <td>COP</td>\n",
       "      <td>2022-04</td>\n",
       "    </tr>\n",
       "    <tr>\n",
       "      <th>12559898</th>\n",
       "      <td>7504718894</td>\n",
       "      <td>2022-04-08</td>\n",
       "      <td>1183780</td>\n",
       "      <td>54298</td>\n",
       "      <td>1.0</td>\n",
       "      <td>60</td>\n",
       "      <td>0.041667</td>\n",
       "      <td>44.40</td>\n",
       "      <td>COP</td>\n",
       "      <td>2022-04</td>\n",
       "    </tr>\n",
       "    <tr>\n",
       "      <th>12559899</th>\n",
       "      <td>7504718894</td>\n",
       "      <td>2022-04-08</td>\n",
       "      <td>1183780</td>\n",
       "      <td>24976</td>\n",
       "      <td>1.0</td>\n",
       "      <td>36</td>\n",
       "      <td>0.083333</td>\n",
       "      <td>80.67</td>\n",
       "      <td>COP</td>\n",
       "      <td>2022-04</td>\n",
       "    </tr>\n",
       "    <tr>\n",
       "      <th>12559900</th>\n",
       "      <td>7504718894</td>\n",
       "      <td>2022-04-08</td>\n",
       "      <td>1183780</td>\n",
       "      <td>13404</td>\n",
       "      <td>6.0</td>\n",
       "      <td>42</td>\n",
       "      <td>0.083333</td>\n",
       "      <td>102.72</td>\n",
       "      <td>COP</td>\n",
       "      <td>2022-04</td>\n",
       "    </tr>\n",
       "  </tbody>\n",
       "</table>\n",
       "<p>12559901 rows × 10 columns</p>\n",
       "</div>"
      ],
      "text/plain": [
       "            Doc_vtas      Fecha     Solic  Material  Cnt_uni  sect_mat  \\\n",
       "0         7503277849 2021-11-01  18134244     28424     72.0        42   \n",
       "1         7503277849 2021-11-01  18134244     26780      6.0        42   \n",
       "2         7503277849 2021-11-01  18134244     28846     72.0        42   \n",
       "3         7503277849 2021-11-01  18134244      6572     18.0        42   \n",
       "4         7503277849 2021-11-01  18134244     28850      1.0        42   \n",
       "...              ...        ...       ...       ...      ...       ...   \n",
       "12559896  7504718894 2022-04-08   1183780     54278      1.0        60   \n",
       "12559897  7504718894 2022-04-08   1183780     54302      1.0        60   \n",
       "12559898  7504718894 2022-04-08   1183780     54298      1.0        60   \n",
       "12559899  7504718894 2022-04-08   1183780     24976      1.0        36   \n",
       "12559900  7504718894 2022-04-08   1183780     13404      6.0        42   \n",
       "\n",
       "          Cnt_cart  ValN_Pos Moneda   anomes  \n",
       "0         1.000000    347.76    COP  2021-11  \n",
       "1         6.000000    781.40    COP  2021-11  \n",
       "2         1.000000    309.05    COP  2021-11  \n",
       "3         0.375000    124.59    COP  2021-11  \n",
       "4         1.000000    478.87    COP  2021-11  \n",
       "...            ...       ...    ...      ...  \n",
       "12559896  0.041667     35.74    COP  2022-04  \n",
       "12559897  0.041667     44.40    COP  2022-04  \n",
       "12559898  0.041667     44.40    COP  2022-04  \n",
       "12559899  0.083333     80.67    COP  2022-04  \n",
       "12559900  0.083333    102.72    COP  2022-04  \n",
       "\n",
       "[12559901 rows x 10 columns]"
      ]
     },
     "execution_count": 60,
     "metadata": {},
     "output_type": "execute_result"
    }
   ],
   "source": [
    "datos_prueba"
   ]
  },
  {
   "cell_type": "markdown",
   "id": "59fdef4d",
   "metadata": {},
   "source": [
    "### Se crea la variable antiguedad con los datos iniciales y posteriormente se incluye en los datos para el modelado"
   ]
  },
  {
   "cell_type": "code",
   "execution_count": 68,
   "id": "cdcca8da",
   "metadata": {},
   "outputs": [],
   "source": [
    "fechasMaxcliente=datos_prueba.groupby(['Solic'], as_index = False).agg({\"Fecha\":\"max\"})\n",
    "fechasMaxcliente=fechasMaxcliente.rename(columns={'Fecha':'FechaMax'})"
   ]
  },
  {
   "cell_type": "code",
   "execution_count": 69,
   "id": "867b15d1",
   "metadata": {},
   "outputs": [],
   "source": [
    "fechasMincliente=datos_prueba.groupby(['Solic'], as_index = False).agg({\"Fecha\":\"min\"})\n",
    "fechasMincliente=fechasMincliente.rename(columns={'Fecha':'FechaMin'})"
   ]
  },
  {
   "cell_type": "code",
   "execution_count": 70,
   "id": "2908e4be",
   "metadata": {},
   "outputs": [
    {
     "data": {
      "text/html": [
       "<div>\n",
       "<style scoped>\n",
       "    .dataframe tbody tr th:only-of-type {\n",
       "        vertical-align: middle;\n",
       "    }\n",
       "\n",
       "    .dataframe tbody tr th {\n",
       "        vertical-align: top;\n",
       "    }\n",
       "\n",
       "    .dataframe thead th {\n",
       "        text-align: right;\n",
       "    }\n",
       "</style>\n",
       "<table border=\"1\" class=\"dataframe\">\n",
       "  <thead>\n",
       "    <tr style=\"text-align: right;\">\n",
       "      <th></th>\n",
       "      <th>Solic</th>\n",
       "      <th>FechaMax</th>\n",
       "      <th>FechaMin</th>\n",
       "      <th>Antiguedad</th>\n",
       "    </tr>\n",
       "  </thead>\n",
       "  <tbody>\n",
       "    <tr>\n",
       "      <th>0</th>\n",
       "      <td>49128</td>\n",
       "      <td>2022-07-11</td>\n",
       "      <td>2021-11-02</td>\n",
       "      <td>251 days</td>\n",
       "    </tr>\n",
       "    <tr>\n",
       "      <th>1</th>\n",
       "      <td>69792</td>\n",
       "      <td>2022-07-05</td>\n",
       "      <td>2021-11-05</td>\n",
       "      <td>242 days</td>\n",
       "    </tr>\n",
       "    <tr>\n",
       "      <th>2</th>\n",
       "      <td>69838</td>\n",
       "      <td>2022-07-12</td>\n",
       "      <td>2022-07-12</td>\n",
       "      <td>0 days</td>\n",
       "    </tr>\n",
       "    <tr>\n",
       "      <th>3</th>\n",
       "      <td>69868</td>\n",
       "      <td>2022-07-05</td>\n",
       "      <td>2021-11-09</td>\n",
       "      <td>238 days</td>\n",
       "    </tr>\n",
       "    <tr>\n",
       "      <th>4</th>\n",
       "      <td>70334</td>\n",
       "      <td>2022-05-31</td>\n",
       "      <td>2022-02-26</td>\n",
       "      <td>94 days</td>\n",
       "    </tr>\n",
       "    <tr>\n",
       "      <th>...</th>\n",
       "      <td>...</td>\n",
       "      <td>...</td>\n",
       "      <td>...</td>\n",
       "      <td>...</td>\n",
       "    </tr>\n",
       "    <tr>\n",
       "      <th>80289</th>\n",
       "      <td>18179654</td>\n",
       "      <td>2022-07-14</td>\n",
       "      <td>2022-07-14</td>\n",
       "      <td>0 days</td>\n",
       "    </tr>\n",
       "    <tr>\n",
       "      <th>80290</th>\n",
       "      <td>18179660</td>\n",
       "      <td>2022-07-15</td>\n",
       "      <td>2022-07-14</td>\n",
       "      <td>1 days</td>\n",
       "    </tr>\n",
       "    <tr>\n",
       "      <th>80291</th>\n",
       "      <td>18179662</td>\n",
       "      <td>2022-07-14</td>\n",
       "      <td>2022-07-14</td>\n",
       "      <td>0 days</td>\n",
       "    </tr>\n",
       "    <tr>\n",
       "      <th>80292</th>\n",
       "      <td>18179664</td>\n",
       "      <td>2022-07-14</td>\n",
       "      <td>2022-07-14</td>\n",
       "      <td>0 days</td>\n",
       "    </tr>\n",
       "    <tr>\n",
       "      <th>80293</th>\n",
       "      <td>18179668</td>\n",
       "      <td>2022-07-14</td>\n",
       "      <td>2022-07-14</td>\n",
       "      <td>0 days</td>\n",
       "    </tr>\n",
       "  </tbody>\n",
       "</table>\n",
       "<p>80294 rows × 4 columns</p>\n",
       "</div>"
      ],
      "text/plain": [
       "          Solic   FechaMax   FechaMin Antiguedad\n",
       "0         49128 2022-07-11 2021-11-02   251 days\n",
       "1         69792 2022-07-05 2021-11-05   242 days\n",
       "2         69838 2022-07-12 2022-07-12     0 days\n",
       "3         69868 2022-07-05 2021-11-09   238 days\n",
       "4         70334 2022-05-31 2022-02-26    94 days\n",
       "...         ...        ...        ...        ...\n",
       "80289  18179654 2022-07-14 2022-07-14     0 days\n",
       "80290  18179660 2022-07-15 2022-07-14     1 days\n",
       "80291  18179662 2022-07-14 2022-07-14     0 days\n",
       "80292  18179664 2022-07-14 2022-07-14     0 days\n",
       "80293  18179668 2022-07-14 2022-07-14     0 days\n",
       "\n",
       "[80294 rows x 4 columns]"
      ]
     },
     "execution_count": 70,
     "metadata": {},
     "output_type": "execute_result"
    }
   ],
   "source": [
    "antiguedad = fechasMaxcliente.merge(fechasMincliente)\n",
    "antiguedad ['Antiguedad'] = antiguedad ['FechaMax'] - antiguedad ['FechaMin']\n",
    "antiguedad"
   ]
  },
  {
   "cell_type": "code",
   "execution_count": 71,
   "id": "f05ed459",
   "metadata": {},
   "outputs": [
    {
     "data": {
      "text/html": [
       "<div>\n",
       "<style scoped>\n",
       "    .dataframe tbody tr th:only-of-type {\n",
       "        vertical-align: middle;\n",
       "    }\n",
       "\n",
       "    .dataframe tbody tr th {\n",
       "        vertical-align: top;\n",
       "    }\n",
       "\n",
       "    .dataframe thead th {\n",
       "        text-align: right;\n",
       "    }\n",
       "</style>\n",
       "<table border=\"1\" class=\"dataframe\">\n",
       "  <thead>\n",
       "    <tr style=\"text-align: right;\">\n",
       "      <th></th>\n",
       "      <th>Solic</th>\n",
       "      <th>ChurnTot</th>\n",
       "      <th>Doc_vtas</th>\n",
       "      <th>Cnt_uni</th>\n",
       "      <th>Cnt_cart</th>\n",
       "      <th>ValN_Pos</th>\n",
       "      <th>Antiguedad</th>\n",
       "    </tr>\n",
       "  </thead>\n",
       "  <tbody>\n",
       "    <tr>\n",
       "      <th>0</th>\n",
       "      <td>49128</td>\n",
       "      <td>0</td>\n",
       "      <td>412</td>\n",
       "      <td>2061.0</td>\n",
       "      <td>280.298608</td>\n",
       "      <td>124830.59</td>\n",
       "      <td>251 days</td>\n",
       "    </tr>\n",
       "    <tr>\n",
       "      <th>1</th>\n",
       "      <td>69792</td>\n",
       "      <td>0</td>\n",
       "      <td>166</td>\n",
       "      <td>453.0</td>\n",
       "      <td>18.756949</td>\n",
       "      <td>11253.21</td>\n",
       "      <td>242 days</td>\n",
       "    </tr>\n",
       "    <tr>\n",
       "      <th>2</th>\n",
       "      <td>69868</td>\n",
       "      <td>0</td>\n",
       "      <td>322</td>\n",
       "      <td>1056.0</td>\n",
       "      <td>36.326960</td>\n",
       "      <td>23169.06</td>\n",
       "      <td>238 days</td>\n",
       "    </tr>\n",
       "    <tr>\n",
       "      <th>3</th>\n",
       "      <td>70334</td>\n",
       "      <td>1</td>\n",
       "      <td>47</td>\n",
       "      <td>101.0</td>\n",
       "      <td>9.063893</td>\n",
       "      <td>6416.46</td>\n",
       "      <td>94 days</td>\n",
       "    </tr>\n",
       "    <tr>\n",
       "      <th>4</th>\n",
       "      <td>70430</td>\n",
       "      <td>0</td>\n",
       "      <td>148</td>\n",
       "      <td>306.0</td>\n",
       "      <td>16.258070</td>\n",
       "      <td>10853.09</td>\n",
       "      <td>245 days</td>\n",
       "    </tr>\n",
       "    <tr>\n",
       "      <th>...</th>\n",
       "      <td>...</td>\n",
       "      <td>...</td>\n",
       "      <td>...</td>\n",
       "      <td>...</td>\n",
       "      <td>...</td>\n",
       "      <td>...</td>\n",
       "      <td>...</td>\n",
       "    </tr>\n",
       "    <tr>\n",
       "      <th>78128</th>\n",
       "      <td>18172492</td>\n",
       "      <td>0</td>\n",
       "      <td>22</td>\n",
       "      <td>51.0</td>\n",
       "      <td>2.249996</td>\n",
       "      <td>824.76</td>\n",
       "      <td>42 days</td>\n",
       "    </tr>\n",
       "    <tr>\n",
       "      <th>78129</th>\n",
       "      <td>18172494</td>\n",
       "      <td>0</td>\n",
       "      <td>7</td>\n",
       "      <td>7.0</td>\n",
       "      <td>0.444447</td>\n",
       "      <td>360.66</td>\n",
       "      <td>42 days</td>\n",
       "    </tr>\n",
       "    <tr>\n",
       "      <th>78130</th>\n",
       "      <td>18172498</td>\n",
       "      <td>0</td>\n",
       "      <td>6</td>\n",
       "      <td>6.0</td>\n",
       "      <td>0.366666</td>\n",
       "      <td>312.26</td>\n",
       "      <td>43 days</td>\n",
       "    </tr>\n",
       "    <tr>\n",
       "      <th>78131</th>\n",
       "      <td>18172544</td>\n",
       "      <td>0</td>\n",
       "      <td>51</td>\n",
       "      <td>267.0</td>\n",
       "      <td>9.081116</td>\n",
       "      <td>5917.64</td>\n",
       "      <td>36 days</td>\n",
       "    </tr>\n",
       "    <tr>\n",
       "      <th>78132</th>\n",
       "      <td>18172546</td>\n",
       "      <td>1</td>\n",
       "      <td>8</td>\n",
       "      <td>14.0</td>\n",
       "      <td>0.912500</td>\n",
       "      <td>798.20</td>\n",
       "      <td>0 days</td>\n",
       "    </tr>\n",
       "  </tbody>\n",
       "</table>\n",
       "<p>78133 rows × 7 columns</p>\n",
       "</div>"
      ],
      "text/plain": [
       "          Solic  ChurnTot  Doc_vtas  Cnt_uni    Cnt_cart   ValN_Pos Antiguedad\n",
       "0         49128         0       412   2061.0  280.298608  124830.59   251 days\n",
       "1         69792         0       166    453.0   18.756949   11253.21   242 days\n",
       "2         69868         0       322   1056.0   36.326960   23169.06   238 days\n",
       "3         70334         1        47    101.0    9.063893    6416.46    94 days\n",
       "4         70430         0       148    306.0   16.258070   10853.09   245 days\n",
       "...         ...       ...       ...      ...         ...        ...        ...\n",
       "78128  18172492         0        22     51.0    2.249996     824.76    42 days\n",
       "78129  18172494         0         7      7.0    0.444447     360.66    42 days\n",
       "78130  18172498         0         6      6.0    0.366666     312.26    43 days\n",
       "78131  18172544         0        51    267.0    9.081116    5917.64    36 days\n",
       "78132  18172546         1         8     14.0    0.912500     798.20     0 days\n",
       "\n",
       "[78133 rows x 7 columns]"
      ]
     },
     "execution_count": 71,
     "metadata": {},
     "output_type": "execute_result"
    }
   ],
   "source": [
    "# Se le adiciona la antiguedad del cliente\n",
    "base_clientes = base_clientes.merge(antiguedad, how='left')\n",
    "base_clientes = base_clientes.drop('FechaMax', axis=1)\n",
    "base_clientes = base_clientes.drop('FechaMin', axis=1)\n",
    "base_clientes"
   ]
  },
  {
   "cell_type": "markdown",
   "id": "a215f3bd",
   "metadata": {},
   "source": [
    "Se crea la variable cantidad promedio y valor neto promedio"
   ]
  },
  {
   "cell_type": "code",
   "execution_count": 72,
   "id": "7732e6ee",
   "metadata": {},
   "outputs": [
    {
     "data": {
      "text/html": [
       "<div>\n",
       "<style scoped>\n",
       "    .dataframe tbody tr th:only-of-type {\n",
       "        vertical-align: middle;\n",
       "    }\n",
       "\n",
       "    .dataframe tbody tr th {\n",
       "        vertical-align: top;\n",
       "    }\n",
       "\n",
       "    .dataframe thead th {\n",
       "        text-align: right;\n",
       "    }\n",
       "</style>\n",
       "<table border=\"1\" class=\"dataframe\">\n",
       "  <thead>\n",
       "    <tr style=\"text-align: right;\">\n",
       "      <th></th>\n",
       "      <th>Solic</th>\n",
       "      <th>ChurnTot</th>\n",
       "      <th>Doc_vtas</th>\n",
       "      <th>Cnt_uni</th>\n",
       "      <th>Cnt_cart</th>\n",
       "      <th>ValN_Pos</th>\n",
       "      <th>Antiguedad</th>\n",
       "      <th>CantPedidaPromedio</th>\n",
       "      <th>ValorNetoPromedio</th>\n",
       "    </tr>\n",
       "  </thead>\n",
       "  <tbody>\n",
       "    <tr>\n",
       "      <th>0</th>\n",
       "      <td>49128</td>\n",
       "      <td>0</td>\n",
       "      <td>412</td>\n",
       "      <td>2061.0</td>\n",
       "      <td>280.298608</td>\n",
       "      <td>124830.59</td>\n",
       "      <td>251.0</td>\n",
       "      <td>5.002427</td>\n",
       "      <td>302.986869</td>\n",
       "    </tr>\n",
       "    <tr>\n",
       "      <th>1</th>\n",
       "      <td>69792</td>\n",
       "      <td>0</td>\n",
       "      <td>166</td>\n",
       "      <td>453.0</td>\n",
       "      <td>18.756949</td>\n",
       "      <td>11253.21</td>\n",
       "      <td>242.0</td>\n",
       "      <td>2.728916</td>\n",
       "      <td>67.790422</td>\n",
       "    </tr>\n",
       "    <tr>\n",
       "      <th>2</th>\n",
       "      <td>69868</td>\n",
       "      <td>0</td>\n",
       "      <td>322</td>\n",
       "      <td>1056.0</td>\n",
       "      <td>36.326960</td>\n",
       "      <td>23169.06</td>\n",
       "      <td>238.0</td>\n",
       "      <td>3.279503</td>\n",
       "      <td>71.953602</td>\n",
       "    </tr>\n",
       "    <tr>\n",
       "      <th>3</th>\n",
       "      <td>70334</td>\n",
       "      <td>1</td>\n",
       "      <td>47</td>\n",
       "      <td>101.0</td>\n",
       "      <td>9.063893</td>\n",
       "      <td>6416.46</td>\n",
       "      <td>94.0</td>\n",
       "      <td>2.148936</td>\n",
       "      <td>136.520426</td>\n",
       "    </tr>\n",
       "    <tr>\n",
       "      <th>4</th>\n",
       "      <td>70430</td>\n",
       "      <td>0</td>\n",
       "      <td>148</td>\n",
       "      <td>306.0</td>\n",
       "      <td>16.258070</td>\n",
       "      <td>10853.09</td>\n",
       "      <td>245.0</td>\n",
       "      <td>2.067568</td>\n",
       "      <td>73.331689</td>\n",
       "    </tr>\n",
       "    <tr>\n",
       "      <th>...</th>\n",
       "      <td>...</td>\n",
       "      <td>...</td>\n",
       "      <td>...</td>\n",
       "      <td>...</td>\n",
       "      <td>...</td>\n",
       "      <td>...</td>\n",
       "      <td>...</td>\n",
       "      <td>...</td>\n",
       "      <td>...</td>\n",
       "    </tr>\n",
       "    <tr>\n",
       "      <th>78128</th>\n",
       "      <td>18172492</td>\n",
       "      <td>0</td>\n",
       "      <td>22</td>\n",
       "      <td>51.0</td>\n",
       "      <td>2.249996</td>\n",
       "      <td>824.76</td>\n",
       "      <td>42.0</td>\n",
       "      <td>2.318182</td>\n",
       "      <td>37.489091</td>\n",
       "    </tr>\n",
       "    <tr>\n",
       "      <th>78129</th>\n",
       "      <td>18172494</td>\n",
       "      <td>0</td>\n",
       "      <td>7</td>\n",
       "      <td>7.0</td>\n",
       "      <td>0.444447</td>\n",
       "      <td>360.66</td>\n",
       "      <td>42.0</td>\n",
       "      <td>1.000000</td>\n",
       "      <td>51.522857</td>\n",
       "    </tr>\n",
       "    <tr>\n",
       "      <th>78130</th>\n",
       "      <td>18172498</td>\n",
       "      <td>0</td>\n",
       "      <td>6</td>\n",
       "      <td>6.0</td>\n",
       "      <td>0.366666</td>\n",
       "      <td>312.26</td>\n",
       "      <td>43.0</td>\n",
       "      <td>1.000000</td>\n",
       "      <td>52.043333</td>\n",
       "    </tr>\n",
       "    <tr>\n",
       "      <th>78131</th>\n",
       "      <td>18172544</td>\n",
       "      <td>0</td>\n",
       "      <td>51</td>\n",
       "      <td>267.0</td>\n",
       "      <td>9.081116</td>\n",
       "      <td>5917.64</td>\n",
       "      <td>36.0</td>\n",
       "      <td>5.235294</td>\n",
       "      <td>116.032157</td>\n",
       "    </tr>\n",
       "    <tr>\n",
       "      <th>78132</th>\n",
       "      <td>18172546</td>\n",
       "      <td>1</td>\n",
       "      <td>8</td>\n",
       "      <td>14.0</td>\n",
       "      <td>0.912500</td>\n",
       "      <td>798.20</td>\n",
       "      <td>0.0</td>\n",
       "      <td>1.750000</td>\n",
       "      <td>99.775000</td>\n",
       "    </tr>\n",
       "  </tbody>\n",
       "</table>\n",
       "<p>78133 rows × 9 columns</p>\n",
       "</div>"
      ],
      "text/plain": [
       "          Solic  ChurnTot  Doc_vtas  Cnt_uni    Cnt_cart   ValN_Pos  \\\n",
       "0         49128         0       412   2061.0  280.298608  124830.59   \n",
       "1         69792         0       166    453.0   18.756949   11253.21   \n",
       "2         69868         0       322   1056.0   36.326960   23169.06   \n",
       "3         70334         1        47    101.0    9.063893    6416.46   \n",
       "4         70430         0       148    306.0   16.258070   10853.09   \n",
       "...         ...       ...       ...      ...         ...        ...   \n",
       "78128  18172492         0        22     51.0    2.249996     824.76   \n",
       "78129  18172494         0         7      7.0    0.444447     360.66   \n",
       "78130  18172498         0         6      6.0    0.366666     312.26   \n",
       "78131  18172544         0        51    267.0    9.081116    5917.64   \n",
       "78132  18172546         1         8     14.0    0.912500     798.20   \n",
       "\n",
       "       Antiguedad  CantPedidaPromedio  ValorNetoPromedio  \n",
       "0           251.0            5.002427         302.986869  \n",
       "1           242.0            2.728916          67.790422  \n",
       "2           238.0            3.279503          71.953602  \n",
       "3            94.0            2.148936         136.520426  \n",
       "4           245.0            2.067568          73.331689  \n",
       "...           ...                 ...                ...  \n",
       "78128        42.0            2.318182          37.489091  \n",
       "78129        42.0            1.000000          51.522857  \n",
       "78130        43.0            1.000000          52.043333  \n",
       "78131        36.0            5.235294         116.032157  \n",
       "78132         0.0            1.750000          99.775000  \n",
       "\n",
       "[78133 rows x 9 columns]"
      ]
     },
     "execution_count": 72,
     "metadata": {},
     "output_type": "execute_result"
    }
   ],
   "source": [
    "base_clientes['CantPedidaPromedio']=base_clientes['Cnt_uni']/base_clientes['Doc_vtas']\n",
    "base_clientes['ValorNetoPromedio']=base_clientes['ValN_Pos']/base_clientes['Doc_vtas']\n",
    "base_clientes ['Antiguedad']  = base_clientes ['Antiguedad'].astype(str) ## convirtiendo a string\n",
    "base_clientes['Antiguedad'] = base_clientes.Antiguedad.apply(lambda x: float(x[:-5]))  # se le quita la palabra days\n",
    "base_clientes"
   ]
  },
  {
   "cell_type": "code",
   "execution_count": null,
   "id": "a82b1691",
   "metadata": {},
   "outputs": [],
   "source": [
    "\n"
   ]
  },
  {
   "cell_type": "code",
   "execution_count": null,
   "id": "57bee1e7",
   "metadata": {},
   "outputs": [],
   "source": []
  },
  {
   "cell_type": "code",
   "execution_count": 73,
   "id": "f3ce73da",
   "metadata": {},
   "outputs": [
    {
     "name": "stdout",
     "output_type": "stream",
     "text": [
      "<class 'pandas.core.frame.DataFrame'>\n",
      "Int64Index: 78133 entries, 0 to 78132\n",
      "Data columns (total 9 columns):\n",
      " #   Column              Non-Null Count  Dtype  \n",
      "---  ------              --------------  -----  \n",
      " 0   Solic               78133 non-null  int64  \n",
      " 1   ChurnTot            78133 non-null  int64  \n",
      " 2   Doc_vtas            78133 non-null  int64  \n",
      " 3   Cnt_uni             78133 non-null  float64\n",
      " 4   Cnt_cart            78133 non-null  float64\n",
      " 5   ValN_Pos            78133 non-null  float64\n",
      " 6   Antiguedad          78133 non-null  float64\n",
      " 7   CantPedidaPromedio  78133 non-null  float64\n",
      " 8   ValorNetoPromedio   78133 non-null  float64\n",
      "dtypes: float64(6), int64(3)\n",
      "memory usage: 6.0 MB\n"
     ]
    }
   ],
   "source": [
    "base_clientes.info()"
   ]
  },
  {
   "cell_type": "markdown",
   "id": "174e62ba",
   "metadata": {},
   "source": [
    "#### Evalúa la correlación de todas las variables y veo si las nuevas variables creadas están más correlacionadas que las antiguas"
   ]
  },
  {
   "cell_type": "code",
   "execution_count": 74,
   "id": "c5a2a168",
   "metadata": {},
   "outputs": [
    {
     "data": {
      "text/html": [
       "<style type=\"text/css\">\n",
       "#T_2b37f_row0_col0 {\n",
       "  background-color: #023858;\n",
       "  color: #f1f1f1;\n",
       "}\n",
       "#T_2b37f_row1_col0 {\n",
       "  background-color: #3f93c2;\n",
       "  color: #f1f1f1;\n",
       "}\n",
       "#T_2b37f_row2_col0 {\n",
       "  background-color: #b5c4df;\n",
       "  color: #000000;\n",
       "}\n",
       "#T_2b37f_row3_col0 {\n",
       "  background-color: #e0deed;\n",
       "  color: #000000;\n",
       "}\n",
       "#T_2b37f_row4_col0 {\n",
       "  background-color: #f1ebf4;\n",
       "  color: #000000;\n",
       "}\n",
       "#T_2b37f_row5_col0 {\n",
       "  background-color: #fbf3f9;\n",
       "  color: #000000;\n",
       "}\n",
       "#T_2b37f_row6_col0 {\n",
       "  background-color: #fdf5fa;\n",
       "  color: #000000;\n",
       "}\n",
       "#T_2b37f_row7_col0 {\n",
       "  background-color: #fef6fb;\n",
       "  color: #000000;\n",
       "}\n",
       "#T_2b37f_row8_col0 {\n",
       "  background-color: #fff7fb;\n",
       "  color: #000000;\n",
       "}\n",
       "</style>\n",
       "<table id=\"T_2b37f_\">\n",
       "  <thead>\n",
       "    <tr>\n",
       "      <th class=\"blank level0\" >&nbsp;</th>\n",
       "      <th class=\"col_heading level0 col0\" >ChurnTot</th>\n",
       "    </tr>\n",
       "  </thead>\n",
       "  <tbody>\n",
       "    <tr>\n",
       "      <th id=\"T_2b37f_level0_row0\" class=\"row_heading level0 row0\" >ChurnTot</th>\n",
       "      <td id=\"T_2b37f_row0_col0\" class=\"data row0 col0\" >1.000000</td>\n",
       "    </tr>\n",
       "    <tr>\n",
       "      <th id=\"T_2b37f_level0_row1\" class=\"row_heading level0 row1\" >Antiguedad</th>\n",
       "      <td id=\"T_2b37f_row1_col0\" class=\"data row1 col0\" >0.608608</td>\n",
       "    </tr>\n",
       "    <tr>\n",
       "      <th id=\"T_2b37f_level0_row2\" class=\"row_heading level0 row2\" >Doc_vtas</th>\n",
       "      <td id=\"T_2b37f_row2_col0\" class=\"data row2 col0\" >0.329544</td>\n",
       "    </tr>\n",
       "    <tr>\n",
       "      <th id=\"T_2b37f_level0_row3\" class=\"row_heading level0 row3\" >ValN_Pos</th>\n",
       "      <td id=\"T_2b37f_row3_col0\" class=\"data row3 col0\" >0.179194</td>\n",
       "    </tr>\n",
       "    <tr>\n",
       "      <th id=\"T_2b37f_level0_row4\" class=\"row_heading level0 row4\" >Solic</th>\n",
       "      <td id=\"T_2b37f_row4_col0\" class=\"data row4 col0\" >0.097700</td>\n",
       "    </tr>\n",
       "    <tr>\n",
       "      <th id=\"T_2b37f_level0_row5\" class=\"row_heading level0 row5\" >ValorNetoPromedio</th>\n",
       "      <td id=\"T_2b37f_row5_col0\" class=\"data row5 col0\" >0.028817</td>\n",
       "    </tr>\n",
       "    <tr>\n",
       "      <th id=\"T_2b37f_level0_row6\" class=\"row_heading level0 row6\" >Cnt_uni</th>\n",
       "      <td id=\"T_2b37f_row6_col0\" class=\"data row6 col0\" >0.012733</td>\n",
       "    </tr>\n",
       "    <tr>\n",
       "      <th id=\"T_2b37f_level0_row7\" class=\"row_heading level0 row7\" >Cnt_cart</th>\n",
       "      <td id=\"T_2b37f_row7_col0\" class=\"data row7 col0\" >0.004756</td>\n",
       "    </tr>\n",
       "    <tr>\n",
       "      <th id=\"T_2b37f_level0_row8\" class=\"row_heading level0 row8\" >CantPedidaPromedio</th>\n",
       "      <td id=\"T_2b37f_row8_col0\" class=\"data row8 col0\" >0.000100</td>\n",
       "    </tr>\n",
       "  </tbody>\n",
       "</table>\n"
      ],
      "text/plain": [
       "<pandas.io.formats.style.Styler at 0x1b896225b20>"
      ]
     },
     "execution_count": 74,
     "metadata": {},
     "output_type": "execute_result"
    }
   ],
   "source": [
    "corr = abs(base_clientes.corr()) #since we have included a new var\n",
    "corr[['ChurnTot']].sort_values(by = 'ChurnTot',ascending = False).style.background_gradient() \n"
   ]
  },
  {
   "cell_type": "code",
   "execution_count": 75,
   "id": "fb36165f",
   "metadata": {},
   "outputs": [
    {
     "data": {
      "text/plain": [
       "Solic                 0\n",
       "ChurnTot              0\n",
       "Doc_vtas              0\n",
       "Cnt_uni               0\n",
       "Cnt_cart              0\n",
       "ValN_Pos              0\n",
       "Antiguedad            0\n",
       "CantPedidaPromedio    0\n",
       "ValorNetoPromedio     0\n",
       "dtype: int64"
      ]
     },
     "execution_count": 75,
     "metadata": {},
     "output_type": "execute_result"
    }
   ],
   "source": [
    "base_clientes.isnull().sum() "
   ]
  },
  {
   "cell_type": "code",
   "execution_count": 90,
   "id": "8f5ed847",
   "metadata": {},
   "outputs": [],
   "source": [
    "# Volvemos a generar train y test\n",
    "\n",
    "X =  base_clientes.drop('ChurnTot', axis=1)\n",
    "y = base_clientes['ChurnTot']\n"
   ]
  },
  {
   "cell_type": "code",
   "execution_count": null,
   "id": "60caac20",
   "metadata": {},
   "outputs": [],
   "source": []
  },
  {
   "cell_type": "markdown",
   "id": "4aa4b01e",
   "metadata": {},
   "source": [
    "### 5.3) Seleccion de Variables"
   ]
  },
  {
   "cell_type": "markdown",
   "id": "2782a159",
   "metadata": {},
   "source": [
    "**Realizo seleccion de variable a traves del VIF para detectar Multicolinearidad.** \n",
    "\n",
    "Uno de los principales beneficios de la selección de variables esta plasmado por la famosa frase \"Menos es más\" del arquitecto Ludwig Mies van der Rohe, precursor del minimalismo. Menos atributos son deseables ya que reduce la complejidad del modelo, y un modelo más simple es más fácil de entender y explicar.\n",
    "\n",
    "\n",
    "para ello, ejecuto elmetodo VIF, examino que variables fueron eliminadas por VIF y verifico.\n",
    "\n",
    "El valor del VIF es siempre positivo y crece en un conjunto de datos a medida que aumenta la multicolinealidad entre las características. En caso de que en un conjunto de características exista multicolinealidad perfecta, es decir, que una característica se pueda explicar perfectamente mediante la combinación lineal del resto, el valor será infinito, ya que, en tal caso, el Ri^2 de la regresión será igual la unidad.\n",
    "\n",
    "**En general se suele emplear el criterio expuesto en la siguiente tabla**:\n",
    "\n",
    "**Valor de VIF\tGrado de Muticolinealidad**\n",
    "\n",
    "Hasta 5\t     Débil/Moderado\n",
    "\n",
    "De 5 a 10\t Elevado\n",
    "\n",
    "Mayor a 10\t Muy elevado\n"
   ]
  },
  {
   "cell_type": "code",
   "execution_count": 93,
   "id": "9655ed3f",
   "metadata": {},
   "outputs": [],
   "source": [
    "var_th = VarianceThreshold(threshold = 0.60)\n",
    "x_var = var_th.fit_transform(X)"
   ]
  },
  {
   "cell_type": "code",
   "execution_count": 78,
   "id": "3061db5a",
   "metadata": {},
   "outputs": [
    {
     "data": {
      "text/plain": [
       "8"
      ]
     },
     "execution_count": 78,
     "metadata": {},
     "output_type": "execute_result"
    }
   ],
   "source": [
    "X.shape[1] ## variables principales\n"
   ]
  },
  {
   "cell_type": "code",
   "execution_count": 79,
   "id": "a7f6494a",
   "metadata": {},
   "outputs": [
    {
     "data": {
      "text/plain": [
       "Index(['Solic', 'Doc_vtas', 'Cnt_uni', 'Cnt_cart', 'ValN_Pos', 'Antiguedad',\n",
       "       'CantPedidaPromedio', 'ValorNetoPromedio'],\n",
       "      dtype='object')"
      ]
     },
     "execution_count": 79,
     "metadata": {},
     "output_type": "execute_result"
    }
   ],
   "source": [
    "X.columns"
   ]
  },
  {
   "cell_type": "code",
   "execution_count": 80,
   "id": "4ed187b2",
   "metadata": {},
   "outputs": [
    {
     "data": {
      "text/plain": [
       "8"
      ]
     },
     "execution_count": 80,
     "metadata": {},
     "output_type": "execute_result"
    }
   ],
   "source": [
    "x_var.shape[1] ## vairables finales"
   ]
  },
  {
   "cell_type": "code",
   "execution_count": 81,
   "id": "9d52214c",
   "metadata": {},
   "outputs": [
    {
     "data": {
      "text/plain": [
       "array(['Solic', 'Doc_vtas', 'Cnt_uni', 'Cnt_cart', 'ValN_Pos',\n",
       "       'Antiguedad', 'CantPedidaPromedio', 'ValorNetoPromedio'],\n",
       "      dtype='<U18')"
      ]
     },
     "execution_count": 81,
     "metadata": {},
     "output_type": "execute_result"
    }
   ],
   "source": [
    "np.asarray(list(X))[var_th.get_support()]"
   ]
  },
  {
   "cell_type": "code",
   "execution_count": 82,
   "id": "21ad5097",
   "metadata": {},
   "outputs": [
    {
     "name": "stdout",
     "output_type": "stream",
     "text": [
      "<class 'pandas.core.frame.DataFrame'>\n",
      "Int64Index: 78133 entries, 0 to 78132\n",
      "Data columns (total 9 columns):\n",
      " #   Column              Non-Null Count  Dtype  \n",
      "---  ------              --------------  -----  \n",
      " 0   Solic               78133 non-null  int64  \n",
      " 1   ChurnTot            78133 non-null  int64  \n",
      " 2   Doc_vtas            78133 non-null  int64  \n",
      " 3   Cnt_uni             78133 non-null  float64\n",
      " 4   Cnt_cart            78133 non-null  float64\n",
      " 5   ValN_Pos            78133 non-null  float64\n",
      " 6   Antiguedad          78133 non-null  float64\n",
      " 7   CantPedidaPromedio  78133 non-null  float64\n",
      " 8   ValorNetoPromedio   78133 non-null  float64\n",
      "dtypes: float64(6), int64(3)\n",
      "memory usage: 6.0 MB\n"
     ]
    }
   ],
   "source": [
    "base_clientes.info()"
   ]
  },
  {
   "cell_type": "code",
   "execution_count": 83,
   "id": "51c9f815",
   "metadata": {},
   "outputs": [
    {
     "name": "stdout",
     "output_type": "stream",
     "text": [
      "El valor del VIF para la variable Solic es: 1.0900292486617644\n",
      "El valor del VIF para la variable Doc_vtas es: 4.027499747893174\n",
      "El valor del VIF para la variable Cnt_uni es: 3813.2336962162863\n",
      "El valor del VIF para la variable Cnt_cart es: 3784.1399461814635\n",
      "El valor del VIF para la variable ValN_Pos es: 2.7503678542034917\n",
      "El valor del VIF para la variable Antiguedad es: 1.3386971955204825\n",
      "El valor del VIF para la variable CantPedidaPromedio es: 5.356651252831904\n",
      "El valor del VIF para la variable ValorNetoPromedio es: 1.2211639501857623\n"
     ]
    }
   ],
   "source": [
    "from sklearn.linear_model import LinearRegression\n",
    "\n",
    "# Borrado de la variable objetivo\n",
    "datos_vif = base_clientes.copy(deep = True)\n",
    "features = list(datos_vif.columns)\n",
    "features.remove('ChurnTot')\n",
    "datos_vif = datos_vif[features]\n",
    "\n",
    "for i in range(len(features)): # HAlla el VIF de cada variable, de todas las que se pasan de 5, se elimina. La mayor de todas y se vuelve a calcular todo\n",
    "    var = features[i]\n",
    "    fet = features[:]\n",
    "    fet.remove(var)\n",
    "    \n",
    "    x = datos_vif[fet]\n",
    "    y = base_clientes[var]\n",
    "    \n",
    "    model = LinearRegression()\n",
    "    model.fit(x, y)\n",
    "    \n",
    "    vif = 1 / (1 - model.score(x, y))\n",
    "    \n",
    "    print ('El valor del VIF para la variable', var, 'es:', vif)"
   ]
  },
  {
   "cell_type": "markdown",
   "id": "a9a6f21f",
   "metadata": {},
   "source": [
    "Las variables candidatas a eliminar por multicolinealidad son: *'Cnt_uni'* y *cnt_cart*"
   ]
  },
  {
   "cell_type": "code",
   "execution_count": 1060,
   "id": "93bffbe2",
   "metadata": {},
   "outputs": [],
   "source": []
  },
  {
   "cell_type": "code",
   "execution_count": 85,
   "id": "1927d85e",
   "metadata": {},
   "outputs": [
    {
     "data": {
      "text/plain": [
       "0    62003\n",
       "1    16130\n",
       "Name: ChurnTot, dtype: int64"
      ]
     },
     "execution_count": 85,
     "metadata": {},
     "output_type": "execute_result"
    }
   ],
   "source": [
    "base_clientes.ChurnTot.value_counts()"
   ]
  },
  {
   "cell_type": "code",
   "execution_count": 94,
   "id": "0778ce70",
   "metadata": {},
   "outputs": [],
   "source": [
    "# Volvemos a generar train y test\n",
    "\n",
    "X =  base_clientes.drop('ChurnTot', axis=1)\n",
    "y = base_clientes['ChurnTot']"
   ]
  },
  {
   "cell_type": "markdown",
   "id": "8592d690",
   "metadata": {},
   "source": [
    "Segun este criterio se eliminaron las correlaciones, vamos a volver a generar los modelos. Para ello vamos a realizar un  un grid Seach, para encontratr el mejor modelo el mejor Random Forest.\n"
   ]
  },
  {
   "cell_type": "markdown",
   "id": "b19ad651",
   "metadata": {},
   "source": [
    "#### Volvemos a generar las muestras Train y Test\n"
   ]
  },
  {
   "cell_type": "code",
   "execution_count": 95,
   "id": "34595c90",
   "metadata": {},
   "outputs": [],
   "source": [
    "X_train, X_test, y_train, y_test = train_test_split(X ,\n",
    "                                                    y, \n",
    "                                                    test_size=0.2, \n",
    "                                                    random_state=42, \n",
    "                                                    stratify=y)"
   ]
  },
  {
   "cell_type": "code",
   "execution_count": 97,
   "id": "12ca4737",
   "metadata": {},
   "outputs": [
    {
     "data": {
      "text/plain": [
       "0        0\n",
       "1        0\n",
       "2        0\n",
       "3        1\n",
       "4        0\n",
       "        ..\n",
       "78128    0\n",
       "78129    0\n",
       "78130    0\n",
       "78131    0\n",
       "78132    1\n",
       "Name: ChurnTot, Length: 78133, dtype: int64"
      ]
     },
     "execution_count": 97,
     "metadata": {},
     "output_type": "execute_result"
    }
   ],
   "source": [
    "y"
   ]
  },
  {
   "cell_type": "code",
   "execution_count": 96,
   "id": "a7b446e6",
   "metadata": {},
   "outputs": [
    {
     "data": {
      "text/html": [
       "<div>\n",
       "<style scoped>\n",
       "    .dataframe tbody tr th:only-of-type {\n",
       "        vertical-align: middle;\n",
       "    }\n",
       "\n",
       "    .dataframe tbody tr th {\n",
       "        vertical-align: top;\n",
       "    }\n",
       "\n",
       "    .dataframe thead th {\n",
       "        text-align: right;\n",
       "    }\n",
       "</style>\n",
       "<table border=\"1\" class=\"dataframe\">\n",
       "  <thead>\n",
       "    <tr style=\"text-align: right;\">\n",
       "      <th></th>\n",
       "      <th>Solic</th>\n",
       "      <th>Doc_vtas</th>\n",
       "      <th>Cnt_uni</th>\n",
       "      <th>Cnt_cart</th>\n",
       "      <th>ValN_Pos</th>\n",
       "      <th>Antiguedad</th>\n",
       "      <th>CantPedidaPromedio</th>\n",
       "      <th>ValorNetoPromedio</th>\n",
       "    </tr>\n",
       "  </thead>\n",
       "  <tbody>\n",
       "    <tr>\n",
       "      <th>0</th>\n",
       "      <td>49128</td>\n",
       "      <td>412</td>\n",
       "      <td>2061.0</td>\n",
       "      <td>280.298608</td>\n",
       "      <td>124830.59</td>\n",
       "      <td>251.0</td>\n",
       "      <td>5.002427</td>\n",
       "      <td>302.986869</td>\n",
       "    </tr>\n",
       "    <tr>\n",
       "      <th>1</th>\n",
       "      <td>69792</td>\n",
       "      <td>166</td>\n",
       "      <td>453.0</td>\n",
       "      <td>18.756949</td>\n",
       "      <td>11253.21</td>\n",
       "      <td>242.0</td>\n",
       "      <td>2.728916</td>\n",
       "      <td>67.790422</td>\n",
       "    </tr>\n",
       "    <tr>\n",
       "      <th>2</th>\n",
       "      <td>69868</td>\n",
       "      <td>322</td>\n",
       "      <td>1056.0</td>\n",
       "      <td>36.326960</td>\n",
       "      <td>23169.06</td>\n",
       "      <td>238.0</td>\n",
       "      <td>3.279503</td>\n",
       "      <td>71.953602</td>\n",
       "    </tr>\n",
       "    <tr>\n",
       "      <th>3</th>\n",
       "      <td>70334</td>\n",
       "      <td>47</td>\n",
       "      <td>101.0</td>\n",
       "      <td>9.063893</td>\n",
       "      <td>6416.46</td>\n",
       "      <td>94.0</td>\n",
       "      <td>2.148936</td>\n",
       "      <td>136.520426</td>\n",
       "    </tr>\n",
       "    <tr>\n",
       "      <th>4</th>\n",
       "      <td>70430</td>\n",
       "      <td>148</td>\n",
       "      <td>306.0</td>\n",
       "      <td>16.258070</td>\n",
       "      <td>10853.09</td>\n",
       "      <td>245.0</td>\n",
       "      <td>2.067568</td>\n",
       "      <td>73.331689</td>\n",
       "    </tr>\n",
       "    <tr>\n",
       "      <th>...</th>\n",
       "      <td>...</td>\n",
       "      <td>...</td>\n",
       "      <td>...</td>\n",
       "      <td>...</td>\n",
       "      <td>...</td>\n",
       "      <td>...</td>\n",
       "      <td>...</td>\n",
       "      <td>...</td>\n",
       "    </tr>\n",
       "    <tr>\n",
       "      <th>78128</th>\n",
       "      <td>18172492</td>\n",
       "      <td>22</td>\n",
       "      <td>51.0</td>\n",
       "      <td>2.249996</td>\n",
       "      <td>824.76</td>\n",
       "      <td>42.0</td>\n",
       "      <td>2.318182</td>\n",
       "      <td>37.489091</td>\n",
       "    </tr>\n",
       "    <tr>\n",
       "      <th>78129</th>\n",
       "      <td>18172494</td>\n",
       "      <td>7</td>\n",
       "      <td>7.0</td>\n",
       "      <td>0.444447</td>\n",
       "      <td>360.66</td>\n",
       "      <td>42.0</td>\n",
       "      <td>1.000000</td>\n",
       "      <td>51.522857</td>\n",
       "    </tr>\n",
       "    <tr>\n",
       "      <th>78130</th>\n",
       "      <td>18172498</td>\n",
       "      <td>6</td>\n",
       "      <td>6.0</td>\n",
       "      <td>0.366666</td>\n",
       "      <td>312.26</td>\n",
       "      <td>43.0</td>\n",
       "      <td>1.000000</td>\n",
       "      <td>52.043333</td>\n",
       "    </tr>\n",
       "    <tr>\n",
       "      <th>78131</th>\n",
       "      <td>18172544</td>\n",
       "      <td>51</td>\n",
       "      <td>267.0</td>\n",
       "      <td>9.081116</td>\n",
       "      <td>5917.64</td>\n",
       "      <td>36.0</td>\n",
       "      <td>5.235294</td>\n",
       "      <td>116.032157</td>\n",
       "    </tr>\n",
       "    <tr>\n",
       "      <th>78132</th>\n",
       "      <td>18172546</td>\n",
       "      <td>8</td>\n",
       "      <td>14.0</td>\n",
       "      <td>0.912500</td>\n",
       "      <td>798.20</td>\n",
       "      <td>0.0</td>\n",
       "      <td>1.750000</td>\n",
       "      <td>99.775000</td>\n",
       "    </tr>\n",
       "  </tbody>\n",
       "</table>\n",
       "<p>78133 rows × 8 columns</p>\n",
       "</div>"
      ],
      "text/plain": [
       "          Solic  Doc_vtas  Cnt_uni    Cnt_cart   ValN_Pos  Antiguedad  \\\n",
       "0         49128       412   2061.0  280.298608  124830.59       251.0   \n",
       "1         69792       166    453.0   18.756949   11253.21       242.0   \n",
       "2         69868       322   1056.0   36.326960   23169.06       238.0   \n",
       "3         70334        47    101.0    9.063893    6416.46        94.0   \n",
       "4         70430       148    306.0   16.258070   10853.09       245.0   \n",
       "...         ...       ...      ...         ...        ...         ...   \n",
       "78128  18172492        22     51.0    2.249996     824.76        42.0   \n",
       "78129  18172494         7      7.0    0.444447     360.66        42.0   \n",
       "78130  18172498         6      6.0    0.366666     312.26        43.0   \n",
       "78131  18172544        51    267.0    9.081116    5917.64        36.0   \n",
       "78132  18172546         8     14.0    0.912500     798.20         0.0   \n",
       "\n",
       "       CantPedidaPromedio  ValorNetoPromedio  \n",
       "0                5.002427         302.986869  \n",
       "1                2.728916          67.790422  \n",
       "2                3.279503          71.953602  \n",
       "3                2.148936         136.520426  \n",
       "4                2.067568          73.331689  \n",
       "...                   ...                ...  \n",
       "78128            2.318182          37.489091  \n",
       "78129            1.000000          51.522857  \n",
       "78130            1.000000          52.043333  \n",
       "78131            5.235294         116.032157  \n",
       "78132            1.750000          99.775000  \n",
       "\n",
       "[78133 rows x 8 columns]"
      ]
     },
     "execution_count": 96,
     "metadata": {},
     "output_type": "execute_result"
    }
   ],
   "source": [
    "X\n"
   ]
  },
  {
   "cell_type": "code",
   "execution_count": 98,
   "id": "7f9774c8",
   "metadata": {},
   "outputs": [],
   "source": [
    "from sklearn.model_selection import train_test_split\n",
    "X_train, X_test, y_train, y_test = train_test_split(X , y, test_size=0.2, random_state=42, stratify=y)"
   ]
  },
  {
   "cell_type": "code",
   "execution_count": 99,
   "id": "33e8a393",
   "metadata": {},
   "outputs": [],
   "source": [
    "grid_param = {\n",
    "    'n_estimators': [10, 20, 30, 80, 90],\n",
    "    'criterion': ['gini', 'entropy'],\n",
    "    'bootstrap': [True, False],\n",
    "    'max_depth': [4,5,6,7,8,9,10,12,14,16]\n",
    "}"
   ]
  },
  {
   "cell_type": "markdown",
   "id": "9e640494",
   "metadata": {},
   "source": [
    "### Modelo de regresion"
   ]
  },
  {
   "cell_type": "code",
   "execution_count": 100,
   "id": "c2db4648",
   "metadata": {},
   "outputs": [],
   "source": [
    "classifier = LogisticRegression(solver =\"liblinear\" ,max_iter=1000).fit(X_train, y_train)\n",
    "y_pred     = classifier.predict(X_test) "
   ]
  },
  {
   "cell_type": "code",
   "execution_count": 101,
   "id": "aa8b411a",
   "metadata": {},
   "outputs": [],
   "source": [
    "classifier2 = RandomForestClassifier(max_depth = 8).fit(X_train, y_train)\n",
    "y_pred2    = classifier2.predict(X_test)"
   ]
  },
  {
   "cell_type": "code",
   "execution_count": 102,
   "id": "d7a6f26f",
   "metadata": {},
   "outputs": [],
   "source": [
    "from sklearn.model_selection import GridSearchCV\n",
    "\n",
    "model_grid = GridSearchCV(estimator=classifier2,\n",
    "                     param_grid=grid_param,\n",
    "                     scoring='recall',\n",
    "                     cv=5,\n",
    "                     n_jobs=-1)"
   ]
  },
  {
   "cell_type": "code",
   "execution_count": null,
   "id": "410312d7",
   "metadata": {},
   "outputs": [],
   "source": [
    "model_grid.fit(X_train, y_train) ## No se alcanzo a ejecutar este grid search por falta de tiempo"
   ]
  },
  {
   "cell_type": "code",
   "execution_count": 121,
   "id": "0b0e06c8",
   "metadata": {},
   "outputs": [
    {
     "ename": "AttributeError",
     "evalue": "'GridSearchCV' object has no attribute 'best_params_'",
     "output_type": "error",
     "traceback": [
      "\u001b[1;31m---------------------------------------------------------------------------\u001b[0m",
      "\u001b[1;31mAttributeError\u001b[0m                            Traceback (most recent call last)",
      "\u001b[1;32m~\\AppData\\Local\\Temp/ipykernel_3304/2989548254.py\u001b[0m in \u001b[0;36m<module>\u001b[1;34m\u001b[0m\n\u001b[1;32m----> 1\u001b[1;33m \u001b[0mprint\u001b[0m\u001b[1;33m(\u001b[0m\u001b[0mmodel_grid\u001b[0m\u001b[1;33m.\u001b[0m\u001b[0mbest_params_\u001b[0m\u001b[1;33m)\u001b[0m\u001b[1;33m\u001b[0m\u001b[1;33m\u001b[0m\u001b[0m\n\u001b[0m",
      "\u001b[1;31mAttributeError\u001b[0m: 'GridSearchCV' object has no attribute 'best_params_'"
     ]
    }
   ],
   "source": [
    "print(model_grid.best_params_)"
   ]
  },
  {
   "cell_type": "code",
   "execution_count": null,
   "id": "f5cf784b",
   "metadata": {},
   "outputs": [],
   "source": [
    "print(model_grid.best_score_)"
   ]
  },
  {
   "cell_type": "code",
   "execution_count": 109,
   "id": "0edce523",
   "metadata": {},
   "outputs": [],
   "source": [
    "classifier2 = RandomForestClassifier(max_depth= 4, bootstrap= True, n_estimators= 90, criterion= 'gini').fit(X_train, y_train)\n",
    "y_pred2    = classifier2.predict(X_test)"
   ]
  },
  {
   "cell_type": "code",
   "execution_count": 107,
   "id": "c0d74cc7",
   "metadata": {},
   "outputs": [
    {
     "name": "stdout",
     "output_type": "stream",
     "text": [
      "              precision    recall  f1-score   support\n",
      "\n",
      "           0       0.90      0.97      0.93     12401\n",
      "           1       0.83      0.59      0.69      3226\n",
      "\n",
      "    accuracy                           0.89     15627\n",
      "   macro avg       0.87      0.78      0.81     15627\n",
      "weighted avg       0.89      0.89      0.88     15627\n",
      "\n"
     ]
    }
   ],
   "source": [
    "print(classification_report(y_test, y_pred2))"
   ]
  },
  {
   "cell_type": "code",
   "execution_count": 120,
   "id": "6736d394",
   "metadata": {},
   "outputs": [
    {
     "data": {
      "text/plain": [
       "array([0.09529125, 0.22863199, 0.10588661, 0.08562892, 0.16757941,\n",
       "       0.30221606, 0.01163043, 0.00313533])"
      ]
     },
     "execution_count": 120,
     "metadata": {},
     "output_type": "execute_result"
    }
   ],
   "source": [
    "classifier2.feature_importances_"
   ]
  },
  {
   "cell_type": "code",
   "execution_count": 118,
   "id": "4c8ff6f1",
   "metadata": {},
   "outputs": [
    {
     "data": {
      "text/plain": [
       "array(['Solic', 'Doc_vtas', 'Cnt_uni', 'Cnt_cart', 'ValN_Pos',\n",
       "       'Antiguedad', 'CantPedidaPromedio', 'ValorNetoPromedio'],\n",
       "      dtype=object)"
      ]
     },
     "execution_count": 118,
     "metadata": {},
     "output_type": "execute_result"
    }
   ],
   "source": [
    "classifier2.feature_names_in_"
   ]
  },
  {
   "cell_type": "code",
   "execution_count": 119,
   "id": "4f3f4ecc",
   "metadata": {},
   "outputs": [
    {
     "name": "stdout",
     "output_type": "stream",
     "text": [
      "matriz de confusión\n",
      "[[12020   381]\n",
      " [ 1314  1912]]\n",
      "accuracy\n",
      "0.8915338836628911\n",
      "precision\n",
      "0.8338421282163105\n",
      "recall\n",
      "0.592684438933664\n",
      "f1\n",
      "0.6928791447726037\n",
      "AUC\n",
      "0.7809805550849273\n"
     ]
    },
    {
     "data": {
      "image/png": "[encoded data removed]",
      "text/plain": [
       "<Figure size 432x288 with 1 Axes>"
      ]
     },
     "metadata": {
      "needs_background": "light"
     },
     "output_type": "display_data"
    }
   ],
   "source": [
    "saca_metricas(y_test, y_pred2)"
   ]
  },
  {
   "cell_type": "code",
   "execution_count": null,
   "id": "bbb98938",
   "metadata": {},
   "outputs": [],
   "source": []
  },
  {
   "cell_type": "markdown",
   "id": "5100e495",
   "metadata": {},
   "source": [
    "\n"
   ]
  },
  {
   "cell_type": "markdown",
   "id": "eec521ae",
   "metadata": {},
   "source": [
    "**Candidatos a dejar la empresa**:\n",
    "1. Clientes con pocas antiguedad').\n",
    "2. Clientes con incidencias/reclamaciones (variable: incidencia).\n",
    "4. Clientes que no tienen ningún tipo de descuento (variable: descuentos).\n",
    "5. Clientes sin financiacion.\n",
    "6. Personas jovenes"
   ]
  },
  {
   "cell_type": "markdown",
   "id": "0ee2c4d9",
   "metadata": {},
   "source": [
    "## 7) Conclusión\n",
    "\n",
    "Encuentro que el mejor modelo es el que resulta del arbol de decision *Random Forest*. Lo anterior, porque me clasifica mejor que el resto en calidad **(AUC-ROC~ 0.77)** y ademas, presenta un mejor resultado, tiene un **(accuracy ~ 0.96)**.\n",
    "\n",
    "Adicionalmente, balancea mejor la detección de falsos positivos y falsos negtivos. Por tanto no es tanto fiarse del **score** sino cómo de fiable es el resultado que genera a la hora de clasificar positivos y negativos."
   ]
  },
  {
   "cell_type": "markdown",
   "id": "bb282804",
   "metadata": {},
   "source": [
    "## 8) Predecir los clientes de la cosecha de enero que más probabilidad tienen de cambiarse de operadora"
   ]
  },
  {
   "cell_type": "markdown",
   "id": "acc783b3",
   "metadata": {},
   "source": [
    "Vamos a ver como funciona nuestro mejor modelo para una nueva cosecha, en este caso enero. Para ello es necesario aplicar las mismas transformaciones hechas anteriormente y lo obtengo del **Modelo ganador**."
   ]
  },
  {
   "cell_type": "markdown",
   "id": "f722dd2d",
   "metadata": {},
   "source": [
    "### 8.1) Prediccion "
   ]
  },
  {
   "cell_type": "code",
   "execution_count": 123,
   "id": "2d328335",
   "metadata": {},
   "outputs": [
    {
     "data": {
      "text/html": [
       "<div>\n",
       "<style scoped>\n",
       "    .dataframe tbody tr th:only-of-type {\n",
       "        vertical-align: middle;\n",
       "    }\n",
       "\n",
       "    .dataframe tbody tr th {\n",
       "        vertical-align: top;\n",
       "    }\n",
       "\n",
       "    .dataframe thead th {\n",
       "        text-align: right;\n",
       "    }\n",
       "</style>\n",
       "<table border=\"1\" class=\"dataframe\">\n",
       "  <thead>\n",
       "    <tr style=\"text-align: right;\">\n",
       "      <th></th>\n",
       "      <th>anomes</th>\n",
       "      <th>Solic</th>\n",
       "      <th>Doc_vtas</th>\n",
       "      <th>Cnt_uni</th>\n",
       "      <th>Cnt_cart</th>\n",
       "      <th>ValN_Pos</th>\n",
       "      <th>Churn</th>\n",
       "      <th>Churn1</th>\n",
       "      <th>ChurnTot</th>\n",
       "    </tr>\n",
       "  </thead>\n",
       "  <tbody>\n",
       "    <tr>\n",
       "      <th>446827</th>\n",
       "      <td>2022-06</td>\n",
       "      <td>49128</td>\n",
       "      <td>48</td>\n",
       "      <td>190.0</td>\n",
       "      <td>40.333333</td>\n",
       "      <td>15192.98</td>\n",
       "      <td>0</td>\n",
       "      <td>1</td>\n",
       "      <td>1</td>\n",
       "    </tr>\n",
       "    <tr>\n",
       "      <th>446828</th>\n",
       "      <td>2022-06</td>\n",
       "      <td>69792</td>\n",
       "      <td>24</td>\n",
       "      <td>44.0</td>\n",
       "      <td>1.948612</td>\n",
       "      <td>1367.87</td>\n",
       "      <td>0</td>\n",
       "      <td>1</td>\n",
       "      <td>1</td>\n",
       "    </tr>\n",
       "    <tr>\n",
       "      <th>446829</th>\n",
       "      <td>2022-06</td>\n",
       "      <td>69868</td>\n",
       "      <td>33</td>\n",
       "      <td>126.0</td>\n",
       "      <td>3.243058</td>\n",
       "      <td>3151.65</td>\n",
       "      <td>0</td>\n",
       "      <td>1</td>\n",
       "      <td>1</td>\n",
       "    </tr>\n",
       "    <tr>\n",
       "      <th>446830</th>\n",
       "      <td>2022-06</td>\n",
       "      <td>70430</td>\n",
       "      <td>9</td>\n",
       "      <td>9.0</td>\n",
       "      <td>0.623613</td>\n",
       "      <td>488.94</td>\n",
       "      <td>0</td>\n",
       "      <td>1</td>\n",
       "      <td>1</td>\n",
       "    </tr>\n",
       "    <tr>\n",
       "      <th>446831</th>\n",
       "      <td>2022-06</td>\n",
       "      <td>70566</td>\n",
       "      <td>28</td>\n",
       "      <td>62.0</td>\n",
       "      <td>2.477504</td>\n",
       "      <td>2208.93</td>\n",
       "      <td>0</td>\n",
       "      <td>1</td>\n",
       "      <td>1</td>\n",
       "    </tr>\n",
       "    <tr>\n",
       "      <th>...</th>\n",
       "      <td>...</td>\n",
       "      <td>...</td>\n",
       "      <td>...</td>\n",
       "      <td>...</td>\n",
       "      <td>...</td>\n",
       "      <td>...</td>\n",
       "      <td>...</td>\n",
       "      <td>...</td>\n",
       "      <td>...</td>\n",
       "    </tr>\n",
       "    <tr>\n",
       "      <th>565749</th>\n",
       "      <td>2022-07</td>\n",
       "      <td>18179654</td>\n",
       "      <td>15</td>\n",
       "      <td>27.0</td>\n",
       "      <td>1.931946</td>\n",
       "      <td>1403.30</td>\n",
       "      <td>1</td>\n",
       "      <td>1</td>\n",
       "      <td>2</td>\n",
       "    </tr>\n",
       "    <tr>\n",
       "      <th>565750</th>\n",
       "      <td>2022-07</td>\n",
       "      <td>18179660</td>\n",
       "      <td>24</td>\n",
       "      <td>78.0</td>\n",
       "      <td>6.305558</td>\n",
       "      <td>2662.01</td>\n",
       "      <td>1</td>\n",
       "      <td>1</td>\n",
       "      <td>2</td>\n",
       "    </tr>\n",
       "    <tr>\n",
       "      <th>565751</th>\n",
       "      <td>2022-07</td>\n",
       "      <td>18179662</td>\n",
       "      <td>8</td>\n",
       "      <td>10.0</td>\n",
       "      <td>1.616667</td>\n",
       "      <td>498.44</td>\n",
       "      <td>1</td>\n",
       "      <td>1</td>\n",
       "      <td>2</td>\n",
       "    </tr>\n",
       "    <tr>\n",
       "      <th>565752</th>\n",
       "      <td>2022-07</td>\n",
       "      <td>18179664</td>\n",
       "      <td>20</td>\n",
       "      <td>62.0</td>\n",
       "      <td>4.206549</td>\n",
       "      <td>3267.76</td>\n",
       "      <td>1</td>\n",
       "      <td>1</td>\n",
       "      <td>2</td>\n",
       "    </tr>\n",
       "    <tr>\n",
       "      <th>565753</th>\n",
       "      <td>2022-07</td>\n",
       "      <td>18179668</td>\n",
       "      <td>15</td>\n",
       "      <td>15.0</td>\n",
       "      <td>1.843058</td>\n",
       "      <td>1300.55</td>\n",
       "      <td>1</td>\n",
       "      <td>1</td>\n",
       "      <td>2</td>\n",
       "    </tr>\n",
       "  </tbody>\n",
       "</table>\n",
       "<p>118927 rows × 9 columns</p>\n",
       "</div>"
      ],
      "text/plain": [
       "         anomes     Solic  Doc_vtas  Cnt_uni   Cnt_cart  ValN_Pos  Churn  \\\n",
       "446827  2022-06     49128        48    190.0  40.333333  15192.98      0   \n",
       "446828  2022-06     69792        24     44.0   1.948612   1367.87      0   \n",
       "446829  2022-06     69868        33    126.0   3.243058   3151.65      0   \n",
       "446830  2022-06     70430         9      9.0   0.623613    488.94      0   \n",
       "446831  2022-06     70566        28     62.0   2.477504   2208.93      0   \n",
       "...         ...       ...       ...      ...        ...       ...    ...   \n",
       "565749  2022-07  18179654        15     27.0   1.931946   1403.30      1   \n",
       "565750  2022-07  18179660        24     78.0   6.305558   2662.01      1   \n",
       "565751  2022-07  18179662         8     10.0   1.616667    498.44      1   \n",
       "565752  2022-07  18179664        20     62.0   4.206549   3267.76      1   \n",
       "565753  2022-07  18179668        15     15.0   1.843058   1300.55      1   \n",
       "\n",
       "        Churn1  ChurnTot  \n",
       "446827       1         1  \n",
       "446828       1         1  \n",
       "446829       1         1  \n",
       "446830       1         1  \n",
       "446831       1         1  \n",
       "...        ...       ...  \n",
       "565749       1         2  \n",
       "565750       1         2  \n",
       "565751       1         2  \n",
       "565752       1         2  \n",
       "565753       1         2  \n",
       "\n",
       "[118927 rows x 9 columns]"
      ]
     },
     "execution_count": 123,
     "metadata": {},
     "output_type": "execute_result"
    }
   ],
   "source": [
    "#Prediccion para los meses dos ulitmos meses\n",
    "clientes=resumen[resumen['anomes'] > meses[meses.count()-3]]\n",
    "clientes"
   ]
  },
  {
   "cell_type": "code",
   "execution_count": 124,
   "id": "a2eecb5d",
   "metadata": {},
   "outputs": [],
   "source": [
    "base_clientes_predict=clientes.groupby(['Solic'], as_index = False).agg({\n",
    "                                                                \"ChurnTot\":\"max\",\n",
    "                                                               \"Doc_vtas\":\"sum\",\n",
    "                                                               \"Cnt_uni\":\"sum\",\n",
    "                                                               \"Cnt_cart\":\"sum\",\n",
    "                                                                \"ValN_Pos\":\"sum\"})"
   ]
  },
  {
   "cell_type": "code",
   "execution_count": 126,
   "id": "11719f79",
   "metadata": {},
   "outputs": [
    {
     "data": {
      "text/html": [
       "<div>\n",
       "<style scoped>\n",
       "    .dataframe tbody tr th:only-of-type {\n",
       "        vertical-align: middle;\n",
       "    }\n",
       "\n",
       "    .dataframe tbody tr th {\n",
       "        vertical-align: top;\n",
       "    }\n",
       "\n",
       "    .dataframe thead th {\n",
       "        text-align: right;\n",
       "    }\n",
       "</style>\n",
       "<table border=\"1\" class=\"dataframe\">\n",
       "  <thead>\n",
       "    <tr style=\"text-align: right;\">\n",
       "      <th></th>\n",
       "      <th>Solic</th>\n",
       "      <th>ChurnTot</th>\n",
       "      <th>Doc_vtas</th>\n",
       "      <th>Cnt_uni</th>\n",
       "      <th>Cnt_cart</th>\n",
       "      <th>ValN_Pos</th>\n",
       "      <th>Antiguedad</th>\n",
       "    </tr>\n",
       "  </thead>\n",
       "  <tbody>\n",
       "    <tr>\n",
       "      <th>0</th>\n",
       "      <td>49128</td>\n",
       "      <td>2</td>\n",
       "      <td>80</td>\n",
       "      <td>365.0</td>\n",
       "      <td>60.652776</td>\n",
       "      <td>24772.78</td>\n",
       "      <td>251 days</td>\n",
       "    </tr>\n",
       "    <tr>\n",
       "      <th>1</th>\n",
       "      <td>69792</td>\n",
       "      <td>2</td>\n",
       "      <td>29</td>\n",
       "      <td>50.0</td>\n",
       "      <td>2.295835</td>\n",
       "      <td>1639.56</td>\n",
       "      <td>242 days</td>\n",
       "    </tr>\n",
       "    <tr>\n",
       "      <th>2</th>\n",
       "      <td>69838</td>\n",
       "      <td>2</td>\n",
       "      <td>17</td>\n",
       "      <td>116.0</td>\n",
       "      <td>5.388889</td>\n",
       "      <td>2359.99</td>\n",
       "      <td>0 days</td>\n",
       "    </tr>\n",
       "    <tr>\n",
       "      <th>3</th>\n",
       "      <td>69868</td>\n",
       "      <td>2</td>\n",
       "      <td>59</td>\n",
       "      <td>181.0</td>\n",
       "      <td>5.218062</td>\n",
       "      <td>5121.19</td>\n",
       "      <td>238 days</td>\n",
       "    </tr>\n",
       "    <tr>\n",
       "      <th>4</th>\n",
       "      <td>70430</td>\n",
       "      <td>2</td>\n",
       "      <td>22</td>\n",
       "      <td>38.0</td>\n",
       "      <td>9.820837</td>\n",
       "      <td>2032.04</td>\n",
       "      <td>245 days</td>\n",
       "    </tr>\n",
       "    <tr>\n",
       "      <th>...</th>\n",
       "      <td>...</td>\n",
       "      <td>...</td>\n",
       "      <td>...</td>\n",
       "      <td>...</td>\n",
       "      <td>...</td>\n",
       "      <td>...</td>\n",
       "      <td>...</td>\n",
       "    </tr>\n",
       "    <tr>\n",
       "      <th>67755</th>\n",
       "      <td>18179654</td>\n",
       "      <td>2</td>\n",
       "      <td>15</td>\n",
       "      <td>27.0</td>\n",
       "      <td>1.931946</td>\n",
       "      <td>1403.30</td>\n",
       "      <td>0 days</td>\n",
       "    </tr>\n",
       "    <tr>\n",
       "      <th>67756</th>\n",
       "      <td>18179660</td>\n",
       "      <td>2</td>\n",
       "      <td>24</td>\n",
       "      <td>78.0</td>\n",
       "      <td>6.305558</td>\n",
       "      <td>2662.01</td>\n",
       "      <td>1 days</td>\n",
       "    </tr>\n",
       "    <tr>\n",
       "      <th>67757</th>\n",
       "      <td>18179662</td>\n",
       "      <td>2</td>\n",
       "      <td>8</td>\n",
       "      <td>10.0</td>\n",
       "      <td>1.616667</td>\n",
       "      <td>498.44</td>\n",
       "      <td>0 days</td>\n",
       "    </tr>\n",
       "    <tr>\n",
       "      <th>67758</th>\n",
       "      <td>18179664</td>\n",
       "      <td>2</td>\n",
       "      <td>20</td>\n",
       "      <td>62.0</td>\n",
       "      <td>4.206549</td>\n",
       "      <td>3267.76</td>\n",
       "      <td>0 days</td>\n",
       "    </tr>\n",
       "    <tr>\n",
       "      <th>67759</th>\n",
       "      <td>18179668</td>\n",
       "      <td>2</td>\n",
       "      <td>15</td>\n",
       "      <td>15.0</td>\n",
       "      <td>1.843058</td>\n",
       "      <td>1300.55</td>\n",
       "      <td>0 days</td>\n",
       "    </tr>\n",
       "  </tbody>\n",
       "</table>\n",
       "<p>67760 rows × 7 columns</p>\n",
       "</div>"
      ],
      "text/plain": [
       "          Solic  ChurnTot  Doc_vtas  Cnt_uni   Cnt_cart  ValN_Pos Antiguedad\n",
       "0         49128         2        80    365.0  60.652776  24772.78   251 days\n",
       "1         69792         2        29     50.0   2.295835   1639.56   242 days\n",
       "2         69838         2        17    116.0   5.388889   2359.99     0 days\n",
       "3         69868         2        59    181.0   5.218062   5121.19   238 days\n",
       "4         70430         2        22     38.0   9.820837   2032.04   245 days\n",
       "...         ...       ...       ...      ...        ...       ...        ...\n",
       "67755  18179654         2        15     27.0   1.931946   1403.30     0 days\n",
       "67756  18179660         2        24     78.0   6.305558   2662.01     1 days\n",
       "67757  18179662         2         8     10.0   1.616667    498.44     0 days\n",
       "67758  18179664         2        20     62.0   4.206549   3267.76     0 days\n",
       "67759  18179668         2        15     15.0   1.843058   1300.55     0 days\n",
       "\n",
       "[67760 rows x 7 columns]"
      ]
     },
     "execution_count": 126,
     "metadata": {},
     "output_type": "execute_result"
    }
   ],
   "source": [
    "# Se le adiciona la antiguedad del cliente\n",
    "base_clientes_predict = base_clientes_predict.merge(antiguedad, how='left')\n",
    "base_clientes_predict = base_clientes_predict.drop('FechaMax', axis=1)\n",
    "base_clientes_predict = base_clientes_predict.drop('FechaMin', axis=1)\n",
    "base_clientes_predict"
   ]
  },
  {
   "cell_type": "code",
   "execution_count": 127,
   "id": "537a4797",
   "metadata": {},
   "outputs": [
    {
     "data": {
      "text/html": [
       "<div>\n",
       "<style scoped>\n",
       "    .dataframe tbody tr th:only-of-type {\n",
       "        vertical-align: middle;\n",
       "    }\n",
       "\n",
       "    .dataframe tbody tr th {\n",
       "        vertical-align: top;\n",
       "    }\n",
       "\n",
       "    .dataframe thead th {\n",
       "        text-align: right;\n",
       "    }\n",
       "</style>\n",
       "<table border=\"1\" class=\"dataframe\">\n",
       "  <thead>\n",
       "    <tr style=\"text-align: right;\">\n",
       "      <th></th>\n",
       "      <th>Solic</th>\n",
       "      <th>ChurnTot</th>\n",
       "      <th>Doc_vtas</th>\n",
       "      <th>Cnt_uni</th>\n",
       "      <th>Cnt_cart</th>\n",
       "      <th>ValN_Pos</th>\n",
       "      <th>Antiguedad</th>\n",
       "      <th>CantPedidaPromedio</th>\n",
       "      <th>ValorNetoPromedio</th>\n",
       "    </tr>\n",
       "  </thead>\n",
       "  <tbody>\n",
       "    <tr>\n",
       "      <th>0</th>\n",
       "      <td>49128</td>\n",
       "      <td>2</td>\n",
       "      <td>80</td>\n",
       "      <td>365.0</td>\n",
       "      <td>60.652776</td>\n",
       "      <td>24772.78</td>\n",
       "      <td>251.0</td>\n",
       "      <td>0.885922</td>\n",
       "      <td>60.128107</td>\n",
       "    </tr>\n",
       "    <tr>\n",
       "      <th>1</th>\n",
       "      <td>69792</td>\n",
       "      <td>2</td>\n",
       "      <td>29</td>\n",
       "      <td>50.0</td>\n",
       "      <td>2.295835</td>\n",
       "      <td>1639.56</td>\n",
       "      <td>242.0</td>\n",
       "      <td>0.301205</td>\n",
       "      <td>9.876867</td>\n",
       "    </tr>\n",
       "    <tr>\n",
       "      <th>2</th>\n",
       "      <td>69838</td>\n",
       "      <td>2</td>\n",
       "      <td>17</td>\n",
       "      <td>116.0</td>\n",
       "      <td>5.388889</td>\n",
       "      <td>2359.99</td>\n",
       "      <td>0.0</td>\n",
       "      <td>0.360248</td>\n",
       "      <td>7.329161</td>\n",
       "    </tr>\n",
       "    <tr>\n",
       "      <th>3</th>\n",
       "      <td>69868</td>\n",
       "      <td>2</td>\n",
       "      <td>59</td>\n",
       "      <td>181.0</td>\n",
       "      <td>5.218062</td>\n",
       "      <td>5121.19</td>\n",
       "      <td>238.0</td>\n",
       "      <td>3.851064</td>\n",
       "      <td>108.961489</td>\n",
       "    </tr>\n",
       "    <tr>\n",
       "      <th>4</th>\n",
       "      <td>70430</td>\n",
       "      <td>2</td>\n",
       "      <td>22</td>\n",
       "      <td>38.0</td>\n",
       "      <td>9.820837</td>\n",
       "      <td>2032.04</td>\n",
       "      <td>245.0</td>\n",
       "      <td>0.256757</td>\n",
       "      <td>13.730000</td>\n",
       "    </tr>\n",
       "    <tr>\n",
       "      <th>...</th>\n",
       "      <td>...</td>\n",
       "      <td>...</td>\n",
       "      <td>...</td>\n",
       "      <td>...</td>\n",
       "      <td>...</td>\n",
       "      <td>...</td>\n",
       "      <td>...</td>\n",
       "      <td>...</td>\n",
       "      <td>...</td>\n",
       "    </tr>\n",
       "    <tr>\n",
       "      <th>67755</th>\n",
       "      <td>18179654</td>\n",
       "      <td>2</td>\n",
       "      <td>15</td>\n",
       "      <td>27.0</td>\n",
       "      <td>1.931946</td>\n",
       "      <td>1403.30</td>\n",
       "      <td>0.0</td>\n",
       "      <td>0.221311</td>\n",
       "      <td>11.502459</td>\n",
       "    </tr>\n",
       "    <tr>\n",
       "      <th>67756</th>\n",
       "      <td>18179660</td>\n",
       "      <td>2</td>\n",
       "      <td>24</td>\n",
       "      <td>78.0</td>\n",
       "      <td>6.305558</td>\n",
       "      <td>2662.01</td>\n",
       "      <td>1.0</td>\n",
       "      <td>0.158537</td>\n",
       "      <td>5.410589</td>\n",
       "    </tr>\n",
       "    <tr>\n",
       "      <th>67757</th>\n",
       "      <td>18179662</td>\n",
       "      <td>2</td>\n",
       "      <td>8</td>\n",
       "      <td>10.0</td>\n",
       "      <td>1.616667</td>\n",
       "      <td>498.44</td>\n",
       "      <td>0.0</td>\n",
       "      <td>0.263158</td>\n",
       "      <td>13.116842</td>\n",
       "    </tr>\n",
       "    <tr>\n",
       "      <th>67758</th>\n",
       "      <td>18179664</td>\n",
       "      <td>2</td>\n",
       "      <td>20</td>\n",
       "      <td>62.0</td>\n",
       "      <td>4.206549</td>\n",
       "      <td>3267.76</td>\n",
       "      <td>0.0</td>\n",
       "      <td>0.673913</td>\n",
       "      <td>35.519130</td>\n",
       "    </tr>\n",
       "    <tr>\n",
       "      <th>67759</th>\n",
       "      <td>18179668</td>\n",
       "      <td>2</td>\n",
       "      <td>15</td>\n",
       "      <td>15.0</td>\n",
       "      <td>1.843058</td>\n",
       "      <td>1300.55</td>\n",
       "      <td>0.0</td>\n",
       "      <td>0.306122</td>\n",
       "      <td>26.541837</td>\n",
       "    </tr>\n",
       "  </tbody>\n",
       "</table>\n",
       "<p>67760 rows × 9 columns</p>\n",
       "</div>"
      ],
      "text/plain": [
       "          Solic  ChurnTot  Doc_vtas  Cnt_uni   Cnt_cart  ValN_Pos  Antiguedad  \\\n",
       "0         49128         2        80    365.0  60.652776  24772.78       251.0   \n",
       "1         69792         2        29     50.0   2.295835   1639.56       242.0   \n",
       "2         69838         2        17    116.0   5.388889   2359.99         0.0   \n",
       "3         69868         2        59    181.0   5.218062   5121.19       238.0   \n",
       "4         70430         2        22     38.0   9.820837   2032.04       245.0   \n",
       "...         ...       ...       ...      ...        ...       ...         ...   \n",
       "67755  18179654         2        15     27.0   1.931946   1403.30         0.0   \n",
       "67756  18179660         2        24     78.0   6.305558   2662.01         1.0   \n",
       "67757  18179662         2         8     10.0   1.616667    498.44         0.0   \n",
       "67758  18179664         2        20     62.0   4.206549   3267.76         0.0   \n",
       "67759  18179668         2        15     15.0   1.843058   1300.55         0.0   \n",
       "\n",
       "       CantPedidaPromedio  ValorNetoPromedio  \n",
       "0                0.885922          60.128107  \n",
       "1                0.301205           9.876867  \n",
       "2                0.360248           7.329161  \n",
       "3                3.851064         108.961489  \n",
       "4                0.256757          13.730000  \n",
       "...                   ...                ...  \n",
       "67755            0.221311          11.502459  \n",
       "67756            0.158537           5.410589  \n",
       "67757            0.263158          13.116842  \n",
       "67758            0.673913          35.519130  \n",
       "67759            0.306122          26.541837  \n",
       "\n",
       "[67760 rows x 9 columns]"
      ]
     },
     "execution_count": 127,
     "metadata": {},
     "output_type": "execute_result"
    }
   ],
   "source": [
    "base_clientes_predict['CantPedidaPromedio']=base_clientes_predict['Cnt_uni']/base_clientes['Doc_vtas']\n",
    "base_clientes_predict['ValorNetoPromedio']=base_clientes_predict['ValN_Pos']/base_clientes['Doc_vtas']\n",
    "base_clientes_predict ['Antiguedad']  = base_clientes_predict ['Antiguedad'].astype(str) ## convirtiendo a string\n",
    "base_clientes_predict['Antiguedad'] = base_clientes_predict.Antiguedad.apply(lambda x: float(x[:-5]))  # se le quita la palabra days\n",
    "base_clientes_predict"
   ]
  },
  {
   "cell_type": "code",
   "execution_count": 129,
   "id": "02417b8a",
   "metadata": {},
   "outputs": [],
   "source": [
    "# le quitamos la variable churn\n",
    "base_clientes_pred =base_clientes_predict.drop('ChurnTot', axis=1)"
   ]
  },
  {
   "cell_type": "code",
   "execution_count": 146,
   "id": "68bea4fb",
   "metadata": {},
   "outputs": [],
   "source": [
    "prediccion = classifier2.predict_proba(base_clientes_pred)[:,1]"
   ]
  },
  {
   "cell_type": "code",
   "execution_count": 147,
   "id": "03d1c24c",
   "metadata": {
    "scrolled": true
   },
   "outputs": [
    {
     "data": {
      "text/plain": [
       "array([0.05393328, 0.41407571, 0.71023848, ..., 0.57746661, 0.42558324,\n",
       "       0.53264528])"
      ]
     },
     "execution_count": 147,
     "metadata": {},
     "output_type": "execute_result"
    }
   ],
   "source": [
    "prediccion"
   ]
  },
  {
   "cell_type": "code",
   "execution_count": 148,
   "id": "38279eee",
   "metadata": {},
   "outputs": [],
   "source": [
    "prediccion = (pd.DataFrame(prediccion,columns=['probabilidad'],index=base_clientes_pred.index))\n",
    "prediccion.sort_values(by=['probabilidad'],ascending=False,axis=0,inplace=True)"
   ]
  },
  {
   "cell_type": "code",
   "execution_count": 149,
   "id": "d50cfaea",
   "metadata": {},
   "outputs": [
    {
     "data": {
      "text/html": [
       "<div>\n",
       "<style scoped>\n",
       "    .dataframe tbody tr th:only-of-type {\n",
       "        vertical-align: middle;\n",
       "    }\n",
       "\n",
       "    .dataframe tbody tr th {\n",
       "        vertical-align: top;\n",
       "    }\n",
       "\n",
       "    .dataframe thead th {\n",
       "        text-align: right;\n",
       "    }\n",
       "</style>\n",
       "<table border=\"1\" class=\"dataframe\">\n",
       "  <thead>\n",
       "    <tr style=\"text-align: right;\">\n",
       "      <th></th>\n",
       "      <th>probabilidad</th>\n",
       "    </tr>\n",
       "  </thead>\n",
       "  <tbody>\n",
       "    <tr>\n",
       "      <th>42463</th>\n",
       "      <td>0.945351</td>\n",
       "    </tr>\n",
       "    <tr>\n",
       "      <th>46704</th>\n",
       "      <td>0.945351</td>\n",
       "    </tr>\n",
       "    <tr>\n",
       "      <th>55865</th>\n",
       "      <td>0.945351</td>\n",
       "    </tr>\n",
       "    <tr>\n",
       "      <th>42133</th>\n",
       "      <td>0.945351</td>\n",
       "    </tr>\n",
       "    <tr>\n",
       "      <th>50305</th>\n",
       "      <td>0.944356</td>\n",
       "    </tr>\n",
       "  </tbody>\n",
       "</table>\n",
       "</div>"
      ],
      "text/plain": [
       "       probabilidad\n",
       "42463      0.945351\n",
       "46704      0.945351\n",
       "55865      0.945351\n",
       "42133      0.945351\n",
       "50305      0.944356"
      ]
     },
     "execution_count": 149,
     "metadata": {},
     "output_type": "execute_result"
    }
   ],
   "source": [
    "prediccion.head()"
   ]
  },
  {
   "cell_type": "code",
   "execution_count": 152,
   "id": "a6386384",
   "metadata": {},
   "outputs": [],
   "source": [
    "# Guardar en ur archivo la prediccion\n",
    "prediccion.to_csv('./datos/prediccion.csv') "
   ]
  },
  {
   "cell_type": "markdown",
   "id": "4f0604b4",
   "metadata": {},
   "source": [
    "\n",
    "Finalmente tenemos un modelo con hasta una probabilidad entorno al 60% de los casos de predecir clientes más probables a marcharse de la compañía"
   ]
  },
  {
   "cell_type": "code",
   "execution_count": 143,
   "id": "de432bd3",
   "metadata": {},
   "outputs": [
    {
     "name": "stdout",
     "output_type": "stream",
     "text": [
      "Variable: Antiguedad           Importance: 0.3022\n",
      "Variable: Doc_vtas             Importance: 0.2286\n",
      "Variable: ValN_Pos             Importance: 0.1676\n",
      "Variable: Cnt_uni              Importance: 0.1059\n",
      "Variable: Solic                Importance: 0.0953\n",
      "Variable: Cnt_cart             Importance: 0.0856\n",
      "Variable: CantPedidaPromedio   Importance: 0.0116\n",
      "Variable: ValorNetoPromedio    Importance: 0.0031\n"
     ]
    },
    {
     "data": {
      "text/plain": [
       "[None, None, None, None, None, None, None, None]"
      ]
     },
     "execution_count": 143,
     "metadata": {},
     "output_type": "execute_result"
    }
   ],
   "source": [
    "features= base_clientes.drop(['ChurnTot'], axis=1)\n",
    "\n",
    "feature_list = list(features.columns)\n",
    "importances = list(classifier2.feature_importances_)\n",
    "feature_importances = [(feature, round(importance, 4)) for feature, importance in zip(feature_list, importances)]\n",
    "feature_importances = sorted(feature_importances, key = lambda x: x[1], reverse = True)\n",
    "[print('Variable: {:20} Importance: {}'.format(*pair)) for pair in feature_importances]"
   ]
  },
  {
   "cell_type": "markdown",
   "id": "21edba0b",
   "metadata": {},
   "source": [
    "# IMPORTANCIA DE LAS VARIABLES Y CONCLUSION FINAL:\n",
    "\n",
    "\n",
    "\n",
    "Las variable mas determinantes en la fuga de clientes para la compañía Colombina son\n",
    "\n",
    "- **Antiguedad**, Antiguedad\n",
    "- **Doc_vtas**, frecuencia de compra\n",
    "- **ValN_Pos**,  Valor neto pagado\n",
    "\n"
   ]
  },
  {
   "cell_type": "code",
   "execution_count": null,
   "id": "405541df",
   "metadata": {},
   "outputs": [],
   "source": []
  }
 ],
 "metadata": {
  "kernelspec": {
   "display_name": "Python 3 (ipykernel)",
   "language": "python",
   "name": "python3"
  },
  "language_info": {
   "codemirror_mode": {
    "name": "ipython",
    "version": 3
   },
   "file_extension": ".py",
   "mimetype": "text/x-python",
   "name": "python",
   "nbconvert_exporter": "python",
   "pygments_lexer": "ipython3",
   "version": "3.9.7"
  }
 },
 "nbformat": 4,
 "nbformat_minor": 5
}
