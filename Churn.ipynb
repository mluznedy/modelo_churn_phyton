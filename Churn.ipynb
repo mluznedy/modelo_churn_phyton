{
 "cells": [
  {
   "cell_type": "markdown",
   "id": "639a5c8c",
   "metadata": {},
   "source": [
    "# PRÁCTICA MACHINE LEARNING CON PYTHON\n",
    "\n",
    "\n",
    "\n",
    "Máster Big Data y Data Science (UCM) - \n",
    "Profesor Módulo: José Ángel Carballo, \n",
    "**Elaborado por Maria Luznedy Gomez**"
   ]
  },
  {
   "cell_type": "markdown",
   "id": "d8d3bb07",
   "metadata": {},
   "source": [
    "## INTRODUCCION\n",
    "\n",
    "El objetivo de la práctica consiste en calcular el **churn** de clientes en una empresa de telecomunicaciones. Se dispone de varios datasets (Cosechas DIC 2019 y ENE 2020) con datos que aportan información de los clientes, productos, consumos y financiación. \n",
    "\n",
    "No obstante, la variable target no se tiene, por lo que habrá que construirla a través del \"id\" (identificador de cliente) común en todos los datasets.\n",
    "\n",
    "## DESCRIPCIÓN DE VARIABLES:\n",
    "**CLIENTES**\n",
    "- **edad**: edad de los clientes.\n",
    "- **facturacion:** dinero que pagan los clientes al mes.\n",
    "- **antiguedad:** fecha de alta del cliente.\n",
    "- **provincia:** lugar de procedencia del cliente.\n",
    "- **num_lineas:** número de líneas móviles contratadas.\n",
    "- **num_dt:** número de líneas en impago.\n",
    "- **incidencia:** es SI,si el cliente ha tenido alguna incidencia/reclamación.\n",
    "\n",
    "**PRODUCTOS**\n",
    "- **conexión:** tipo de conexión de internet del cliente.\n",
    "- **vel_conexion:** velocidad de conexión de internet.\n",
    "- **TV:** tipo de paquete de tv contratado por el cliente.\n",
    "\n",
    "**CONSUMOS**\n",
    "- **num_llamad_ent:** número de llamadas entrantes de todas sus líneas.\n",
    "- **num_llamad_sal:** número de llamadas salientes de todas sus líneas.\n",
    "- **mb_datos:** mb de los datos consumidos en todas sus líneas.\n",
    "- **seg_llamad_ent:** segundos consumidos en llamadas entrantes.\n",
    "- **seg_llamad_sal:** segundos consumidos en llamadas salientes.\n",
    "\n",
    "**FINANCIACIÓN**\n",
    "- **financiación:** es SI, si el cliente tiene financiado algún terminal.\n",
    "- **imp_financ:** el dinero mensual que paga por los terminales financiados.\n",
    "- **descuentos:** es SI, si el cliente tiene activo algún descuento (campaña).\n",
    "\n",
    "\n",
    "## TABLA DE CONTENIDO:\n",
    "\n",
    "    0. Cargar las librerias necesarias para la practica\n",
    "    1. Cargar datos de enero y diciembre.\n",
    "    2. Creacion la variable Target\n",
    "    3. Prepocesado y limplieza de datos\n",
    "    4. Correr un modelo inicial y evaluar sus resultados\n",
    "    5. Mejorar el modelo:\n",
    "        1. Transformar las variables para mejorar su correlación con la objetivo.\n",
    "        2. Añadir variables que puedan haber sido quitadas en el pre-proceso.\n",
    "        4. Seleccionar las variables mas significativas.\n",
    "    6. Correr modelos y evaluar resultados \n",
    "    7. Conclusiones\n",
    "    8. Prediccion de Enero\n"
   ]
  },
  {
   "cell_type": "markdown",
   "id": "6f1fc263",
   "metadata": {},
   "source": [
    "## 0) Cargue de Paquetes Phyton\n",
    "\n",
    "Se cargan las librerias necesarias para el analisis."
   ]
  },
  {
   "cell_type": "code",
   "execution_count": 2,
   "id": "a3461c08",
   "metadata": {},
   "outputs": [],
   "source": [
    "import pandas as pd                                  # OK\n",
    "import matplotlib.pyplot as plt                      # OK\n",
    "import seaborn as sns                                # OK\n",
    "import numpy as np                                   # OK\n",
    "from sklearn.model_selection import train_test_split #OK\n",
    "from sklearn import preprocessing                    # ok\n",
    "from datetime import datetime                        # OK\n",
    "from sklearn.metrics import precision_score          # ok\n",
    "from sklearn.metrics import accuracy_score           # OK\n",
    "from sklearn.metrics import auc                      # OK \n",
    "from sklearn.metrics import f1_score                 # OK\n",
    "from sklearn.metrics import recall_score             # OK\n",
    "from sklearn.metrics import roc_curve                # OK\n",
    "from sklearn.ensemble import RandomForestClassifier  # OK\n",
    "from sklearn.linear_model import LogisticRegression  # OK\n",
    "from sklearn.tree import DecisionTreeClassifier      # OK\n",
    "from sklearn.metrics import confusion_matrix         # OK\n",
    "from sklearn.preprocessing import LabelEncoder       # OK\n",
    "from sklearn.metrics import classification_report    # OK\n",
    "from sklearn.feature_selection import VarianceThreshold # eliminacion por variaza, las variables mas importantes del modelo o le dices cuales son las m[as importantes, le dices las k variables]"
   ]
  },
  {
   "cell_type": "markdown",
   "id": "ca7ecfa6",
   "metadata": {},
   "source": [
    "## 1) Cargue de Datos\n",
    "\n",
    "\n",
    "Se carga toda la informacion tanto de enero como de diciembre, teniendo en cuenta el separador del archivo CSV"
   ]
  },
  {
   "cell_type": "code",
   "execution_count": 3,
   "id": "acba2727",
   "metadata": {},
   "outputs": [],
   "source": [
    "consumo_ene = pd.read_csv('./enero/consumos_enero.csv', sep = '|')\n",
    "cliente_ene = pd.read_csv('./enero/clientes_enero.csv', sep = '|')\n",
    "financia_ene = pd.read_csv('./enero/financiacion_enero.csv', sep = '|')\n",
    "producto_ene = pd.read_csv('./enero/productos_enero.csv', sep = '|')\n",
    "consumo_dic = pd.read_csv('./diciembre/consumos_diciembre.csv', sep = '|')\n",
    "cliente_dic = pd.read_csv('./diciembre/clientes_diciembre.csv', sep = '|')\n",
    "financia_dic = pd.read_csv('./diciembre/financiacion_diciembre.csv', sep = '|')\n",
    "producto_dic = pd.read_csv('./diciembre/productos_diciembre.csv', sep = '|')"
   ]
  },
  {
   "cell_type": "markdown",
   "id": "31f3ea83",
   "metadata": {},
   "source": [
    "#### Revisamos la informacion de Diciembre y Enero, al igual que los tamaños de los archivos\n",
    "\n",
    "Aqui se realiza una breve validacion de la informacion que se cargo en cada unos de los archivos para Enero"
   ]
  },
  {
   "cell_type": "code",
   "execution_count": 4,
   "id": "ffec2d18",
   "metadata": {},
   "outputs": [
    {
     "name": "stdout",
     "output_type": "stream",
     "text": [
      "Tamaño de tabla de consumos Enero: 92711\n",
      "Tamaño de tabla de clientes Enero: 92711\n",
      "Tamaño de tabla de financiación Enero: 25332\n",
      "Tamaño de tabla de productos Enero: 92711\n"
     ]
    }
   ],
   "source": [
    "print('Tamaño de tabla de consumos Enero:',consumo_ene.shape[0])\n",
    "print('Tamaño de tabla de clientes Enero:',cliente_ene.shape[0])\n",
    "print('Tamaño de tabla de financiación Enero:',financia_ene.shape[0])\n",
    "print('Tamaño de tabla de productos Enero:',producto_ene.shape[0])"
   ]
  },
  {
   "cell_type": "markdown",
   "id": "59fe29b5",
   "metadata": {},
   "source": [
    "Aqui se realiza una breve validacion de la informacion que se cargo en cada unos de los archivos para Diciembre"
   ]
  },
  {
   "cell_type": "code",
   "execution_count": 5,
   "id": "373459c6",
   "metadata": {},
   "outputs": [
    {
     "name": "stdout",
     "output_type": "stream",
     "text": [
      "Tamaño de tabla de consumos Diciembre: 95467\n",
      "Tamaño de tabla de clientes Diciembrero: 95467\n",
      "Tamaño de tabla de financiación Diciembre: 24198\n",
      "Tamaño de tabla de productos Diciembre: 95467\n"
     ]
    }
   ],
   "source": [
    "print('Tamaño de tabla de consumos Diciembre:',consumo_dic.shape[0])\n",
    "print('Tamaño de tabla de clientes Diciembrero:',cliente_dic.shape[0])\n",
    "print('Tamaño de tabla de financiación Diciembre:',financia_dic.shape[0])\n",
    "print('Tamaño de tabla de productos Diciembre:',producto_dic.shape[0])"
   ]
  },
  {
   "cell_type": "markdown",
   "id": "092ba52f",
   "metadata": {},
   "source": [
    "### 1.1) Consolidación de Información:\n",
    "\n",
    "Se consolidan las tablas para Diciembre y Enero"
   ]
  },
  {
   "cell_type": "code",
   "execution_count": 6,
   "id": "a7cdc490",
   "metadata": {},
   "outputs": [],
   "source": [
    "consolidada_ene=cliente_ene.merge(consumo_ene,how='left')\n",
    "consolidada_ene=consolidada_ene.merge(financia_ene,how='left' )\n",
    "consolidada_ene=consolidada_ene.merge(producto_ene,how='left')"
   ]
  },
  {
   "cell_type": "markdown",
   "id": "87b91019",
   "metadata": {},
   "source": [
    "Se consolida igualmente diciembre en unico archivo"
   ]
  },
  {
   "cell_type": "code",
   "execution_count": 7,
   "id": "2b0af317",
   "metadata": {},
   "outputs": [],
   "source": [
    "consolidada_dic=cliente_dic.merge(consumo_dic,how='left')\n",
    "consolidada_dic=consolidada_dic.merge(financia_dic,how='left')\n",
    "consolidada_dic=consolidada_dic.merge(producto_dic,how='left')"
   ]
  },
  {
   "cell_type": "markdown",
   "id": "0ed5d2e4",
   "metadata": {},
   "source": [
    "#### Se resetean los indices, para evitar duplicados"
   ]
  },
  {
   "cell_type": "code",
   "execution_count": 8,
   "id": "81ad8ca5",
   "metadata": {},
   "outputs": [],
   "source": [
    "consolidada_dic.reset_index(drop= True , inplace=True)\n",
    "consolidada_ene.reset_index(drop= True , inplace=True)"
   ]
  },
  {
   "cell_type": "code",
   "execution_count": 9,
   "id": "743aba8f",
   "metadata": {},
   "outputs": [
    {
     "name": "stdout",
     "output_type": "stream",
     "text": [
      "Diciembre:  95467\n",
      "Enero:  92711\n"
     ]
    }
   ],
   "source": [
    "print('Diciembre: ',len(consolidada_dic['id'].unique()))\n",
    "print('Enero: ',len(consolidada_ene['id'].unique()))"
   ]
  },
  {
   "cell_type": "markdown",
   "id": "f2fbb2e6",
   "metadata": {},
   "source": [
    "En las tablas consolidadas se encuentra toda la informacion y no se han perdido datos, para diciembre hay *95467* y para enero *92711*."
   ]
  },
  {
   "cell_type": "markdown",
   "id": "df96ef5f",
   "metadata": {},
   "source": [
    "## 2) Creacion la Variable Target"
   ]
  },
  {
   "cell_type": "markdown",
   "id": "ef83de3d",
   "metadata": {},
   "source": [
    "Se crea la variable Target a partir de la informacion de enero, si no esxiste en Enero es porque el cliente abandono la compañía y se le asigna el vlaor de uno, mientras que si continua se le asigna el valor de 0.\n",
    "\n",
    "Antes se comprobará que no hay duplicados y se tendrá especial cuidado en el sentido que se hace la comparación para no cometer el error de hacerlo al revés, ya que la target no tendría nada que ver con el objetivo de la práctica"
   ]
  },
  {
   "cell_type": "code",
   "execution_count": 10,
   "id": "d1eb84a6",
   "metadata": {},
   "outputs": [],
   "source": [
    "consolidada_dic['retiro'] = consolidada_dic['id'].isin(consolidada_ene['id'])\n",
    "consolidada_dic['retiro']= consolidada_dic['retiro'].apply(lambda x: 'No' if x == True else 'Si')"
   ]
  },
  {
   "cell_type": "code",
   "execution_count": 11,
   "id": "01f7eebf",
   "metadata": {},
   "outputs": [],
   "source": [
    "consolidada_ene['retiro'] = np.nan"
   ]
  },
  {
   "cell_type": "code",
   "execution_count": 12,
   "id": "dd82978c",
   "metadata": {},
   "outputs": [
    {
     "data": {
      "text/plain": [
       "id                    0\n",
       "edad                  0\n",
       "facturacion           0\n",
       "antiguedad            0\n",
       "provincia             0\n",
       "num_lineas            0\n",
       "num_dt            90738\n",
       "incidencia        91893\n",
       "num_llamad_ent        0\n",
       "num_llamad_sal        0\n",
       "mb_datos              0\n",
       "seg_llamad_ent        0\n",
       "seg_llamad_sal        0\n",
       "financiacion      89095\n",
       "imp_financ        89095\n",
       "descuentos        76313\n",
       "conexion              0\n",
       "vel_conexion          3\n",
       "TV                    0\n",
       "retiro                0\n",
       "dtype: int64"
      ]
     },
     "execution_count": 12,
     "metadata": {},
     "output_type": "execute_result"
    }
   ],
   "source": [
    "consolidada_dic.isnull().sum() "
   ]
  },
  {
   "cell_type": "markdown",
   "id": "e181c83a",
   "metadata": {},
   "source": [
    "## 3) Pre Procesado y Limpieza de los Datos\n",
    "\n",
    "#### Se Trabaja con las variables fecha para crear la antiguedad\n",
    "\n",
    "Tenemos una variable con las fechas de alta de los clientes, esta variable es leída como cadena de caracteres. Sin embargo, el objetivo es pasarla a numérica. Para ello, tenemos que hacer un paso intermedio convirtiéndola a formato fecha previamente.\n",
    "\n",
    "La transformación a formato fecha la hacemos con la función datetime.strptime(). Es importante recalcar que, para que la función haga la conversión, hay que correctamente especificar el formato de fecha que se está usando. En este caso: '%m/%d/%Y %I:%M %p'.\n",
    "\n",
    "Una vez en formato fecha, le paso la función 'datetime.timestamp()' para realizar la conversión a numérico.\n"
   ]
  },
  {
   "cell_type": "code",
   "execution_count": 13,
   "id": "a1de0c92",
   "metadata": {},
   "outputs": [],
   "source": [
    "consolidada_dic['antiguedad']= pd.to_datetime(consolidada_dic['antiguedad'], format= '%Y-%m-%d %H:%M:%S')\n",
    "consolidada_ene['antiguedad']= pd.to_datetime(consolidada_ene['antiguedad'], format= '%m/%d/%Y %I:%M %p')"
   ]
  },
  {
   "cell_type": "code",
   "execution_count": 14,
   "id": "44570780",
   "metadata": {},
   "outputs": [],
   "source": [
    "diciembre_fin_mes = pd.to_datetime('2019-12-31 00:00:00', format= '%Y-%m-%d %H:%M:%S')\n",
    "enero_fin_mes = pd.to_datetime('01/31/2020 12:00 AM', format= '%m/%d/%Y %I:%M %p')\n"
   ]
  },
  {
   "cell_type": "code",
   "execution_count": 15,
   "id": "806395b1",
   "metadata": {},
   "outputs": [],
   "source": [
    "consolidada_dic['antiguedad'] = diciembre_fin_mes - consolidada_dic['antiguedad']\n",
    "consolidada_ene['antiguedad'] = enero_fin_mes - consolidada_ene['antiguedad']\n"
   ]
  },
  {
   "cell_type": "code",
   "execution_count": 16,
   "id": "ae5da63e",
   "metadata": {},
   "outputs": [],
   "source": [
    "consolidada_dic['antiguedad'] = consolidada_dic['antiguedad'].astype('timedelta64[D]').astype(int)\n",
    "consolidada_ene['antiguedad'] = consolidada_ene['antiguedad'].astype('timedelta64[D]').astype(int)\n"
   ]
  },
  {
   "cell_type": "code",
   "execution_count": 17,
   "id": "ade71ee8",
   "metadata": {},
   "outputs": [
    {
     "data": {
      "text/plain": [
       "0     402\n",
       "1     860\n",
       "2    6577\n",
       "3    1605\n",
       "4    8158\n",
       "Name: antiguedad, dtype: int32"
      ]
     },
     "execution_count": 17,
     "metadata": {},
     "output_type": "execute_result"
    }
   ],
   "source": [
    "consolidada_dic['antiguedad'].head()"
   ]
  },
  {
   "cell_type": "code",
   "execution_count": 18,
   "id": "2d4de626",
   "metadata": {},
   "outputs": [
    {
     "data": {
      "text/plain": [
       "0     433\n",
       "1     891\n",
       "2    6608\n",
       "3    1636\n",
       "4    8122\n",
       "Name: antiguedad, dtype: int32"
      ]
     },
     "execution_count": 18,
     "metadata": {},
     "output_type": "execute_result"
    }
   ],
   "source": [
    "\n",
    "consolidada_ene['antiguedad'].head()"
   ]
  },
  {
   "cell_type": "code",
   "execution_count": 19,
   "id": "e200d878",
   "metadata": {},
   "outputs": [],
   "source": [
    "#Se vuelve a unir las bases "
   ]
  },
  {
   "cell_type": "code",
   "execution_count": 20,
   "id": "1905a53e",
   "metadata": {},
   "outputs": [],
   "source": [
    "consolidada_dic['Mes']='Diciembre'\n",
    "consolidada_ene['Mes']='Enero'\n"
   ]
  },
  {
   "cell_type": "markdown",
   "id": "c90e6a18",
   "metadata": {},
   "source": [
    "### 3.1) Realizar un pre procesado y una limpieza de los datos."
   ]
  },
  {
   "cell_type": "markdown",
   "id": "f02655a0",
   "metadata": {},
   "source": [
    "Esta seccion consiste en hacer un análisis exploratorio de los datos (EDA) para entre otras cosas, detectar posibles inconsistencias. Normalmente se eliminan y/o rellenar registros nulos, se eliminan columnas con valores únicos/no utilizables, se hace transformación de variables categóricas a numéricas, escalado de variables, muestreo estratificado: Conjuntos Train/Test, análisis variables, detección outliers, etc\n",
    "\n",
    "El preprocesado inicia con la validacion de los valores nulos, en este caso. Se observan varias variables con valores nulos, estos seran reemplazados por otros valores."
   ]
  },
  {
   "cell_type": "markdown",
   "id": "40f3f8a8",
   "metadata": {},
   "source": [
    "primero voy a revisar valores únicos para validar cuantas categorias se pueden sacar en las variables ordinales y las categoricas"
   ]
  },
  {
   "cell_type": "markdown",
   "id": "b30d9fa5",
   "metadata": {},
   "source": [
    "#### Número de valores únicos que tiene cada variable"
   ]
  },
  {
   "cell_type": "code",
   "execution_count": 21,
   "id": "688b4eeb",
   "metadata": {},
   "outputs": [
    {
     "data": {
      "text/plain": [
       "id                95467\n",
       "edad                 68\n",
       "facturacion       95467\n",
       "antiguedad         9131\n",
       "provincia            50\n",
       "num_lineas            8\n",
       "num_dt                5\n",
       "incidencia            2\n",
       "num_llamad_ent      251\n",
       "num_llamad_sal      101\n",
       "mb_datos          24456\n",
       "seg_llamad_ent    19829\n",
       "seg_llamad_sal    19821\n",
       "financiacion          2\n",
       "imp_financ         6373\n",
       "descuentos            2\n",
       "conexion              2\n",
       "vel_conexion         15\n",
       "TV                    3\n",
       "retiro                2\n",
       "Mes                   1\n",
       "dtype: int64"
      ]
     },
     "execution_count": 21,
     "metadata": {},
     "output_type": "execute_result"
    }
   ],
   "source": [
    "pd.DataFrame(consolidada_dic.columns, index=consolidada_dic.columns).apply(lambda x: len(consolidada_dic[x[0]].unique()), axis=1)"
   ]
  },
  {
   "cell_type": "code",
   "execution_count": 22,
   "id": "b6ba6f65",
   "metadata": {},
   "outputs": [
    {
     "data": {
      "text/html": [
       "<div>\n",
       "<style scoped>\n",
       "    .dataframe tbody tr th:only-of-type {\n",
       "        vertical-align: middle;\n",
       "    }\n",
       "\n",
       "    .dataframe tbody tr th {\n",
       "        vertical-align: top;\n",
       "    }\n",
       "\n",
       "    .dataframe thead th {\n",
       "        text-align: right;\n",
       "    }\n",
       "</style>\n",
       "<table border=\"1\" class=\"dataframe\">\n",
       "  <thead>\n",
       "    <tr style=\"text-align: right;\">\n",
       "      <th></th>\n",
       "      <th>id</th>\n",
       "      <th>edad</th>\n",
       "      <th>facturacion</th>\n",
       "      <th>antiguedad</th>\n",
       "      <th>num_lineas</th>\n",
       "      <th>num_dt</th>\n",
       "      <th>num_llamad_ent</th>\n",
       "      <th>num_llamad_sal</th>\n",
       "      <th>mb_datos</th>\n",
       "      <th>seg_llamad_ent</th>\n",
       "      <th>seg_llamad_sal</th>\n",
       "      <th>imp_financ</th>\n",
       "    </tr>\n",
       "  </thead>\n",
       "  <tbody>\n",
       "    <tr>\n",
       "      <th>count</th>\n",
       "      <td>95467.000000</td>\n",
       "      <td>95467.000000</td>\n",
       "      <td>95467.000000</td>\n",
       "      <td>95467.000000</td>\n",
       "      <td>95467.000000</td>\n",
       "      <td>4729.000000</td>\n",
       "      <td>95467.000000</td>\n",
       "      <td>95467.000000</td>\n",
       "      <td>95467.000000</td>\n",
       "      <td>95467.000000</td>\n",
       "      <td>95467.000000</td>\n",
       "      <td>6372.000000</td>\n",
       "    </tr>\n",
       "    <tr>\n",
       "      <th>mean</th>\n",
       "      <td>49994.256832</td>\n",
       "      <td>49.779379</td>\n",
       "      <td>207.392912</td>\n",
       "      <td>4572.466968</td>\n",
       "      <td>3.559261</td>\n",
       "      <td>2.508141</td>\n",
       "      <td>124.815633</td>\n",
       "      <td>50.022762</td>\n",
       "      <td>12489.795898</td>\n",
       "      <td>9945.152849</td>\n",
       "      <td>9929.715221</td>\n",
       "      <td>22.268613</td>\n",
       "    </tr>\n",
       "    <tr>\n",
       "      <th>std</th>\n",
       "      <td>28873.008865</td>\n",
       "      <td>19.832963</td>\n",
       "      <td>111.343491</td>\n",
       "      <td>2630.422152</td>\n",
       "      <td>1.095542</td>\n",
       "      <td>1.121994</td>\n",
       "      <td>72.492338</td>\n",
       "      <td>29.119904</td>\n",
       "      <td>7239.421267</td>\n",
       "      <td>5784.158514</td>\n",
       "      <td>5819.207033</td>\n",
       "      <td>10.177659</td>\n",
       "    </tr>\n",
       "    <tr>\n",
       "      <th>min</th>\n",
       "      <td>1.000000</td>\n",
       "      <td>18.000000</td>\n",
       "      <td>15.000439</td>\n",
       "      <td>-1.000000</td>\n",
       "      <td>1.000000</td>\n",
       "      <td>1.000000</td>\n",
       "      <td>0.000000</td>\n",
       "      <td>0.000000</td>\n",
       "      <td>0.000000</td>\n",
       "      <td>0.000000</td>\n",
       "      <td>0.000000</td>\n",
       "      <td>5.009999</td>\n",
       "    </tr>\n",
       "    <tr>\n",
       "      <th>25%</th>\n",
       "      <td>24997.500000</td>\n",
       "      <td>32.000000</td>\n",
       "      <td>111.383822</td>\n",
       "      <td>2308.000000</td>\n",
       "      <td>3.000000</td>\n",
       "      <td>2.000000</td>\n",
       "      <td>62.000000</td>\n",
       "      <td>25.000000</td>\n",
       "      <td>6177.500000</td>\n",
       "      <td>4951.000000</td>\n",
       "      <td>4910.000000</td>\n",
       "      <td>13.432253</td>\n",
       "    </tr>\n",
       "    <tr>\n",
       "      <th>50%</th>\n",
       "      <td>49970.000000</td>\n",
       "      <td>49.000000</td>\n",
       "      <td>206.808431</td>\n",
       "      <td>4586.000000</td>\n",
       "      <td>4.000000</td>\n",
       "      <td>3.000000</td>\n",
       "      <td>124.000000</td>\n",
       "      <td>50.000000</td>\n",
       "      <td>12466.000000</td>\n",
       "      <td>9923.000000</td>\n",
       "      <td>9922.000000</td>\n",
       "      <td>21.885534</td>\n",
       "    </tr>\n",
       "    <tr>\n",
       "      <th>75%</th>\n",
       "      <td>75021.500000</td>\n",
       "      <td>67.000000</td>\n",
       "      <td>304.436599</td>\n",
       "      <td>6850.000000</td>\n",
       "      <td>4.000000</td>\n",
       "      <td>4.000000</td>\n",
       "      <td>188.000000</td>\n",
       "      <td>75.000000</td>\n",
       "      <td>18785.500000</td>\n",
       "      <td>14948.500000</td>\n",
       "      <td>14961.000000</td>\n",
       "      <td>31.155292</td>\n",
       "    </tr>\n",
       "    <tr>\n",
       "      <th>max</th>\n",
       "      <td>100000.000000</td>\n",
       "      <td>85.000000</td>\n",
       "      <td>399.998433</td>\n",
       "      <td>9129.000000</td>\n",
       "      <td>39.000000</td>\n",
       "      <td>4.000000</td>\n",
       "      <td>250.000000</td>\n",
       "      <td>100.000000</td>\n",
       "      <td>25000.000000</td>\n",
       "      <td>20000.000000</td>\n",
       "      <td>20000.000000</td>\n",
       "      <td>39.990128</td>\n",
       "    </tr>\n",
       "  </tbody>\n",
       "</table>\n",
       "</div>"
      ],
      "text/plain": [
       "                  id          edad   facturacion    antiguedad    num_lineas  \\\n",
       "count   95467.000000  95467.000000  95467.000000  95467.000000  95467.000000   \n",
       "mean    49994.256832     49.779379    207.392912   4572.466968      3.559261   \n",
       "std     28873.008865     19.832963    111.343491   2630.422152      1.095542   \n",
       "min         1.000000     18.000000     15.000439     -1.000000      1.000000   \n",
       "25%     24997.500000     32.000000    111.383822   2308.000000      3.000000   \n",
       "50%     49970.000000     49.000000    206.808431   4586.000000      4.000000   \n",
       "75%     75021.500000     67.000000    304.436599   6850.000000      4.000000   \n",
       "max    100000.000000     85.000000    399.998433   9129.000000     39.000000   \n",
       "\n",
       "            num_dt  num_llamad_ent  num_llamad_sal      mb_datos  \\\n",
       "count  4729.000000    95467.000000    95467.000000  95467.000000   \n",
       "mean      2.508141      124.815633       50.022762  12489.795898   \n",
       "std       1.121994       72.492338       29.119904   7239.421267   \n",
       "min       1.000000        0.000000        0.000000      0.000000   \n",
       "25%       2.000000       62.000000       25.000000   6177.500000   \n",
       "50%       3.000000      124.000000       50.000000  12466.000000   \n",
       "75%       4.000000      188.000000       75.000000  18785.500000   \n",
       "max       4.000000      250.000000      100.000000  25000.000000   \n",
       "\n",
       "       seg_llamad_ent  seg_llamad_sal   imp_financ  \n",
       "count    95467.000000    95467.000000  6372.000000  \n",
       "mean      9945.152849     9929.715221    22.268613  \n",
       "std       5784.158514     5819.207033    10.177659  \n",
       "min          0.000000        0.000000     5.009999  \n",
       "25%       4951.000000     4910.000000    13.432253  \n",
       "50%       9923.000000     9922.000000    21.885534  \n",
       "75%      14948.500000    14961.000000    31.155292  \n",
       "max      20000.000000    20000.000000    39.990128  "
      ]
     },
     "execution_count": 22,
     "metadata": {},
     "output_type": "execute_result"
    }
   ],
   "source": [
    "consolidada_dic.describe()"
   ]
  },
  {
   "cell_type": "markdown",
   "id": "01117958",
   "metadata": {},
   "source": [
    "Una revision de como esta compuesta la base de diciembre,nombre de la columna, cantidad de regisgtros nulos y el tipo de datos"
   ]
  },
  {
   "cell_type": "code",
   "execution_count": 23,
   "id": "53706219",
   "metadata": {},
   "outputs": [
    {
     "name": "stdout",
     "output_type": "stream",
     "text": [
      "<class 'pandas.core.frame.DataFrame'>\n",
      "RangeIndex: 95467 entries, 0 to 95466\n",
      "Data columns (total 21 columns):\n",
      " #   Column          Non-Null Count  Dtype  \n",
      "---  ------          --------------  -----  \n",
      " 0   id              95467 non-null  int64  \n",
      " 1   edad            95467 non-null  int64  \n",
      " 2   facturacion     95467 non-null  float64\n",
      " 3   antiguedad      95467 non-null  int32  \n",
      " 4   provincia       95467 non-null  object \n",
      " 5   num_lineas      95467 non-null  int64  \n",
      " 6   num_dt          4729 non-null   float64\n",
      " 7   incidencia      3574 non-null   object \n",
      " 8   num_llamad_ent  95467 non-null  int64  \n",
      " 9   num_llamad_sal  95467 non-null  int64  \n",
      " 10  mb_datos        95467 non-null  int64  \n",
      " 11  seg_llamad_ent  95467 non-null  int64  \n",
      " 12  seg_llamad_sal  95467 non-null  int64  \n",
      " 13  financiacion    6372 non-null   object \n",
      " 14  imp_financ      6372 non-null   float64\n",
      " 15  descuentos      19154 non-null  object \n",
      " 16  conexion        95467 non-null  object \n",
      " 17  vel_conexion    95464 non-null  object \n",
      " 18  TV              95467 non-null  object \n",
      " 19  retiro          95467 non-null  object \n",
      " 20  Mes             95467 non-null  object \n",
      "dtypes: float64(3), int32(1), int64(8), object(9)\n",
      "memory usage: 14.9+ MB\n"
     ]
    }
   ],
   "source": [
    "consolidada_dic.info()"
   ]
  },
  {
   "cell_type": "code",
   "execution_count": 24,
   "id": "5cc94736",
   "metadata": {},
   "outputs": [],
   "source": [
    "variables_objeto = consolidada_dic.columns[consolidada_dic.dtypes=='object']"
   ]
  },
  {
   "cell_type": "code",
   "execution_count": 25,
   "id": "9f3dd55a",
   "metadata": {},
   "outputs": [
    {
     "data": {
      "text/plain": [
       "Index(['provincia', 'incidencia', 'financiacion', 'descuentos', 'conexion',\n",
       "       'vel_conexion', 'TV', 'retiro', 'Mes'],\n",
       "      dtype='object')"
      ]
     },
     "execution_count": 25,
     "metadata": {},
     "output_type": "execute_result"
    }
   ],
   "source": [
    "variables_objeto"
   ]
  },
  {
   "cell_type": "markdown",
   "id": "dd058e11",
   "metadata": {},
   "source": [
    "El siguiente comando nos permite ver para cada variable objeto su composicion."
   ]
  },
  {
   "cell_type": "code",
   "execution_count": 26,
   "id": "13798710",
   "metadata": {},
   "outputs": [
    {
     "name": "stdout",
     "output_type": "stream",
     "text": [
      "Zaragoza                  1991\n",
      "Navarra                   1986\n",
      "Málaga                    1973\n",
      "Valencia                  1972\n",
      "Asturias                  1972\n",
      "Murcia                    1967\n",
      "Orense                    1958\n",
      "Alicante                  1954\n",
      "Córdoba                   1949\n",
      "Cáceres                   1945\n",
      "Burgos                    1939\n",
      "Guipúzcoa                 1936\n",
      "Álava                     1932\n",
      "Valladolid                1931\n",
      "Sevilla                   1928\n",
      "Huelva                    1924\n",
      "Santa Cruz de Tenerife    1922\n",
      "La Coruña                 1921\n",
      "Segovia                   1917\n",
      "Castellón                 1915\n",
      "Granada                   1914\n",
      "Tarragona                 1913\n",
      "Zamora                    1913\n",
      "Almería                   1912\n",
      "Soria                     1909\n",
      "Pontevedra                1907\n",
      "Madrid                    1907\n",
      "Ciudad Real               1905\n",
      "Cádiz                     1902\n",
      "Badajoz                   1900\n",
      "Islas Baleares            1899\n",
      "Barcelona                 1899\n",
      "Salamanca                 1898\n",
      "Teruel                    1898\n",
      "Ávila                     1893\n",
      "Albacete                  1889\n",
      "Jaén                      1888\n",
      "Guadalajara               1881\n",
      "Lérida                    1879\n",
      "La Rioja                  1877\n",
      "Lugo                      1871\n",
      "Toledo                    1869\n",
      "Gerona                    1864\n",
      "Las Palmas                1860\n",
      "Palencia                  1860\n",
      "Cuenca                    1855\n",
      "Cantabria                 1853\n",
      "León                      1851\n",
      "Vizcaya                   1838\n",
      "Huesca                    1831\n",
      "Name: provincia, dtype: int64\n",
      "SI    3574\n",
      "Name: incidencia, dtype: int64\n",
      "SI    6372\n",
      "Name: financiacion, dtype: int64\n",
      "SI    19154\n",
      "Name: descuentos, dtype: int64\n",
      "ADSL     48630\n",
      "FIBRA    46837\n",
      "Name: conexion, dtype: int64\n",
      "200MB    9675\n",
      "600MB    9622\n",
      "50MB     9474\n",
      "300MB    9460\n",
      "100MB    9332\n",
      "20MB     8113\n",
      "25MB     8112\n",
      "10MB     7969\n",
      "30MB     7948\n",
      "35MB     7947\n",
      "15MB     7809\n",
      "16598       1\n",
      "1           1\n",
      "?           1\n",
      "Name: vel_conexion, dtype: int64\n",
      "tv-futbol      49634\n",
      "tv-familiar    32746\n",
      "tv-total       13087\n",
      "Name: TV, dtype: int64\n",
      "No    88382\n",
      "Si     7085\n",
      "Name: retiro, dtype: int64\n",
      "Diciembre    95467\n",
      "Name: Mes, dtype: int64\n"
     ]
    }
   ],
   "source": [
    "for i in variables_objeto:\n",
    "    print(consolidada_dic[i].value_counts())"
   ]
  },
  {
   "cell_type": "markdown",
   "id": "194088dd",
   "metadata": {},
   "source": [
    "Se separan las variables binarias y las no binarias para darles un tratamiento especial a cada una de ellas,la que me funciono fue incluir algunas en tipo no binaria para despues hacer el label encoder para volverlas numericas."
   ]
  },
  {
   "cell_type": "code",
   "execution_count": 27,
   "id": "cb46287e",
   "metadata": {},
   "outputs": [],
   "source": [
    "variables_no_binarias = ['provincia', 'conexion', 'TV','incidencia','financiacion','descuentos']"
   ]
  },
  {
   "cell_type": "code",
   "execution_count": 28,
   "id": "9332f700",
   "metadata": {},
   "outputs": [
    {
     "data": {
      "text/plain": [
       "id                0.000000\n",
       "edad              0.000000\n",
       "facturacion       0.000000\n",
       "antiguedad        0.000000\n",
       "provincia         0.000000\n",
       "num_lineas        0.000000\n",
       "num_dt            0.950465\n",
       "incidencia        0.962563\n",
       "num_llamad_ent    0.000000\n",
       "num_llamad_sal    0.000000\n",
       "mb_datos          0.000000\n",
       "seg_llamad_ent    0.000000\n",
       "seg_llamad_sal    0.000000\n",
       "financiacion      0.933254\n",
       "imp_financ        0.933254\n",
       "descuentos        0.799365\n",
       "conexion          0.000000\n",
       "vel_conexion      0.000031\n",
       "TV                0.000000\n",
       "retiro            0.000000\n",
       "Mes               0.000000\n",
       "dtype: float64"
      ]
     },
     "execution_count": 28,
     "metadata": {},
     "output_type": "execute_result"
    }
   ],
   "source": [
    "consolidada_dic.isna().mean()"
   ]
  },
  {
   "cell_type": "code",
   "execution_count": 29,
   "id": "217c7b23",
   "metadata": {},
   "outputs": [
    {
     "data": {
      "text/plain": [
       "id                0.000000\n",
       "edad              0.000000\n",
       "facturacion       0.000000\n",
       "antiguedad        0.000000\n",
       "provincia         0.000000\n",
       "num_lineas        0.000000\n",
       "num_dt            0.971805\n",
       "incidencia        0.978525\n",
       "num_llamad_ent    0.000000\n",
       "num_llamad_sal    0.000000\n",
       "mb_datos          0.000000\n",
       "seg_llamad_ent    0.000000\n",
       "seg_llamad_sal    0.000000\n",
       "financiacion      0.928099\n",
       "imp_financ        0.928099\n",
       "descuentos        0.783866\n",
       "conexion          0.000022\n",
       "vel_conexion      0.000032\n",
       "TV                0.000000\n",
       "retiro            1.000000\n",
       "Mes               0.000000\n",
       "dtype: float64"
      ]
     },
     "execution_count": 29,
     "metadata": {},
     "output_type": "execute_result"
    }
   ],
   "source": [
    "consolidada_ene.isna().mean()"
   ]
  },
  {
   "cell_type": "markdown",
   "id": "54708047",
   "metadata": {},
   "source": [
    "Se revisan los datos nulos en financiacion y se procede a rellenar los nulos con no y el valor del descuento en 0"
   ]
  },
  {
   "cell_type": "code",
   "execution_count": 30,
   "id": "41194c36",
   "metadata": {},
   "outputs": [
    {
     "data": {
      "text/plain": [
       "89095"
      ]
     },
     "execution_count": 30,
     "metadata": {},
     "output_type": "execute_result"
    }
   ],
   "source": [
    "len(consolidada_dic[consolidada_dic['financiacion'].isna()==True])"
   ]
  },
  {
   "cell_type": "code",
   "execution_count": 31,
   "id": "592e5c8f",
   "metadata": {},
   "outputs": [
    {
     "data": {
      "text/plain": [
       "89095"
      ]
     },
     "execution_count": 31,
     "metadata": {},
     "output_type": "execute_result"
    }
   ],
   "source": [
    "len(consolidada_dic[consolidada_dic['imp_financ'].isna()==True])"
   ]
  },
  {
   "cell_type": "code",
   "execution_count": 32,
   "id": "1d0336de",
   "metadata": {},
   "outputs": [
    {
     "data": {
      "text/plain": [
       "76313"
      ]
     },
     "execution_count": 32,
     "metadata": {},
     "output_type": "execute_result"
    }
   ],
   "source": [
    "len(consolidada_dic[consolidada_dic['descuentos'].isna()==True])"
   ]
  },
  {
   "cell_type": "code",
   "execution_count": 33,
   "id": "a5b1de97",
   "metadata": {},
   "outputs": [],
   "source": [
    "consolidada_dic['descuentos'] = consolidada_dic['descuentos'].fillna('NO')\n",
    "consolidada_dic['financiacion'] = consolidada_dic['financiacion'].fillna('NO')\n",
    "consolidada_dic['imp_financ'] = consolidada_dic['imp_financ'].fillna(0)"
   ]
  },
  {
   "cell_type": "markdown",
   "id": "9aececaf",
   "metadata": {},
   "source": [
    "Se hace el mismo tratamiento para Enero"
   ]
  },
  {
   "cell_type": "code",
   "execution_count": 34,
   "id": "a6a9df35",
   "metadata": {},
   "outputs": [],
   "source": [
    "consolidada_ene['descuentos'] = consolidada_ene['descuentos'].fillna('NO')\n",
    "consolidada_ene['financiacion'] = consolidada_ene['financiacion'].fillna('NO')\n",
    "consolidada_ene['imp_financ'] = consolidada_ene['imp_financ'].fillna(0)"
   ]
  },
  {
   "cell_type": "markdown",
   "id": "713cc9b8",
   "metadata": {},
   "source": [
    "Se rellena el los valores nulos de num_dt con 0 e incidencia con 'NO'"
   ]
  },
  {
   "cell_type": "code",
   "execution_count": 35,
   "id": "97f49cfc",
   "metadata": {},
   "outputs": [],
   "source": [
    "consolidada_dic['num_dt'] = consolidada_dic['num_dt'].replace(np.nan,  0)\n",
    "consolidada_ene['num_dt'] = consolidada_ene['num_dt'].replace(np.nan,  0)"
   ]
  },
  {
   "cell_type": "code",
   "execution_count": 36,
   "id": "51d6b497",
   "metadata": {},
   "outputs": [],
   "source": [
    "consolidada_dic['incidencia'] = consolidada_dic['incidencia'].replace(np.nan,  'NO')\n",
    "consolidada_ene['incidencia'] = consolidada_ene['incidencia'].replace(np.nan,  'NO')"
   ]
  },
  {
   "cell_type": "code",
   "execution_count": 37,
   "id": "f62c49b7",
   "metadata": {},
   "outputs": [
    {
     "data": {
      "text/plain": [
       "id                0.000000\n",
       "edad              0.000000\n",
       "facturacion       0.000000\n",
       "antiguedad        0.000000\n",
       "provincia         0.000000\n",
       "num_lineas        0.000000\n",
       "num_dt            0.000000\n",
       "incidencia        0.000000\n",
       "num_llamad_ent    0.000000\n",
       "num_llamad_sal    0.000000\n",
       "mb_datos          0.000000\n",
       "seg_llamad_ent    0.000000\n",
       "seg_llamad_sal    0.000000\n",
       "financiacion      0.000000\n",
       "imp_financ        0.000000\n",
       "descuentos        0.000000\n",
       "conexion          0.000000\n",
       "vel_conexion      0.000031\n",
       "TV                0.000000\n",
       "retiro            0.000000\n",
       "Mes               0.000000\n",
       "dtype: float64"
      ]
     },
     "execution_count": 37,
     "metadata": {},
     "output_type": "execute_result"
    }
   ],
   "source": [
    "consolidada_dic.isna().mean()"
   ]
  },
  {
   "cell_type": "code",
   "execution_count": 38,
   "id": "f05a7477",
   "metadata": {},
   "outputs": [
    {
     "data": {
      "text/plain": [
       "id                0.000000\n",
       "edad              0.000000\n",
       "facturacion       0.000000\n",
       "antiguedad        0.000000\n",
       "provincia         0.000000\n",
       "num_lineas        0.000000\n",
       "num_dt            0.000000\n",
       "incidencia        0.000000\n",
       "num_llamad_ent    0.000000\n",
       "num_llamad_sal    0.000000\n",
       "mb_datos          0.000000\n",
       "seg_llamad_ent    0.000000\n",
       "seg_llamad_sal    0.000000\n",
       "financiacion      0.000000\n",
       "imp_financ        0.000000\n",
       "descuentos        0.000000\n",
       "conexion          0.000022\n",
       "vel_conexion      0.000032\n",
       "TV                0.000000\n",
       "retiro            1.000000\n",
       "Mes               0.000000\n",
       "dtype: float64"
      ]
     },
     "execution_count": 38,
     "metadata": {},
     "output_type": "execute_result"
    }
   ],
   "source": [
    "consolidada_ene.isna().mean()"
   ]
  },
  {
   "cell_type": "markdown",
   "id": "9479db30",
   "metadata": {},
   "source": [
    "Vamos a analizar la variable conexion y revisamos que podriamos hacer"
   ]
  },
  {
   "cell_type": "code",
   "execution_count": 39,
   "id": "17471527",
   "metadata": {},
   "outputs": [
    {
     "data": {
      "text/plain": [
       "ADSL     48630\n",
       "FIBRA    46837\n",
       "Name: conexion, dtype: int64"
      ]
     },
     "execution_count": 39,
     "metadata": {},
     "output_type": "execute_result"
    }
   ],
   "source": [
    "consolidada_dic['conexion'].value_counts()"
   ]
  },
  {
   "cell_type": "markdown",
   "id": "10cfa498",
   "metadata": {},
   "source": [
    "Vamos a reemplazar los valores nulos con el valor que mas se repite tanto para diciembre, como para enero"
   ]
  },
  {
   "cell_type": "code",
   "execution_count": 40,
   "id": "e0e87480",
   "metadata": {},
   "outputs": [],
   "source": [
    "val=consolidada_dic['conexion'].mode()\n",
    "consolidada_dic['conexion'] = consolidada_dic['conexion'].fillna(val[0]) \n",
    "val=consolidada_dic['vel_conexion'].mode()\n",
    "consolidada_dic['vel_conexion'] = consolidada_dic['vel_conexion'].fillna(val[0]) "
   ]
  },
  {
   "cell_type": "markdown",
   "id": "2765729b",
   "metadata": {},
   "source": [
    "Se reemplaza tambien en enero"
   ]
  },
  {
   "cell_type": "code",
   "execution_count": 41,
   "id": "ec8b8c0d",
   "metadata": {},
   "outputs": [],
   "source": [
    "val=consolidada_ene['conexion'].mode()\n",
    "consolidada_ene['conexion'] = consolidada_ene['conexion'].fillna(val[0]) \n",
    "val=consolidada_ene['vel_conexion'].mode()\n",
    "consolidada_ene['vel_conexion'] = consolidada_ene['vel_conexion'].fillna(val[0]) "
   ]
  },
  {
   "cell_type": "markdown",
   "id": "9acb784e",
   "metadata": {},
   "source": [
    "Revision y analisis de los datos de TV"
   ]
  },
  {
   "cell_type": "code",
   "execution_count": 42,
   "id": "801ecaa0",
   "metadata": {},
   "outputs": [
    {
     "data": {
      "text/plain": [
       "tv-futbol      49634\n",
       "tv-familiar    32746\n",
       "tv-total       13087\n",
       "Name: TV, dtype: int64"
      ]
     },
     "execution_count": 42,
     "metadata": {},
     "output_type": "execute_result"
    }
   ],
   "source": [
    "consolidada_dic['TV'].value_counts()"
   ]
  },
  {
   "cell_type": "markdown",
   "id": "e969c8b5",
   "metadata": {},
   "source": [
    "El dato que mas se repite es tv-futbol, se relleanra los valores nulo con este valor"
   ]
  },
  {
   "cell_type": "code",
   "execution_count": 43,
   "id": "1e9ebc88",
   "metadata": {},
   "outputs": [],
   "source": [
    "consolidada_dic['TV'] = consolidada_dic['TV'].fillna(consolidada_dic['TV'].mode()) \n",
    "consolidada_ene['TV'] = consolidada_ene['TV'].fillna(consolidada_ene['TV'].mode())"
   ]
  },
  {
   "cell_type": "markdown",
   "id": "fd7c985d",
   "metadata": {},
   "source": [
    "Se puede observa que ya no existen valores nulos en las variables predictoras, lo valores de permanencia se debe dejar porque corresponden al mes de enero"
   ]
  },
  {
   "cell_type": "code",
   "execution_count": 44,
   "id": "0835eb3e",
   "metadata": {},
   "outputs": [
    {
     "data": {
      "text/plain": [
       "id                0.0\n",
       "edad              0.0\n",
       "facturacion       0.0\n",
       "antiguedad        0.0\n",
       "provincia         0.0\n",
       "num_lineas        0.0\n",
       "num_dt            0.0\n",
       "incidencia        0.0\n",
       "num_llamad_ent    0.0\n",
       "num_llamad_sal    0.0\n",
       "mb_datos          0.0\n",
       "seg_llamad_ent    0.0\n",
       "seg_llamad_sal    0.0\n",
       "financiacion      0.0\n",
       "imp_financ        0.0\n",
       "descuentos        0.0\n",
       "conexion          0.0\n",
       "vel_conexion      0.0\n",
       "TV                0.0\n",
       "retiro            0.0\n",
       "Mes               0.0\n",
       "dtype: float64"
      ]
     },
     "execution_count": 44,
     "metadata": {},
     "output_type": "execute_result"
    }
   ],
   "source": [
    "consolidada_dic.isna().mean()"
   ]
  },
  {
   "cell_type": "code",
   "execution_count": 45,
   "id": "1d12f791",
   "metadata": {},
   "outputs": [
    {
     "data": {
      "text/plain": [
       "id                0.0\n",
       "edad              0.0\n",
       "facturacion       0.0\n",
       "antiguedad        0.0\n",
       "provincia         0.0\n",
       "num_lineas        0.0\n",
       "num_dt            0.0\n",
       "incidencia        0.0\n",
       "num_llamad_ent    0.0\n",
       "num_llamad_sal    0.0\n",
       "mb_datos          0.0\n",
       "seg_llamad_ent    0.0\n",
       "seg_llamad_sal    0.0\n",
       "financiacion      0.0\n",
       "imp_financ        0.0\n",
       "descuentos        0.0\n",
       "conexion          0.0\n",
       "vel_conexion      0.0\n",
       "TV                0.0\n",
       "retiro            1.0\n",
       "Mes               0.0\n",
       "dtype: float64"
      ]
     },
     "execution_count": 45,
     "metadata": {},
     "output_type": "execute_result"
    }
   ],
   "source": [
    "consolidada_ene.isna().mean()"
   ]
  },
  {
   "cell_type": "markdown",
   "id": "88845a7c",
   "metadata": {},
   "source": [
    "Como se observa ay se quitaron los valores nulos excepto permanencia de Enero lo cual debe permanecer asi dado que no contamos con informacion de febrero"
   ]
  },
  {
   "cell_type": "markdown",
   "id": "cad48072",
   "metadata": {},
   "source": [
    "### 3.3) Valores raros o extraños\n",
    "\n",
    "Revisamos valores raros que tenemos en la variable vel_conexion"
   ]
  },
  {
   "cell_type": "code",
   "execution_count": 46,
   "id": "a0878b22",
   "metadata": {},
   "outputs": [
    {
     "data": {
      "text/plain": [
       "200MB    9678\n",
       "600MB    9622\n",
       "50MB     9474\n",
       "300MB    9460\n",
       "100MB    9332\n",
       "20MB     8113\n",
       "25MB     8112\n",
       "10MB     7969\n",
       "30MB     7948\n",
       "35MB     7947\n",
       "15MB     7809\n",
       "16598       1\n",
       "1           1\n",
       "?           1\n",
       "Name: vel_conexion, dtype: int64"
      ]
     },
     "execution_count": 46,
     "metadata": {},
     "output_type": "execute_result"
    }
   ],
   "source": [
    "consolidada_dic['vel_conexion'].value_counts()"
   ]
  },
  {
   "cell_type": "markdown",
   "id": "85a1d597",
   "metadata": {},
   "source": [
    "Vemos como son las entradas de valores de estos valores extraños"
   ]
  },
  {
   "cell_type": "code",
   "execution_count": 47,
   "id": "a8e52fe1",
   "metadata": {},
   "outputs": [
    {
     "data": {
      "text/html": [
       "<div>\n",
       "<style scoped>\n",
       "    .dataframe tbody tr th:only-of-type {\n",
       "        vertical-align: middle;\n",
       "    }\n",
       "\n",
       "    .dataframe tbody tr th {\n",
       "        vertical-align: top;\n",
       "    }\n",
       "\n",
       "    .dataframe thead th {\n",
       "        text-align: right;\n",
       "    }\n",
       "</style>\n",
       "<table border=\"1\" class=\"dataframe\">\n",
       "  <thead>\n",
       "    <tr style=\"text-align: right;\">\n",
       "      <th></th>\n",
       "      <th>id</th>\n",
       "      <th>edad</th>\n",
       "      <th>facturacion</th>\n",
       "      <th>antiguedad</th>\n",
       "      <th>provincia</th>\n",
       "      <th>num_lineas</th>\n",
       "      <th>num_dt</th>\n",
       "      <th>incidencia</th>\n",
       "      <th>num_llamad_ent</th>\n",
       "      <th>num_llamad_sal</th>\n",
       "      <th>...</th>\n",
       "      <th>seg_llamad_ent</th>\n",
       "      <th>seg_llamad_sal</th>\n",
       "      <th>financiacion</th>\n",
       "      <th>imp_financ</th>\n",
       "      <th>descuentos</th>\n",
       "      <th>conexion</th>\n",
       "      <th>vel_conexion</th>\n",
       "      <th>TV</th>\n",
       "      <th>retiro</th>\n",
       "      <th>Mes</th>\n",
       "    </tr>\n",
       "  </thead>\n",
       "  <tbody>\n",
       "    <tr>\n",
       "      <th>70528</th>\n",
       "      <td>73889</td>\n",
       "      <td>69</td>\n",
       "      <td>118.515385</td>\n",
       "      <td>6108</td>\n",
       "      <td>Castellón</td>\n",
       "      <td>2</td>\n",
       "      <td>0.0</td>\n",
       "      <td>NO</td>\n",
       "      <td>74</td>\n",
       "      <td>99</td>\n",
       "      <td>...</td>\n",
       "      <td>19080</td>\n",
       "      <td>2068</td>\n",
       "      <td>NO</td>\n",
       "      <td>0.0</td>\n",
       "      <td>NO</td>\n",
       "      <td>FIBRA</td>\n",
       "      <td>?</td>\n",
       "      <td>tv-familiar</td>\n",
       "      <td>No</td>\n",
       "      <td>Diciembre</td>\n",
       "    </tr>\n",
       "  </tbody>\n",
       "</table>\n",
       "<p>1 rows × 21 columns</p>\n",
       "</div>"
      ],
      "text/plain": [
       "          id  edad  facturacion  antiguedad  provincia  num_lineas  num_dt  \\\n",
       "70528  73889    69   118.515385        6108  Castellón           2     0.0   \n",
       "\n",
       "      incidencia  num_llamad_ent  num_llamad_sal  ...  seg_llamad_ent  \\\n",
       "70528         NO              74              99  ...           19080   \n",
       "\n",
       "       seg_llamad_sal  financiacion imp_financ  descuentos conexion  \\\n",
       "70528            2068            NO        0.0          NO    FIBRA   \n",
       "\n",
       "      vel_conexion           TV retiro        Mes  \n",
       "70528            ?  tv-familiar     No  Diciembre  \n",
       "\n",
       "[1 rows x 21 columns]"
      ]
     },
     "execution_count": 47,
     "metadata": {},
     "output_type": "execute_result"
    }
   ],
   "source": [
    "consolidada_dic[consolidada_dic['vel_conexion']=='?']"
   ]
  },
  {
   "cell_type": "code",
   "execution_count": 48,
   "id": "a19d0473",
   "metadata": {},
   "outputs": [
    {
     "data": {
      "text/html": [
       "<div>\n",
       "<style scoped>\n",
       "    .dataframe tbody tr th:only-of-type {\n",
       "        vertical-align: middle;\n",
       "    }\n",
       "\n",
       "    .dataframe tbody tr th {\n",
       "        vertical-align: top;\n",
       "    }\n",
       "\n",
       "    .dataframe thead th {\n",
       "        text-align: right;\n",
       "    }\n",
       "</style>\n",
       "<table border=\"1\" class=\"dataframe\">\n",
       "  <thead>\n",
       "    <tr style=\"text-align: right;\">\n",
       "      <th></th>\n",
       "      <th>id</th>\n",
       "      <th>edad</th>\n",
       "      <th>facturacion</th>\n",
       "      <th>antiguedad</th>\n",
       "      <th>provincia</th>\n",
       "      <th>num_lineas</th>\n",
       "      <th>num_dt</th>\n",
       "      <th>incidencia</th>\n",
       "      <th>num_llamad_ent</th>\n",
       "      <th>num_llamad_sal</th>\n",
       "      <th>...</th>\n",
       "      <th>seg_llamad_ent</th>\n",
       "      <th>seg_llamad_sal</th>\n",
       "      <th>financiacion</th>\n",
       "      <th>imp_financ</th>\n",
       "      <th>descuentos</th>\n",
       "      <th>conexion</th>\n",
       "      <th>vel_conexion</th>\n",
       "      <th>TV</th>\n",
       "      <th>retiro</th>\n",
       "      <th>Mes</th>\n",
       "    </tr>\n",
       "  </thead>\n",
       "  <tbody>\n",
       "    <tr>\n",
       "      <th>70426</th>\n",
       "      <td>73779</td>\n",
       "      <td>26</td>\n",
       "      <td>209.565464</td>\n",
       "      <td>7422</td>\n",
       "      <td>Pontevedra</td>\n",
       "      <td>5</td>\n",
       "      <td>1.0</td>\n",
       "      <td>NO</td>\n",
       "      <td>82</td>\n",
       "      <td>29</td>\n",
       "      <td>...</td>\n",
       "      <td>7184</td>\n",
       "      <td>2677</td>\n",
       "      <td>NO</td>\n",
       "      <td>0.0</td>\n",
       "      <td>NO</td>\n",
       "      <td>ADSL</td>\n",
       "      <td>1</td>\n",
       "      <td>tv-futbol</td>\n",
       "      <td>Si</td>\n",
       "      <td>Diciembre</td>\n",
       "    </tr>\n",
       "  </tbody>\n",
       "</table>\n",
       "<p>1 rows × 21 columns</p>\n",
       "</div>"
      ],
      "text/plain": [
       "          id  edad  facturacion  antiguedad   provincia  num_lineas  num_dt  \\\n",
       "70426  73779    26   209.565464        7422  Pontevedra           5     1.0   \n",
       "\n",
       "      incidencia  num_llamad_ent  num_llamad_sal  ...  seg_llamad_ent  \\\n",
       "70426         NO              82              29  ...            7184   \n",
       "\n",
       "       seg_llamad_sal  financiacion imp_financ  descuentos conexion  \\\n",
       "70426            2677            NO        0.0          NO     ADSL   \n",
       "\n",
       "      vel_conexion         TV retiro        Mes  \n",
       "70426            1  tv-futbol     Si  Diciembre  \n",
       "\n",
       "[1 rows x 21 columns]"
      ]
     },
     "execution_count": 48,
     "metadata": {},
     "output_type": "execute_result"
    }
   ],
   "source": [
    "consolidada_dic[consolidada_dic['vel_conexion']=='1']"
   ]
  },
  {
   "cell_type": "code",
   "execution_count": 49,
   "id": "5c73ee84",
   "metadata": {},
   "outputs": [
    {
     "data": {
      "text/html": [
       "<div>\n",
       "<style scoped>\n",
       "    .dataframe tbody tr th:only-of-type {\n",
       "        vertical-align: middle;\n",
       "    }\n",
       "\n",
       "    .dataframe tbody tr th {\n",
       "        vertical-align: top;\n",
       "    }\n",
       "\n",
       "    .dataframe thead th {\n",
       "        text-align: right;\n",
       "    }\n",
       "</style>\n",
       "<table border=\"1\" class=\"dataframe\">\n",
       "  <thead>\n",
       "    <tr style=\"text-align: right;\">\n",
       "      <th></th>\n",
       "      <th>id</th>\n",
       "      <th>edad</th>\n",
       "      <th>facturacion</th>\n",
       "      <th>antiguedad</th>\n",
       "      <th>provincia</th>\n",
       "      <th>num_lineas</th>\n",
       "      <th>num_dt</th>\n",
       "      <th>incidencia</th>\n",
       "      <th>num_llamad_ent</th>\n",
       "      <th>num_llamad_sal</th>\n",
       "      <th>...</th>\n",
       "      <th>seg_llamad_ent</th>\n",
       "      <th>seg_llamad_sal</th>\n",
       "      <th>financiacion</th>\n",
       "      <th>imp_financ</th>\n",
       "      <th>descuentos</th>\n",
       "      <th>conexion</th>\n",
       "      <th>vel_conexion</th>\n",
       "      <th>TV</th>\n",
       "      <th>retiro</th>\n",
       "      <th>Mes</th>\n",
       "    </tr>\n",
       "  </thead>\n",
       "  <tbody>\n",
       "    <tr>\n",
       "      <th>12</th>\n",
       "      <td>13</td>\n",
       "      <td>55</td>\n",
       "      <td>209.36555</td>\n",
       "      <td>137</td>\n",
       "      <td>Huelva</td>\n",
       "      <td>3</td>\n",
       "      <td>0.0</td>\n",
       "      <td>NO</td>\n",
       "      <td>118</td>\n",
       "      <td>13</td>\n",
       "      <td>...</td>\n",
       "      <td>16766</td>\n",
       "      <td>13801</td>\n",
       "      <td>NO</td>\n",
       "      <td>0.0</td>\n",
       "      <td>NO</td>\n",
       "      <td>FIBRA</td>\n",
       "      <td>16598</td>\n",
       "      <td>tv-familiar</td>\n",
       "      <td>No</td>\n",
       "      <td>Diciembre</td>\n",
       "    </tr>\n",
       "  </tbody>\n",
       "</table>\n",
       "<p>1 rows × 21 columns</p>\n",
       "</div>"
      ],
      "text/plain": [
       "    id  edad  facturacion  antiguedad provincia  num_lineas  num_dt  \\\n",
       "12  13    55    209.36555         137    Huelva           3     0.0   \n",
       "\n",
       "   incidencia  num_llamad_ent  num_llamad_sal  ...  seg_llamad_ent  \\\n",
       "12         NO             118              13  ...           16766   \n",
       "\n",
       "    seg_llamad_sal  financiacion imp_financ  descuentos conexion vel_conexion  \\\n",
       "12           13801            NO        0.0          NO    FIBRA        16598   \n",
       "\n",
       "             TV retiro        Mes  \n",
       "12  tv-familiar     No  Diciembre  \n",
       "\n",
       "[1 rows x 21 columns]"
      ]
     },
     "execution_count": 49,
     "metadata": {},
     "output_type": "execute_result"
    }
   ],
   "source": [
    "consolidada_dic[consolidada_dic['vel_conexion']=='16598']"
   ]
  },
  {
   "cell_type": "markdown",
   "id": "21413d87",
   "metadata": {},
   "source": [
    "Voy rellenar estos valores raros con la moda, es decir con el valor que mas se repite que es 200MB"
   ]
  },
  {
   "cell_type": "code",
   "execution_count": 50,
   "id": "166349d2",
   "metadata": {},
   "outputs": [],
   "source": [
    "consolidada_dic['vel_conexion'] = consolidada_dic['vel_conexion'].replace('1', '200MB')\n",
    "consolidada_dic['vel_conexion'] = consolidada_dic['vel_conexion'].replace('?', '200MB')\n",
    "consolidada_dic['vel_conexion'] = consolidada_dic['vel_conexion'].replace('16598', '200MB')"
   ]
  },
  {
   "cell_type": "markdown",
   "id": "c93ef3bc",
   "metadata": {},
   "source": [
    "Para el mes de enero se analiza y se encuentra que todo esta OK"
   ]
  },
  {
   "cell_type": "code",
   "execution_count": 51,
   "id": "7a8ef3ed",
   "metadata": {},
   "outputs": [
    {
     "data": {
      "text/plain": [
       "200MB    9345\n",
       "600MB    9299\n",
       "300MB    9212\n",
       "50MB     9167\n",
       "100MB    9099\n",
       "20MB     7882\n",
       "25MB     7840\n",
       "10MB     7807\n",
       "30MB     7761\n",
       "35MB     7672\n",
       "15MB     7627\n",
       "Name: vel_conexion, dtype: int64"
      ]
     },
     "execution_count": 51,
     "metadata": {},
     "output_type": "execute_result"
    }
   ],
   "source": [
    "consolidada_ene['vel_conexion'].value_counts()"
   ]
  },
  {
   "cell_type": "markdown",
   "id": "1e6801bf",
   "metadata": {},
   "source": [
    "A la columna velocidad de conexion, se le quita la ultima parte que dice MB para dejarla numerica "
   ]
  },
  {
   "cell_type": "code",
   "execution_count": 52,
   "id": "0df6acea",
   "metadata": {},
   "outputs": [],
   "source": [
    "consolidada_dic.vel_conexion.replace(('200MB','600MB','300MB','50MB','100MB','20MB','25MB','10MB','30MB','35MB','15MB'),\n",
    "                                     (200,600,300,50,100,20,25,10,30,35,15),inplace=True)\n",
    "                                     "
   ]
  },
  {
   "cell_type": "markdown",
   "id": "d790f450",
   "metadata": {},
   "source": [
    "Tambien se realiza para enero"
   ]
  },
  {
   "cell_type": "code",
   "execution_count": 53,
   "id": "c354f420",
   "metadata": {},
   "outputs": [],
   "source": [
    "consolidada_ene.vel_conexion.replace(('200MB','600MB','300MB','50MB','100MB','20MB','25MB','10MB','30MB','35MB','15MB'),\n",
    "                                     (200,600,300,50,100,20,25,10,30,35,15),inplace=True)"
   ]
  },
  {
   "cell_type": "code",
   "execution_count": 54,
   "id": "8b8e7952",
   "metadata": {},
   "outputs": [
    {
     "data": {
      "text/plain": [
       "count    92711.000000\n",
       "mean       136.205143\n",
       "std        179.026492\n",
       "min         10.000000\n",
       "25%         20.000000\n",
       "50%         35.000000\n",
       "75%        200.000000\n",
       "max        600.000000\n",
       "Name: vel_conexion, dtype: float64"
      ]
     },
     "execution_count": 54,
     "metadata": {},
     "output_type": "execute_result"
    }
   ],
   "source": [
    "consolidada_ene['vel_conexion'].describe()"
   ]
  },
  {
   "cell_type": "markdown",
   "id": "6ee759dc",
   "metadata": {},
   "source": [
    "Las variables de tipo objeto son aquellas leídas como cadena de caracteres."
   ]
  },
  {
   "cell_type": "code",
   "execution_count": 55,
   "id": "affbf173",
   "metadata": {},
   "outputs": [
    {
     "data": {
      "text/plain": [
       "id                  int64\n",
       "edad                int64\n",
       "facturacion       float64\n",
       "antiguedad          int32\n",
       "provincia          object\n",
       "num_lineas          int64\n",
       "num_dt            float64\n",
       "incidencia         object\n",
       "num_llamad_ent      int64\n",
       "num_llamad_sal      int64\n",
       "mb_datos            int64\n",
       "seg_llamad_ent      int64\n",
       "seg_llamad_sal      int64\n",
       "financiacion       object\n",
       "imp_financ        float64\n",
       "descuentos         object\n",
       "conexion           object\n",
       "vel_conexion        int64\n",
       "TV                 object\n",
       "retiro             object\n",
       "Mes                object\n",
       "dtype: object"
      ]
     },
     "execution_count": 55,
     "metadata": {},
     "output_type": "execute_result"
    }
   ],
   "source": [
    "consolidada_dic.dtypes"
   ]
  },
  {
   "cell_type": "code",
   "execution_count": 56,
   "id": "719e8bbf",
   "metadata": {},
   "outputs": [
    {
     "data": {
      "text/plain": [
       "id                  int64\n",
       "edad                int64\n",
       "facturacion       float64\n",
       "antiguedad          int32\n",
       "provincia          object\n",
       "num_lineas          int64\n",
       "num_dt            float64\n",
       "incidencia         object\n",
       "num_llamad_ent      int64\n",
       "num_llamad_sal      int64\n",
       "mb_datos            int64\n",
       "seg_llamad_ent      int64\n",
       "seg_llamad_sal      int64\n",
       "financiacion       object\n",
       "imp_financ        float64\n",
       "descuentos         object\n",
       "conexion           object\n",
       "vel_conexion        int64\n",
       "TV                 object\n",
       "retiro            float64\n",
       "Mes                object\n",
       "dtype: object"
      ]
     },
     "execution_count": 56,
     "metadata": {},
     "output_type": "execute_result"
    }
   ],
   "source": [
    "consolidada_ene.dtypes"
   ]
  },
  {
   "cell_type": "markdown",
   "id": "a329d434",
   "metadata": {},
   "source": [
    "### 3.4) Convierto las variables categóricas no binarias en numericas con LabelEncoder()\n",
    "\n"
   ]
  },
  {
   "cell_type": "code",
   "execution_count": 57,
   "id": "18bd5859",
   "metadata": {},
   "outputs": [],
   "source": [
    "## encoder numérica\n",
    "for i in variables_no_binarias:\n",
    "    le = LabelEncoder().fit(consolidada_dic[i].unique())\n",
    "    variable_label = le.transform(consolidada_dic[i])\n",
    "    consolidada_dic[i] = variable_label\n",
    "    \n"
   ]
  },
  {
   "cell_type": "code",
   "execution_count": 58,
   "id": "be9e94e7",
   "metadata": {},
   "outputs": [],
   "source": [
    "## encoder numérica\n",
    "for i in variables_no_binarias:\n",
    "    le = LabelEncoder().fit(consolidada_ene[i].unique())\n",
    "    variable_label = le.transform(consolidada_ene[i])\n",
    "    consolidada_ene[i] = variable_label"
   ]
  },
  {
   "cell_type": "markdown",
   "id": "67a82152",
   "metadata": {},
   "source": [
    "\n",
    "Con el Script que dejo comentaco converti las variables a Dummies, son embargo los resultados no fueron satisfactorios, por lo tanto finalmente no lo use"
   ]
  },
  {
   "cell_type": "code",
   "execution_count": 59,
   "id": "3ef70fed",
   "metadata": {},
   "outputs": [],
   "source": [
    "   ## dummies\n",
    "#for i in variables_binarias:\n",
    "#    dummies = pd.get_dummies(consolidada_dic[i], prefix=i)\n",
    "#    consolidada_dic = pd.merge(consolidada_dic,dummies, left_index= True, right_index=True, how='left')"
   ]
  },
  {
   "cell_type": "code",
   "execution_count": 60,
   "id": "dc01ce06",
   "metadata": {},
   "outputs": [],
   "source": [
    "   ## dummies\n",
    "#for i in variables_binarias:\n",
    "#    dummies = pd.get_dummies(consolidada_ene[i], prefix=i)\n",
    "#    consolidada_ene = pd.merge(consolidada_ene,dummies, left_index= True, right_index=True, how='left')"
   ]
  },
  {
   "cell_type": "code",
   "execution_count": 61,
   "id": "b0d70bb7",
   "metadata": {},
   "outputs": [
    {
     "data": {
      "text/html": [
       "<div>\n",
       "<style scoped>\n",
       "    .dataframe tbody tr th:only-of-type {\n",
       "        vertical-align: middle;\n",
       "    }\n",
       "\n",
       "    .dataframe tbody tr th {\n",
       "        vertical-align: top;\n",
       "    }\n",
       "\n",
       "    .dataframe thead th {\n",
       "        text-align: right;\n",
       "    }\n",
       "</style>\n",
       "<table border=\"1\" class=\"dataframe\">\n",
       "  <thead>\n",
       "    <tr style=\"text-align: right;\">\n",
       "      <th></th>\n",
       "      <th>id</th>\n",
       "      <th>edad</th>\n",
       "      <th>facturacion</th>\n",
       "      <th>antiguedad</th>\n",
       "      <th>provincia</th>\n",
       "      <th>num_lineas</th>\n",
       "      <th>num_dt</th>\n",
       "      <th>incidencia</th>\n",
       "      <th>num_llamad_ent</th>\n",
       "      <th>num_llamad_sal</th>\n",
       "      <th>...</th>\n",
       "      <th>seg_llamad_ent</th>\n",
       "      <th>seg_llamad_sal</th>\n",
       "      <th>financiacion</th>\n",
       "      <th>imp_financ</th>\n",
       "      <th>descuentos</th>\n",
       "      <th>conexion</th>\n",
       "      <th>vel_conexion</th>\n",
       "      <th>TV</th>\n",
       "      <th>retiro</th>\n",
       "      <th>Mes</th>\n",
       "    </tr>\n",
       "  </thead>\n",
       "  <tbody>\n",
       "    <tr>\n",
       "      <th>0</th>\n",
       "      <td>1</td>\n",
       "      <td>63</td>\n",
       "      <td>216.028109</td>\n",
       "      <td>402</td>\n",
       "      <td>23</td>\n",
       "      <td>5</td>\n",
       "      <td>0.0</td>\n",
       "      <td>0</td>\n",
       "      <td>110</td>\n",
       "      <td>79</td>\n",
       "      <td>...</td>\n",
       "      <td>12806</td>\n",
       "      <td>13751</td>\n",
       "      <td>0</td>\n",
       "      <td>0.0</td>\n",
       "      <td>0</td>\n",
       "      <td>1</td>\n",
       "      <td>50</td>\n",
       "      <td>1</td>\n",
       "      <td>No</td>\n",
       "      <td>Diciembre</td>\n",
       "    </tr>\n",
       "    <tr>\n",
       "      <th>1</th>\n",
       "      <td>2</td>\n",
       "      <td>84</td>\n",
       "      <td>255.830842</td>\n",
       "      <td>860</td>\n",
       "      <td>45</td>\n",
       "      <td>3</td>\n",
       "      <td>0.0</td>\n",
       "      <td>0</td>\n",
       "      <td>189</td>\n",
       "      <td>89</td>\n",
       "      <td>...</td>\n",
       "      <td>6499</td>\n",
       "      <td>10862</td>\n",
       "      <td>0</td>\n",
       "      <td>0.0</td>\n",
       "      <td>1</td>\n",
       "      <td>1</td>\n",
       "      <td>600</td>\n",
       "      <td>1</td>\n",
       "      <td>No</td>\n",
       "      <td>Diciembre</td>\n",
       "    </tr>\n",
       "    <tr>\n",
       "      <th>2</th>\n",
       "      <td>3</td>\n",
       "      <td>66</td>\n",
       "      <td>135.768153</td>\n",
       "      <td>6577</td>\n",
       "      <td>0</td>\n",
       "      <td>4</td>\n",
       "      <td>0.0</td>\n",
       "      <td>0</td>\n",
       "      <td>129</td>\n",
       "      <td>30</td>\n",
       "      <td>...</td>\n",
       "      <td>17013</td>\n",
       "      <td>16743</td>\n",
       "      <td>0</td>\n",
       "      <td>0.0</td>\n",
       "      <td>1</td>\n",
       "      <td>0</td>\n",
       "      <td>35</td>\n",
       "      <td>1</td>\n",
       "      <td>No</td>\n",
       "      <td>Diciembre</td>\n",
       "    </tr>\n",
       "    <tr>\n",
       "      <th>3</th>\n",
       "      <td>4</td>\n",
       "      <td>69</td>\n",
       "      <td>255.658527</td>\n",
       "      <td>1605</td>\n",
       "      <td>26</td>\n",
       "      <td>4</td>\n",
       "      <td>0.0</td>\n",
       "      <td>0</td>\n",
       "      <td>51</td>\n",
       "      <td>52</td>\n",
       "      <td>...</td>\n",
       "      <td>3393</td>\n",
       "      <td>6771</td>\n",
       "      <td>0</td>\n",
       "      <td>0.0</td>\n",
       "      <td>0</td>\n",
       "      <td>1</td>\n",
       "      <td>200</td>\n",
       "      <td>0</td>\n",
       "      <td>No</td>\n",
       "      <td>Diciembre</td>\n",
       "    </tr>\n",
       "    <tr>\n",
       "      <th>4</th>\n",
       "      <td>5</td>\n",
       "      <td>30</td>\n",
       "      <td>22.302845</td>\n",
       "      <td>8158</td>\n",
       "      <td>40</td>\n",
       "      <td>2</td>\n",
       "      <td>2.0</td>\n",
       "      <td>0</td>\n",
       "      <td>183</td>\n",
       "      <td>3</td>\n",
       "      <td>...</td>\n",
       "      <td>18436</td>\n",
       "      <td>4485</td>\n",
       "      <td>0</td>\n",
       "      <td>0.0</td>\n",
       "      <td>0</td>\n",
       "      <td>0</td>\n",
       "      <td>10</td>\n",
       "      <td>1</td>\n",
       "      <td>Si</td>\n",
       "      <td>Diciembre</td>\n",
       "    </tr>\n",
       "  </tbody>\n",
       "</table>\n",
       "<p>5 rows × 21 columns</p>\n",
       "</div>"
      ],
      "text/plain": [
       "   id  edad  facturacion  antiguedad  provincia  num_lineas  num_dt  \\\n",
       "0   1    63   216.028109         402         23           5     0.0   \n",
       "1   2    84   255.830842         860         45           3     0.0   \n",
       "2   3    66   135.768153        6577          0           4     0.0   \n",
       "3   4    69   255.658527        1605         26           4     0.0   \n",
       "4   5    30    22.302845        8158         40           2     2.0   \n",
       "\n",
       "   incidencia  num_llamad_ent  num_llamad_sal  ...  seg_llamad_ent  \\\n",
       "0           0             110              79  ...           12806   \n",
       "1           0             189              89  ...            6499   \n",
       "2           0             129              30  ...           17013   \n",
       "3           0              51              52  ...            3393   \n",
       "4           0             183               3  ...           18436   \n",
       "\n",
       "   seg_llamad_sal  financiacion  imp_financ  descuentos  conexion  \\\n",
       "0           13751             0         0.0           0         1   \n",
       "1           10862             0         0.0           1         1   \n",
       "2           16743             0         0.0           1         0   \n",
       "3            6771             0         0.0           0         1   \n",
       "4            4485             0         0.0           0         0   \n",
       "\n",
       "   vel_conexion  TV  retiro        Mes  \n",
       "0            50   1      No  Diciembre  \n",
       "1           600   1      No  Diciembre  \n",
       "2            35   1      No  Diciembre  \n",
       "3           200   0      No  Diciembre  \n",
       "4            10   1      Si  Diciembre  \n",
       "\n",
       "[5 rows x 21 columns]"
      ]
     },
     "execution_count": 61,
     "metadata": {},
     "output_type": "execute_result"
    }
   ],
   "source": [
    "consolidada_dic.head()"
   ]
  },
  {
   "cell_type": "code",
   "execution_count": 62,
   "id": "2b50cdf9",
   "metadata": {},
   "outputs": [
    {
     "data": {
      "text/html": [
       "<div>\n",
       "<style scoped>\n",
       "    .dataframe tbody tr th:only-of-type {\n",
       "        vertical-align: middle;\n",
       "    }\n",
       "\n",
       "    .dataframe tbody tr th {\n",
       "        vertical-align: top;\n",
       "    }\n",
       "\n",
       "    .dataframe thead th {\n",
       "        text-align: right;\n",
       "    }\n",
       "</style>\n",
       "<table border=\"1\" class=\"dataframe\">\n",
       "  <thead>\n",
       "    <tr style=\"text-align: right;\">\n",
       "      <th></th>\n",
       "      <th>id</th>\n",
       "      <th>edad</th>\n",
       "      <th>facturacion</th>\n",
       "      <th>antiguedad</th>\n",
       "      <th>provincia</th>\n",
       "      <th>num_lineas</th>\n",
       "      <th>num_dt</th>\n",
       "      <th>incidencia</th>\n",
       "      <th>num_llamad_ent</th>\n",
       "      <th>num_llamad_sal</th>\n",
       "      <th>...</th>\n",
       "      <th>seg_llamad_ent</th>\n",
       "      <th>seg_llamad_sal</th>\n",
       "      <th>financiacion</th>\n",
       "      <th>imp_financ</th>\n",
       "      <th>descuentos</th>\n",
       "      <th>conexion</th>\n",
       "      <th>vel_conexion</th>\n",
       "      <th>TV</th>\n",
       "      <th>retiro</th>\n",
       "      <th>Mes</th>\n",
       "    </tr>\n",
       "  </thead>\n",
       "  <tbody>\n",
       "    <tr>\n",
       "      <th>0</th>\n",
       "      <td>1</td>\n",
       "      <td>63</td>\n",
       "      <td>216.028109</td>\n",
       "      <td>433</td>\n",
       "      <td>23</td>\n",
       "      <td>5</td>\n",
       "      <td>0.0</td>\n",
       "      <td>0</td>\n",
       "      <td>95</td>\n",
       "      <td>19</td>\n",
       "      <td>...</td>\n",
       "      <td>7634</td>\n",
       "      <td>18520</td>\n",
       "      <td>0</td>\n",
       "      <td>0.0</td>\n",
       "      <td>0</td>\n",
       "      <td>1</td>\n",
       "      <td>50</td>\n",
       "      <td>1</td>\n",
       "      <td>NaN</td>\n",
       "      <td>Enero</td>\n",
       "    </tr>\n",
       "    <tr>\n",
       "      <th>1</th>\n",
       "      <td>2</td>\n",
       "      <td>84</td>\n",
       "      <td>255.830842</td>\n",
       "      <td>891</td>\n",
       "      <td>45</td>\n",
       "      <td>3</td>\n",
       "      <td>0.0</td>\n",
       "      <td>0</td>\n",
       "      <td>44</td>\n",
       "      <td>36</td>\n",
       "      <td>...</td>\n",
       "      <td>14541</td>\n",
       "      <td>8016</td>\n",
       "      <td>0</td>\n",
       "      <td>0.0</td>\n",
       "      <td>1</td>\n",
       "      <td>1</td>\n",
       "      <td>600</td>\n",
       "      <td>1</td>\n",
       "      <td>NaN</td>\n",
       "      <td>Enero</td>\n",
       "    </tr>\n",
       "    <tr>\n",
       "      <th>2</th>\n",
       "      <td>3</td>\n",
       "      <td>66</td>\n",
       "      <td>135.768153</td>\n",
       "      <td>6608</td>\n",
       "      <td>0</td>\n",
       "      <td>4</td>\n",
       "      <td>0.0</td>\n",
       "      <td>0</td>\n",
       "      <td>94</td>\n",
       "      <td>27</td>\n",
       "      <td>...</td>\n",
       "      <td>5248</td>\n",
       "      <td>7106</td>\n",
       "      <td>0</td>\n",
       "      <td>0.0</td>\n",
       "      <td>1</td>\n",
       "      <td>0</td>\n",
       "      <td>35</td>\n",
       "      <td>1</td>\n",
       "      <td>NaN</td>\n",
       "      <td>Enero</td>\n",
       "    </tr>\n",
       "    <tr>\n",
       "      <th>3</th>\n",
       "      <td>4</td>\n",
       "      <td>69</td>\n",
       "      <td>255.658527</td>\n",
       "      <td>1636</td>\n",
       "      <td>26</td>\n",
       "      <td>4</td>\n",
       "      <td>0.0</td>\n",
       "      <td>0</td>\n",
       "      <td>186</td>\n",
       "      <td>20</td>\n",
       "      <td>...</td>\n",
       "      <td>7372</td>\n",
       "      <td>5052</td>\n",
       "      <td>0</td>\n",
       "      <td>0.0</td>\n",
       "      <td>0</td>\n",
       "      <td>1</td>\n",
       "      <td>200</td>\n",
       "      <td>0</td>\n",
       "      <td>NaN</td>\n",
       "      <td>Enero</td>\n",
       "    </tr>\n",
       "    <tr>\n",
       "      <th>4</th>\n",
       "      <td>6</td>\n",
       "      <td>51</td>\n",
       "      <td>99.348645</td>\n",
       "      <td>8122</td>\n",
       "      <td>18</td>\n",
       "      <td>4</td>\n",
       "      <td>0.0</td>\n",
       "      <td>0</td>\n",
       "      <td>37</td>\n",
       "      <td>32</td>\n",
       "      <td>...</td>\n",
       "      <td>5009</td>\n",
       "      <td>8686</td>\n",
       "      <td>0</td>\n",
       "      <td>0.0</td>\n",
       "      <td>0</td>\n",
       "      <td>1</td>\n",
       "      <td>200</td>\n",
       "      <td>1</td>\n",
       "      <td>NaN</td>\n",
       "      <td>Enero</td>\n",
       "    </tr>\n",
       "  </tbody>\n",
       "</table>\n",
       "<p>5 rows × 21 columns</p>\n",
       "</div>"
      ],
      "text/plain": [
       "   id  edad  facturacion  antiguedad  provincia  num_lineas  num_dt  \\\n",
       "0   1    63   216.028109         433         23           5     0.0   \n",
       "1   2    84   255.830842         891         45           3     0.0   \n",
       "2   3    66   135.768153        6608          0           4     0.0   \n",
       "3   4    69   255.658527        1636         26           4     0.0   \n",
       "4   6    51    99.348645        8122         18           4     0.0   \n",
       "\n",
       "   incidencia  num_llamad_ent  num_llamad_sal  ...  seg_llamad_ent  \\\n",
       "0           0              95              19  ...            7634   \n",
       "1           0              44              36  ...           14541   \n",
       "2           0              94              27  ...            5248   \n",
       "3           0             186              20  ...            7372   \n",
       "4           0              37              32  ...            5009   \n",
       "\n",
       "   seg_llamad_sal  financiacion  imp_financ  descuentos  conexion  \\\n",
       "0           18520             0         0.0           0         1   \n",
       "1            8016             0         0.0           1         1   \n",
       "2            7106             0         0.0           1         0   \n",
       "3            5052             0         0.0           0         1   \n",
       "4            8686             0         0.0           0         1   \n",
       "\n",
       "   vel_conexion  TV  retiro    Mes  \n",
       "0            50   1     NaN  Enero  \n",
       "1           600   1     NaN  Enero  \n",
       "2            35   1     NaN  Enero  \n",
       "3           200   0     NaN  Enero  \n",
       "4           200   1     NaN  Enero  \n",
       "\n",
       "[5 rows x 21 columns]"
      ]
     },
     "execution_count": 62,
     "metadata": {},
     "output_type": "execute_result"
    }
   ],
   "source": [
    "consolidada_ene.head()"
   ]
  },
  {
   "cell_type": "code",
   "execution_count": 63,
   "id": "4e180e09",
   "metadata": {},
   "outputs": [
    {
     "data": {
      "text/plain": [
       "id                  int64\n",
       "edad                int64\n",
       "facturacion       float64\n",
       "antiguedad          int32\n",
       "provincia           int32\n",
       "num_lineas          int64\n",
       "num_dt            float64\n",
       "incidencia          int32\n",
       "num_llamad_ent      int64\n",
       "num_llamad_sal      int64\n",
       "mb_datos            int64\n",
       "seg_llamad_ent      int64\n",
       "seg_llamad_sal      int64\n",
       "financiacion        int32\n",
       "imp_financ        float64\n",
       "descuentos          int32\n",
       "conexion            int32\n",
       "vel_conexion        int64\n",
       "TV                  int32\n",
       "retiro             object\n",
       "Mes                object\n",
       "dtype: object"
      ]
     },
     "execution_count": 63,
     "metadata": {},
     "output_type": "execute_result"
    }
   ],
   "source": [
    "consolidada_dic.dtypes"
   ]
  },
  {
   "cell_type": "markdown",
   "id": "54c8e94d",
   "metadata": {},
   "source": [
    "Esta parte tampoco se procesa dado quen o dio resultado el tema de las Dummy"
   ]
  },
  {
   "cell_type": "code",
   "execution_count": 64,
   "id": "bbf416c6",
   "metadata": {},
   "outputs": [],
   "source": [
    "#consolidada_dic = consolidada_dic.drop(['incidencia', 'financiacion', 'descuentos', 'conexion', 'TV'], axis=1)\n",
    "#consolidada_ene= consolidada_ene.drop(['incidencia', 'financiacion', 'descuentos', 'conexion', 'TV'], axis=1)"
   ]
  },
  {
   "cell_type": "markdown",
   "id": "5f8a1ee6",
   "metadata": {},
   "source": [
    "## Revisión final:\n",
    "- Ver que no hay variables de tipo objeto\n",
    "- Ver que no hay NAs\n",
    "- Pasar la función 'describe()' para confirmar que no hay valores atípicos"
   ]
  },
  {
   "cell_type": "code",
   "execution_count": 65,
   "id": "3439f0f8",
   "metadata": {},
   "outputs": [
    {
     "data": {
      "text/plain": [
       "id                  int64\n",
       "edad                int64\n",
       "facturacion       float64\n",
       "antiguedad          int32\n",
       "provincia           int32\n",
       "num_lineas          int64\n",
       "num_dt            float64\n",
       "incidencia          int32\n",
       "num_llamad_ent      int64\n",
       "num_llamad_sal      int64\n",
       "mb_datos            int64\n",
       "seg_llamad_ent      int64\n",
       "seg_llamad_sal      int64\n",
       "financiacion        int32\n",
       "imp_financ        float64\n",
       "descuentos          int32\n",
       "conexion            int32\n",
       "vel_conexion        int64\n",
       "TV                  int32\n",
       "retiro             object\n",
       "Mes                object\n",
       "dtype: object"
      ]
     },
     "execution_count": 65,
     "metadata": {},
     "output_type": "execute_result"
    }
   ],
   "source": [
    "consolidada_dic.dtypes"
   ]
  },
  {
   "cell_type": "code",
   "execution_count": 66,
   "id": "33daa259",
   "metadata": {},
   "outputs": [
    {
     "data": {
      "text/plain": [
       "id                  int64\n",
       "edad                int64\n",
       "facturacion       float64\n",
       "antiguedad          int32\n",
       "provincia           int32\n",
       "num_lineas          int64\n",
       "num_dt            float64\n",
       "incidencia          int32\n",
       "num_llamad_ent      int64\n",
       "num_llamad_sal      int64\n",
       "mb_datos            int64\n",
       "seg_llamad_ent      int64\n",
       "seg_llamad_sal      int64\n",
       "financiacion        int32\n",
       "imp_financ        float64\n",
       "descuentos          int32\n",
       "conexion            int32\n",
       "vel_conexion        int64\n",
       "TV                  int32\n",
       "retiro            float64\n",
       "Mes                object\n",
       "dtype: object"
      ]
     },
     "execution_count": 66,
     "metadata": {},
     "output_type": "execute_result"
    }
   ],
   "source": [
    "consolidada_ene.dtypes"
   ]
  },
  {
   "cell_type": "code",
   "execution_count": 67,
   "id": "06d41017",
   "metadata": {},
   "outputs": [
    {
     "data": {
      "text/plain": [
       "id                0\n",
       "edad              0\n",
       "facturacion       0\n",
       "antiguedad        0\n",
       "provincia         0\n",
       "num_lineas        0\n",
       "num_dt            0\n",
       "incidencia        0\n",
       "num_llamad_ent    0\n",
       "num_llamad_sal    0\n",
       "mb_datos          0\n",
       "seg_llamad_ent    0\n",
       "seg_llamad_sal    0\n",
       "financiacion      0\n",
       "imp_financ        0\n",
       "descuentos        0\n",
       "conexion          0\n",
       "vel_conexion      0\n",
       "TV                0\n",
       "retiro            0\n",
       "Mes               0\n",
       "dtype: int64"
      ]
     },
     "execution_count": 67,
     "metadata": {},
     "output_type": "execute_result"
    }
   ],
   "source": [
    "consolidada_dic.isnull().sum() "
   ]
  },
  {
   "cell_type": "code",
   "execution_count": 68,
   "id": "a01b7866",
   "metadata": {},
   "outputs": [
    {
     "data": {
      "text/plain": [
       "id                    0\n",
       "edad                  0\n",
       "facturacion           0\n",
       "antiguedad            0\n",
       "provincia             0\n",
       "num_lineas            0\n",
       "num_dt                0\n",
       "incidencia            0\n",
       "num_llamad_ent        0\n",
       "num_llamad_sal        0\n",
       "mb_datos              0\n",
       "seg_llamad_ent        0\n",
       "seg_llamad_sal        0\n",
       "financiacion          0\n",
       "imp_financ            0\n",
       "descuentos            0\n",
       "conexion              0\n",
       "vel_conexion          0\n",
       "TV                    0\n",
       "retiro            92711\n",
       "Mes                   0\n",
       "dtype: int64"
      ]
     },
     "execution_count": 68,
     "metadata": {},
     "output_type": "execute_result"
    }
   ],
   "source": [
    "consolidada_ene.isnull().sum() "
   ]
  },
  {
   "cell_type": "markdown",
   "id": "003182ae",
   "metadata": {},
   "source": [
    "### 3.5) Outliers"
   ]
  },
  {
   "cell_type": "markdown",
   "id": "afc5c6d7",
   "metadata": {},
   "source": [
    "Echemos un vistazo a las variables numéricas donde analizaré los outliers, para cada mes\n"
   ]
  },
  {
   "cell_type": "code",
   "execution_count": 69,
   "id": "04ccbca6",
   "metadata": {},
   "outputs": [
    {
     "name": "stdout",
     "output_type": "stream",
     "text": [
      "<class 'pandas.core.frame.DataFrame'>\n",
      "RangeIndex: 95467 entries, 0 to 95466\n",
      "Data columns (total 21 columns):\n",
      " #   Column          Non-Null Count  Dtype  \n",
      "---  ------          --------------  -----  \n",
      " 0   id              95467 non-null  int64  \n",
      " 1   edad            95467 non-null  int64  \n",
      " 2   facturacion     95467 non-null  float64\n",
      " 3   antiguedad      95467 non-null  int32  \n",
      " 4   provincia       95467 non-null  int32  \n",
      " 5   num_lineas      95467 non-null  int64  \n",
      " 6   num_dt          95467 non-null  float64\n",
      " 7   incidencia      95467 non-null  int32  \n",
      " 8   num_llamad_ent  95467 non-null  int64  \n",
      " 9   num_llamad_sal  95467 non-null  int64  \n",
      " 10  mb_datos        95467 non-null  int64  \n",
      " 11  seg_llamad_ent  95467 non-null  int64  \n",
      " 12  seg_llamad_sal  95467 non-null  int64  \n",
      " 13  financiacion    95467 non-null  int32  \n",
      " 14  imp_financ      95467 non-null  float64\n",
      " 15  descuentos      95467 non-null  int32  \n",
      " 16  conexion        95467 non-null  int32  \n",
      " 17  vel_conexion    95467 non-null  int64  \n",
      " 18  TV              95467 non-null  int32  \n",
      " 19  retiro          95467 non-null  object \n",
      " 20  Mes             95467 non-null  object \n",
      "dtypes: float64(3), int32(7), int64(9), object(2)\n",
      "memory usage: 12.7+ MB\n"
     ]
    }
   ],
   "source": [
    "consolidada_dic.info()"
   ]
  },
  {
   "cell_type": "code",
   "execution_count": 70,
   "id": "9749c20d",
   "metadata": {},
   "outputs": [
    {
     "data": {
      "text/plain": [
       "No    88382\n",
       "Si     7085\n",
       "Name: retiro, dtype: int64"
      ]
     },
     "execution_count": 70,
     "metadata": {},
     "output_type": "execute_result"
    }
   ],
   "source": [
    "consolidada_dic['retiro'].value_counts()"
   ]
  },
  {
   "cell_type": "code",
   "execution_count": 71,
   "id": "215ca396",
   "metadata": {},
   "outputs": [
    {
     "data": {
      "text/plain": [
       "0        0\n",
       "1        0\n",
       "2        0\n",
       "3        0\n",
       "4        1\n",
       "        ..\n",
       "95462    0\n",
       "95463    0\n",
       "95464    0\n",
       "95465    0\n",
       "95466    0\n",
       "Name: retiro, Length: 95467, dtype: int64"
      ]
     },
     "execution_count": 71,
     "metadata": {},
     "output_type": "execute_result"
    }
   ],
   "source": [
    "consolidada_dic['retiro'] = consolidada_dic['retiro'].replace({'Si':1,'No':0})\n",
    "consolidada_dic['retiro']"
   ]
  },
  {
   "cell_type": "code",
   "execution_count": 72,
   "id": "cdcb10e2",
   "metadata": {},
   "outputs": [
    {
     "data": {
      "text/html": [
       "<div>\n",
       "<style scoped>\n",
       "    .dataframe tbody tr th:only-of-type {\n",
       "        vertical-align: middle;\n",
       "    }\n",
       "\n",
       "    .dataframe tbody tr th {\n",
       "        vertical-align: top;\n",
       "    }\n",
       "\n",
       "    .dataframe thead th {\n",
       "        text-align: right;\n",
       "    }\n",
       "</style>\n",
       "<table border=\"1\" class=\"dataframe\">\n",
       "  <thead>\n",
       "    <tr style=\"text-align: right;\">\n",
       "      <th></th>\n",
       "      <th>id</th>\n",
       "      <th>edad</th>\n",
       "      <th>facturacion</th>\n",
       "      <th>antiguedad</th>\n",
       "      <th>provincia</th>\n",
       "      <th>num_lineas</th>\n",
       "      <th>num_dt</th>\n",
       "      <th>incidencia</th>\n",
       "      <th>num_llamad_ent</th>\n",
       "      <th>num_llamad_sal</th>\n",
       "      <th>...</th>\n",
       "      <th>seg_llamad_ent</th>\n",
       "      <th>seg_llamad_sal</th>\n",
       "      <th>financiacion</th>\n",
       "      <th>imp_financ</th>\n",
       "      <th>descuentos</th>\n",
       "      <th>conexion</th>\n",
       "      <th>vel_conexion</th>\n",
       "      <th>TV</th>\n",
       "      <th>retiro</th>\n",
       "      <th>Mes</th>\n",
       "    </tr>\n",
       "  </thead>\n",
       "  <tbody>\n",
       "    <tr>\n",
       "      <th>0</th>\n",
       "      <td>1</td>\n",
       "      <td>63</td>\n",
       "      <td>216.028109</td>\n",
       "      <td>402</td>\n",
       "      <td>23</td>\n",
       "      <td>5</td>\n",
       "      <td>0.0</td>\n",
       "      <td>0</td>\n",
       "      <td>110</td>\n",
       "      <td>79</td>\n",
       "      <td>...</td>\n",
       "      <td>12806</td>\n",
       "      <td>13751</td>\n",
       "      <td>0</td>\n",
       "      <td>0.0</td>\n",
       "      <td>0</td>\n",
       "      <td>1</td>\n",
       "      <td>50</td>\n",
       "      <td>1</td>\n",
       "      <td>0</td>\n",
       "      <td>Diciembre</td>\n",
       "    </tr>\n",
       "    <tr>\n",
       "      <th>1</th>\n",
       "      <td>2</td>\n",
       "      <td>84</td>\n",
       "      <td>255.830842</td>\n",
       "      <td>860</td>\n",
       "      <td>45</td>\n",
       "      <td>3</td>\n",
       "      <td>0.0</td>\n",
       "      <td>0</td>\n",
       "      <td>189</td>\n",
       "      <td>89</td>\n",
       "      <td>...</td>\n",
       "      <td>6499</td>\n",
       "      <td>10862</td>\n",
       "      <td>0</td>\n",
       "      <td>0.0</td>\n",
       "      <td>1</td>\n",
       "      <td>1</td>\n",
       "      <td>600</td>\n",
       "      <td>1</td>\n",
       "      <td>0</td>\n",
       "      <td>Diciembre</td>\n",
       "    </tr>\n",
       "    <tr>\n",
       "      <th>2</th>\n",
       "      <td>3</td>\n",
       "      <td>66</td>\n",
       "      <td>135.768153</td>\n",
       "      <td>6577</td>\n",
       "      <td>0</td>\n",
       "      <td>4</td>\n",
       "      <td>0.0</td>\n",
       "      <td>0</td>\n",
       "      <td>129</td>\n",
       "      <td>30</td>\n",
       "      <td>...</td>\n",
       "      <td>17013</td>\n",
       "      <td>16743</td>\n",
       "      <td>0</td>\n",
       "      <td>0.0</td>\n",
       "      <td>1</td>\n",
       "      <td>0</td>\n",
       "      <td>35</td>\n",
       "      <td>1</td>\n",
       "      <td>0</td>\n",
       "      <td>Diciembre</td>\n",
       "    </tr>\n",
       "    <tr>\n",
       "      <th>3</th>\n",
       "      <td>4</td>\n",
       "      <td>69</td>\n",
       "      <td>255.658527</td>\n",
       "      <td>1605</td>\n",
       "      <td>26</td>\n",
       "      <td>4</td>\n",
       "      <td>0.0</td>\n",
       "      <td>0</td>\n",
       "      <td>51</td>\n",
       "      <td>52</td>\n",
       "      <td>...</td>\n",
       "      <td>3393</td>\n",
       "      <td>6771</td>\n",
       "      <td>0</td>\n",
       "      <td>0.0</td>\n",
       "      <td>0</td>\n",
       "      <td>1</td>\n",
       "      <td>200</td>\n",
       "      <td>0</td>\n",
       "      <td>0</td>\n",
       "      <td>Diciembre</td>\n",
       "    </tr>\n",
       "    <tr>\n",
       "      <th>4</th>\n",
       "      <td>5</td>\n",
       "      <td>30</td>\n",
       "      <td>22.302845</td>\n",
       "      <td>8158</td>\n",
       "      <td>40</td>\n",
       "      <td>2</td>\n",
       "      <td>2.0</td>\n",
       "      <td>0</td>\n",
       "      <td>183</td>\n",
       "      <td>3</td>\n",
       "      <td>...</td>\n",
       "      <td>18436</td>\n",
       "      <td>4485</td>\n",
       "      <td>0</td>\n",
       "      <td>0.0</td>\n",
       "      <td>0</td>\n",
       "      <td>0</td>\n",
       "      <td>10</td>\n",
       "      <td>1</td>\n",
       "      <td>1</td>\n",
       "      <td>Diciembre</td>\n",
       "    </tr>\n",
       "  </tbody>\n",
       "</table>\n",
       "<p>5 rows × 21 columns</p>\n",
       "</div>"
      ],
      "text/plain": [
       "   id  edad  facturacion  antiguedad  provincia  num_lineas  num_dt  \\\n",
       "0   1    63   216.028109         402         23           5     0.0   \n",
       "1   2    84   255.830842         860         45           3     0.0   \n",
       "2   3    66   135.768153        6577          0           4     0.0   \n",
       "3   4    69   255.658527        1605         26           4     0.0   \n",
       "4   5    30    22.302845        8158         40           2     2.0   \n",
       "\n",
       "   incidencia  num_llamad_ent  num_llamad_sal  ...  seg_llamad_ent  \\\n",
       "0           0             110              79  ...           12806   \n",
       "1           0             189              89  ...            6499   \n",
       "2           0             129              30  ...           17013   \n",
       "3           0              51              52  ...            3393   \n",
       "4           0             183               3  ...           18436   \n",
       "\n",
       "   seg_llamad_sal  financiacion  imp_financ  descuentos  conexion  \\\n",
       "0           13751             0         0.0           0         1   \n",
       "1           10862             0         0.0           1         1   \n",
       "2           16743             0         0.0           1         0   \n",
       "3            6771             0         0.0           0         1   \n",
       "4            4485             0         0.0           0         0   \n",
       "\n",
       "   vel_conexion  TV  retiro        Mes  \n",
       "0            50   1       0  Diciembre  \n",
       "1           600   1       0  Diciembre  \n",
       "2            35   1       0  Diciembre  \n",
       "3           200   0       0  Diciembre  \n",
       "4            10   1       1  Diciembre  \n",
       "\n",
       "[5 rows x 21 columns]"
      ]
     },
     "execution_count": 72,
     "metadata": {},
     "output_type": "execute_result"
    }
   ],
   "source": [
    "dat_dic =  consolidada_dic\n",
    "dat_dic.head()"
   ]
  },
  {
   "cell_type": "code",
   "execution_count": 73,
   "id": "6a4481f3",
   "metadata": {},
   "outputs": [],
   "source": [
    "y = dat_dic['retiro']\n",
    "X = dat_dic.drop('retiro', axis=1)\n",
    "X = dat_dic.drop('Mes', axis=1)"
   ]
  },
  {
   "cell_type": "code",
   "execution_count": 74,
   "id": "a437fd63",
   "metadata": {},
   "outputs": [
    {
     "data": {
      "text/html": [
       "<div>\n",
       "<style scoped>\n",
       "    .dataframe tbody tr th:only-of-type {\n",
       "        vertical-align: middle;\n",
       "    }\n",
       "\n",
       "    .dataframe tbody tr th {\n",
       "        vertical-align: top;\n",
       "    }\n",
       "\n",
       "    .dataframe thead th {\n",
       "        text-align: right;\n",
       "    }\n",
       "</style>\n",
       "<table border=\"1\" class=\"dataframe\">\n",
       "  <thead>\n",
       "    <tr style=\"text-align: right;\">\n",
       "      <th></th>\n",
       "      <th>id</th>\n",
       "      <th>edad</th>\n",
       "      <th>facturacion</th>\n",
       "      <th>antiguedad</th>\n",
       "      <th>provincia</th>\n",
       "      <th>num_lineas</th>\n",
       "      <th>num_dt</th>\n",
       "      <th>incidencia</th>\n",
       "      <th>num_llamad_ent</th>\n",
       "      <th>num_llamad_sal</th>\n",
       "      <th>mb_datos</th>\n",
       "      <th>seg_llamad_ent</th>\n",
       "      <th>seg_llamad_sal</th>\n",
       "      <th>financiacion</th>\n",
       "      <th>imp_financ</th>\n",
       "      <th>descuentos</th>\n",
       "      <th>conexion</th>\n",
       "      <th>vel_conexion</th>\n",
       "      <th>TV</th>\n",
       "      <th>retiro</th>\n",
       "    </tr>\n",
       "  </thead>\n",
       "  <tbody>\n",
       "    <tr>\n",
       "      <th>0</th>\n",
       "      <td>1</td>\n",
       "      <td>63</td>\n",
       "      <td>216.028109</td>\n",
       "      <td>402</td>\n",
       "      <td>23</td>\n",
       "      <td>5</td>\n",
       "      <td>0.0</td>\n",
       "      <td>0</td>\n",
       "      <td>110</td>\n",
       "      <td>79</td>\n",
       "      <td>10897</td>\n",
       "      <td>12806</td>\n",
       "      <td>13751</td>\n",
       "      <td>0</td>\n",
       "      <td>0.0</td>\n",
       "      <td>0</td>\n",
       "      <td>1</td>\n",
       "      <td>50</td>\n",
       "      <td>1</td>\n",
       "      <td>0</td>\n",
       "    </tr>\n",
       "    <tr>\n",
       "      <th>1</th>\n",
       "      <td>2</td>\n",
       "      <td>84</td>\n",
       "      <td>255.830842</td>\n",
       "      <td>860</td>\n",
       "      <td>45</td>\n",
       "      <td>3</td>\n",
       "      <td>0.0</td>\n",
       "      <td>0</td>\n",
       "      <td>189</td>\n",
       "      <td>89</td>\n",
       "      <td>18657</td>\n",
       "      <td>6499</td>\n",
       "      <td>10862</td>\n",
       "      <td>0</td>\n",
       "      <td>0.0</td>\n",
       "      <td>1</td>\n",
       "      <td>1</td>\n",
       "      <td>600</td>\n",
       "      <td>1</td>\n",
       "      <td>0</td>\n",
       "    </tr>\n",
       "    <tr>\n",
       "      <th>2</th>\n",
       "      <td>3</td>\n",
       "      <td>66</td>\n",
       "      <td>135.768153</td>\n",
       "      <td>6577</td>\n",
       "      <td>0</td>\n",
       "      <td>4</td>\n",
       "      <td>0.0</td>\n",
       "      <td>0</td>\n",
       "      <td>129</td>\n",
       "      <td>30</td>\n",
       "      <td>15511</td>\n",
       "      <td>17013</td>\n",
       "      <td>16743</td>\n",
       "      <td>0</td>\n",
       "      <td>0.0</td>\n",
       "      <td>1</td>\n",
       "      <td>0</td>\n",
       "      <td>35</td>\n",
       "      <td>1</td>\n",
       "      <td>0</td>\n",
       "    </tr>\n",
       "    <tr>\n",
       "      <th>3</th>\n",
       "      <td>4</td>\n",
       "      <td>69</td>\n",
       "      <td>255.658527</td>\n",
       "      <td>1605</td>\n",
       "      <td>26</td>\n",
       "      <td>4</td>\n",
       "      <td>0.0</td>\n",
       "      <td>0</td>\n",
       "      <td>51</td>\n",
       "      <td>52</td>\n",
       "      <td>12670</td>\n",
       "      <td>3393</td>\n",
       "      <td>6771</td>\n",
       "      <td>0</td>\n",
       "      <td>0.0</td>\n",
       "      <td>0</td>\n",
       "      <td>1</td>\n",
       "      <td>200</td>\n",
       "      <td>0</td>\n",
       "      <td>0</td>\n",
       "    </tr>\n",
       "    <tr>\n",
       "      <th>4</th>\n",
       "      <td>5</td>\n",
       "      <td>30</td>\n",
       "      <td>22.302845</td>\n",
       "      <td>8158</td>\n",
       "      <td>40</td>\n",
       "      <td>2</td>\n",
       "      <td>2.0</td>\n",
       "      <td>0</td>\n",
       "      <td>183</td>\n",
       "      <td>3</td>\n",
       "      <td>23756</td>\n",
       "      <td>18436</td>\n",
       "      <td>4485</td>\n",
       "      <td>0</td>\n",
       "      <td>0.0</td>\n",
       "      <td>0</td>\n",
       "      <td>0</td>\n",
       "      <td>10</td>\n",
       "      <td>1</td>\n",
       "      <td>1</td>\n",
       "    </tr>\n",
       "  </tbody>\n",
       "</table>\n",
       "</div>"
      ],
      "text/plain": [
       "   id  edad  facturacion  antiguedad  provincia  num_lineas  num_dt  \\\n",
       "0   1    63   216.028109         402         23           5     0.0   \n",
       "1   2    84   255.830842         860         45           3     0.0   \n",
       "2   3    66   135.768153        6577          0           4     0.0   \n",
       "3   4    69   255.658527        1605         26           4     0.0   \n",
       "4   5    30    22.302845        8158         40           2     2.0   \n",
       "\n",
       "   incidencia  num_llamad_ent  num_llamad_sal  mb_datos  seg_llamad_ent  \\\n",
       "0           0             110              79     10897           12806   \n",
       "1           0             189              89     18657            6499   \n",
       "2           0             129              30     15511           17013   \n",
       "3           0              51              52     12670            3393   \n",
       "4           0             183               3     23756           18436   \n",
       "\n",
       "   seg_llamad_sal  financiacion  imp_financ  descuentos  conexion  \\\n",
       "0           13751             0         0.0           0         1   \n",
       "1           10862             0         0.0           1         1   \n",
       "2           16743             0         0.0           1         0   \n",
       "3            6771             0         0.0           0         1   \n",
       "4            4485             0         0.0           0         0   \n",
       "\n",
       "   vel_conexion  TV  retiro  \n",
       "0            50   1       0  \n",
       "1           600   1       0  \n",
       "2            35   1       0  \n",
       "3           200   0       0  \n",
       "4            10   1       1  "
      ]
     },
     "execution_count": 74,
     "metadata": {},
     "output_type": "execute_result"
    }
   ],
   "source": [
    "X.head()"
   ]
  },
  {
   "cell_type": "code",
   "execution_count": 75,
   "id": "9c734c24",
   "metadata": {},
   "outputs": [
    {
     "data": {
      "text/plain": [
       "0    0\n",
       "1    0\n",
       "2    0\n",
       "3    0\n",
       "4    1\n",
       "Name: retiro, dtype: int64"
      ]
     },
     "execution_count": 75,
     "metadata": {},
     "output_type": "execute_result"
    }
   ],
   "source": [
    "y.head()"
   ]
  },
  {
   "cell_type": "code",
   "execution_count": 76,
   "id": "801f4ad3",
   "metadata": {},
   "outputs": [
    {
     "data": {
      "text/html": [
       "<style type=\"text/css\">\n",
       "#T_9e3d0_row0_col0 {\n",
       "  background-color: #023858;\n",
       "  color: #f1f1f1;\n",
       "}\n",
       "#T_9e3d0_row1_col0 {\n",
       "  background-color: #bbc7e0;\n",
       "  color: #000000;\n",
       "}\n",
       "#T_9e3d0_row2_col0 {\n",
       "  background-color: #c1cae2;\n",
       "  color: #000000;\n",
       "}\n",
       "#T_9e3d0_row3_col0 {\n",
       "  background-color: #c8cde4;\n",
       "  color: #000000;\n",
       "}\n",
       "#T_9e3d0_row4_col0 {\n",
       "  background-color: #e8e4f0;\n",
       "  color: #000000;\n",
       "}\n",
       "#T_9e3d0_row5_col0 {\n",
       "  background-color: #f4edf6;\n",
       "  color: #000000;\n",
       "}\n",
       "#T_9e3d0_row6_col0 {\n",
       "  background-color: #f5eef6;\n",
       "  color: #000000;\n",
       "}\n",
       "#T_9e3d0_row7_col0 {\n",
       "  background-color: #f7f0f7;\n",
       "  color: #000000;\n",
       "}\n",
       "#T_9e3d0_row8_col0, #T_9e3d0_row9_col0 {\n",
       "  background-color: #fef6fb;\n",
       "  color: #000000;\n",
       "}\n",
       "#T_9e3d0_row10_col0, #T_9e3d0_row11_col0, #T_9e3d0_row12_col0, #T_9e3d0_row13_col0, #T_9e3d0_row14_col0, #T_9e3d0_row15_col0, #T_9e3d0_row16_col0, #T_9e3d0_row17_col0, #T_9e3d0_row18_col0, #T_9e3d0_row19_col0 {\n",
       "  background-color: #fff7fb;\n",
       "  color: #000000;\n",
       "}\n",
       "</style>\n",
       "<table id=\"T_9e3d0_\">\n",
       "  <thead>\n",
       "    <tr>\n",
       "      <th class=\"blank level0\" >&nbsp;</th>\n",
       "      <th class=\"col_heading level0 col0\" >retiro</th>\n",
       "    </tr>\n",
       "  </thead>\n",
       "  <tbody>\n",
       "    <tr>\n",
       "      <th id=\"T_9e3d0_level0_row0\" class=\"row_heading level0 row0\" >retiro</th>\n",
       "      <td id=\"T_9e3d0_row0_col0\" class=\"data row0 col0\" >1.000000</td>\n",
       "    </tr>\n",
       "    <tr>\n",
       "      <th id=\"T_9e3d0_level0_row1\" class=\"row_heading level0 row1\" >num_dt</th>\n",
       "      <td id=\"T_9e3d0_row1_col0\" class=\"data row1 col0\" >0.312795</td>\n",
       "    </tr>\n",
       "    <tr>\n",
       "      <th id=\"T_9e3d0_level0_row2\" class=\"row_heading level0 row2\" >edad</th>\n",
       "      <td id=\"T_9e3d0_row2_col0\" class=\"data row2 col0\" >0.296835</td>\n",
       "    </tr>\n",
       "    <tr>\n",
       "      <th id=\"T_9e3d0_level0_row3\" class=\"row_heading level0 row3\" >incidencia</th>\n",
       "      <td id=\"T_9e3d0_row3_col0\" class=\"data row3 col0\" >0.277408</td>\n",
       "    </tr>\n",
       "    <tr>\n",
       "      <th id=\"T_9e3d0_level0_row4\" class=\"row_heading level0 row4\" >descuentos</th>\n",
       "      <td id=\"T_9e3d0_row4_col0\" class=\"data row4 col0\" >0.141447</td>\n",
       "    </tr>\n",
       "    <tr>\n",
       "      <th id=\"T_9e3d0_level0_row5\" class=\"row_heading level0 row5\" >financiacion</th>\n",
       "      <td id=\"T_9e3d0_row5_col0\" class=\"data row5 col0\" >0.074597</td>\n",
       "    </tr>\n",
       "    <tr>\n",
       "      <th id=\"T_9e3d0_level0_row6\" class=\"row_heading level0 row6\" >imp_financ</th>\n",
       "      <td id=\"T_9e3d0_row6_col0\" class=\"data row6 col0\" >0.067626</td>\n",
       "    </tr>\n",
       "    <tr>\n",
       "      <th id=\"T_9e3d0_level0_row7\" class=\"row_heading level0 row7\" >conexion</th>\n",
       "      <td id=\"T_9e3d0_row7_col0\" class=\"data row7 col0\" >0.051478</td>\n",
       "    </tr>\n",
       "    <tr>\n",
       "      <th id=\"T_9e3d0_level0_row8\" class=\"row_heading level0 row8\" >provincia</th>\n",
       "      <td id=\"T_9e3d0_row8_col0\" class=\"data row8 col0\" >0.006305</td>\n",
       "    </tr>\n",
       "    <tr>\n",
       "      <th id=\"T_9e3d0_level0_row9\" class=\"row_heading level0 row9\" >num_llamad_ent</th>\n",
       "      <td id=\"T_9e3d0_row9_col0\" class=\"data row9 col0\" >0.006130</td>\n",
       "    </tr>\n",
       "    <tr>\n",
       "      <th id=\"T_9e3d0_level0_row10\" class=\"row_heading level0 row10\" >antiguedad</th>\n",
       "      <td id=\"T_9e3d0_row10_col0\" class=\"data row10 col0\" >0.003146</td>\n",
       "    </tr>\n",
       "    <tr>\n",
       "      <th id=\"T_9e3d0_level0_row11\" class=\"row_heading level0 row11\" >num_llamad_sal</th>\n",
       "      <td id=\"T_9e3d0_row11_col0\" class=\"data row11 col0\" >0.003141</td>\n",
       "    </tr>\n",
       "    <tr>\n",
       "      <th id=\"T_9e3d0_level0_row12\" class=\"row_heading level0 row12\" >facturacion</th>\n",
       "      <td id=\"T_9e3d0_row12_col0\" class=\"data row12 col0\" >0.002846</td>\n",
       "    </tr>\n",
       "    <tr>\n",
       "      <th id=\"T_9e3d0_level0_row13\" class=\"row_heading level0 row13\" >vel_conexion</th>\n",
       "      <td id=\"T_9e3d0_row13_col0\" class=\"data row13 col0\" >0.002482</td>\n",
       "    </tr>\n",
       "    <tr>\n",
       "      <th id=\"T_9e3d0_level0_row14\" class=\"row_heading level0 row14\" >num_lineas</th>\n",
       "      <td id=\"T_9e3d0_row14_col0\" class=\"data row14 col0\" >0.001910</td>\n",
       "    </tr>\n",
       "    <tr>\n",
       "      <th id=\"T_9e3d0_level0_row15\" class=\"row_heading level0 row15\" >mb_datos</th>\n",
       "      <td id=\"T_9e3d0_row15_col0\" class=\"data row15 col0\" >0.001201</td>\n",
       "    </tr>\n",
       "    <tr>\n",
       "      <th id=\"T_9e3d0_level0_row16\" class=\"row_heading level0 row16\" >id</th>\n",
       "      <td id=\"T_9e3d0_row16_col0\" class=\"data row16 col0\" >0.000866</td>\n",
       "    </tr>\n",
       "    <tr>\n",
       "      <th id=\"T_9e3d0_level0_row17\" class=\"row_heading level0 row17\" >TV</th>\n",
       "      <td id=\"T_9e3d0_row17_col0\" class=\"data row17 col0\" >0.000364</td>\n",
       "    </tr>\n",
       "    <tr>\n",
       "      <th id=\"T_9e3d0_level0_row18\" class=\"row_heading level0 row18\" >seg_llamad_sal</th>\n",
       "      <td id=\"T_9e3d0_row18_col0\" class=\"data row18 col0\" >0.000213</td>\n",
       "    </tr>\n",
       "    <tr>\n",
       "      <th id=\"T_9e3d0_level0_row19\" class=\"row_heading level0 row19\" >seg_llamad_ent</th>\n",
       "      <td id=\"T_9e3d0_row19_col0\" class=\"data row19 col0\" >0.000139</td>\n",
       "    </tr>\n",
       "  </tbody>\n",
       "</table>\n"
      ],
      "text/plain": [
       "<pandas.io.formats.style.Styler at 0x177010397f0>"
      ]
     },
     "execution_count": 76,
     "metadata": {},
     "output_type": "execute_result"
    }
   ],
   "source": [
    "corr = abs(consolidada_dic.corr())\n",
    "corr[['retiro']].sort_values(by = 'retiro',ascending = False).style.background_gradient()\n"
   ]
  },
  {
   "cell_type": "markdown",
   "id": "98a2bcdb",
   "metadata": {},
   "source": [
    "Compruebo cuantos se agrupan por cada uno de los distintos valores que adoptan tanto las variables 'num_dt', 'imp_financ'"
   ]
  },
  {
   "cell_type": "code",
   "execution_count": 77,
   "id": "4012f60b",
   "metadata": {},
   "outputs": [],
   "source": [
    "#data_diciembre[data_diciembre['num_lineas']>=10]"
   ]
  },
  {
   "cell_type": "code",
   "execution_count": 78,
   "id": "9b9909de",
   "metadata": {},
   "outputs": [],
   "source": [
    "#data_diciembre['num_lineas'].describe()"
   ]
  },
  {
   "cell_type": "markdown",
   "id": "e0363123",
   "metadata": {},
   "source": [
    "##  4) Construir un modelo analítico de clasificación que sea capaz de predecir cuando un cliente se fuga de la empresa.\n",
    "\n",
    "### Tras haber hecho una limpieza rápida de los datos, se saca el primer modelo, utilizando solo la informacion de diciembre, vamos a utilizar los siguientes modelos:\n",
    "\n",
    "- La regresión logística se utiliza generalmente para fines de clasificación. A diferencia de la regresión lineal, la variable dependiente solo puede tomar un número limitado de valores, es decir, la variable dependiente es categórica tal y como es nuestra variable y del modelo (0,1)\n",
    "- Los árboles de decisión son modelos predictivos formados por reglas binarias (si/no) con las que se consigue repartir las observaciones en función de sus atributos y predecir así el valor de la variable respuesta. Son fáciles de interpretar aun cuando las relaciones entre predictores son complejas y se aplican casos de calsificación. Los modelos más típicamente conocidos de clasifcicación son RandomForest y DecisionTrees\n"
   ]
  },
  {
   "cell_type": "code",
   "execution_count": 79,
   "id": "699d6253",
   "metadata": {},
   "outputs": [],
   "source": [
    "X_train, X_test, y_train, y_test = train_test_split(X , \n",
    "                                                    y, \n",
    "                                                    test_size=0.2, \n",
    "                                                    random_state=42, \n",
    "                                                    stratify=y)"
   ]
  },
  {
   "cell_type": "markdown",
   "id": "0fe6a133",
   "metadata": {},
   "source": [
    "### - Logistic Regression"
   ]
  },
  {
   "cell_type": "code",
   "execution_count": 80,
   "id": "8d040830",
   "metadata": {},
   "outputs": [
    {
     "name": "stderr",
     "output_type": "stream",
     "text": [
      "C:\\ProgramData\\Anaconda3\\lib\\site-packages\\scipy\\optimize\\linesearch.py:478: LineSearchWarning: The line search algorithm did not converge\n",
      "  warn('The line search algorithm did not converge', LineSearchWarning)\n",
      "C:\\ProgramData\\Anaconda3\\lib\\site-packages\\scipy\\optimize\\linesearch.py:327: LineSearchWarning: The line search algorithm did not converge\n",
      "  warn('The line search algorithm did not converge', LineSearchWarning)\n",
      "C:\\ProgramData\\Anaconda3\\lib\\site-packages\\scipy\\optimize\\linesearch.py:478: LineSearchWarning: The line search algorithm did not converge\n",
      "  warn('The line search algorithm did not converge', LineSearchWarning)\n",
      "C:\\ProgramData\\Anaconda3\\lib\\site-packages\\scipy\\optimize\\linesearch.py:327: LineSearchWarning: The line search algorithm did not converge\n",
      "  warn('The line search algorithm did not converge', LineSearchWarning)\n",
      "C:\\ProgramData\\Anaconda3\\lib\\site-packages\\scipy\\optimize\\linesearch.py:478: LineSearchWarning: The line search algorithm did not converge\n",
      "  warn('The line search algorithm did not converge', LineSearchWarning)\n",
      "C:\\ProgramData\\Anaconda3\\lib\\site-packages\\scipy\\optimize\\linesearch.py:327: LineSearchWarning: The line search algorithm did not converge\n",
      "  warn('The line search algorithm did not converge', LineSearchWarning)\n",
      "C:\\ProgramData\\Anaconda3\\lib\\site-packages\\scipy\\optimize\\linesearch.py:478: LineSearchWarning: The line search algorithm did not converge\n",
      "  warn('The line search algorithm did not converge', LineSearchWarning)\n",
      "C:\\ProgramData\\Anaconda3\\lib\\site-packages\\scipy\\optimize\\linesearch.py:327: LineSearchWarning: The line search algorithm did not converge\n",
      "  warn('The line search algorithm did not converge', LineSearchWarning)\n",
      "C:\\ProgramData\\Anaconda3\\lib\\site-packages\\scipy\\optimize\\linesearch.py:478: LineSearchWarning: The line search algorithm did not converge\n",
      "  warn('The line search algorithm did not converge', LineSearchWarning)\n",
      "C:\\ProgramData\\Anaconda3\\lib\\site-packages\\scipy\\optimize\\linesearch.py:327: LineSearchWarning: The line search algorithm did not converge\n",
      "  warn('The line search algorithm did not converge', LineSearchWarning)\n",
      "C:\\ProgramData\\Anaconda3\\lib\\site-packages\\scipy\\optimize\\linesearch.py:478: LineSearchWarning: The line search algorithm did not converge\n",
      "  warn('The line search algorithm did not converge', LineSearchWarning)\n",
      "C:\\ProgramData\\Anaconda3\\lib\\site-packages\\scipy\\optimize\\linesearch.py:327: LineSearchWarning: The line search algorithm did not converge\n",
      "  warn('The line search algorithm did not converge', LineSearchWarning)\n",
      "C:\\ProgramData\\Anaconda3\\lib\\site-packages\\scipy\\optimize\\linesearch.py:478: LineSearchWarning: The line search algorithm did not converge\n",
      "  warn('The line search algorithm did not converge', LineSearchWarning)\n",
      "C:\\ProgramData\\Anaconda3\\lib\\site-packages\\scipy\\optimize\\linesearch.py:327: LineSearchWarning: The line search algorithm did not converge\n",
      "  warn('The line search algorithm did not converge', LineSearchWarning)\n",
      "C:\\ProgramData\\Anaconda3\\lib\\site-packages\\scipy\\optimize\\linesearch.py:478: LineSearchWarning: The line search algorithm did not converge\n",
      "  warn('The line search algorithm did not converge', LineSearchWarning)\n",
      "C:\\ProgramData\\Anaconda3\\lib\\site-packages\\scipy\\optimize\\linesearch.py:327: LineSearchWarning: The line search algorithm did not converge\n",
      "  warn('The line search algorithm did not converge', LineSearchWarning)\n",
      "C:\\ProgramData\\Anaconda3\\lib\\site-packages\\scipy\\optimize\\linesearch.py:478: LineSearchWarning: The line search algorithm did not converge\n",
      "  warn('The line search algorithm did not converge', LineSearchWarning)\n",
      "C:\\ProgramData\\Anaconda3\\lib\\site-packages\\scipy\\optimize\\linesearch.py:327: LineSearchWarning: The line search algorithm did not converge\n",
      "  warn('The line search algorithm did not converge', LineSearchWarning)\n",
      "C:\\ProgramData\\Anaconda3\\lib\\site-packages\\scipy\\optimize\\linesearch.py:478: LineSearchWarning: The line search algorithm did not converge\n",
      "  warn('The line search algorithm did not converge', LineSearchWarning)\n",
      "C:\\ProgramData\\Anaconda3\\lib\\site-packages\\scipy\\optimize\\linesearch.py:327: LineSearchWarning: The line search algorithm did not converge\n",
      "  warn('The line search algorithm did not converge', LineSearchWarning)\n"
     ]
    }
   ],
   "source": [
    "model_log = LogisticRegression(random_state=0, max_iter=300, solver='newton-cg').fit(X_train, y_train)"
   ]
  },
  {
   "cell_type": "code",
   "execution_count": 81,
   "id": "04c5da0b",
   "metadata": {},
   "outputs": [
    {
     "name": "stdout",
     "output_type": "stream",
     "text": [
      "LogisticRegression(max_iter=300, random_state=0, solver='newton-cg')\n"
     ]
    }
   ],
   "source": [
    "print(model_log)"
   ]
  },
  {
   "cell_type": "code",
   "execution_count": 1,
   "id": "ad36e79d",
   "metadata": {},
   "outputs": [
    {
     "ename": "NameError",
     "evalue": "name 'model_log' is not defined",
     "output_type": "error",
     "traceback": [
      "\u001b[1;31m---------------------------------------------------------------------------\u001b[0m",
      "\u001b[1;31mNameError\u001b[0m                                 Traceback (most recent call last)",
      "\u001b[1;32m~\\AppData\\Local\\Temp/ipykernel_19408/3198156863.py\u001b[0m in \u001b[0;36m<module>\u001b[1;34m\u001b[0m\n\u001b[1;32m----> 1\u001b[1;33m \u001b[0my_pred_log\u001b[0m \u001b[1;33m=\u001b[0m \u001b[0mmodel_log\u001b[0m\u001b[1;33m.\u001b[0m\u001b[0mpredict\u001b[0m\u001b[1;33m(\u001b[0m\u001b[0mX_test\u001b[0m\u001b[1;33m)\u001b[0m\u001b[1;33m\u001b[0m\u001b[1;33m\u001b[0m\u001b[0m\n\u001b[0m",
      "\u001b[1;31mNameError\u001b[0m: name 'model_log' is not defined"
     ]
    }
   ],
   "source": [
    "y_pred_log = model_log.predict(X_test)"
   ]
  },
  {
   "cell_type": "code",
   "execution_count": 83,
   "id": "7362fb74",
   "metadata": {},
   "outputs": [
    {
     "name": "stdout",
     "output_type": "stream",
     "text": [
      "              precision    recall  f1-score   support\n",
      "\n",
      "           0       1.00      1.00      1.00     17677\n",
      "           1       1.00      1.00      1.00      1417\n",
      "\n",
      "    accuracy                           1.00     19094\n",
      "   macro avg       1.00      1.00      1.00     19094\n",
      "weighted avg       1.00      1.00      1.00     19094\n",
      "\n"
     ]
    }
   ],
   "source": [
    "\n",
    "print(classification_report(y_test, y_pred_log))"
   ]
  },
  {
   "cell_type": "markdown",
   "id": "c6a1acaa",
   "metadata": {},
   "source": [
    "### - DecisionTree "
   ]
  },
  {
   "cell_type": "code",
   "execution_count": 84,
   "id": "ae655fbe",
   "metadata": {},
   "outputs": [
    {
     "name": "stdout",
     "output_type": "stream",
     "text": [
      "Accuracy Decision Tree: 1.0\n"
     ]
    }
   ],
   "source": [
    "model_dt = DecisionTreeClassifier(random_state=12345)\n",
    "model_dt.fit(X_train, y_train)\n",
    "predictions= model_dt.predict(X_test)\n",
    "print('Accuracy Decision Tree:', accuracy_score(y_test, predictions))"
   ]
  },
  {
   "cell_type": "code",
   "execution_count": 85,
   "id": "bcd92bf5",
   "metadata": {},
   "outputs": [],
   "source": [
    "y_pred_dt = model_dt.predict(X_test)\n"
   ]
  },
  {
   "cell_type": "code",
   "execution_count": 86,
   "id": "eae0cbab",
   "metadata": {},
   "outputs": [
    {
     "name": "stdout",
     "output_type": "stream",
     "text": [
      "              precision    recall  f1-score   support\n",
      "\n",
      "           0       1.00      1.00      1.00     17677\n",
      "           1       1.00      1.00      1.00      1417\n",
      "\n",
      "    accuracy                           1.00     19094\n",
      "   macro avg       1.00      1.00      1.00     19094\n",
      "weighted avg       1.00      1.00      1.00     19094\n",
      "\n"
     ]
    }
   ],
   "source": [
    "print(classification_report(y_test, y_pred_dt))"
   ]
  },
  {
   "cell_type": "markdown",
   "id": "b70ab27b",
   "metadata": {},
   "source": [
    "### - RandomForest"
   ]
  },
  {
   "cell_type": "code",
   "execution_count": 87,
   "id": "7701cd1b",
   "metadata": {},
   "outputs": [],
   "source": [
    "model_rf = RandomForestClassifier(bootstrap= False,criterion=  'gini',max_depth=  16,n_estimators= 300).fit(X, y)\n",
    "y_pred_rf = model_rf.predict(X_test)"
   ]
  },
  {
   "cell_type": "code",
   "execution_count": 88,
   "id": "6017924b",
   "metadata": {},
   "outputs": [
    {
     "data": {
      "text/plain": [
       "array([5.11184875e-03, 6.84511595e-02, 1.28063050e-03, 4.86411055e-04,\n",
       "       3.37020964e-04, 1.42080117e-04, 6.67742566e-02, 4.39190491e-02,\n",
       "       4.46282402e-04, 3.59012440e-04, 5.00570670e-04, 5.08322025e-04,\n",
       "       4.57454675e-04, 3.99737012e-03, 3.34755282e-03, 2.22008189e-02,\n",
       "       1.17749327e-03, 6.66336327e-03, 8.97700953e-03, 7.64862293e-01])"
      ]
     },
     "execution_count": 88,
     "metadata": {},
     "output_type": "execute_result"
    }
   ],
   "source": [
    "model_rf.feature_importances_"
   ]
  },
  {
   "cell_type": "code",
   "execution_count": 89,
   "id": "2e15081d",
   "metadata": {},
   "outputs": [
    {
     "data": {
      "text/plain": [
       "array(['id', 'edad', 'facturacion', 'antiguedad', 'provincia',\n",
       "       'num_lineas', 'num_dt', 'incidencia', 'num_llamad_ent',\n",
       "       'num_llamad_sal', 'mb_datos', 'seg_llamad_ent', 'seg_llamad_sal',\n",
       "       'financiacion', 'imp_financ', 'descuentos', 'conexion',\n",
       "       'vel_conexion', 'TV', 'retiro'], dtype=object)"
      ]
     },
     "execution_count": 89,
     "metadata": {},
     "output_type": "execute_result"
    }
   ],
   "source": [
    "model_rf.feature_names_in_"
   ]
  },
  {
   "cell_type": "code",
   "execution_count": 90,
   "id": "8737ef36",
   "metadata": {},
   "outputs": [],
   "source": [
    "y_pred_rf = model_dt.predict(X_test)"
   ]
  },
  {
   "cell_type": "code",
   "execution_count": 91,
   "id": "95fe1ca9",
   "metadata": {},
   "outputs": [
    {
     "name": "stdout",
     "output_type": "stream",
     "text": [
      "              precision    recall  f1-score   support\n",
      "\n",
      "           0       1.00      1.00      1.00     17677\n",
      "           1       1.00      1.00      1.00      1417\n",
      "\n",
      "    accuracy                           1.00     19094\n",
      "   macro avg       1.00      1.00      1.00     19094\n",
      "weighted avg       1.00      1.00      1.00     19094\n",
      "\n"
     ]
    }
   ],
   "source": [
    "print(classification_report(y_test, y_pred_rf))"
   ]
  },
  {
   "cell_type": "markdown",
   "id": "7f534681",
   "metadata": {},
   "source": [
    "Modelos con accuracy muy altos, lo que me hace señalar que dado que hay una gran diferencia de pesos entre los que se quedan frente a los que se han ido, los modelos aprenderán muy bien de los primeros que son los que en mayor proporción estan mejor representados.Por consiguiente, se  realiza una pobre generalización y por tanto, sobreajustado"
   ]
  },
  {
   "cell_type": "markdown",
   "id": "d9a10e41",
   "metadata": {},
   "source": [
    "## 4.1 Evaluación del modelo"
   ]
  },
  {
   "cell_type": "markdown",
   "id": "89323232",
   "metadata": {},
   "source": [
    "Al tratarse de clases muy desbalanceadas debemos prestar mayor atención a la curva de precisión que evalua el rendimiento de la clase positiva"
   ]
  },
  {
   "cell_type": "code",
   "execution_count": 92,
   "id": "20034dcf",
   "metadata": {},
   "outputs": [],
   "source": [
    "def saca_metricas(y1, y2):\n",
    "    print('matriz de confusión')\n",
    "    print(confusion_matrix(y1, y2))\n",
    "    print('accuracy')\n",
    "    print(accuracy_score(y1, y2))\n",
    "    print('precision')\n",
    "    print(precision_score(y1, y2))\n",
    "    print('recall')\n",
    "    print(recall_score(y1, y2))\n",
    "    print('f1')\n",
    "    print(f1_score(y1, y2))\n",
    "    false_positive_rate, recall, thresholds = roc_curve(y1, y2)\n",
    "    roc_auc = auc(false_positive_rate, recall)\n",
    "    print('AUC')\n",
    "    print(roc_auc)\n",
    "    plt.plot(false_positive_rate, recall, 'b')\n",
    "    plt.plot([0, 1], [0, 1], 'r--')\n",
    "    plt.title('AUC = %0.2f' % roc_auc)  "
   ]
  },
  {
   "cell_type": "markdown",
   "id": "e7bb7381",
   "metadata": {},
   "source": [
    "### Modelo logístico"
   ]
  },
  {
   "cell_type": "code",
   "execution_count": 93,
   "id": "8fe3e08c",
   "metadata": {},
   "outputs": [
    {
     "name": "stdout",
     "output_type": "stream",
     "text": [
      "matriz de confusión\n",
      "[[17677     0]\n",
      " [    0  1417]]\n",
      "accuracy\n",
      "1.0\n",
      "precision\n",
      "1.0\n",
      "recall\n",
      "1.0\n",
      "f1\n",
      "1.0\n",
      "AUC\n",
      "1.0\n"
     ]
    },
    {
     "data": {
      "image/png": "[encoded data removed]",
      "text/plain": [
       "<Figure size 432x288 with 1 Axes>"
      ]
     },
     "metadata": {
      "needs_background": "light"
     },
     "output_type": "display_data"
    }
   ],
   "source": [
    "saca_metricas(y_test, y_pred_log)"
   ]
  },
  {
   "cell_type": "markdown",
   "id": "3003165b",
   "metadata": {},
   "source": [
    "Come se puede observar, el modelo tiene 100% de accuracy. Este fenómeno se debe a que en nuestra target 'permanencia', la inmensa mayoría de los clientes (más del 90%) continúan con la empresa y muy pocos se marchan.\n",
    "\n",
    "Por lo tanto, el modelo no es buen predictor. "
   ]
  },
  {
   "cell_type": "markdown",
   "id": "5091a3f1",
   "metadata": {},
   "source": [
    "La gráfica de precisión captura el efecto de una gran cantidad de muestras negativas en el rendimiento del algoritmo. Hay un claro problema de desbalanceo que solo detecta los casos 0 y muy mala clasificiación de 1."
   ]
  },
  {
   "cell_type": "markdown",
   "id": "840759c0",
   "metadata": {},
   "source": [
    "### Modelo DecisionTree"
   ]
  },
  {
   "cell_type": "code",
   "execution_count": 94,
   "id": "050ec3aa",
   "metadata": {},
   "outputs": [
    {
     "name": "stdout",
     "output_type": "stream",
     "text": [
      "matriz de confusión\n",
      "[[17677     0]\n",
      " [    0  1417]]\n",
      "accuracy\n",
      "1.0\n",
      "precision\n",
      "1.0\n",
      "recall\n",
      "1.0\n",
      "f1\n",
      "1.0\n",
      "AUC\n",
      "1.0\n"
     ]
    },
    {
     "data": {
      "image/png": "[encoded data removed]",
      "text/plain": [
       "<Figure size 432x288 with 1 Axes>"
      ]
     },
     "metadata": {
      "needs_background": "light"
     },
     "output_type": "display_data"
    }
   ],
   "source": [
    "saca_metricas(y_test, y_pred_dt)"
   ]
  },
  {
   "cell_type": "markdown",
   "id": "46351405",
   "metadata": {},
   "source": [
    "### Modelo RandomForest"
   ]
  },
  {
   "cell_type": "code",
   "execution_count": 95,
   "id": "c66e8742",
   "metadata": {},
   "outputs": [
    {
     "name": "stdout",
     "output_type": "stream",
     "text": [
      "matriz de confusión\n",
      "[[17677     0]\n",
      " [    0  1417]]\n",
      "accuracy\n",
      "1.0\n",
      "precision\n",
      "1.0\n",
      "recall\n",
      "1.0\n",
      "f1\n",
      "1.0\n",
      "AUC\n",
      "1.0\n"
     ]
    },
    {
     "data": {
      "image/png": "[encoded data removed]",
      "text/plain": [
       "<Figure size 432x288 with 1 Axes>"
      ]
     },
     "metadata": {
      "needs_background": "light"
     },
     "output_type": "display_data"
    }
   ],
   "source": [
    "saca_metricas(y_test, y_pred_rf)"
   ]
  },
  {
   "cell_type": "markdown",
   "id": "0f1b7df2",
   "metadata": {},
   "source": [
    "El modelo entrena muy bien sobre los datos del train y no del mismo modo con el test donde una vez más la gran presencia de ceros afecta sensibilidad."
   ]
  },
  {
   "cell_type": "markdown",
   "id": "11bbb8fe",
   "metadata": {},
   "source": [
    "## 5) Realizar una mejora del modelo utilizando técnicas vistas en clase"
   ]
  },
  {
   "cell_type": "markdown",
   "id": "d5d451e8",
   "metadata": {},
   "source": [
    "\n",
    "\n",
    "### ¿Que voy a hacer para mejorar el modelo?:\n",
    "    \n",
    "    1.  Comprobacion de Overfit\n",
    "    2. 'Feature engineering'. \n",
    "    3. Hacer selección de variables"
   ]
  },
  {
   "cell_type": "markdown",
   "id": "18e6b08d",
   "metadata": {},
   "source": [
    "### 5.1) Comprobación del Overfitting"
   ]
  },
  {
   "cell_type": "markdown",
   "id": "7c06d07e",
   "metadata": {},
   "source": [
    "Por lo visto nuestros modelos vemos que no clasifican del todo bien a partir de las variables seleccionadas y eso se debe al desbalanceo de nuestras muestras\n",
    "\n",
    "Se produce cuando el modelo funciona bastante bien con el set de entrenamiento pero tiene un desempeño pobre con el set de validación. \n",
    "\n",
    "Los siguientes son temas a tener en cuenta en los modelos de maching Learning:\n",
    "\n",
    "- El proceso de diseño de un modelo de Machine Learning implica el uso de dos sets de datos: entrenamiento y validación.\n",
    "Generalmente el set de entrenamiento usa aproximadamente el 80% de los datos disponibles, mientras que el de validación usa el 20% restante.\n",
    "- Un modelo con underfitting es aquel en donde los errores tanto de entrenamiento como de validación son similares y relativamente altos.\n",
    "- Por otra parte, en un modelo con overfitting se obtiene un error de entrenamiento relativamente bajo y uno de validación relativamente alto.\n",
    "- Al desarrollar un modelo de Machine Learning se debe evitar cualquiera de los dos extremos anteriores (underfitting u overfitting).\n",
    "- Lo anterior implica que el modelo ideal será aquel que permita obtener un error bajo en ambos sets (entrenamiento y validación).\n",
    "\n",
    "fuente: https://www.codificandobits.com/blog/underfitting-y-overfitting/"
   ]
  },
  {
   "cell_type": "code",
   "execution_count": 96,
   "id": "77bd5d8a",
   "metadata": {},
   "outputs": [
    {
     "name": "stdout",
     "output_type": "stream",
     "text": [
      "Counts Class 0:  70705\n",
      "Counts Class 1:  5668\n",
      "Proportion of class 0:  0.9257852906131748\n",
      "Proportion of class 1:  0.07421470938682519\n"
     ]
    },
    {
     "data": {
      "text/plain": [
       "<AxesSubplot:>"
      ]
     },
     "execution_count": 96,
     "metadata": {},
     "output_type": "execute_result"
    },
    {
     "data": {
      "image/png": "[encoded data removed]",
      "text/plain": [
       "<Figure size 432x288 with 1 Axes>"
      ]
     },
     "metadata": {
      "needs_background": "light"
     },
     "output_type": "display_data"
    }
   ],
   "source": [
    "target_count= y_train.value_counts()\n",
    "print('Counts Class 0: ',target_count[0])\n",
    "print('Counts Class 1: ',target_count[1])\n",
    "class_frequency = y_train.value_counts(normalize=True)\n",
    "print('Proportion of class 0: ',class_frequency[0])\n",
    "print('Proportion of class 1: ',class_frequency[1])\n",
    "class_frequency.plot(kind='bar')"
   ]
  },
  {
   "cell_type": "markdown",
   "id": "423dc1b1",
   "metadata": {},
   "source": [
    "Las categorias de la variable target son de casi 93% de la categoria 1 y del 7% categoria 0, esto quiere decir que nuestro modelo si tiene la presencia de Overfit."
   ]
  },
  {
   "cell_type": "markdown",
   "id": "20525024",
   "metadata": {},
   "source": [
    "### 5.2) Feature Engineering"
   ]
  },
  {
   "cell_type": "markdown",
   "id": "b77390db",
   "metadata": {},
   "source": [
    "En esta sección nos vamos a concentrar en validar las variables y crear unas nuevas a partir de las iniciales para tratar de mejorar el modelo propuesto.\n",
    "\n",
    "Primeramente, voy validar la correlación que tienen las actuales variables con la target. Evidentemente existe una baja correlación con la variable objetivo, la que presenta una mayor correlacion es num_dt con un escaso 0.3 y la edad que es del 0.29 y las demas variables estan por debajo de este valor."
   ]
  },
  {
   "cell_type": "code",
   "execution_count": 97,
   "id": "0791416b",
   "metadata": {},
   "outputs": [
    {
     "data": {
      "text/html": [
       "<div>\n",
       "<style scoped>\n",
       "    .dataframe tbody tr th:only-of-type {\n",
       "        vertical-align: middle;\n",
       "    }\n",
       "\n",
       "    .dataframe tbody tr th {\n",
       "        vertical-align: top;\n",
       "    }\n",
       "\n",
       "    .dataframe thead th {\n",
       "        text-align: right;\n",
       "    }\n",
       "</style>\n",
       "<table border=\"1\" class=\"dataframe\">\n",
       "  <thead>\n",
       "    <tr style=\"text-align: right;\">\n",
       "      <th></th>\n",
       "      <th>id</th>\n",
       "      <th>edad</th>\n",
       "      <th>facturacion</th>\n",
       "      <th>antiguedad</th>\n",
       "      <th>provincia</th>\n",
       "      <th>num_lineas</th>\n",
       "      <th>num_dt</th>\n",
       "      <th>incidencia</th>\n",
       "      <th>num_llamad_ent</th>\n",
       "      <th>num_llamad_sal</th>\n",
       "      <th>...</th>\n",
       "      <th>seg_llamad_ent</th>\n",
       "      <th>seg_llamad_sal</th>\n",
       "      <th>financiacion</th>\n",
       "      <th>imp_financ</th>\n",
       "      <th>descuentos</th>\n",
       "      <th>conexion</th>\n",
       "      <th>vel_conexion</th>\n",
       "      <th>TV</th>\n",
       "      <th>retiro</th>\n",
       "      <th>Mes</th>\n",
       "    </tr>\n",
       "  </thead>\n",
       "  <tbody>\n",
       "    <tr>\n",
       "      <th>0</th>\n",
       "      <td>1</td>\n",
       "      <td>63</td>\n",
       "      <td>216.028109</td>\n",
       "      <td>402</td>\n",
       "      <td>23</td>\n",
       "      <td>5</td>\n",
       "      <td>0.0</td>\n",
       "      <td>0</td>\n",
       "      <td>110</td>\n",
       "      <td>79</td>\n",
       "      <td>...</td>\n",
       "      <td>12806</td>\n",
       "      <td>13751</td>\n",
       "      <td>0</td>\n",
       "      <td>0.0</td>\n",
       "      <td>0</td>\n",
       "      <td>1</td>\n",
       "      <td>50</td>\n",
       "      <td>1</td>\n",
       "      <td>0</td>\n",
       "      <td>Diciembre</td>\n",
       "    </tr>\n",
       "    <tr>\n",
       "      <th>1</th>\n",
       "      <td>2</td>\n",
       "      <td>84</td>\n",
       "      <td>255.830842</td>\n",
       "      <td>860</td>\n",
       "      <td>45</td>\n",
       "      <td>3</td>\n",
       "      <td>0.0</td>\n",
       "      <td>0</td>\n",
       "      <td>189</td>\n",
       "      <td>89</td>\n",
       "      <td>...</td>\n",
       "      <td>6499</td>\n",
       "      <td>10862</td>\n",
       "      <td>0</td>\n",
       "      <td>0.0</td>\n",
       "      <td>1</td>\n",
       "      <td>1</td>\n",
       "      <td>600</td>\n",
       "      <td>1</td>\n",
       "      <td>0</td>\n",
       "      <td>Diciembre</td>\n",
       "    </tr>\n",
       "    <tr>\n",
       "      <th>2</th>\n",
       "      <td>3</td>\n",
       "      <td>66</td>\n",
       "      <td>135.768153</td>\n",
       "      <td>6577</td>\n",
       "      <td>0</td>\n",
       "      <td>4</td>\n",
       "      <td>0.0</td>\n",
       "      <td>0</td>\n",
       "      <td>129</td>\n",
       "      <td>30</td>\n",
       "      <td>...</td>\n",
       "      <td>17013</td>\n",
       "      <td>16743</td>\n",
       "      <td>0</td>\n",
       "      <td>0.0</td>\n",
       "      <td>1</td>\n",
       "      <td>0</td>\n",
       "      <td>35</td>\n",
       "      <td>1</td>\n",
       "      <td>0</td>\n",
       "      <td>Diciembre</td>\n",
       "    </tr>\n",
       "    <tr>\n",
       "      <th>3</th>\n",
       "      <td>4</td>\n",
       "      <td>69</td>\n",
       "      <td>255.658527</td>\n",
       "      <td>1605</td>\n",
       "      <td>26</td>\n",
       "      <td>4</td>\n",
       "      <td>0.0</td>\n",
       "      <td>0</td>\n",
       "      <td>51</td>\n",
       "      <td>52</td>\n",
       "      <td>...</td>\n",
       "      <td>3393</td>\n",
       "      <td>6771</td>\n",
       "      <td>0</td>\n",
       "      <td>0.0</td>\n",
       "      <td>0</td>\n",
       "      <td>1</td>\n",
       "      <td>200</td>\n",
       "      <td>0</td>\n",
       "      <td>0</td>\n",
       "      <td>Diciembre</td>\n",
       "    </tr>\n",
       "    <tr>\n",
       "      <th>4</th>\n",
       "      <td>5</td>\n",
       "      <td>30</td>\n",
       "      <td>22.302845</td>\n",
       "      <td>8158</td>\n",
       "      <td>40</td>\n",
       "      <td>2</td>\n",
       "      <td>2.0</td>\n",
       "      <td>0</td>\n",
       "      <td>183</td>\n",
       "      <td>3</td>\n",
       "      <td>...</td>\n",
       "      <td>18436</td>\n",
       "      <td>4485</td>\n",
       "      <td>0</td>\n",
       "      <td>0.0</td>\n",
       "      <td>0</td>\n",
       "      <td>0</td>\n",
       "      <td>10</td>\n",
       "      <td>1</td>\n",
       "      <td>1</td>\n",
       "      <td>Diciembre</td>\n",
       "    </tr>\n",
       "  </tbody>\n",
       "</table>\n",
       "<p>5 rows × 21 columns</p>\n",
       "</div>"
      ],
      "text/plain": [
       "   id  edad  facturacion  antiguedad  provincia  num_lineas  num_dt  \\\n",
       "0   1    63   216.028109         402         23           5     0.0   \n",
       "1   2    84   255.830842         860         45           3     0.0   \n",
       "2   3    66   135.768153        6577          0           4     0.0   \n",
       "3   4    69   255.658527        1605         26           4     0.0   \n",
       "4   5    30    22.302845        8158         40           2     2.0   \n",
       "\n",
       "   incidencia  num_llamad_ent  num_llamad_sal  ...  seg_llamad_ent  \\\n",
       "0           0             110              79  ...           12806   \n",
       "1           0             189              89  ...            6499   \n",
       "2           0             129              30  ...           17013   \n",
       "3           0              51              52  ...            3393   \n",
       "4           0             183               3  ...           18436   \n",
       "\n",
       "   seg_llamad_sal  financiacion  imp_financ  descuentos  conexion  \\\n",
       "0           13751             0         0.0           0         1   \n",
       "1           10862             0         0.0           1         1   \n",
       "2           16743             0         0.0           1         0   \n",
       "3            6771             0         0.0           0         1   \n",
       "4            4485             0         0.0           0         0   \n",
       "\n",
       "   vel_conexion  TV  retiro        Mes  \n",
       "0            50   1       0  Diciembre  \n",
       "1           600   1       0  Diciembre  \n",
       "2            35   1       0  Diciembre  \n",
       "3           200   0       0  Diciembre  \n",
       "4            10   1       1  Diciembre  \n",
       "\n",
       "[5 rows x 21 columns]"
      ]
     },
     "execution_count": 97,
     "metadata": {},
     "output_type": "execute_result"
    }
   ],
   "source": [
    "consolidada_dic.head()"
   ]
  },
  {
   "cell_type": "code",
   "execution_count": 98,
   "id": "6ecc6026",
   "metadata": {},
   "outputs": [
    {
     "data": {
      "text/html": [
       "<div>\n",
       "<style scoped>\n",
       "    .dataframe tbody tr th:only-of-type {\n",
       "        vertical-align: middle;\n",
       "    }\n",
       "\n",
       "    .dataframe tbody tr th {\n",
       "        vertical-align: top;\n",
       "    }\n",
       "\n",
       "    .dataframe thead th {\n",
       "        text-align: right;\n",
       "    }\n",
       "</style>\n",
       "<table border=\"1\" class=\"dataframe\">\n",
       "  <thead>\n",
       "    <tr style=\"text-align: right;\">\n",
       "      <th></th>\n",
       "      <th>id</th>\n",
       "      <th>edad</th>\n",
       "      <th>facturacion</th>\n",
       "      <th>antiguedad</th>\n",
       "      <th>provincia</th>\n",
       "      <th>num_lineas</th>\n",
       "      <th>num_dt</th>\n",
       "      <th>incidencia</th>\n",
       "      <th>num_llamad_ent</th>\n",
       "      <th>num_llamad_sal</th>\n",
       "      <th>mb_datos</th>\n",
       "      <th>seg_llamad_ent</th>\n",
       "      <th>seg_llamad_sal</th>\n",
       "      <th>financiacion</th>\n",
       "      <th>imp_financ</th>\n",
       "      <th>descuentos</th>\n",
       "      <th>conexion</th>\n",
       "      <th>vel_conexion</th>\n",
       "      <th>TV</th>\n",
       "      <th>retiro</th>\n",
       "    </tr>\n",
       "  </thead>\n",
       "  <tbody>\n",
       "    <tr>\n",
       "      <th>0</th>\n",
       "      <td>1</td>\n",
       "      <td>63</td>\n",
       "      <td>216.028109</td>\n",
       "      <td>402</td>\n",
       "      <td>23</td>\n",
       "      <td>5</td>\n",
       "      <td>0.0</td>\n",
       "      <td>0</td>\n",
       "      <td>110</td>\n",
       "      <td>79</td>\n",
       "      <td>10897</td>\n",
       "      <td>12806</td>\n",
       "      <td>13751</td>\n",
       "      <td>0</td>\n",
       "      <td>0.000000</td>\n",
       "      <td>0</td>\n",
       "      <td>1</td>\n",
       "      <td>50</td>\n",
       "      <td>1</td>\n",
       "      <td>0</td>\n",
       "    </tr>\n",
       "    <tr>\n",
       "      <th>1</th>\n",
       "      <td>2</td>\n",
       "      <td>84</td>\n",
       "      <td>255.830842</td>\n",
       "      <td>860</td>\n",
       "      <td>45</td>\n",
       "      <td>3</td>\n",
       "      <td>0.0</td>\n",
       "      <td>0</td>\n",
       "      <td>189</td>\n",
       "      <td>89</td>\n",
       "      <td>18657</td>\n",
       "      <td>6499</td>\n",
       "      <td>10862</td>\n",
       "      <td>0</td>\n",
       "      <td>0.000000</td>\n",
       "      <td>1</td>\n",
       "      <td>1</td>\n",
       "      <td>600</td>\n",
       "      <td>1</td>\n",
       "      <td>0</td>\n",
       "    </tr>\n",
       "    <tr>\n",
       "      <th>2</th>\n",
       "      <td>3</td>\n",
       "      <td>66</td>\n",
       "      <td>135.768153</td>\n",
       "      <td>6577</td>\n",
       "      <td>0</td>\n",
       "      <td>4</td>\n",
       "      <td>0.0</td>\n",
       "      <td>0</td>\n",
       "      <td>129</td>\n",
       "      <td>30</td>\n",
       "      <td>15511</td>\n",
       "      <td>17013</td>\n",
       "      <td>16743</td>\n",
       "      <td>0</td>\n",
       "      <td>0.000000</td>\n",
       "      <td>1</td>\n",
       "      <td>0</td>\n",
       "      <td>35</td>\n",
       "      <td>1</td>\n",
       "      <td>0</td>\n",
       "    </tr>\n",
       "    <tr>\n",
       "      <th>3</th>\n",
       "      <td>4</td>\n",
       "      <td>69</td>\n",
       "      <td>255.658527</td>\n",
       "      <td>1605</td>\n",
       "      <td>26</td>\n",
       "      <td>4</td>\n",
       "      <td>0.0</td>\n",
       "      <td>0</td>\n",
       "      <td>51</td>\n",
       "      <td>52</td>\n",
       "      <td>12670</td>\n",
       "      <td>3393</td>\n",
       "      <td>6771</td>\n",
       "      <td>0</td>\n",
       "      <td>0.000000</td>\n",
       "      <td>0</td>\n",
       "      <td>1</td>\n",
       "      <td>200</td>\n",
       "      <td>0</td>\n",
       "      <td>0</td>\n",
       "    </tr>\n",
       "    <tr>\n",
       "      <th>4</th>\n",
       "      <td>5</td>\n",
       "      <td>30</td>\n",
       "      <td>22.302845</td>\n",
       "      <td>8158</td>\n",
       "      <td>40</td>\n",
       "      <td>2</td>\n",
       "      <td>2.0</td>\n",
       "      <td>0</td>\n",
       "      <td>183</td>\n",
       "      <td>3</td>\n",
       "      <td>23756</td>\n",
       "      <td>18436</td>\n",
       "      <td>4485</td>\n",
       "      <td>0</td>\n",
       "      <td>0.000000</td>\n",
       "      <td>0</td>\n",
       "      <td>0</td>\n",
       "      <td>10</td>\n",
       "      <td>1</td>\n",
       "      <td>1</td>\n",
       "    </tr>\n",
       "    <tr>\n",
       "      <th>...</th>\n",
       "      <td>...</td>\n",
       "      <td>...</td>\n",
       "      <td>...</td>\n",
       "      <td>...</td>\n",
       "      <td>...</td>\n",
       "      <td>...</td>\n",
       "      <td>...</td>\n",
       "      <td>...</td>\n",
       "      <td>...</td>\n",
       "      <td>...</td>\n",
       "      <td>...</td>\n",
       "      <td>...</td>\n",
       "      <td>...</td>\n",
       "      <td>...</td>\n",
       "      <td>...</td>\n",
       "      <td>...</td>\n",
       "      <td>...</td>\n",
       "      <td>...</td>\n",
       "      <td>...</td>\n",
       "      <td>...</td>\n",
       "    </tr>\n",
       "    <tr>\n",
       "      <th>95462</th>\n",
       "      <td>99995</td>\n",
       "      <td>65</td>\n",
       "      <td>173.741667</td>\n",
       "      <td>301</td>\n",
       "      <td>29</td>\n",
       "      <td>5</td>\n",
       "      <td>0.0</td>\n",
       "      <td>0</td>\n",
       "      <td>121</td>\n",
       "      <td>98</td>\n",
       "      <td>13403</td>\n",
       "      <td>6197</td>\n",
       "      <td>6853</td>\n",
       "      <td>1</td>\n",
       "      <td>23.138779</td>\n",
       "      <td>0</td>\n",
       "      <td>0</td>\n",
       "      <td>35</td>\n",
       "      <td>0</td>\n",
       "      <td>0</td>\n",
       "    </tr>\n",
       "    <tr>\n",
       "      <th>95463</th>\n",
       "      <td>99996</td>\n",
       "      <td>36</td>\n",
       "      <td>215.890326</td>\n",
       "      <td>2456</td>\n",
       "      <td>16</td>\n",
       "      <td>3</td>\n",
       "      <td>0.0</td>\n",
       "      <td>0</td>\n",
       "      <td>98</td>\n",
       "      <td>13</td>\n",
       "      <td>5291</td>\n",
       "      <td>3684</td>\n",
       "      <td>1667</td>\n",
       "      <td>0</td>\n",
       "      <td>0.000000</td>\n",
       "      <td>0</td>\n",
       "      <td>0</td>\n",
       "      <td>30</td>\n",
       "      <td>1</td>\n",
       "      <td>0</td>\n",
       "    </tr>\n",
       "    <tr>\n",
       "      <th>95464</th>\n",
       "      <td>99997</td>\n",
       "      <td>68</td>\n",
       "      <td>285.890750</td>\n",
       "      <td>5988</td>\n",
       "      <td>3</td>\n",
       "      <td>5</td>\n",
       "      <td>0.0</td>\n",
       "      <td>0</td>\n",
       "      <td>226</td>\n",
       "      <td>20</td>\n",
       "      <td>20002</td>\n",
       "      <td>572</td>\n",
       "      <td>5679</td>\n",
       "      <td>1</td>\n",
       "      <td>14.616422</td>\n",
       "      <td>0</td>\n",
       "      <td>1</td>\n",
       "      <td>200</td>\n",
       "      <td>1</td>\n",
       "      <td>0</td>\n",
       "    </tr>\n",
       "    <tr>\n",
       "      <th>95465</th>\n",
       "      <td>99998</td>\n",
       "      <td>20</td>\n",
       "      <td>383.167610</td>\n",
       "      <td>2469</td>\n",
       "      <td>48</td>\n",
       "      <td>4</td>\n",
       "      <td>0.0</td>\n",
       "      <td>0</td>\n",
       "      <td>126</td>\n",
       "      <td>26</td>\n",
       "      <td>16448</td>\n",
       "      <td>833</td>\n",
       "      <td>14398</td>\n",
       "      <td>0</td>\n",
       "      <td>0.000000</td>\n",
       "      <td>0</td>\n",
       "      <td>0</td>\n",
       "      <td>20</td>\n",
       "      <td>1</td>\n",
       "      <td>0</td>\n",
       "    </tr>\n",
       "    <tr>\n",
       "      <th>95466</th>\n",
       "      <td>100000</td>\n",
       "      <td>18</td>\n",
       "      <td>57.158927</td>\n",
       "      <td>3721</td>\n",
       "      <td>24</td>\n",
       "      <td>4</td>\n",
       "      <td>0.0</td>\n",
       "      <td>0</td>\n",
       "      <td>85</td>\n",
       "      <td>25</td>\n",
       "      <td>17933</td>\n",
       "      <td>18617</td>\n",
       "      <td>2115</td>\n",
       "      <td>0</td>\n",
       "      <td>0.000000</td>\n",
       "      <td>1</td>\n",
       "      <td>0</td>\n",
       "      <td>25</td>\n",
       "      <td>0</td>\n",
       "      <td>0</td>\n",
       "    </tr>\n",
       "  </tbody>\n",
       "</table>\n",
       "<p>95467 rows × 20 columns</p>\n",
       "</div>"
      ],
      "text/plain": [
       "           id  edad  facturacion  antiguedad  provincia  num_lineas  num_dt  \\\n",
       "0           1    63   216.028109         402         23           5     0.0   \n",
       "1           2    84   255.830842         860         45           3     0.0   \n",
       "2           3    66   135.768153        6577          0           4     0.0   \n",
       "3           4    69   255.658527        1605         26           4     0.0   \n",
       "4           5    30    22.302845        8158         40           2     2.0   \n",
       "...       ...   ...          ...         ...        ...         ...     ...   \n",
       "95462   99995    65   173.741667         301         29           5     0.0   \n",
       "95463   99996    36   215.890326        2456         16           3     0.0   \n",
       "95464   99997    68   285.890750        5988          3           5     0.0   \n",
       "95465   99998    20   383.167610        2469         48           4     0.0   \n",
       "95466  100000    18    57.158927        3721         24           4     0.0   \n",
       "\n",
       "       incidencia  num_llamad_ent  num_llamad_sal  mb_datos  seg_llamad_ent  \\\n",
       "0               0             110              79     10897           12806   \n",
       "1               0             189              89     18657            6499   \n",
       "2               0             129              30     15511           17013   \n",
       "3               0              51              52     12670            3393   \n",
       "4               0             183               3     23756           18436   \n",
       "...           ...             ...             ...       ...             ...   \n",
       "95462           0             121              98     13403            6197   \n",
       "95463           0              98              13      5291            3684   \n",
       "95464           0             226              20     20002             572   \n",
       "95465           0             126              26     16448             833   \n",
       "95466           0              85              25     17933           18617   \n",
       "\n",
       "       seg_llamad_sal  financiacion  imp_financ  descuentos  conexion  \\\n",
       "0               13751             0    0.000000           0         1   \n",
       "1               10862             0    0.000000           1         1   \n",
       "2               16743             0    0.000000           1         0   \n",
       "3                6771             0    0.000000           0         1   \n",
       "4                4485             0    0.000000           0         0   \n",
       "...               ...           ...         ...         ...       ...   \n",
       "95462            6853             1   23.138779           0         0   \n",
       "95463            1667             0    0.000000           0         0   \n",
       "95464            5679             1   14.616422           0         1   \n",
       "95465           14398             0    0.000000           0         0   \n",
       "95466            2115             0    0.000000           1         0   \n",
       "\n",
       "       vel_conexion  TV  retiro  \n",
       "0                50   1       0  \n",
       "1               600   1       0  \n",
       "2                35   1       0  \n",
       "3               200   0       0  \n",
       "4                10   1       1  \n",
       "...             ...  ..     ...  \n",
       "95462            35   0       0  \n",
       "95463            30   1       0  \n",
       "95464           200   1       0  \n",
       "95465            20   1       0  \n",
       "95466            25   0       0  \n",
       "\n",
       "[95467 rows x 20 columns]"
      ]
     },
     "execution_count": 98,
     "metadata": {},
     "output_type": "execute_result"
    }
   ],
   "source": [
    "dat_dic =  consolidada_dic\n",
    "dat_dic = dat_dic.drop('Mes', axis=1)\n",
    "dat_dic"
   ]
  },
  {
   "cell_type": "markdown",
   "id": "55683875",
   "metadata": {},
   "source": [
    "Voy a usar la función 'proporciones_final()' para identificar patrones que los valores de las variables tienen con respecto a la objetivo"
   ]
  },
  {
   "cell_type": "code",
   "execution_count": 99,
   "id": "c2c049fc",
   "metadata": {},
   "outputs": [],
   "source": [
    "def proporciones_final(var,target,df):\n",
    "\n",
    "    proporcion = pd.DataFrame()\n",
    "\n",
    "    proporcion['%depositos'] = df[target].groupby(df[var]).mean()*100 \n",
    "    proporcion['Conteo'] = df[target].groupby(df[var]).count() \n",
    "    proporcion= proporcion.round(3)   \n",
    "    proporcion_filtered = proporcion[(proporcion['%depositos']>0) & (proporcion['Conteo']>10)]\n",
    "        \n",
    "    if len(proporcion_filtered)<100 and len(proporcion_filtered)>1:\n",
    "        fig = plt.figure()\n",
    "        ax = proporcion_filtered['Conteo'].plot(kind='bar',grid=True)\n",
    "                \n",
    "        ax2 = ax.twinx()\n",
    "        ax2.plot(proporcion_filtered['%depositos'].values, linestyle='-', linewidth=2.0,color='r')\n",
    "        plt.tight_layout()        \n",
    "    \n",
    "    else:        \n",
    "        proporcion_filtered.reset_index(inplace=True)\n",
    "        sns.lmplot(x = var,y ='%depositos',data=proporcion_filtered, fit_reg=True,ci=None) "
   ]
  },
  {
   "cell_type": "markdown",
   "id": "fdeb0022",
   "metadata": {},
   "source": [
    "Le paso a la función las variables que tiene menos de 12 valores únicos.\n"
   ]
  },
  {
   "cell_type": "code",
   "execution_count": 100,
   "id": "c9d97dc9",
   "metadata": {},
   "outputs": [
    {
     "data": {
      "text/plain": [
       "Index(['id', 'edad', 'facturacion', 'antiguedad', 'provincia', 'num_lineas',\n",
       "       'num_dt', 'incidencia', 'num_llamad_ent', 'num_llamad_sal', 'mb_datos',\n",
       "       'seg_llamad_ent', 'seg_llamad_sal', 'financiacion', 'imp_financ',\n",
       "       'descuentos', 'conexion', 'vel_conexion', 'TV', 'retiro'],\n",
       "      dtype='object')"
      ]
     },
     "execution_count": 100,
     "metadata": {},
     "output_type": "execute_result"
    }
   ],
   "source": [
    "dat_dic.columns"
   ]
  },
  {
   "cell_type": "code",
   "execution_count": 101,
   "id": "7af8b7de",
   "metadata": {},
   "outputs": [],
   "source": [
    "def visualizar_variables_numericas_binarizadas(dataset, q, target='retiro'):\n",
    "    sin_la_target=dataset.loc[:, dataset.columns != target]\n",
    "    new_vars={}\n",
    "    values=[i for i in range(q)]\n",
    "    for i in range(len(sin_la_target.columns)):\n",
    "        new_vars[str(sin_la_target.columns[i])]=pd.qcut(dataset[str(sin_la_target.columns[i])], \n",
    "                                                         q=q, labels=values)\n",
    "    vars_to_plot=pd.DataFrame(new_vars).fillna(0) \n",
    "    target=pd.DataFrame(dataset[target])\n",
    "    new_continuous_vars=pd.concat([target, vars_to_plot.reindex(target.index)], axis=1)  \n",
    "    for i in vars_to_plot.columns:\n",
    "        proporciones_final(i, 'retiro', new_continuous_vars) "
   ]
  },
  {
   "cell_type": "code",
   "execution_count": 102,
   "id": "a6cd5183",
   "metadata": {},
   "outputs": [
    {
     "data": {
      "image/png": "[encoded data removed]",
      "text/plain": [
       "<Figure size 360x360 with 1 Axes>"
      ]
     },
     "metadata": {
      "needs_background": "light"
     },
     "output_type": "display_data"
    },
    {
     "data": {
      "image/png": "[encoded data removed]",
      "text/plain": [
       "<Figure size 432x288 with 2 Axes>"
      ]
     },
     "metadata": {
      "needs_background": "light"
     },
     "output_type": "display_data"
    },
    {
     "data": {
      "image/png": "[encoded data removed]",
      "text/plain": [
       "<Figure size 360x360 with 1 Axes>"
      ]
     },
     "metadata": {
      "needs_background": "light"
     },
     "output_type": "display_data"
    },
    {
     "data": {
      "image/png": "[encoded data removed]",
      "text/plain": [
       "<Figure size 360x360 with 1 Axes>"
      ]
     },
     "metadata": {
      "needs_background": "light"
     },
     "output_type": "display_data"
    },
    {
     "data": {
      "image/png": "[encoded data removed]",
      "text/plain": [
       "<Figure size 432x288 with 2 Axes>"
      ]
     },
     "metadata": {
      "needs_background": "light"
     },
     "output_type": "display_data"
    },
    {
     "data": {
      "image/png": "[encoded data removed]",
      "text/plain": [
       "<Figure size 432x288 with 2 Axes>"
      ]
     },
     "metadata": {
      "needs_background": "light"
     },
     "output_type": "display_data"
    },
    {
     "data": {
      "image/png": "[encoded data removed]",
      "text/plain": [
       "<Figure size 432x288 with 2 Axes>"
      ]
     },
     "metadata": {
      "needs_background": "light"
     },
     "output_type": "display_data"
    },
    {
     "data": {
      "image/png": "[encoded data removed]",
      "text/plain": [
       "<Figure size 432x288 with 2 Axes>"
      ]
     },
     "metadata": {
      "needs_background": "light"
     },
     "output_type": "display_data"
    },
    {
     "data": {
      "image/png": "[encoded data removed]",
      "text/plain": [
       "<Figure size 360x360 with 1 Axes>"
      ]
     },
     "metadata": {
      "needs_background": "light"
     },
     "output_type": "display_data"
    },
    {
     "data": {
      "image/png": "[encoded data removed]",
      "text/plain": [
       "<Figure size 360x360 with 1 Axes>"
      ]
     },
     "metadata": {
      "needs_background": "light"
     },
     "output_type": "display_data"
    },
    {
     "data": {
      "image/png": "[encoded data removed]",
      "text/plain": [
       "<Figure size 432x288 with 2 Axes>"
      ]
     },
     "metadata": {
      "needs_background": "light"
     },
     "output_type": "display_data"
    },
    {
     "data": {
      "image/png": "[encoded data removed]",
      "text/plain": [
       "<Figure size 360x360 with 1 Axes>"
      ]
     },
     "metadata": {
      "needs_background": "light"
     },
     "output_type": "display_data"
    },
    {
     "data": {
      "image/png": "[encoded data removed]",
      "text/plain": [
       "<Figure size 360x360 with 1 Axes>"
      ]
     },
     "metadata": {
      "needs_background": "light"
     },
     "output_type": "display_data"
    },
    {
     "data": {
      "image/png": "[encoded data removed]",
      "text/plain": [
       "<Figure size 432x288 with 2 Axes>"
      ]
     },
     "metadata": {
      "needs_background": "light"
     },
     "output_type": "display_data"
    },
    {
     "data": {
      "image/png": "[encoded data removed]",
      "text/plain": [
       "<Figure size 360x360 with 1 Axes>"
      ]
     },
     "metadata": {
      "needs_background": "light"
     },
     "output_type": "display_data"
    },
    {
     "data": {
      "image/png": "[encoded data removed]",
      "text/plain": [
       "<Figure size 432x288 with 2 Axes>"
      ]
     },
     "metadata": {
      "needs_background": "light"
     },
     "output_type": "display_data"
    },
    {
     "data": {
      "image/png": "[encoded data removed]",
      "text/plain": [
       "<Figure size 432x288 with 2 Axes>"
      ]
     },
     "metadata": {
      "needs_background": "light"
     },
     "output_type": "display_data"
    },
    {
     "data": {
      "image/png": "[encoded data removed]",
      "text/plain": [
       "<Figure size 432x288 with 2 Axes>"
      ]
     },
     "metadata": {
      "needs_background": "light"
     },
     "output_type": "display_data"
    },
    {
     "data": {
      "image/png": "[encoded data removed]",
      "text/plain": [
       "<Figure size 432x288 with 2 Axes>"
      ]
     },
     "metadata": {
      "needs_background": "light"
     },
     "output_type": "display_data"
    },
    {
     "data": {
      "image/png": "[encoded data removed]",
      "text/plain": [
       "<Figure size 360x360 with 1 Axes>"
      ]
     },
     "metadata": {
      "needs_background": "light"
     },
     "output_type": "display_data"
    }
   ],
   "source": [
    "for i in dat_dic.columns:\n",
    "    proporciones_final (i, 'retiro', dat_dic)"
   ]
  },
  {
   "cell_type": "markdown",
   "id": "e69861ad",
   "metadata": {},
   "source": [
    "##### **Observaciones:**\n",
    "\n",
    "Se observa un comportamiento bastante aleatorio en las variables numéricas. \n",
    "\n",
    "Sin embargo, la variable edad muestra un comportamiento diferenciado por edad, voy a reclasificar esta variable en 3 tramos diferentes de acuerdo con el siguiente criterio:\n",
    "Divido las edades por 'joven' (0-40), 'adulto' (40-67) y 'jubilado' (67-100)\n",
    "\n",
    "Para evitar multicolineardiad, únicamente selecciono 'adulto' y 'jubilado'\n",
    "\n",
    "* La viarable antiguedad, la voy a llevar a años al dividirla por 365.\n",
    "\n",
    "* La variable num_dt, 1: si el valor es mayor que 0 y 1 para valores diferentes\n",
    "\n",
    "* La variables: facturacion, la voy a tramificar usando la funcion vista en clase para tramificar \n"
   ]
  },
  {
   "cell_type": "code",
   "execution_count": 103,
   "id": "a4e6629e",
   "metadata": {},
   "outputs": [],
   "source": [
    "edad_por_rangos=pd.cut(consolidada_dic.edad, bins=[0,40,67,100], labels=['joven','adulto',\n",
    "                                                              'jubilado']) \n",
    "dummies_edad=pd.DataFrame(pd.get_dummies(edad_por_rangos).astype('int32'))\n",
    "dummies_edad=dummies_edad.loc[:,['adulto','jubilado']]\n",
    "consolidada_dic=pd.concat([consolidada_dic, dummies_edad.reindex(consolidada_dic.index)], axis=1)\n",
    "\n",
    "# Lo hacemos para Enero tambien\n",
    "\n",
    "edad_por_rangos=pd.cut(consolidada_ene.edad, bins=[0,40,67,100], labels=['joven','adulto',\n",
    "                                                              'jubilado']) \n",
    "dummies_edad=pd.DataFrame(pd.get_dummies(edad_por_rangos).astype('int32'))\n",
    "dummies_edad=dummies_edad.loc[:,['adulto','jubilado']]\n",
    "consolidada_ene=pd.concat([consolidada_ene, dummies_edad.reindex(consolidada_ene.index)], axis=1)\n"
   ]
  },
  {
   "cell_type": "code",
   "execution_count": 104,
   "id": "000a3116",
   "metadata": {},
   "outputs": [],
   "source": [
    "def tramos(varib,varib_destino,tamanio,maximo,df):\n",
    "    df[varib_destino]=np.where(df[varib]==0,-1,(df[varib]//tamanio)*tamanio)\n",
    "    df[varib_destino]=np.where(df[varib_destino]>=maximo,maximo,df[varib_destino])"
   ]
  },
  {
   "cell_type": "code",
   "execution_count": 105,
   "id": "2ac41f45",
   "metadata": {},
   "outputs": [
    {
     "data": {
      "text/plain": [
       "count    95467.000000\n",
       "mean      4572.466968\n",
       "std       2630.422152\n",
       "min         -1.000000\n",
       "25%       2308.000000\n",
       "50%       4586.000000\n",
       "75%       6850.000000\n",
       "max       9129.000000\n",
       "Name: antiguedad, dtype: float64"
      ]
     },
     "execution_count": 105,
     "metadata": {},
     "output_type": "execute_result"
    }
   ],
   "source": [
    "consolidada_dic['antiguedad'].describe()"
   ]
  },
  {
   "cell_type": "markdown",
   "id": "c4b3aab1",
   "metadata": {},
   "source": [
    "La antiguedad llevarla a años, dividiendo por 365"
   ]
  },
  {
   "cell_type": "code",
   "execution_count": 106,
   "id": "cdcca8da",
   "metadata": {},
   "outputs": [],
   "source": [
    "consolidada_dic['antiguedad'] = consolidada_dic['antiguedad'].apply(lambda x: 0 if x < 0 else x)\n",
    "consolidada_dic['antiguedad'] = round(consolidada_dic['antiguedad']/365)\n",
    "\n",
    "# Lo mismo para Enero\n",
    "consolidada_ene['antiguedad'] = consolidada_ene['antiguedad'].apply(lambda x: 0 if x < 0 else x)\n",
    "consolidada_ene['antiguedad'] = round(consolidada_ene['antiguedad']/365)"
   ]
  },
  {
   "cell_type": "code",
   "execution_count": 107,
   "id": "867b15d1",
   "metadata": {},
   "outputs": [
    {
     "data": {
      "text/plain": [
       "count    95467.000000\n",
       "mean         0.124242\n",
       "std          0.598773\n",
       "min          0.000000\n",
       "25%          0.000000\n",
       "50%          0.000000\n",
       "75%          0.000000\n",
       "max          4.000000\n",
       "Name: num_dt, dtype: float64"
      ]
     },
     "execution_count": 107,
     "metadata": {},
     "output_type": "execute_result"
    }
   ],
   "source": [
    "consolidada_dic['num_dt'].describe()"
   ]
  },
  {
   "cell_type": "code",
   "execution_count": 108,
   "id": "2908e4be",
   "metadata": {},
   "outputs": [
    {
     "data": {
      "text/plain": [
       "0.0    90738\n",
       "4.0     1206\n",
       "1.0     1179\n",
       "2.0     1174\n",
       "3.0     1170\n",
       "Name: num_dt, dtype: int64"
      ]
     },
     "execution_count": 108,
     "metadata": {},
     "output_type": "execute_result"
    }
   ],
   "source": [
    "consolidada_dic['num_dt'].value_counts()"
   ]
  },
  {
   "cell_type": "markdown",
   "id": "0d538125",
   "metadata": {},
   "source": [
    "Esta variable se puede reclasificar en dos valores para los que son 0 y los demas a mayor que 0"
   ]
  },
  {
   "cell_type": "code",
   "execution_count": 109,
   "id": "a1275bba",
   "metadata": {},
   "outputs": [],
   "source": [
    "consolidada_dic['num_dt'] = consolidada_dic['num_dt'].apply(lambda x: 1 if x>1 else x)\n",
    "consolidada_ene['num_dt'] = consolidada_ene['num_dt'].apply(lambda x: 1 if x>1 else x)"
   ]
  },
  {
   "cell_type": "code",
   "execution_count": 110,
   "id": "44c79a04",
   "metadata": {},
   "outputs": [
    {
     "data": {
      "text/plain": [
       "0.0    90738\n",
       "1.0     4729\n",
       "Name: num_dt, dtype: int64"
      ]
     },
     "execution_count": 110,
     "metadata": {},
     "output_type": "execute_result"
    }
   ],
   "source": [
    "consolidada_dic['num_dt'].value_counts()"
   ]
  },
  {
   "cell_type": "code",
   "execution_count": 111,
   "id": "72323688",
   "metadata": {},
   "outputs": [
    {
     "data": {
      "text/plain": [
       "count    95467.000000\n",
       "mean       207.392912\n",
       "std        111.343491\n",
       "min         15.000439\n",
       "25%        111.383822\n",
       "50%        206.808431\n",
       "75%        304.436599\n",
       "max        399.998433\n",
       "Name: facturacion, dtype: float64"
      ]
     },
     "execution_count": 111,
     "metadata": {},
     "output_type": "execute_result"
    }
   ],
   "source": [
    "consolidada_dic['facturacion'].describe()"
   ]
  },
  {
   "cell_type": "markdown",
   "id": "5a6eb814",
   "metadata": {},
   "source": [
    "#### Se tramifica la variable facturacion usando la funcion tramos"
   ]
  },
  {
   "cell_type": "code",
   "execution_count": 112,
   "id": "4bfd59d2",
   "metadata": {},
   "outputs": [],
   "source": [
    "tramos('facturacion','facturacion_new',60,400,consolidada_dic) \n",
    "tramos('facturacion','facturacion_new',60,400,consolidada_ene) "
   ]
  },
  {
   "cell_type": "code",
   "execution_count": 113,
   "id": "c8cb2864",
   "metadata": {},
   "outputs": [
    {
     "data": {
      "text/plain": [
       "120.0    15078\n",
       "300.0    14942\n",
       "60.0     14909\n",
       "180.0    14752\n",
       "240.0    14583\n",
       "0.0      11156\n",
       "360.0    10047\n",
       "Name: facturacion_new, dtype: int64"
      ]
     },
     "execution_count": 113,
     "metadata": {},
     "output_type": "execute_result"
    }
   ],
   "source": [
    "consolidada_dic['facturacion_new'].value_counts()"
   ]
  },
  {
   "cell_type": "code",
   "execution_count": 114,
   "id": "8a7f801a",
   "metadata": {},
   "outputs": [
    {
     "data": {
      "text/plain": [
       "count    95467.000000\n",
       "mean         3.559261\n",
       "std          1.095542\n",
       "min          1.000000\n",
       "25%          3.000000\n",
       "50%          4.000000\n",
       "75%          4.000000\n",
       "max         39.000000\n",
       "Name: num_lineas, dtype: float64"
      ]
     },
     "execution_count": 114,
     "metadata": {},
     "output_type": "execute_result"
    }
   ],
   "source": [
    "consolidada_dic['num_lineas'].describe()"
   ]
  },
  {
   "cell_type": "code",
   "execution_count": 115,
   "id": "d2a26e46",
   "metadata": {},
   "outputs": [
    {
     "data": {
      "text/plain": [
       "3     30013\n",
       "4     26619\n",
       "5     22794\n",
       "2     13186\n",
       "1      2852\n",
       "18        1\n",
       "39        1\n",
       "26        1\n",
       "Name: num_lineas, dtype: int64"
      ]
     },
     "execution_count": 115,
     "metadata": {},
     "output_type": "execute_result"
    }
   ],
   "source": [
    "consolidada_dic['num_lineas'].value_counts()"
   ]
  },
  {
   "cell_type": "code",
   "execution_count": 116,
   "id": "ff0ea2de",
   "metadata": {},
   "outputs": [],
   "source": [
    "consolidada_dic['num_lineas'] = consolidada_dic['num_lineas'].apply(lambda x: 5 if x>5 else x) # Asignamos 5 a los valores mayores a 5\n",
    "consolidada_ene['num_lineas'] = consolidada_ene['num_lineas'].apply(lambda x: 5 if x>5 else x) # Asignamos 5 a los valores mayores a 5\n"
   ]
  },
  {
   "cell_type": "code",
   "execution_count": 117,
   "id": "b919e989",
   "metadata": {},
   "outputs": [
    {
     "data": {
      "text/plain": [
       "3    30013\n",
       "4    26619\n",
       "5    22797\n",
       "2    13186\n",
       "1     2852\n",
       "Name: num_lineas, dtype: int64"
      ]
     },
     "execution_count": 117,
     "metadata": {},
     "output_type": "execute_result"
    }
   ],
   "source": [
    "consolidada_dic['num_lineas'].value_counts()"
   ]
  },
  {
   "cell_type": "code",
   "execution_count": 118,
   "id": "f3ce73da",
   "metadata": {},
   "outputs": [
    {
     "name": "stdout",
     "output_type": "stream",
     "text": [
      "<class 'pandas.core.frame.DataFrame'>\n",
      "RangeIndex: 95467 entries, 0 to 95466\n",
      "Data columns (total 24 columns):\n",
      " #   Column           Non-Null Count  Dtype  \n",
      "---  ------           --------------  -----  \n",
      " 0   id               95467 non-null  int64  \n",
      " 1   edad             95467 non-null  int64  \n",
      " 2   facturacion      95467 non-null  float64\n",
      " 3   antiguedad       95467 non-null  float64\n",
      " 4   provincia        95467 non-null  int32  \n",
      " 5   num_lineas       95467 non-null  int64  \n",
      " 6   num_dt           95467 non-null  float64\n",
      " 7   incidencia       95467 non-null  int32  \n",
      " 8   num_llamad_ent   95467 non-null  int64  \n",
      " 9   num_llamad_sal   95467 non-null  int64  \n",
      " 10  mb_datos         95467 non-null  int64  \n",
      " 11  seg_llamad_ent   95467 non-null  int64  \n",
      " 12  seg_llamad_sal   95467 non-null  int64  \n",
      " 13  financiacion     95467 non-null  int32  \n",
      " 14  imp_financ       95467 non-null  float64\n",
      " 15  descuentos       95467 non-null  int32  \n",
      " 16  conexion         95467 non-null  int32  \n",
      " 17  vel_conexion     95467 non-null  int64  \n",
      " 18  TV               95467 non-null  int32  \n",
      " 19  retiro           95467 non-null  int64  \n",
      " 20  Mes              95467 non-null  object \n",
      " 21  adulto           95467 non-null  int32  \n",
      " 22  jubilado         95467 non-null  int32  \n",
      " 23  facturacion_new  95467 non-null  float64\n",
      "dtypes: float64(5), int32(8), int64(10), object(1)\n",
      "memory usage: 14.6+ MB\n"
     ]
    }
   ],
   "source": [
    "consolidada_dic.info()"
   ]
  },
  {
   "cell_type": "markdown",
   "id": "174e62ba",
   "metadata": {},
   "source": [
    "#### Evalúo la correlación de todas las variables y veo si las nuevas variables creadas están más correlacionadas que las antiguas"
   ]
  },
  {
   "cell_type": "code",
   "execution_count": 119,
   "id": "c5a2a168",
   "metadata": {},
   "outputs": [
    {
     "data": {
      "text/html": [
       "<style type=\"text/css\">\n",
       "#T_fd242_row0_col0 {\n",
       "  background-color: #023858;\n",
       "  color: #f1f1f1;\n",
       "}\n",
       "#T_fd242_row1_col0 {\n",
       "  background-color: #b0c2de;\n",
       "  color: #000000;\n",
       "}\n",
       "#T_fd242_row2_col0 {\n",
       "  background-color: #c1cae2;\n",
       "  color: #000000;\n",
       "}\n",
       "#T_fd242_row3_col0 {\n",
       "  background-color: #c8cde4;\n",
       "  color: #000000;\n",
       "}\n",
       "#T_fd242_row4_col0 {\n",
       "  background-color: #d8d7e9;\n",
       "  color: #000000;\n",
       "}\n",
       "#T_fd242_row5_col0 {\n",
       "  background-color: #e4e1ef;\n",
       "  color: #000000;\n",
       "}\n",
       "#T_fd242_row6_col0 {\n",
       "  background-color: #e8e4f0;\n",
       "  color: #000000;\n",
       "}\n",
       "#T_fd242_row7_col0 {\n",
       "  background-color: #f4edf6;\n",
       "  color: #000000;\n",
       "}\n",
       "#T_fd242_row8_col0 {\n",
       "  background-color: #f5eef6;\n",
       "  color: #000000;\n",
       "}\n",
       "#T_fd242_row9_col0 {\n",
       "  background-color: #f7f0f7;\n",
       "  color: #000000;\n",
       "}\n",
       "#T_fd242_row10_col0, #T_fd242_row11_col0 {\n",
       "  background-color: #fef6fb;\n",
       "  color: #000000;\n",
       "}\n",
       "#T_fd242_row12_col0, #T_fd242_row13_col0, #T_fd242_row14_col0, #T_fd242_row15_col0, #T_fd242_row16_col0, #T_fd242_row17_col0, #T_fd242_row18_col0, #T_fd242_row19_col0, #T_fd242_row20_col0, #T_fd242_row21_col0, #T_fd242_row22_col0 {\n",
       "  background-color: #fff7fb;\n",
       "  color: #000000;\n",
       "}\n",
       "</style>\n",
       "<table id=\"T_fd242_\">\n",
       "  <thead>\n",
       "    <tr>\n",
       "      <th class=\"blank level0\" >&nbsp;</th>\n",
       "      <th class=\"col_heading level0 col0\" >retiro</th>\n",
       "    </tr>\n",
       "  </thead>\n",
       "  <tbody>\n",
       "    <tr>\n",
       "      <th id=\"T_fd242_level0_row0\" class=\"row_heading level0 row0\" >retiro</th>\n",
       "      <td id=\"T_fd242_row0_col0\" class=\"data row0 col0\" >1.000000</td>\n",
       "    </tr>\n",
       "    <tr>\n",
       "      <th id=\"T_fd242_level0_row1\" class=\"row_heading level0 row1\" >num_dt</th>\n",
       "      <td id=\"T_fd242_row1_col0\" class=\"data row1 col0\" >0.346618</td>\n",
       "    </tr>\n",
       "    <tr>\n",
       "      <th id=\"T_fd242_level0_row2\" class=\"row_heading level0 row2\" >edad</th>\n",
       "      <td id=\"T_fd242_row2_col0\" class=\"data row2 col0\" >0.296835</td>\n",
       "    </tr>\n",
       "    <tr>\n",
       "      <th id=\"T_fd242_level0_row3\" class=\"row_heading level0 row3\" >incidencia</th>\n",
       "      <td id=\"T_fd242_row3_col0\" class=\"data row3 col0\" >0.277408</td>\n",
       "    </tr>\n",
       "    <tr>\n",
       "      <th id=\"T_fd242_level0_row4\" class=\"row_heading level0 row4\" >adulto</th>\n",
       "      <td id=\"T_fd242_row4_col0\" class=\"data row4 col0\" >0.215899</td>\n",
       "    </tr>\n",
       "    <tr>\n",
       "      <th id=\"T_fd242_level0_row5\" class=\"row_heading level0 row5\" >jubilado</th>\n",
       "      <td id=\"T_fd242_row5_col0\" class=\"data row5 col0\" >0.160910</td>\n",
       "    </tr>\n",
       "    <tr>\n",
       "      <th id=\"T_fd242_level0_row6\" class=\"row_heading level0 row6\" >descuentos</th>\n",
       "      <td id=\"T_fd242_row6_col0\" class=\"data row6 col0\" >0.141447</td>\n",
       "    </tr>\n",
       "    <tr>\n",
       "      <th id=\"T_fd242_level0_row7\" class=\"row_heading level0 row7\" >financiacion</th>\n",
       "      <td id=\"T_fd242_row7_col0\" class=\"data row7 col0\" >0.074597</td>\n",
       "    </tr>\n",
       "    <tr>\n",
       "      <th id=\"T_fd242_level0_row8\" class=\"row_heading level0 row8\" >imp_financ</th>\n",
       "      <td id=\"T_fd242_row8_col0\" class=\"data row8 col0\" >0.067626</td>\n",
       "    </tr>\n",
       "    <tr>\n",
       "      <th id=\"T_fd242_level0_row9\" class=\"row_heading level0 row9\" >conexion</th>\n",
       "      <td id=\"T_fd242_row9_col0\" class=\"data row9 col0\" >0.051478</td>\n",
       "    </tr>\n",
       "    <tr>\n",
       "      <th id=\"T_fd242_level0_row10\" class=\"row_heading level0 row10\" >provincia</th>\n",
       "      <td id=\"T_fd242_row10_col0\" class=\"data row10 col0\" >0.006305</td>\n",
       "    </tr>\n",
       "    <tr>\n",
       "      <th id=\"T_fd242_level0_row11\" class=\"row_heading level0 row11\" >num_llamad_ent</th>\n",
       "      <td id=\"T_fd242_row11_col0\" class=\"data row11 col0\" >0.006130</td>\n",
       "    </tr>\n",
       "    <tr>\n",
       "      <th id=\"T_fd242_level0_row12\" class=\"row_heading level0 row12\" >num_llamad_sal</th>\n",
       "      <td id=\"T_fd242_row12_col0\" class=\"data row12 col0\" >0.003141</td>\n",
       "    </tr>\n",
       "    <tr>\n",
       "      <th id=\"T_fd242_level0_row13\" class=\"row_heading level0 row13\" >antiguedad</th>\n",
       "      <td id=\"T_fd242_row13_col0\" class=\"data row13 col0\" >0.003014</td>\n",
       "    </tr>\n",
       "    <tr>\n",
       "      <th id=\"T_fd242_level0_row14\" class=\"row_heading level0 row14\" >facturacion</th>\n",
       "      <td id=\"T_fd242_row14_col0\" class=\"data row14 col0\" >0.002846</td>\n",
       "    </tr>\n",
       "    <tr>\n",
       "      <th id=\"T_fd242_level0_row15\" class=\"row_heading level0 row15\" >vel_conexion</th>\n",
       "      <td id=\"T_fd242_row15_col0\" class=\"data row15 col0\" >0.002482</td>\n",
       "    </tr>\n",
       "    <tr>\n",
       "      <th id=\"T_fd242_level0_row16\" class=\"row_heading level0 row16\" >facturacion_new</th>\n",
       "      <td id=\"T_fd242_row16_col0\" class=\"data row16 col0\" >0.002441</td>\n",
       "    </tr>\n",
       "    <tr>\n",
       "      <th id=\"T_fd242_level0_row17\" class=\"row_heading level0 row17\" >num_lineas</th>\n",
       "      <td id=\"T_fd242_row17_col0\" class=\"data row17 col0\" >0.001741</td>\n",
       "    </tr>\n",
       "    <tr>\n",
       "      <th id=\"T_fd242_level0_row18\" class=\"row_heading level0 row18\" >mb_datos</th>\n",
       "      <td id=\"T_fd242_row18_col0\" class=\"data row18 col0\" >0.001201</td>\n",
       "    </tr>\n",
       "    <tr>\n",
       "      <th id=\"T_fd242_level0_row19\" class=\"row_heading level0 row19\" >id</th>\n",
       "      <td id=\"T_fd242_row19_col0\" class=\"data row19 col0\" >0.000866</td>\n",
       "    </tr>\n",
       "    <tr>\n",
       "      <th id=\"T_fd242_level0_row20\" class=\"row_heading level0 row20\" >TV</th>\n",
       "      <td id=\"T_fd242_row20_col0\" class=\"data row20 col0\" >0.000364</td>\n",
       "    </tr>\n",
       "    <tr>\n",
       "      <th id=\"T_fd242_level0_row21\" class=\"row_heading level0 row21\" >seg_llamad_sal</th>\n",
       "      <td id=\"T_fd242_row21_col0\" class=\"data row21 col0\" >0.000213</td>\n",
       "    </tr>\n",
       "    <tr>\n",
       "      <th id=\"T_fd242_level0_row22\" class=\"row_heading level0 row22\" >seg_llamad_ent</th>\n",
       "      <td id=\"T_fd242_row22_col0\" class=\"data row22 col0\" >0.000139</td>\n",
       "    </tr>\n",
       "  </tbody>\n",
       "</table>\n"
      ],
      "text/plain": [
       "<pandas.io.formats.style.Styler at 0x17701034640>"
      ]
     },
     "execution_count": 119,
     "metadata": {},
     "output_type": "execute_result"
    }
   ],
   "source": [
    "corr = abs(consolidada_dic.corr()) #since we have included a new var\n",
    "corr[['retiro']].sort_values(by = 'retiro',ascending = False).style.background_gradient() \n"
   ]
  },
  {
   "cell_type": "markdown",
   "id": "3ccc9f77",
   "metadata": {},
   "source": [
    "La parte de feature engineering queda acabada.Ahora comienzo la selección de variables.\n",
    "Pero antes, reviso que no hay valores NAs"
   ]
  },
  {
   "cell_type": "code",
   "execution_count": 120,
   "id": "fb36165f",
   "metadata": {},
   "outputs": [
    {
     "data": {
      "text/plain": [
       "id                 0\n",
       "edad               0\n",
       "facturacion        0\n",
       "antiguedad         0\n",
       "provincia          0\n",
       "num_lineas         0\n",
       "num_dt             0\n",
       "incidencia         0\n",
       "num_llamad_ent     0\n",
       "num_llamad_sal     0\n",
       "mb_datos           0\n",
       "seg_llamad_ent     0\n",
       "seg_llamad_sal     0\n",
       "financiacion       0\n",
       "imp_financ         0\n",
       "descuentos         0\n",
       "conexion           0\n",
       "vel_conexion       0\n",
       "TV                 0\n",
       "retiro             0\n",
       "Mes                0\n",
       "adulto             0\n",
       "jubilado           0\n",
       "facturacion_new    0\n",
       "dtype: int64"
      ]
     },
     "execution_count": 120,
     "metadata": {},
     "output_type": "execute_result"
    }
   ],
   "source": [
    "consolidada_dic.isnull().sum() "
   ]
  },
  {
   "cell_type": "markdown",
   "id": "4aa4b01e",
   "metadata": {},
   "source": [
    "### 5.3) Seleccion de Variables"
   ]
  },
  {
   "cell_type": "markdown",
   "id": "2782a159",
   "metadata": {},
   "source": [
    "**Realizo seleccion de variables para detectar Multicolinearidad.** \n",
    "\n",
    "Uno de los principales beneficios de la selección de variables esta plasmado por la famosa frase \"Menos es más\" del arquitecto Ludwig Mies van der Rohe, precursor del minimalismo. Menos atributos son deseables ya que reduce la complejidad del modelo, y un modelo más simple es más fácil de entender y explicar.\n",
    "\n",
    "\n",
    "para ello, ejecuto elmetodo VIF, examino que variables fueron eliminadas por VIF y verifico.\n",
    "\n",
    "El valor del VIF es siempre positivo y crece en un conjunto de datos a medida que aumenta la multicolinealidad entre las características. En caso de que en un conjunto de características exista multicolinealidad perfecta, es decir, que una característica se pueda explicar perfectamente mediante la combinación lineal del resto, el valor será infinito, ya que, en tal caso, el Ri^2 de la regresión será igual la unidad.\n",
    "\n",
    "Voy a usar dos algoritmos vistos en clase para determinar las variables que vamos a sacar del estudio.\n",
    "\n",
    "\n",
    "el primero tiene que ver con el calculo del VarianceThreshold:\n",
    "\n",
    "Este método de selección de varianza es un método de línea de base simple para la selección de características, que elimina todas las características que no cumplen con los requisitos de un umbral dado. El umbral es 0.6 de forma predeterminada. Este método elimina características con una varianza de 0.6 de forma predeterminada, es decir, características con el mismo valor en todas las muestras.\n",
    "\n",
    "El segundo algoritmo es el del VIF\n",
    "\n",
    "**En general se suele emplear el criterio expuesto en la siguiente tabla**:\n",
    "\n",
    "**Valor de VIF\tGrado de Muticolinealidad**\n",
    "\n",
    "Hasta 5\t     Débil/Moderado\n",
    "\n",
    "De 5 a 10\t Elevado\n",
    "\n",
    "Mayor a 10\t Muy elevado\n"
   ]
  },
  {
   "cell_type": "code",
   "execution_count": 121,
   "id": "e008826e",
   "metadata": {},
   "outputs": [],
   "source": [
    "dat_dic = consolidada_dic\n",
    "y = dat_dic['retiro']\n",
    "X = dat_dic.drop('retiro', axis=1)\n",
    "X = dat_dic.drop('Mes', axis=1)"
   ]
  },
  {
   "cell_type": "code",
   "execution_count": 122,
   "id": "9655ed3f",
   "metadata": {},
   "outputs": [],
   "source": [
    "var_th = VarianceThreshold(threshold = 0.60)\n",
    "x_var = var_th.fit_transform(X)"
   ]
  },
  {
   "cell_type": "code",
   "execution_count": 123,
   "id": "3061db5a",
   "metadata": {},
   "outputs": [
    {
     "data": {
      "text/plain": [
       "23"
      ]
     },
     "execution_count": 123,
     "metadata": {},
     "output_type": "execute_result"
    }
   ],
   "source": [
    "X.shape[1] ## variables principales\n"
   ]
  },
  {
   "cell_type": "code",
   "execution_count": 124,
   "id": "a7f6494a",
   "metadata": {},
   "outputs": [
    {
     "data": {
      "text/plain": [
       "Index(['id', 'edad', 'facturacion', 'antiguedad', 'provincia', 'num_lineas',\n",
       "       'num_dt', 'incidencia', 'num_llamad_ent', 'num_llamad_sal', 'mb_datos',\n",
       "       'seg_llamad_ent', 'seg_llamad_sal', 'financiacion', 'imp_financ',\n",
       "       'descuentos', 'conexion', 'vel_conexion', 'TV', 'retiro', 'adulto',\n",
       "       'jubilado', 'facturacion_new'],\n",
       "      dtype='object')"
      ]
     },
     "execution_count": 124,
     "metadata": {},
     "output_type": "execute_result"
    }
   ],
   "source": [
    "X.columns"
   ]
  },
  {
   "cell_type": "code",
   "execution_count": 125,
   "id": "4ed187b2",
   "metadata": {},
   "outputs": [
    {
     "data": {
      "text/plain": [
       "14"
      ]
     },
     "execution_count": 125,
     "metadata": {},
     "output_type": "execute_result"
    }
   ],
   "source": [
    "x_var.shape[1] ## vairables finales"
   ]
  },
  {
   "cell_type": "code",
   "execution_count": 126,
   "id": "9d52214c",
   "metadata": {},
   "outputs": [
    {
     "data": {
      "text/plain": [
       "array(['id', 'edad', 'facturacion', 'antiguedad', 'provincia',\n",
       "       'num_lineas', 'num_llamad_ent', 'num_llamad_sal', 'mb_datos',\n",
       "       'seg_llamad_ent', 'seg_llamad_sal', 'imp_financ', 'vel_conexion',\n",
       "       'facturacion_new'], dtype='<U15')"
      ]
     },
     "execution_count": 126,
     "metadata": {},
     "output_type": "execute_result"
    }
   ],
   "source": [
    "np.asarray(list(X))[var_th.get_support()]"
   ]
  },
  {
   "cell_type": "markdown",
   "id": "91d056ee",
   "metadata": {},
   "source": [
    "Segun este metodo, se eliminan 7 variables y solo quedarian 14 para el modelo."
   ]
  },
  {
   "cell_type": "code",
   "execution_count": 128,
   "id": "51c9f815",
   "metadata": {},
   "outputs": [
    {
     "name": "stdout",
     "output_type": "stream",
     "text": [
      "El valor del VIF para la variable id es: 1.0013726360711177\n",
      "El valor del VIF para la variable edad es: 8.572141399584778\n",
      "El valor del VIF para la variable facturacion es: 45.33848063047421\n",
      "El valor del VIF para la variable antiguedad es: 1.0001561150542098\n",
      "El valor del VIF para la variable provincia es: 1.0003103100155535\n",
      "El valor del VIF para la variable num_lineas es: 1.3088005974009942\n",
      "El valor del VIF para la variable num_dt es: 1.0198877836709883\n",
      "El valor del VIF para la variable incidencia es: 1.013972945430787\n",
      "El valor del VIF para la variable num_llamad_ent es: 1.000532733048789\n",
      "El valor del VIF para la variable num_llamad_sal es: 1.0009293947552946\n",
      "El valor del VIF para la variable mb_datos es: 1.0001360555396333\n",
      "El valor del VIF para la variable seg_llamad_ent es: 1.000379656039085\n",
      "El valor del VIF para la variable seg_llamad_sal es: 1.0009598340519172\n",
      "El valor del VIF para la variable financiacion es: 5.47298987881581\n",
      "El valor del VIF para la variable imp_financ es: 5.470938642805904\n",
      "El valor del VIF para la variable descuentos es: 1.0070884305751597\n",
      "El valor del VIF para la variable conexion es: 1.6538610858631373\n",
      "El valor del VIF para la variable vel_conexion es: 1.6516173907619818\n",
      "El valor del VIF para la variable TV es: 1.329461010886675\n",
      "El valor del VIF para la variable adulto es: 4.430640945860131\n",
      "El valor del VIF para la variable jubilado es: 10.299093191527392\n",
      "El valor del VIF para la variable facturacion_new es: 45.26354034502839\n"
     ]
    }
   ],
   "source": [
    "\n",
    "from sklearn.linear_model import LinearRegression\n",
    "\n",
    "# Borrado de la variable objetivo\n",
    "datos_vif = consolidada_dic.copy(deep = True)\n",
    "features = list(datos_vif.columns)\n",
    "features.remove('retiro')\n",
    "features.remove('Mes')\n",
    "datos_vif = datos_vif[features]\n",
    "\n",
    "for i in range(len(features)): # HAlla el VIF de cada variable, de todas las que se pasan de 5, se elimina. La mayor de todas y se vuelve a calcular todo\n",
    "    var = features[i]\n",
    "    fet = features[:]\n",
    "    fet.remove(var)\n",
    "    \n",
    "    x = datos_vif[fet]\n",
    "    y = consolidada_dic[var]\n",
    "    \n",
    "    model = LinearRegression()\n",
    "    model.fit(x, y)\n",
    "    \n",
    "    vif = 1 / (1 - model.score(x, y))\n",
    "    \n",
    "    print ('El valor del VIF para la variable', var, 'es:', vif)"
   ]
  },
  {
   "cell_type": "markdown",
   "id": "7bad4f03",
   "metadata": {},
   "source": [
    "Segun este metodo, solo se eliminarian las variables facturacion y imp_finac. No bosatante se hicieron pruebas con los modelo y fue mas efectivo el primer metodo, por lo que se eliminaran las vaariables: *'facturacion'*,*'conexion'*,*'TV'*,*'imp_financ'*,*'incidencia'*,*'descuentos'\n"
   ]
  },
  {
   "cell_type": "markdown",
   "id": "bbf6d886",
   "metadata": {},
   "source": [
    "## 6) Correr los Modelos\n",
    "\n",
    "#### Mejor modelo"
   ]
  },
  {
   "cell_type": "markdown",
   "id": "2679e3dc",
   "metadata": {},
   "source": [
    "\n",
    "Volvemos a tomar las variables X y Y"
   ]
  },
  {
   "cell_type": "code",
   "execution_count": 132,
   "id": "a7b446e6",
   "metadata": {},
   "outputs": [
    {
     "data": {
      "text/html": [
       "<div>\n",
       "<style scoped>\n",
       "    .dataframe tbody tr th:only-of-type {\n",
       "        vertical-align: middle;\n",
       "    }\n",
       "\n",
       "    .dataframe tbody tr th {\n",
       "        vertical-align: top;\n",
       "    }\n",
       "\n",
       "    .dataframe thead th {\n",
       "        text-align: right;\n",
       "    }\n",
       "</style>\n",
       "<table border=\"1\" class=\"dataframe\">\n",
       "  <thead>\n",
       "    <tr style=\"text-align: right;\">\n",
       "      <th></th>\n",
       "      <th>id</th>\n",
       "      <th>edad</th>\n",
       "      <th>facturacion</th>\n",
       "      <th>antiguedad</th>\n",
       "      <th>provincia</th>\n",
       "      <th>num_lineas</th>\n",
       "      <th>num_dt</th>\n",
       "      <th>incidencia</th>\n",
       "      <th>num_llamad_ent</th>\n",
       "      <th>num_llamad_sal</th>\n",
       "      <th>...</th>\n",
       "      <th>imp_financ</th>\n",
       "      <th>descuentos</th>\n",
       "      <th>conexion</th>\n",
       "      <th>vel_conexion</th>\n",
       "      <th>TV</th>\n",
       "      <th>retiro</th>\n",
       "      <th>Mes</th>\n",
       "      <th>adulto</th>\n",
       "      <th>jubilado</th>\n",
       "      <th>facturacion_new</th>\n",
       "    </tr>\n",
       "  </thead>\n",
       "  <tbody>\n",
       "    <tr>\n",
       "      <th>0</th>\n",
       "      <td>1</td>\n",
       "      <td>63</td>\n",
       "      <td>216.028109</td>\n",
       "      <td>1.0</td>\n",
       "      <td>23</td>\n",
       "      <td>5</td>\n",
       "      <td>0.0</td>\n",
       "      <td>0</td>\n",
       "      <td>110</td>\n",
       "      <td>79</td>\n",
       "      <td>...</td>\n",
       "      <td>0.000000</td>\n",
       "      <td>0</td>\n",
       "      <td>1</td>\n",
       "      <td>50</td>\n",
       "      <td>1</td>\n",
       "      <td>0</td>\n",
       "      <td>Diciembre</td>\n",
       "      <td>1</td>\n",
       "      <td>0</td>\n",
       "      <td>180.0</td>\n",
       "    </tr>\n",
       "    <tr>\n",
       "      <th>1</th>\n",
       "      <td>2</td>\n",
       "      <td>84</td>\n",
       "      <td>255.830842</td>\n",
       "      <td>2.0</td>\n",
       "      <td>45</td>\n",
       "      <td>3</td>\n",
       "      <td>0.0</td>\n",
       "      <td>0</td>\n",
       "      <td>189</td>\n",
       "      <td>89</td>\n",
       "      <td>...</td>\n",
       "      <td>0.000000</td>\n",
       "      <td>1</td>\n",
       "      <td>1</td>\n",
       "      <td>600</td>\n",
       "      <td>1</td>\n",
       "      <td>0</td>\n",
       "      <td>Diciembre</td>\n",
       "      <td>0</td>\n",
       "      <td>1</td>\n",
       "      <td>240.0</td>\n",
       "    </tr>\n",
       "    <tr>\n",
       "      <th>2</th>\n",
       "      <td>3</td>\n",
       "      <td>66</td>\n",
       "      <td>135.768153</td>\n",
       "      <td>18.0</td>\n",
       "      <td>0</td>\n",
       "      <td>4</td>\n",
       "      <td>0.0</td>\n",
       "      <td>0</td>\n",
       "      <td>129</td>\n",
       "      <td>30</td>\n",
       "      <td>...</td>\n",
       "      <td>0.000000</td>\n",
       "      <td>1</td>\n",
       "      <td>0</td>\n",
       "      <td>35</td>\n",
       "      <td>1</td>\n",
       "      <td>0</td>\n",
       "      <td>Diciembre</td>\n",
       "      <td>1</td>\n",
       "      <td>0</td>\n",
       "      <td>120.0</td>\n",
       "    </tr>\n",
       "    <tr>\n",
       "      <th>3</th>\n",
       "      <td>4</td>\n",
       "      <td>69</td>\n",
       "      <td>255.658527</td>\n",
       "      <td>4.0</td>\n",
       "      <td>26</td>\n",
       "      <td>4</td>\n",
       "      <td>0.0</td>\n",
       "      <td>0</td>\n",
       "      <td>51</td>\n",
       "      <td>52</td>\n",
       "      <td>...</td>\n",
       "      <td>0.000000</td>\n",
       "      <td>0</td>\n",
       "      <td>1</td>\n",
       "      <td>200</td>\n",
       "      <td>0</td>\n",
       "      <td>0</td>\n",
       "      <td>Diciembre</td>\n",
       "      <td>0</td>\n",
       "      <td>1</td>\n",
       "      <td>240.0</td>\n",
       "    </tr>\n",
       "    <tr>\n",
       "      <th>4</th>\n",
       "      <td>5</td>\n",
       "      <td>30</td>\n",
       "      <td>22.302845</td>\n",
       "      <td>22.0</td>\n",
       "      <td>40</td>\n",
       "      <td>2</td>\n",
       "      <td>1.0</td>\n",
       "      <td>0</td>\n",
       "      <td>183</td>\n",
       "      <td>3</td>\n",
       "      <td>...</td>\n",
       "      <td>0.000000</td>\n",
       "      <td>0</td>\n",
       "      <td>0</td>\n",
       "      <td>10</td>\n",
       "      <td>1</td>\n",
       "      <td>1</td>\n",
       "      <td>Diciembre</td>\n",
       "      <td>0</td>\n",
       "      <td>0</td>\n",
       "      <td>0.0</td>\n",
       "    </tr>\n",
       "    <tr>\n",
       "      <th>...</th>\n",
       "      <td>...</td>\n",
       "      <td>...</td>\n",
       "      <td>...</td>\n",
       "      <td>...</td>\n",
       "      <td>...</td>\n",
       "      <td>...</td>\n",
       "      <td>...</td>\n",
       "      <td>...</td>\n",
       "      <td>...</td>\n",
       "      <td>...</td>\n",
       "      <td>...</td>\n",
       "      <td>...</td>\n",
       "      <td>...</td>\n",
       "      <td>...</td>\n",
       "      <td>...</td>\n",
       "      <td>...</td>\n",
       "      <td>...</td>\n",
       "      <td>...</td>\n",
       "      <td>...</td>\n",
       "      <td>...</td>\n",
       "      <td>...</td>\n",
       "    </tr>\n",
       "    <tr>\n",
       "      <th>95462</th>\n",
       "      <td>99995</td>\n",
       "      <td>65</td>\n",
       "      <td>173.741667</td>\n",
       "      <td>1.0</td>\n",
       "      <td>29</td>\n",
       "      <td>5</td>\n",
       "      <td>0.0</td>\n",
       "      <td>0</td>\n",
       "      <td>121</td>\n",
       "      <td>98</td>\n",
       "      <td>...</td>\n",
       "      <td>23.138779</td>\n",
       "      <td>0</td>\n",
       "      <td>0</td>\n",
       "      <td>35</td>\n",
       "      <td>0</td>\n",
       "      <td>0</td>\n",
       "      <td>Diciembre</td>\n",
       "      <td>1</td>\n",
       "      <td>0</td>\n",
       "      <td>120.0</td>\n",
       "    </tr>\n",
       "    <tr>\n",
       "      <th>95463</th>\n",
       "      <td>99996</td>\n",
       "      <td>36</td>\n",
       "      <td>215.890326</td>\n",
       "      <td>7.0</td>\n",
       "      <td>16</td>\n",
       "      <td>3</td>\n",
       "      <td>0.0</td>\n",
       "      <td>0</td>\n",
       "      <td>98</td>\n",
       "      <td>13</td>\n",
       "      <td>...</td>\n",
       "      <td>0.000000</td>\n",
       "      <td>0</td>\n",
       "      <td>0</td>\n",
       "      <td>30</td>\n",
       "      <td>1</td>\n",
       "      <td>0</td>\n",
       "      <td>Diciembre</td>\n",
       "      <td>0</td>\n",
       "      <td>0</td>\n",
       "      <td>180.0</td>\n",
       "    </tr>\n",
       "    <tr>\n",
       "      <th>95464</th>\n",
       "      <td>99997</td>\n",
       "      <td>68</td>\n",
       "      <td>285.890750</td>\n",
       "      <td>16.0</td>\n",
       "      <td>3</td>\n",
       "      <td>5</td>\n",
       "      <td>0.0</td>\n",
       "      <td>0</td>\n",
       "      <td>226</td>\n",
       "      <td>20</td>\n",
       "      <td>...</td>\n",
       "      <td>14.616422</td>\n",
       "      <td>0</td>\n",
       "      <td>1</td>\n",
       "      <td>200</td>\n",
       "      <td>1</td>\n",
       "      <td>0</td>\n",
       "      <td>Diciembre</td>\n",
       "      <td>0</td>\n",
       "      <td>1</td>\n",
       "      <td>240.0</td>\n",
       "    </tr>\n",
       "    <tr>\n",
       "      <th>95465</th>\n",
       "      <td>99998</td>\n",
       "      <td>20</td>\n",
       "      <td>383.167610</td>\n",
       "      <td>7.0</td>\n",
       "      <td>48</td>\n",
       "      <td>4</td>\n",
       "      <td>0.0</td>\n",
       "      <td>0</td>\n",
       "      <td>126</td>\n",
       "      <td>26</td>\n",
       "      <td>...</td>\n",
       "      <td>0.000000</td>\n",
       "      <td>0</td>\n",
       "      <td>0</td>\n",
       "      <td>20</td>\n",
       "      <td>1</td>\n",
       "      <td>0</td>\n",
       "      <td>Diciembre</td>\n",
       "      <td>0</td>\n",
       "      <td>0</td>\n",
       "      <td>360.0</td>\n",
       "    </tr>\n",
       "    <tr>\n",
       "      <th>95466</th>\n",
       "      <td>100000</td>\n",
       "      <td>18</td>\n",
       "      <td>57.158927</td>\n",
       "      <td>10.0</td>\n",
       "      <td>24</td>\n",
       "      <td>4</td>\n",
       "      <td>0.0</td>\n",
       "      <td>0</td>\n",
       "      <td>85</td>\n",
       "      <td>25</td>\n",
       "      <td>...</td>\n",
       "      <td>0.000000</td>\n",
       "      <td>1</td>\n",
       "      <td>0</td>\n",
       "      <td>25</td>\n",
       "      <td>0</td>\n",
       "      <td>0</td>\n",
       "      <td>Diciembre</td>\n",
       "      <td>0</td>\n",
       "      <td>0</td>\n",
       "      <td>0.0</td>\n",
       "    </tr>\n",
       "  </tbody>\n",
       "</table>\n",
       "<p>95467 rows × 24 columns</p>\n",
       "</div>"
      ],
      "text/plain": [
       "           id  edad  facturacion  antiguedad  provincia  num_lineas  num_dt  \\\n",
       "0           1    63   216.028109         1.0         23           5     0.0   \n",
       "1           2    84   255.830842         2.0         45           3     0.0   \n",
       "2           3    66   135.768153        18.0          0           4     0.0   \n",
       "3           4    69   255.658527         4.0         26           4     0.0   \n",
       "4           5    30    22.302845        22.0         40           2     1.0   \n",
       "...       ...   ...          ...         ...        ...         ...     ...   \n",
       "95462   99995    65   173.741667         1.0         29           5     0.0   \n",
       "95463   99996    36   215.890326         7.0         16           3     0.0   \n",
       "95464   99997    68   285.890750        16.0          3           5     0.0   \n",
       "95465   99998    20   383.167610         7.0         48           4     0.0   \n",
       "95466  100000    18    57.158927        10.0         24           4     0.0   \n",
       "\n",
       "       incidencia  num_llamad_ent  num_llamad_sal  ...  imp_financ  \\\n",
       "0               0             110              79  ...    0.000000   \n",
       "1               0             189              89  ...    0.000000   \n",
       "2               0             129              30  ...    0.000000   \n",
       "3               0              51              52  ...    0.000000   \n",
       "4               0             183               3  ...    0.000000   \n",
       "...           ...             ...             ...  ...         ...   \n",
       "95462           0             121              98  ...   23.138779   \n",
       "95463           0              98              13  ...    0.000000   \n",
       "95464           0             226              20  ...   14.616422   \n",
       "95465           0             126              26  ...    0.000000   \n",
       "95466           0              85              25  ...    0.000000   \n",
       "\n",
       "       descuentos  conexion  vel_conexion  TV  retiro        Mes  adulto  \\\n",
       "0               0         1            50   1       0  Diciembre       1   \n",
       "1               1         1           600   1       0  Diciembre       0   \n",
       "2               1         0            35   1       0  Diciembre       1   \n",
       "3               0         1           200   0       0  Diciembre       0   \n",
       "4               0         0            10   1       1  Diciembre       0   \n",
       "...           ...       ...           ...  ..     ...        ...     ...   \n",
       "95462           0         0            35   0       0  Diciembre       1   \n",
       "95463           0         0            30   1       0  Diciembre       0   \n",
       "95464           0         1           200   1       0  Diciembre       0   \n",
       "95465           0         0            20   1       0  Diciembre       0   \n",
       "95466           1         0            25   0       0  Diciembre       0   \n",
       "\n",
       "       jubilado  facturacion_new  \n",
       "0             0            180.0  \n",
       "1             1            240.0  \n",
       "2             0            120.0  \n",
       "3             1            240.0  \n",
       "4             0              0.0  \n",
       "...         ...              ...  \n",
       "95462         0            120.0  \n",
       "95463         0            180.0  \n",
       "95464         1            240.0  \n",
       "95465         0            360.0  \n",
       "95466         0              0.0  \n",
       "\n",
       "[95467 rows x 24 columns]"
      ]
     },
     "execution_count": 132,
     "metadata": {},
     "output_type": "execute_result"
    }
   ],
   "source": [
    "X =  consolidada_dic\n",
    "y = consolidada_dic['retiro']\n"
   ]
  },
  {
   "cell_type": "code",
   "execution_count": 133,
   "id": "8b5f7b54",
   "metadata": {},
   "outputs": [],
   "source": [
    "datos1 = consolidada_dic.copy(deep = True)\n",
    "datos1 = consolidada_dic.drop(['retiro','facturacion','conexion','TV','Mes','imp_financ','incidencia','descuentos'], axis=1)\n",
    "X =  datos1"
   ]
  },
  {
   "cell_type": "markdown",
   "id": "0c4d1867",
   "metadata": {},
   "source": [
    "#### Volvemos a generar las muestras Train y Test"
   ]
  },
  {
   "cell_type": "code",
   "execution_count": 134,
   "id": "7f9774c8",
   "metadata": {},
   "outputs": [],
   "source": [
    "\n",
    "X_train, X_test, y_train, y_test = train_test_split(X ,\n",
    "                                                    y, \n",
    "                                                    test_size=0.2, \n",
    "                                                    random_state=42, \n",
    "                                                    stratify=y)"
   ]
  },
  {
   "cell_type": "markdown",
   "id": "03426759",
   "metadata": {},
   "source": [
    "Segun este criterio se eliminaron las correlaciones, vamos a volver a generar los modelos. Para ello vamos a realizar un  un grid Seach, para encontratr el mejor modelo el mejor Random Forest. "
   ]
  },
  {
   "cell_type": "code",
   "execution_count": 135,
   "id": "33e8a393",
   "metadata": {},
   "outputs": [],
   "source": [
    "grid_param = {\n",
    "    'n_estimators': [10, 20, 30, 80, 90],\n",
    "    'criterion': ['gini', 'entropy'],\n",
    "    'bootstrap': [True, False],\n",
    "    'max_depth': [4,5,6,7,8,9,10,12,14,16]\n",
    "}"
   ]
  },
  {
   "cell_type": "markdown",
   "id": "9e640494",
   "metadata": {},
   "source": [
    "### Modelo de regresion"
   ]
  },
  {
   "cell_type": "code",
   "execution_count": 136,
   "id": "c2db4648",
   "metadata": {},
   "outputs": [],
   "source": [
    "classifier = LogisticRegression(solver =\"liblinear\" ,max_iter=1000).fit(X_train, y_train)\n",
    "y_pred     = classifier.predict(X_test) "
   ]
  },
  {
   "cell_type": "markdown",
   "id": "e1cc1f57",
   "metadata": {},
   "source": [
    "### Random Forest y Grid Seach"
   ]
  },
  {
   "cell_type": "code",
   "execution_count": 137,
   "id": "aa8b411a",
   "metadata": {},
   "outputs": [],
   "source": [
    "classifier2 = RandomForestClassifier(max_depth = 8).fit(X_train, y_train)\n",
    "y_pred2    = classifier2.predict(X_test)"
   ]
  },
  {
   "cell_type": "code",
   "execution_count": 139,
   "id": "d7a6f26f",
   "metadata": {},
   "outputs": [],
   "source": [
    "from sklearn.model_selection import GridSearchCV\n",
    "model_grid = GridSearchCV(estimator=classifier2,\n",
    "                     param_grid=grid_param,\n",
    "                     scoring='recall',\n",
    "                     cv=5,\n",
    "                     n_jobs=-1)"
   ]
  },
  {
   "cell_type": "code",
   "execution_count": 140,
   "id": "7f44c7ee",
   "metadata": {},
   "outputs": [
    {
     "data": {
      "text/plain": [
       "GridSearchCV(cv=5, estimator=RandomForestClassifier(max_depth=8), n_jobs=-1,\n",
       "             param_grid={'bootstrap': [True, False],\n",
       "                         'criterion': ['gini', 'entropy'],\n",
       "                         'max_depth': [4, 5, 6, 7, 8, 9, 10, 12, 14, 16],\n",
       "                         'n_estimators': [10, 20, 30, 80, 90]},\n",
       "             scoring='recall')"
      ]
     },
     "execution_count": 140,
     "metadata": {},
     "output_type": "execute_result"
    }
   ],
   "source": [
    "model_grid.fit(X_train, y_train)"
   ]
  },
  {
   "cell_type": "code",
   "execution_count": 141,
   "id": "0b0e06c8",
   "metadata": {},
   "outputs": [
    {
     "name": "stdout",
     "output_type": "stream",
     "text": [
      "{'bootstrap': False, 'criterion': 'gini', 'max_depth': 8, 'n_estimators': 20}\n"
     ]
    }
   ],
   "source": [
    "print(model_grid.best_params_)"
   ]
  },
  {
   "cell_type": "code",
   "execution_count": 142,
   "id": "f5cf784b",
   "metadata": {},
   "outputs": [
    {
     "name": "stdout",
     "output_type": "stream",
     "text": [
      "0.3117519780950201\n"
     ]
    }
   ],
   "source": [
    "print(model_grid.best_score_)"
   ]
  },
  {
   "cell_type": "code",
   "execution_count": 155,
   "id": "0edce523",
   "metadata": {},
   "outputs": [],
   "source": [
    "classifier2 = RandomForestClassifier(max_depth= 8, bootstrap= False, n_estimators= 20, criterion= 'gini').fit(X_train, y_train)\n",
    "y_pred2    = classifier2.predict(X_test)"
   ]
  },
  {
   "cell_type": "code",
   "execution_count": 158,
   "id": "7b52827d",
   "metadata": {},
   "outputs": [
    {
     "name": "stdout",
     "output_type": "stream",
     "text": [
      "matriz de confusión\n",
      "[[17538   139]\n",
      " [  974   443]]\n",
      "accuracy\n",
      "0.9417094375196396\n",
      "precision\n",
      "0.761168384879725\n",
      "recall\n",
      "0.31263232180663375\n",
      "f1\n",
      "0.4432216108054027\n",
      "AUC\n",
      "0.6523844982908827\n"
     ]
    },
    {
     "data": {
      "image/png": "[encoded data removed]",
      "text/plain": [
       "<Figure size 432x288 with 1 Axes>"
      ]
     },
     "metadata": {
      "needs_background": "light"
     },
     "output_type": "display_data"
    }
   ],
   "source": [
    "saca_metricas(y_test, y_pred2)"
   ]
  },
  {
   "cell_type": "code",
   "execution_count": 184,
   "id": "58cd9552",
   "metadata": {},
   "outputs": [
    {
     "data": {
      "text/plain": [
       "array([0.02720791, 0.37405807, 0.0020397 , 0.0014343 , 0.00091617,\n",
       "       0.41422162, 0.0036138 , 0.00254437, 0.00372921, 0.00392985,\n",
       "       0.00375537, 0.04468419, 0.00137588, 0.07013764, 0.04544432,\n",
       "       0.0009076 ])"
      ]
     },
     "execution_count": 184,
     "metadata": {},
     "output_type": "execute_result"
    }
   ],
   "source": [
    "classifier2.feature_importances_"
   ]
  },
  {
   "cell_type": "code",
   "execution_count": 185,
   "id": "cbc0ab65",
   "metadata": {},
   "outputs": [
    {
     "data": {
      "text/plain": [
       "array(['id', 'edad', 'antiguedad', 'provincia', 'num_lineas', 'num_dt',\n",
       "       'num_llamad_ent', 'num_llamad_sal', 'mb_datos', 'seg_llamad_ent',\n",
       "       'seg_llamad_sal', 'financiacion', 'vel_conexion', 'adulto',\n",
       "       'jubilado', 'facturacion_new'], dtype=object)"
      ]
     },
     "execution_count": 185,
     "metadata": {},
     "output_type": "execute_result"
    }
   ],
   "source": [
    "classifier2.feature_names_in_"
   ]
  },
  {
   "cell_type": "code",
   "execution_count": 159,
   "id": "c0d74cc7",
   "metadata": {},
   "outputs": [
    {
     "name": "stdout",
     "output_type": "stream",
     "text": [
      "              precision    recall  f1-score   support\n",
      "\n",
      "           0       0.95      0.99      0.97     17677\n",
      "           1       0.76      0.31      0.44      1417\n",
      "\n",
      "    accuracy                           0.94     19094\n",
      "   macro avg       0.85      0.65      0.71     19094\n",
      "weighted avg       0.93      0.94      0.93     19094\n",
      "\n"
     ]
    }
   ],
   "source": [
    "print(classification_report(y_test, y_pred2))"
   ]
  },
  {
   "cell_type": "markdown",
   "id": "cf8ccb20",
   "metadata": {},
   "source": [
    "#### BALANCEO DATOS 1\n",
    "\n",
    "Pruebo a balancear el modelo de regresión logística, para ver si mejora:\n"
   ]
  },
  {
   "cell_type": "code",
   "execution_count": 147,
   "id": "15c1aa66",
   "metadata": {},
   "outputs": [],
   "source": [
    "grid_param = {\n",
    "    'max_iter': [100, 500, 1000, 2000],\n",
    "    'penalty': ['l1', 'l2'],\n",
    "    'C' : np.logspace(-4, 4, 20),\n",
    "}"
   ]
  },
  {
   "cell_type": "code",
   "execution_count": 148,
   "id": "c74abd1c",
   "metadata": {},
   "outputs": [],
   "source": [
    "model_grid = GridSearchCV(estimator=classifier,\n",
    "                     param_grid=grid_param,\n",
    "                     scoring='recall',\n",
    "                     cv=5,\n",
    "                     n_jobs=-1)"
   ]
  },
  {
   "cell_type": "code",
   "execution_count": 149,
   "id": "6c571b47",
   "metadata": {},
   "outputs": [
    {
     "data": {
      "text/plain": [
       "GridSearchCV(cv=5,\n",
       "             estimator=LogisticRegression(max_iter=1000, solver='liblinear'),\n",
       "             n_jobs=-1,\n",
       "             param_grid={'C': array([1.00000000e-04, 2.63665090e-04, 6.95192796e-04, 1.83298071e-03,\n",
       "       4.83293024e-03, 1.27427499e-02, 3.35981829e-02, 8.85866790e-02,\n",
       "       2.33572147e-01, 6.15848211e-01, 1.62377674e+00, 4.28133240e+00,\n",
       "       1.12883789e+01, 2.97635144e+01, 7.84759970e+01, 2.06913808e+02,\n",
       "       5.45559478e+02, 1.43844989e+03, 3.79269019e+03, 1.00000000e+04]),\n",
       "                         'max_iter': [100, 500, 1000, 2000],\n",
       "                         'penalty': ['l1', 'l2']},\n",
       "             scoring='recall')"
      ]
     },
     "execution_count": 149,
     "metadata": {},
     "output_type": "execute_result"
    }
   ],
   "source": [
    "model_grid.fit(X_train, y_train)"
   ]
  },
  {
   "cell_type": "code",
   "execution_count": 150,
   "id": "f909de00",
   "metadata": {},
   "outputs": [
    {
     "name": "stdout",
     "output_type": "stream",
     "text": [
      "{'C': 0.012742749857031334, 'max_iter': 100, 'penalty': 'l1'}\n"
     ]
    }
   ],
   "source": [
    "print(model_grid.best_params_)"
   ]
  },
  {
   "cell_type": "code",
   "execution_count": 151,
   "id": "e8718f05",
   "metadata": {},
   "outputs": [
    {
     "name": "stdout",
     "output_type": "stream",
     "text": [
      "0.3145752485558311\n"
     ]
    }
   ],
   "source": [
    "print(model_grid.best_score_)"
   ]
  },
  {
   "cell_type": "code",
   "execution_count": 162,
   "id": "a3bc1e62",
   "metadata": {},
   "outputs": [],
   "source": [
    "classifier = LogisticRegression(solver =\"liblinear\" ,max_iter=100, class_weight=\"balanced\").fit(X_train, y_train)\n",
    "y_pred     = classifier.predict(X_test) "
   ]
  },
  {
   "cell_type": "code",
   "execution_count": 163,
   "id": "6d495443",
   "metadata": {},
   "outputs": [
    {
     "name": "stdout",
     "output_type": "stream",
     "text": [
      "              precision    recall  f1-score   support\n",
      "\n",
      "           0       1.00      0.68      0.81     17677\n",
      "           1       0.20      1.00      0.34      1417\n",
      "\n",
      "    accuracy                           0.71     19094\n",
      "   macro avg       0.60      0.84      0.57     19094\n",
      "weighted avg       0.94      0.71      0.78     19094\n",
      "\n"
     ]
    }
   ],
   "source": [
    "print(classification_report(y_test, y_pred))"
   ]
  },
  {
   "cell_type": "code",
   "execution_count": 164,
   "id": "7b6feb38",
   "metadata": {},
   "outputs": [
    {
     "name": "stdout",
     "output_type": "stream",
     "text": [
      "matriz de confusión\n",
      "[[17538   139]\n",
      " [  974   443]]\n",
      "accuracy\n",
      "0.9417094375196396\n",
      "precision\n",
      "0.761168384879725\n",
      "recall\n",
      "0.31263232180663375\n",
      "f1\n",
      "0.4432216108054027\n",
      "AUC\n",
      "0.6523844982908827\n"
     ]
    },
    {
     "data": {
      "image/png": "[encoded data removed]",
      "text/plain": [
       "<Figure size 432x288 with 1 Axes>"
      ]
     },
     "metadata": {
      "needs_background": "light"
     },
     "output_type": "display_data"
    }
   ],
   "source": [
    "saca_metricas(y_test, y_pred2)"
   ]
  },
  {
   "cell_type": "markdown",
   "id": "af5aa4be",
   "metadata": {},
   "source": [
    "## 7) Conclusión\n",
    "\n",
    "Encuentro que el mejor modelo es el que resulta del modelo logistico y del arbol de decision *Random Forest*. Lo anterior, porque me clasifica mejor que los modelos anteriores y ademas, presenta un mejor resultado, tiene un **(accuracy ~ 0.94)**.\n"
   ]
  },
  {
   "cell_type": "markdown",
   "id": "28f9f71b",
   "metadata": {},
   "source": [
    "## 8) Predecir los clientes de la cosecha de enero que más probabilidad tienen de cambiarse de operadora\n",
    "\n",
    "Vamos a ver como funciona nuestro mejor modelo para una nueva cosecha, en este caso enero. Para ello es necesario aplicar las mismas transformaciones hechas anteriormente y lo obtengo del **Modelo ganador**."
   ]
  },
  {
   "cell_type": "markdown",
   "id": "7e63593e",
   "metadata": {},
   "source": [
    "### 8.1) Prediccion Enero\n",
    "\n",
    "Finalmente tenemos un modelo con hasta una probabilidad entorno al 65% de los casos de predecir clientes más probables a marcharse de la compañía"
   ]
  },
  {
   "cell_type": "code",
   "execution_count": 165,
   "id": "ed8245f5",
   "metadata": {},
   "outputs": [],
   "source": [
    "datos1 = consolidada_ene.copy(deep = True)\n",
    "datos1 = consolidada_ene.drop(['retiro','facturacion','conexion','TV','Mes','imp_financ','incidencia','descuentos'], axis=1)\n",
    "X_ene =  datos1"
   ]
  },
  {
   "cell_type": "code",
   "execution_count": 172,
   "id": "f65d0b8d",
   "metadata": {},
   "outputs": [],
   "source": [
    "prediccion_enero = classifier.predict_proba(X_ene)[:,1]"
   ]
  },
  {
   "cell_type": "code",
   "execution_count": 173,
   "id": "4a370ef3",
   "metadata": {},
   "outputs": [
    {
     "data": {
      "text/plain": [
       "array([5.62883452e-04, 9.90325387e-04, 5.38698685e-04, ...,\n",
       "       6.82548965e-01, 4.94181757e-04, 6.72285852e-01])"
      ]
     },
     "execution_count": 173,
     "metadata": {},
     "output_type": "execute_result"
    }
   ],
   "source": [
    "prediccion_enero"
   ]
  },
  {
   "cell_type": "code",
   "execution_count": 174,
   "id": "93b6d702",
   "metadata": {},
   "outputs": [],
   "source": [
    "prediccion_enero = (pd.DataFrame(prediccion_enero,columns=['probabilidad'],index=X_ene.index))\n",
    "prediccion_enero.sort_values(by=['probabilidad'],ascending=False,axis=0,inplace=True)"
   ]
  },
  {
   "cell_type": "code",
   "execution_count": 175,
   "id": "039939d3",
   "metadata": {},
   "outputs": [
    {
     "data": {
      "text/html": [
       "<div>\n",
       "<style scoped>\n",
       "    .dataframe tbody tr th:only-of-type {\n",
       "        vertical-align: middle;\n",
       "    }\n",
       "\n",
       "    .dataframe tbody tr th {\n",
       "        vertical-align: top;\n",
       "    }\n",
       "\n",
       "    .dataframe thead th {\n",
       "        text-align: right;\n",
       "    }\n",
       "</style>\n",
       "<table border=\"1\" class=\"dataframe\">\n",
       "  <thead>\n",
       "    <tr style=\"text-align: right;\">\n",
       "      <th></th>\n",
       "      <th>probabilidad</th>\n",
       "    </tr>\n",
       "  </thead>\n",
       "  <tbody>\n",
       "    <tr>\n",
       "      <th>5754</th>\n",
       "      <td>0.978389</td>\n",
       "    </tr>\n",
       "    <tr>\n",
       "      <th>1961</th>\n",
       "      <td>0.978108</td>\n",
       "    </tr>\n",
       "    <tr>\n",
       "      <th>4811</th>\n",
       "      <td>0.977970</td>\n",
       "    </tr>\n",
       "    <tr>\n",
       "      <th>3850</th>\n",
       "      <td>0.977915</td>\n",
       "    </tr>\n",
       "    <tr>\n",
       "      <th>2360</th>\n",
       "      <td>0.977878</td>\n",
       "    </tr>\n",
       "  </tbody>\n",
       "</table>\n",
       "</div>"
      ],
      "text/plain": [
       "      probabilidad\n",
       "5754      0.978389\n",
       "1961      0.978108\n",
       "4811      0.977970\n",
       "3850      0.977915\n",
       "2360      0.977878"
      ]
     },
     "execution_count": 175,
     "metadata": {},
     "output_type": "execute_result"
    }
   ],
   "source": [
    "prediccion_enero.head()"
   ]
  },
  {
   "cell_type": "code",
   "execution_count": 176,
   "id": "d07d37fa",
   "metadata": {},
   "outputs": [],
   "source": [
    "X_ene.reset_index(inplace=True)"
   ]
  },
  {
   "cell_type": "code",
   "execution_count": 177,
   "id": "8925d621",
   "metadata": {},
   "outputs": [
    {
     "data": {
      "text/plain": [
       "(92711, 17)"
      ]
     },
     "execution_count": 177,
     "metadata": {},
     "output_type": "execute_result"
    }
   ],
   "source": [
    "X_ene.shape"
   ]
  },
  {
   "cell_type": "code",
   "execution_count": 178,
   "id": "07398818",
   "metadata": {},
   "outputs": [
    {
     "data": {
      "text/html": [
       "<div>\n",
       "<style scoped>\n",
       "    .dataframe tbody tr th:only-of-type {\n",
       "        vertical-align: middle;\n",
       "    }\n",
       "\n",
       "    .dataframe tbody tr th {\n",
       "        vertical-align: top;\n",
       "    }\n",
       "\n",
       "    .dataframe thead th {\n",
       "        text-align: right;\n",
       "    }\n",
       "</style>\n",
       "<table border=\"1\" class=\"dataframe\">\n",
       "  <thead>\n",
       "    <tr style=\"text-align: right;\">\n",
       "      <th></th>\n",
       "      <th>index</th>\n",
       "      <th>id</th>\n",
       "      <th>edad</th>\n",
       "      <th>antiguedad</th>\n",
       "      <th>provincia</th>\n",
       "      <th>num_lineas</th>\n",
       "      <th>num_dt</th>\n",
       "      <th>num_llamad_ent</th>\n",
       "      <th>num_llamad_sal</th>\n",
       "      <th>mb_datos</th>\n",
       "      <th>seg_llamad_ent</th>\n",
       "      <th>seg_llamad_sal</th>\n",
       "      <th>financiacion</th>\n",
       "      <th>vel_conexion</th>\n",
       "      <th>adulto</th>\n",
       "      <th>jubilado</th>\n",
       "      <th>facturacion_new</th>\n",
       "    </tr>\n",
       "  </thead>\n",
       "  <tbody>\n",
       "    <tr>\n",
       "      <th>0</th>\n",
       "      <td>0</td>\n",
       "      <td>1</td>\n",
       "      <td>63</td>\n",
       "      <td>1.0</td>\n",
       "      <td>23</td>\n",
       "      <td>5</td>\n",
       "      <td>0.0</td>\n",
       "      <td>95</td>\n",
       "      <td>19</td>\n",
       "      <td>6525</td>\n",
       "      <td>7634</td>\n",
       "      <td>18520</td>\n",
       "      <td>0</td>\n",
       "      <td>50</td>\n",
       "      <td>1</td>\n",
       "      <td>0</td>\n",
       "      <td>180.0</td>\n",
       "    </tr>\n",
       "    <tr>\n",
       "      <th>1</th>\n",
       "      <td>1</td>\n",
       "      <td>2</td>\n",
       "      <td>84</td>\n",
       "      <td>2.0</td>\n",
       "      <td>45</td>\n",
       "      <td>3</td>\n",
       "      <td>0.0</td>\n",
       "      <td>44</td>\n",
       "      <td>36</td>\n",
       "      <td>14471</td>\n",
       "      <td>14541</td>\n",
       "      <td>8016</td>\n",
       "      <td>0</td>\n",
       "      <td>600</td>\n",
       "      <td>0</td>\n",
       "      <td>1</td>\n",
       "      <td>240.0</td>\n",
       "    </tr>\n",
       "    <tr>\n",
       "      <th>2</th>\n",
       "      <td>2</td>\n",
       "      <td>3</td>\n",
       "      <td>66</td>\n",
       "      <td>18.0</td>\n",
       "      <td>0</td>\n",
       "      <td>4</td>\n",
       "      <td>0.0</td>\n",
       "      <td>94</td>\n",
       "      <td>27</td>\n",
       "      <td>1428</td>\n",
       "      <td>5248</td>\n",
       "      <td>7106</td>\n",
       "      <td>0</td>\n",
       "      <td>35</td>\n",
       "      <td>1</td>\n",
       "      <td>0</td>\n",
       "      <td>120.0</td>\n",
       "    </tr>\n",
       "    <tr>\n",
       "      <th>3</th>\n",
       "      <td>3</td>\n",
       "      <td>4</td>\n",
       "      <td>69</td>\n",
       "      <td>4.0</td>\n",
       "      <td>26</td>\n",
       "      <td>4</td>\n",
       "      <td>0.0</td>\n",
       "      <td>186</td>\n",
       "      <td>20</td>\n",
       "      <td>20083</td>\n",
       "      <td>7372</td>\n",
       "      <td>5052</td>\n",
       "      <td>0</td>\n",
       "      <td>200</td>\n",
       "      <td>0</td>\n",
       "      <td>1</td>\n",
       "      <td>240.0</td>\n",
       "    </tr>\n",
       "    <tr>\n",
       "      <th>4</th>\n",
       "      <td>4</td>\n",
       "      <td>6</td>\n",
       "      <td>51</td>\n",
       "      <td>22.0</td>\n",
       "      <td>18</td>\n",
       "      <td>4</td>\n",
       "      <td>0.0</td>\n",
       "      <td>37</td>\n",
       "      <td>32</td>\n",
       "      <td>19078</td>\n",
       "      <td>5009</td>\n",
       "      <td>8686</td>\n",
       "      <td>0</td>\n",
       "      <td>200</td>\n",
       "      <td>1</td>\n",
       "      <td>0</td>\n",
       "      <td>60.0</td>\n",
       "    </tr>\n",
       "  </tbody>\n",
       "</table>\n",
       "</div>"
      ],
      "text/plain": [
       "   index  id  edad  antiguedad  provincia  num_lineas  num_dt  num_llamad_ent  \\\n",
       "0      0   1    63         1.0         23           5     0.0              95   \n",
       "1      1   2    84         2.0         45           3     0.0              44   \n",
       "2      2   3    66        18.0          0           4     0.0              94   \n",
       "3      3   4    69         4.0         26           4     0.0             186   \n",
       "4      4   6    51        22.0         18           4     0.0              37   \n",
       "\n",
       "   num_llamad_sal  mb_datos  seg_llamad_ent  seg_llamad_sal  financiacion  \\\n",
       "0              19      6525            7634           18520             0   \n",
       "1              36     14471           14541            8016             0   \n",
       "2              27      1428            5248            7106             0   \n",
       "3              20     20083            7372            5052             0   \n",
       "4              32     19078            5009            8686             0   \n",
       "\n",
       "   vel_conexion  adulto  jubilado  facturacion_new  \n",
       "0            50       1         0            180.0  \n",
       "1           600       0         1            240.0  \n",
       "2            35       1         0            120.0  \n",
       "3           200       0         1            240.0  \n",
       "4           200       1         0             60.0  "
      ]
     },
     "execution_count": 178,
     "metadata": {},
     "output_type": "execute_result"
    }
   ],
   "source": [
    "X_ene.head()"
   ]
  },
  {
   "cell_type": "code",
   "execution_count": 179,
   "id": "164dfe3d",
   "metadata": {},
   "outputs": [],
   "source": [
    "prediccion_enero.reset_index(inplace=True)"
   ]
  },
  {
   "cell_type": "code",
   "execution_count": 180,
   "id": "ec1aa68b",
   "metadata": {},
   "outputs": [
    {
     "data": {
      "text/html": [
       "<div>\n",
       "<style scoped>\n",
       "    .dataframe tbody tr th:only-of-type {\n",
       "        vertical-align: middle;\n",
       "    }\n",
       "\n",
       "    .dataframe tbody tr th {\n",
       "        vertical-align: top;\n",
       "    }\n",
       "\n",
       "    .dataframe thead th {\n",
       "        text-align: right;\n",
       "    }\n",
       "</style>\n",
       "<table border=\"1\" class=\"dataframe\">\n",
       "  <thead>\n",
       "    <tr style=\"text-align: right;\">\n",
       "      <th></th>\n",
       "      <th>index</th>\n",
       "      <th>probabilidad</th>\n",
       "    </tr>\n",
       "  </thead>\n",
       "  <tbody>\n",
       "    <tr>\n",
       "      <th>0</th>\n",
       "      <td>5754</td>\n",
       "      <td>0.978389</td>\n",
       "    </tr>\n",
       "    <tr>\n",
       "      <th>1</th>\n",
       "      <td>1961</td>\n",
       "      <td>0.978108</td>\n",
       "    </tr>\n",
       "    <tr>\n",
       "      <th>2</th>\n",
       "      <td>4811</td>\n",
       "      <td>0.977970</td>\n",
       "    </tr>\n",
       "    <tr>\n",
       "      <th>3</th>\n",
       "      <td>3850</td>\n",
       "      <td>0.977915</td>\n",
       "    </tr>\n",
       "    <tr>\n",
       "      <th>4</th>\n",
       "      <td>2360</td>\n",
       "      <td>0.977878</td>\n",
       "    </tr>\n",
       "  </tbody>\n",
       "</table>\n",
       "</div>"
      ],
      "text/plain": [
       "   index  probabilidad\n",
       "0   5754      0.978389\n",
       "1   1961      0.978108\n",
       "2   4811      0.977970\n",
       "3   3850      0.977915\n",
       "4   2360      0.977878"
      ]
     },
     "execution_count": 180,
     "metadata": {},
     "output_type": "execute_result"
    }
   ],
   "source": [
    "prediccion_enero.head()"
   ]
  },
  {
   "cell_type": "code",
   "execution_count": 181,
   "id": "975a62b0",
   "metadata": {},
   "outputs": [],
   "source": [
    "results = pd.merge(X_ene, prediccion_enero, on= ['index'])"
   ]
  },
  {
   "cell_type": "code",
   "execution_count": 182,
   "id": "6c611a27",
   "metadata": {},
   "outputs": [
    {
     "data": {
      "text/html": [
       "<div>\n",
       "<style scoped>\n",
       "    .dataframe tbody tr th:only-of-type {\n",
       "        vertical-align: middle;\n",
       "    }\n",
       "\n",
       "    .dataframe tbody tr th {\n",
       "        vertical-align: top;\n",
       "    }\n",
       "\n",
       "    .dataframe thead th {\n",
       "        text-align: right;\n",
       "    }\n",
       "</style>\n",
       "<table border=\"1\" class=\"dataframe\">\n",
       "  <thead>\n",
       "    <tr style=\"text-align: right;\">\n",
       "      <th></th>\n",
       "      <th>index</th>\n",
       "      <th>id</th>\n",
       "      <th>edad</th>\n",
       "      <th>antiguedad</th>\n",
       "      <th>provincia</th>\n",
       "      <th>num_lineas</th>\n",
       "      <th>num_dt</th>\n",
       "      <th>num_llamad_ent</th>\n",
       "      <th>num_llamad_sal</th>\n",
       "      <th>mb_datos</th>\n",
       "      <th>seg_llamad_ent</th>\n",
       "      <th>seg_llamad_sal</th>\n",
       "      <th>financiacion</th>\n",
       "      <th>vel_conexion</th>\n",
       "      <th>adulto</th>\n",
       "      <th>jubilado</th>\n",
       "      <th>facturacion_new</th>\n",
       "      <th>probabilidad</th>\n",
       "    </tr>\n",
       "  </thead>\n",
       "  <tbody>\n",
       "    <tr>\n",
       "      <th>5754</th>\n",
       "      <td>5754</td>\n",
       "      <td>6248</td>\n",
       "      <td>29</td>\n",
       "      <td>10.0</td>\n",
       "      <td>44</td>\n",
       "      <td>5</td>\n",
       "      <td>1.0</td>\n",
       "      <td>227</td>\n",
       "      <td>44</td>\n",
       "      <td>24849</td>\n",
       "      <td>15432</td>\n",
       "      <td>5322</td>\n",
       "      <td>0</td>\n",
       "      <td>600</td>\n",
       "      <td>0</td>\n",
       "      <td>0</td>\n",
       "      <td>180.0</td>\n",
       "      <td>0.978389</td>\n",
       "    </tr>\n",
       "    <tr>\n",
       "      <th>1961</th>\n",
       "      <td>1961</td>\n",
       "      <td>2122</td>\n",
       "      <td>37</td>\n",
       "      <td>0.0</td>\n",
       "      <td>35</td>\n",
       "      <td>2</td>\n",
       "      <td>1.0</td>\n",
       "      <td>237</td>\n",
       "      <td>85</td>\n",
       "      <td>5185</td>\n",
       "      <td>12136</td>\n",
       "      <td>4339</td>\n",
       "      <td>0</td>\n",
       "      <td>50</td>\n",
       "      <td>0</td>\n",
       "      <td>0</td>\n",
       "      <td>120.0</td>\n",
       "      <td>0.978108</td>\n",
       "    </tr>\n",
       "    <tr>\n",
       "      <th>4811</th>\n",
       "      <td>4811</td>\n",
       "      <td>5230</td>\n",
       "      <td>19</td>\n",
       "      <td>15.0</td>\n",
       "      <td>29</td>\n",
       "      <td>5</td>\n",
       "      <td>1.0</td>\n",
       "      <td>242</td>\n",
       "      <td>91</td>\n",
       "      <td>9942</td>\n",
       "      <td>3143</td>\n",
       "      <td>2536</td>\n",
       "      <td>0</td>\n",
       "      <td>600</td>\n",
       "      <td>0</td>\n",
       "      <td>0</td>\n",
       "      <td>120.0</td>\n",
       "      <td>0.977970</td>\n",
       "    </tr>\n",
       "    <tr>\n",
       "      <th>3850</th>\n",
       "      <td>3850</td>\n",
       "      <td>4187</td>\n",
       "      <td>18</td>\n",
       "      <td>7.0</td>\n",
       "      <td>32</td>\n",
       "      <td>2</td>\n",
       "      <td>1.0</td>\n",
       "      <td>228</td>\n",
       "      <td>97</td>\n",
       "      <td>16470</td>\n",
       "      <td>17569</td>\n",
       "      <td>2270</td>\n",
       "      <td>0</td>\n",
       "      <td>30</td>\n",
       "      <td>0</td>\n",
       "      <td>0</td>\n",
       "      <td>60.0</td>\n",
       "      <td>0.977915</td>\n",
       "    </tr>\n",
       "    <tr>\n",
       "      <th>2360</th>\n",
       "      <td>2360</td>\n",
       "      <td>2547</td>\n",
       "      <td>37</td>\n",
       "      <td>4.0</td>\n",
       "      <td>47</td>\n",
       "      <td>2</td>\n",
       "      <td>1.0</td>\n",
       "      <td>165</td>\n",
       "      <td>58</td>\n",
       "      <td>24951</td>\n",
       "      <td>1568</td>\n",
       "      <td>11600</td>\n",
       "      <td>0</td>\n",
       "      <td>200</td>\n",
       "      <td>0</td>\n",
       "      <td>0</td>\n",
       "      <td>120.0</td>\n",
       "      <td>0.977878</td>\n",
       "    </tr>\n",
       "    <tr>\n",
       "      <th>...</th>\n",
       "      <td>...</td>\n",
       "      <td>...</td>\n",
       "      <td>...</td>\n",
       "      <td>...</td>\n",
       "      <td>...</td>\n",
       "      <td>...</td>\n",
       "      <td>...</td>\n",
       "      <td>...</td>\n",
       "      <td>...</td>\n",
       "      <td>...</td>\n",
       "      <td>...</td>\n",
       "      <td>...</td>\n",
       "      <td>...</td>\n",
       "      <td>...</td>\n",
       "      <td>...</td>\n",
       "      <td>...</td>\n",
       "      <td>...</td>\n",
       "      <td>...</td>\n",
       "    </tr>\n",
       "    <tr>\n",
       "      <th>90300</th>\n",
       "      <td>90300</td>\n",
       "      <td>97394</td>\n",
       "      <td>47</td>\n",
       "      <td>20.0</td>\n",
       "      <td>10</td>\n",
       "      <td>5</td>\n",
       "      <td>0.0</td>\n",
       "      <td>16</td>\n",
       "      <td>61</td>\n",
       "      <td>100</td>\n",
       "      <td>1751</td>\n",
       "      <td>6045</td>\n",
       "      <td>1</td>\n",
       "      <td>20</td>\n",
       "      <td>1</td>\n",
       "      <td>0</td>\n",
       "      <td>360.0</td>\n",
       "      <td>0.000005</td>\n",
       "    </tr>\n",
       "    <tr>\n",
       "      <th>88887</th>\n",
       "      <td>88887</td>\n",
       "      <td>95872</td>\n",
       "      <td>60</td>\n",
       "      <td>21.0</td>\n",
       "      <td>22</td>\n",
       "      <td>4</td>\n",
       "      <td>0.0</td>\n",
       "      <td>30</td>\n",
       "      <td>50</td>\n",
       "      <td>20132</td>\n",
       "      <td>15146</td>\n",
       "      <td>11769</td>\n",
       "      <td>1</td>\n",
       "      <td>35</td>\n",
       "      <td>1</td>\n",
       "      <td>0</td>\n",
       "      <td>60.0</td>\n",
       "      <td>0.000005</td>\n",
       "    </tr>\n",
       "    <tr>\n",
       "      <th>91801</th>\n",
       "      <td>91801</td>\n",
       "      <td>99014</td>\n",
       "      <td>57</td>\n",
       "      <td>13.0</td>\n",
       "      <td>30</td>\n",
       "      <td>5</td>\n",
       "      <td>0.0</td>\n",
       "      <td>1</td>\n",
       "      <td>9</td>\n",
       "      <td>21159</td>\n",
       "      <td>9537</td>\n",
       "      <td>14437</td>\n",
       "      <td>1</td>\n",
       "      <td>20</td>\n",
       "      <td>1</td>\n",
       "      <td>0</td>\n",
       "      <td>180.0</td>\n",
       "      <td>0.000005</td>\n",
       "    </tr>\n",
       "    <tr>\n",
       "      <th>84840</th>\n",
       "      <td>84840</td>\n",
       "      <td>91483</td>\n",
       "      <td>61</td>\n",
       "      <td>15.0</td>\n",
       "      <td>0</td>\n",
       "      <td>5</td>\n",
       "      <td>0.0</td>\n",
       "      <td>46</td>\n",
       "      <td>35</td>\n",
       "      <td>787</td>\n",
       "      <td>5328</td>\n",
       "      <td>13166</td>\n",
       "      <td>1</td>\n",
       "      <td>15</td>\n",
       "      <td>1</td>\n",
       "      <td>0</td>\n",
       "      <td>240.0</td>\n",
       "      <td>0.000005</td>\n",
       "    </tr>\n",
       "    <tr>\n",
       "      <th>88895</th>\n",
       "      <td>88895</td>\n",
       "      <td>95881</td>\n",
       "      <td>61</td>\n",
       "      <td>15.0</td>\n",
       "      <td>23</td>\n",
       "      <td>5</td>\n",
       "      <td>0.0</td>\n",
       "      <td>0</td>\n",
       "      <td>56</td>\n",
       "      <td>8978</td>\n",
       "      <td>14808</td>\n",
       "      <td>7354</td>\n",
       "      <td>1</td>\n",
       "      <td>30</td>\n",
       "      <td>1</td>\n",
       "      <td>0</td>\n",
       "      <td>180.0</td>\n",
       "      <td>0.000005</td>\n",
       "    </tr>\n",
       "  </tbody>\n",
       "</table>\n",
       "<p>92711 rows × 18 columns</p>\n",
       "</div>"
      ],
      "text/plain": [
       "       index     id  edad  antiguedad  provincia  num_lineas  num_dt  \\\n",
       "5754    5754   6248    29        10.0         44           5     1.0   \n",
       "1961    1961   2122    37         0.0         35           2     1.0   \n",
       "4811    4811   5230    19        15.0         29           5     1.0   \n",
       "3850    3850   4187    18         7.0         32           2     1.0   \n",
       "2360    2360   2547    37         4.0         47           2     1.0   \n",
       "...      ...    ...   ...         ...        ...         ...     ...   \n",
       "90300  90300  97394    47        20.0         10           5     0.0   \n",
       "88887  88887  95872    60        21.0         22           4     0.0   \n",
       "91801  91801  99014    57        13.0         30           5     0.0   \n",
       "84840  84840  91483    61        15.0          0           5     0.0   \n",
       "88895  88895  95881    61        15.0         23           5     0.0   \n",
       "\n",
       "       num_llamad_ent  num_llamad_sal  mb_datos  seg_llamad_ent  \\\n",
       "5754              227              44     24849           15432   \n",
       "1961              237              85      5185           12136   \n",
       "4811              242              91      9942            3143   \n",
       "3850              228              97     16470           17569   \n",
       "2360              165              58     24951            1568   \n",
       "...               ...             ...       ...             ...   \n",
       "90300              16              61       100            1751   \n",
       "88887              30              50     20132           15146   \n",
       "91801               1               9     21159            9537   \n",
       "84840              46              35       787            5328   \n",
       "88895               0              56      8978           14808   \n",
       "\n",
       "       seg_llamad_sal  financiacion  vel_conexion  adulto  jubilado  \\\n",
       "5754             5322             0           600       0         0   \n",
       "1961             4339             0            50       0         0   \n",
       "4811             2536             0           600       0         0   \n",
       "3850             2270             0            30       0         0   \n",
       "2360            11600             0           200       0         0   \n",
       "...               ...           ...           ...     ...       ...   \n",
       "90300            6045             1            20       1         0   \n",
       "88887           11769             1            35       1         0   \n",
       "91801           14437             1            20       1         0   \n",
       "84840           13166             1            15       1         0   \n",
       "88895            7354             1            30       1         0   \n",
       "\n",
       "       facturacion_new  probabilidad  \n",
       "5754             180.0      0.978389  \n",
       "1961             120.0      0.978108  \n",
       "4811             120.0      0.977970  \n",
       "3850              60.0      0.977915  \n",
       "2360             120.0      0.977878  \n",
       "...                ...           ...  \n",
       "90300            360.0      0.000005  \n",
       "88887             60.0      0.000005  \n",
       "91801            180.0      0.000005  \n",
       "84840            240.0      0.000005  \n",
       "88895            180.0      0.000005  \n",
       "\n",
       "[92711 rows x 18 columns]"
      ]
     },
     "execution_count": 182,
     "metadata": {},
     "output_type": "execute_result"
    }
   ],
   "source": [
    "results.sort_values(by='probabilidad', ascending= False)"
   ]
  },
  {
   "cell_type": "code",
   "execution_count": 183,
   "id": "23ba47aa",
   "metadata": {},
   "outputs": [],
   "source": [
    "results.to_csv('resultados.csv', index=False)"
   ]
  },
  {
   "cell_type": "markdown",
   "id": "e55d1960",
   "metadata": {},
   "source": [
    "# IMPORTANCIA DE LAS VARIABLES Y CONCLUSION FINAL:\n",
    "\n",
    "\n",
    "Las variable mas determinantes en la fuga de clientes para la compañía telefónica y que tienen una mayor correlacion son:\n",
    "\n",
    "- **num_llamad_ent**\n",
    "- **edad**\n",
    "- **vel_conexion**\n",
    "- **adulto**\n",
    "- **financiacion*\n",
    "\n",
    "elnuemro de llamdas entrantes, la edad era determinante viendo su respuesta frente a la variable objetivo como hicimos anteriormente en apartados anteriores donde las personas jovenes tendian a cancelar el servicio, frente a los adultos que son mas **\"fieles\"**, la velocidad de conexion y si tiene o no financiacion.\n",
    "\n",
    "Conclusion si yo fuera a presentar este estudio al Gerente de la Compañía propondría una campaña especial con mis clientes más jovenes, los que tienen poca velocidad de conexion y si no tiene equipos en financiados, generar politicas de fidelizacion. "
   ]
  },
  {
   "cell_type": "markdown",
   "id": "5100e495",
   "metadata": {},
   "source": [
    "\n"
   ]
  }
 ],
 "metadata": {
  "kernelspec": {
   "display_name": "Python 3 (ipykernel)",
   "language": "python",
   "name": "python3"
  },
  "language_info": {
   "codemirror_mode": {
    "name": "ipython",
    "version": 3
   },
   "file_extension": ".py",
   "mimetype": "text/x-python",
   "name": "python",
   "nbconvert_exporter": "python",
   "pygments_lexer": "ipython3",
   "version": "3.9.7"
  }
 },
 "nbformat": 4,
 "nbformat_minor": 5
}
